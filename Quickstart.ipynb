{
 "cells": [
  {
   "cell_type": "markdown",
   "id": "e0699e66",
   "metadata": {},
   "source": [
    "### 🐁 AmadeusGPT Quickstart\n",
    "\n",
    "---\n"
   ]
  },
  {
   "cell_type": "markdown",
   "id": "3f17b51e",
   "metadata": {},
   "source": [
    "#### Notebook Overview:\n",
    "1. Bootstrap the Jupyter interpreter 🛠️\n",
    "2. Load secrets & config 🔑\n",
    "3. Project initialization 📁\n",
    "4. Run a demo query 🎬\n",
    "5. Appendix 📚"
   ]
  },
  {
   "cell_type": "markdown",
   "id": "1ab5db29",
   "metadata": {},
   "source": [
    "#### 1 · Bootstrap the Jupyter interpreter 🛠️\n",
    "-  Run the below cell *once* per fresh clone or when dependencies change\n",
    "-  ⚠️ Select a 3.10 Python environment before you run the below code (if you already have the AmadeusGPT Jupyter kernel select that and skip to [Jump to “Load secrets & config”](#load-secrets-config)\n",
    ")\n",
    "<a id=\"bootstrap-jupyter-interpreter\"></a>"
   ]
  },
  {
   "cell_type": "code",
   "execution_count": null,
   "id": "7085db6c",
   "metadata": {},
   "outputs": [],
   "source": [
    "%pip install --quiet --upgrade pip\n",
    "%pip install --quiet -e .[dev]            # editable install → reads pyproject.toml\n",
    "%pip install --quiet ipykernel       # needed for kernel registration\n",
    "%matplotlib inline"
   ]
  },
  {
   "cell_type": "code",
   "execution_count": null,
   "id": "456c9b21",
   "metadata": {},
   "outputs": [
    {
     "name": "stdout",
     "output_type": "stream",
     "text": [
      "Note: you may need to restart the kernel to use updated packages.\n"
     ]
    }
   ],
   "source": [
    "%pip install MoviePy --quiet # needed for video generation during behavioral analysis"
   ]
  },
  {
   "cell_type": "markdown",
   "id": "0392322c",
   "metadata": {},
   "source": [
    "Register the interpreter as a named Jupyter kernel - unless you already have access to the AmadeusGPT (venv)"
   ]
  },
  {
   "cell_type": "code",
   "execution_count": null,
   "id": "169a3a7d",
   "metadata": {},
   "outputs": [],
   "source": [
    "!python -m ipykernel install --user --name amadeus-gpt-env --display-name \"AmadeusGPT (venv)\"\n",
    "\n",
    "print(\"✅  Bootstrapping done – now **Restart** the kernel (Kernel ▶ Restart) and select “AmadeusGPT (venv)” in the top-right kernel picker.\")"
   ]
  },
  {
   "cell_type": "markdown",
   "id": "08a2d565",
   "metadata": {},
   "source": [
    "<a id=\"load-secrets-config\"></a>\n",
    "#### 2 · Load secrets & config 🔑\n"
   ]
  },
  {
   "cell_type": "code",
   "execution_count": 2,
   "id": "3108eb9b",
   "metadata": {},
   "outputs": [
    {
     "name": "stdout",
     "output_type": "stream",
     "text": [
      "🔐  Environment loaded from: c:\\Users\\hugos\\Desktop\\AmadeusGPT\\.env\n"
     ]
    }
   ],
   "source": [
    "from dotenv import load_dotenv, find_dotenv\n",
    "\n",
    "env_path = find_dotenv()\n",
    "load_dotenv(env_path, override=True)\n",
    "print(\"🔐  Environment loaded from:\", env_path or \"❌  .env file not found. Create one and add your OPENAI_API_KEY='api_key' to complete this step\")\n"
   ]
  },
  {
   "cell_type": "markdown",
   "id": "cffbe8c2",
   "metadata": {},
   "source": [
    "#### 3 · Project initialisation 📁\n",
    "You should re-run this each time you (re-)open this program."
   ]
  },
  {
   "cell_type": "code",
   "execution_count": 1,
   "id": "a2f2805b",
   "metadata": {},
   "outputs": [
    {
     "name": "stdout",
     "output_type": "stream",
     "text": [
      "Project created at c:\\Users\\hugos\\Desktop\\AmadeusGPT\\results. Results will be saved to c:\\Users\\hugos\\Desktop\\AmadeusGPT\\results\n",
      "The project will load video files (*.avi) and optionally keypoint files from c:\\Users\\hugos\\Desktop\\AmadeusGPT\\data\n",
      "A copy of the project config file is saved at c:\\Users\\hugos\\Desktop\\AmadeusGPT\\results\\config.yaml\n",
      "{'data_info': {'data_folder': 'c:\\\\Users\\\\hugos\\\\Desktop\\\\AmadeusGPT\\\\data',\n",
      "               'result_folder': 'c:\\\\Users\\\\hugos\\\\Desktop\\\\AmadeusGPT\\\\results',\n",
      "               'video_suffix': '.avi'},\n",
      " 'keypoint_info': {'include_confidence': False, 'use_3d': True},\n",
      " 'llm_info': {'gpt_model': 'gpt-4o',\n",
      "              'keep_last_n_messages': 2,\n",
      "              'max_tokens': 4096,\n",
      "              'temperature': 0.0},\n",
      " 'object_info': {'load_objects_from_disk': False, 'use_grid_objects': False},\n",
      " 'video_info': {'scene_frame_number': 1}}\n",
      "✅  Project ready: {'data_info': {'data_folder': 'c:\\\\Users\\\\hugos\\\\Desktop\\\\AmadeusGPT\\\\data', 'result_folder': 'c:\\\\Users\\\\hugos\\\\Desktop\\\\AmadeusGPT\\\\results', 'video_suffix': '.avi'}, 'llm_info': {'max_tokens': 4096, 'temperature': 0.0, 'gpt_model': 'gpt-4o', 'keep_last_n_messages': 2}, 'object_info': {'load_objects_from_disk': False, 'use_grid_objects': False}, 'keypoint_info': {'use_3d': True, 'include_confidence': False}, 'video_info': {'scene_frame_number': 1}}\n"
     ]
    }
   ],
   "source": [
    "import os\n",
    "from amadeusgpt import AMADEUS, create_project\n",
    "from amadeusgpt.utils import parse_result\n",
    "\n",
    "# ── resolve repo root dynamically ──\n",
    "ROOT = os.getcwd()\n",
    "\n",
    "DATA_DIR   = os.path.join(ROOT, \"data\")\n",
    "RESULT_DIR = os.path.join(ROOT, \"results\")\n",
    "\n",
    "project_cfg = create_project(\n",
    "    data_folder   = DATA_DIR,\n",
    "    result_folder = RESULT_DIR,\n",
    "    **{\n",
    "        \"data_info.video_suffix\": \".avi\",\n",
    "        \"keypoint_info.use_3d\"  : True,\n",
    "    }\n",
    ")\n",
    "\n",
    "amadeus = AMADEUS(project_cfg)\n",
    "print(\"✅  Project ready:\", project_cfg)\n"
   ]
  },
  {
   "cell_type": "markdown",
   "id": "b295ce4e",
   "metadata": {},
   "source": [
    "#### 4 · Run a demo query 🎬\n"
   ]
  },
  {
   "cell_type": "markdown",
   "id": "2b9850c6",
   "metadata": {},
   "source": [
    "### Appendix 📚\n",
    "\n",
    "---"
   ]
  },
  {
   "cell_type": "code",
   "execution_count": 3,
   "id": "d5de930f",
   "metadata": {},
   "outputs": [
    {
     "name": "stdout",
     "output_type": "stream",
     "text": [
      "🔍  Querying 'locomotion'…\n"
     ]
    },
    {
     "name": "stderr",
     "output_type": "stream",
     "text": [
      "INFO:httpx:HTTP Request: POST https://api.openai.com/v1/embeddings \"HTTP/1.1 200 OK\"\n"
     ]
    },
    {
     "name": "stdout",
     "output_type": "stream",
     "text": [
      "doing active forgetting\n"
     ]
    },
    {
     "name": "stderr",
     "output_type": "stream",
     "text": [
      "INFO:httpx:HTTP Request: POST https://api.openai.com/v1/chat/completions \"HTTP/1.1 200 OK\"\n"
     ]
    },
    {
     "name": "stdout",
     "output_type": "stream",
     "text": [
      "current total cost 0.1954 $\n",
      "current input tokens 4576\n",
      "current accumulated tokens 29197\n"
     ]
    },
    {
     "data": {
      "text/markdown": [
       "```python\n",
       "def identify_locomotion_bouts(identifier):\n",
       "    \"\"\"\n",
       "    Identify continuous bouts of locomotion based on the given procedure and save the results to a file.\n",
       "\n",
       "    Parameters\n",
       "    ----------\n",
       "    identifier: Identifier\n",
       "        Contains information about the video, keypoint, and config.\n",
       "    \"\"\"\n",
       "    import numpy as np\n",
       "\n",
       "    # Create an analysis instance\n",
       "    analysis = create_analysis(identifier)\n",
       "\n",
       "    # Get keypoints and their indices\n",
       "    keypoints = analysis.get_keypoints()  # shape (n_frames, n_individuals, n_kpts, n_dims)\n",
       "    n_frames = keypoints.shape[0]\n",
       "    body_mid_idx = analysis.get_keypoint_names().index('Body midpoint')\n",
       "    snout_idx = analysis.get_keypoint_names().index('Snout')\n",
       "    tail_base_idx = analysis.get_keypoint_names().index('Tail base')\n",
       "\n",
       "    # Extract coordinates\n",
       "    body_mid_coords = keypoints[:, 0, body_mid_idx, :2]  # shape (n_frames, 2)\n",
       "    snout_coords = keypoints[:, 0, snout_idx, :2]  # shape (n_frames, 2)\n",
       "    tail_base_coords = keypoints[:, 0, tail_base_idx, :2]  # shape (n_frames, 2)\n",
       "\n",
       "    # Compute unit vectors H[i]\n",
       "    H = snout_coords - tail_base_coords  # shape (n_frames, 2)\n",
       "    H = H / np.linalg.norm(H, axis=1, keepdims=True)  # normalize to unit vectors\n",
       "\n",
       "    # Build projection array P\n",
       "    P = np.zeros(n_frames)\n",
       "    for i in range(1, n_frames):\n",
       "        P[i] = np.dot(body_mid_coords[i] - body_mid_coords[i - 1], H[i])\n",
       "\n",
       "    # Smooth P\n",
       "    P_smooth = np.convolve(P, np.ones(5) / 5, mode='same')  # shape (n_frames,)\n",
       "\n",
       "    # Initialize variables\n",
       "    in_bout = False\n",
       "    bouts = []\n",
       "\n",
       "    # Loop through frames\n",
       "    for i in range(1, n_frames):\n",
       "        if not in_bout and P_smooth[i] > 0:\n",
       "            in_bout = True\n",
       "            start = i\n",
       "            F = 0.0\n",
       "            B = 0.0\n",
       "            h0 = H[i]\n",
       "\n",
       "        if in_bout:\n",
       "            F += max(P_smooth[i], 0)\n",
       "            B += max(-P_smooth[i], 0)\n",
       "            angle = np.degrees(np.arctan2(np.linalg.det([H[i], h0]), np.dot(H[i], h0)))\n",
       "            L = np.linalg.norm(snout_coords[i] - tail_base_coords[i])\n",
       "            N = i - start + 1\n",
       "\n",
       "            if not (F >= 0.05 * L * N and B <= 0.2 * F and abs(angle) <= 30):\n",
       "                if N >= 10:\n",
       "                    bouts.append((start, i - 1))\n",
       "                in_bout = False\n",
       "\n",
       "    # Check for ongoing bout at the end\n",
       "    if in_bout and (n_frames - 1 - start + 1) >= 10:\n",
       "        bouts.append((start, n_frames - 1))\n",
       "\n",
       "    # Merge bouts separated by ≤ 2 frames\n",
       "    merged_bouts = []\n",
       "    if bouts:\n",
       "        current_bout = bouts[0]\n",
       "        for next_bout in bouts[1:]:\n",
       "            if next_bout[0] - current_bout[1] <= 2:\n",
       "                current_bout = (current_bout[0], next_bout[1])\n",
       "            else:\n",
       "                merged_bouts.append(current_bout)\n",
       "                current_bout = next_bout\n",
       "        merged_bouts.append(current_bout)\n",
       "\n",
       "    # Save results to file\n",
       "    with open('results/locomotion.txt', 'w') as f:\n",
       "        for bout in merged_bouts:\n",
       "            f.write(f\"{bout}\\n\")\n",
       "\n",
       "    return merged_bouts\n",
       "```"
      ],
      "text/plain": [
       "<IPython.core.display.Markdown object>"
      ]
     },
     "metadata": {},
     "output_type": "display_data"
    },
    {
     "data": {
      "text/markdown": [
       "[(633, 644), (1491, 1522), (2158, 2176), (2251, 2261), (2314, 2335), (2340, 2349), (2384, 2397), (2904, 2927), (6725, 6744), (7156, 7166), (7616, 7630), (8436, 8462), (8718, 8736), (9188, 9216), (9710, 9725), (9912, 9932)]"
      ],
      "text/plain": [
       "<IPython.core.display.Markdown object>"
      ]
     },
     "metadata": {},
     "output_type": "display_data"
    },
    {
     "data": {
      "text/markdown": [
       "[(633, 644), (1491, 1522), (2158, 2176), (2251, 2261), (2314, 2335), (2340, 2349), (2384, 2397), (2904, 2927), (6725, 6744), (7156, 7166), (7616, 7630), (8436, 8462), (8718, 8736), (9188, 9216), (9710, 9725), (9912, 9932)]"
      ],
      "text/plain": [
       "<IPython.core.display.Markdown object>"
      ]
     },
     "metadata": {},
     "output_type": "display_data"
    },
    {
     "data": {
      "text/markdown": [
       "[(633, 644), (1491, 1522), (2158, 2176), (2251, 2261), (2314, 2335), (2340, 2349), (2384, 2397), (2904, 2927), (6725, 6744), (7156, 7166), (7616, 7630), (8436, 8462), (8718, 8736), (9188, 9216), (9710, 9725), (9912, 9932)]"
      ],
      "text/plain": [
       "<IPython.core.display.Markdown object>"
      ]
     },
     "metadata": {},
     "output_type": "display_data"
    },
    {
     "data": {
      "text/markdown": [
       "[(633, 644), (1491, 1522), (2158, 2176), (2251, 2261), (2314, 2335), (2340, 2349), (2384, 2397), (2904, 2927), (6725, 6744), (7156, 7166), (7616, 7630), (8436, 8462), (8718, 8736), (9188, 9216), (9710, 9725), (9912, 9932)]"
      ],
      "text/plain": [
       "<IPython.core.display.Markdown object>"
      ]
     },
     "metadata": {},
     "output_type": "display_data"
    },
    {
     "data": {
      "text/markdown": [
       "[(633, 644), (1491, 1522), (2158, 2176), (2251, 2261), (2314, 2335), (2340, 2349), (2384, 2397), (2904, 2927), (6725, 6744), (7156, 7166), (7616, 7630), (8436, 8462), (8718, 8736), (9188, 9216), (9710, 9725), (9912, 9932)]"
      ],
      "text/plain": [
       "<IPython.core.display.Markdown object>"
      ]
     },
     "metadata": {},
     "output_type": "display_data"
    },
    {
     "data": {
      "text/markdown": [
       "[(633, 644), (1491, 1522), (2158, 2176), (2251, 2261), (2314, 2335), (2340, 2349), (2384, 2397), (2904, 2927), (6725, 6744), (7156, 7166), (7616, 7630), (8436, 8462), (8718, 8736), (9188, 9216), (9710, 9725), (9912, 9932)]"
      ],
      "text/plain": [
       "<IPython.core.display.Markdown object>"
      ]
     },
     "metadata": {},
     "output_type": "display_data"
    },
    {
     "data": {
      "text/markdown": [
       "[(633, 644), (1491, 1522), (2158, 2176), (2251, 2261), (2314, 2335), (2340, 2349), (2384, 2397), (2904, 2927), (6725, 6744), (7156, 7166), (7616, 7630), (8436, 8462), (8718, 8736), (9188, 9216), (9710, 9725), (9912, 9932)]"
      ],
      "text/plain": [
       "<IPython.core.display.Markdown object>"
      ]
     },
     "metadata": {},
     "output_type": "display_data"
    },
    {
     "data": {
      "text/markdown": [
       "[(633, 644), (1491, 1522), (2158, 2176), (2251, 2261), (2314, 2335), (2340, 2349), (2384, 2397), (2904, 2927), (6725, 6744), (7156, 7166), (7616, 7630), (8436, 8462), (8718, 8736), (9188, 9216), (9710, 9725), (9912, 9932)]"
      ],
      "text/plain": [
       "<IPython.core.display.Markdown object>"
      ]
     },
     "metadata": {},
     "output_type": "display_data"
    },
    {
     "data": {
      "text/markdown": [
       "[(633, 644), (1491, 1522), (2158, 2176), (2251, 2261), (2314, 2335), (2340, 2349), (2384, 2397), (2904, 2927), (6725, 6744), (7156, 7166), (7616, 7630), (8436, 8462), (8718, 8736), (9188, 9216), (9710, 9725), (9912, 9932)]"
      ],
      "text/plain": [
       "<IPython.core.display.Markdown object>"
      ]
     },
     "metadata": {},
     "output_type": "display_data"
    },
    {
     "data": {
      "text/markdown": [
       "[(633, 644), (1491, 1522), (2158, 2176), (2251, 2261), (2314, 2335), (2340, 2349), (2384, 2397), (2904, 2927), (6725, 6744), (7156, 7166), (7616, 7630), (8436, 8462), (8718, 8736), (9188, 9216), (9710, 9725), (9912, 9932)]"
      ],
      "text/plain": [
       "<IPython.core.display.Markdown object>"
      ]
     },
     "metadata": {},
     "output_type": "display_data"
    },
    {
     "data": {
      "text/markdown": [
       "[(633, 644), (1491, 1522), (2158, 2176), (2251, 2261), (2314, 2335), (2340, 2349), (2384, 2397), (2904, 2927), (6725, 6744), (7156, 7166), (7616, 7630), (8436, 8462), (8718, 8736), (9188, 9216), (9710, 9725), (9912, 9932)]"
      ],
      "text/plain": [
       "<IPython.core.display.Markdown object>"
      ]
     },
     "metadata": {},
     "output_type": "display_data"
    },
    {
     "data": {
      "text/markdown": [
       "[(633, 644), (1491, 1522), (2158, 2176), (2251, 2261), (2314, 2335), (2340, 2349), (2384, 2397), (2904, 2927), (6725, 6744), (7156, 7166), (7616, 7630), (8436, 8462), (8718, 8736), (9188, 9216), (9710, 9725), (9912, 9932)]"
      ],
      "text/plain": [
       "<IPython.core.display.Markdown object>"
      ]
     },
     "metadata": {},
     "output_type": "display_data"
    },
    {
     "data": {
      "text/markdown": [
       "[(633, 644), (1491, 1522), (2158, 2176), (2251, 2261), (2314, 2335), (2340, 2349), (2384, 2397), (2904, 2927), (6725, 6744), (7156, 7166), (7616, 7630), (8436, 8462), (8718, 8736), (9188, 9216), (9710, 9725), (9912, 9932)]"
      ],
      "text/plain": [
       "<IPython.core.display.Markdown object>"
      ]
     },
     "metadata": {},
     "output_type": "display_data"
    },
    {
     "data": {
      "text/markdown": [
       "[(633, 644), (1491, 1522), (2158, 2176), (2251, 2261), (2314, 2335), (2340, 2349), (2384, 2397), (2904, 2927), (6725, 6744), (7156, 7166), (7616, 7630), (8436, 8462), (8718, 8736), (9188, 9216), (9710, 9725), (9912, 9932)]"
      ],
      "text/plain": [
       "<IPython.core.display.Markdown object>"
      ]
     },
     "metadata": {},
     "output_type": "display_data"
    },
    {
     "data": {
      "text/markdown": [
       "[(633, 644), (1491, 1522), (2158, 2176), (2251, 2261), (2314, 2335), (2340, 2349), (2384, 2397), (2904, 2927), (6725, 6744), (7156, 7166), (7616, 7630), (8436, 8462), (8718, 8736), (9188, 9216), (9710, 9725), (9912, 9932)]"
      ],
      "text/plain": [
       "<IPython.core.display.Markdown object>"
      ]
     },
     "metadata": {},
     "output_type": "display_data"
    },
    {
     "data": {
      "text/markdown": [
       "[(633, 644), (1491, 1522), (2158, 2176), (2251, 2261), (2314, 2335), (2340, 2349), (2384, 2397), (2904, 2927), (6725, 6744), (7156, 7166), (7616, 7630), (8436, 8462), (8718, 8736), (9188, 9216), (9710, 9725), (9912, 9932)]"
      ],
      "text/plain": [
       "<IPython.core.display.Markdown object>"
      ]
     },
     "metadata": {},
     "output_type": "display_data"
    },
    {
     "name": "stdout",
     "output_type": "stream",
     "text": [
      "🔍  Querying 'rearing'…\n"
     ]
    },
    {
     "name": "stderr",
     "output_type": "stream",
     "text": [
      "INFO:httpx:HTTP Request: POST https://api.openai.com/v1/embeddings \"HTTP/1.1 200 OK\"\n"
     ]
    },
    {
     "name": "stdout",
     "output_type": "stream",
     "text": [
      "doing active forgetting\n"
     ]
    },
    {
     "name": "stderr",
     "output_type": "stream",
     "text": [
      "INFO:httpx:HTTP Request: POST https://api.openai.com/v1/chat/completions \"HTTP/1.1 200 OK\"\n"
     ]
    },
    {
     "name": "stdout",
     "output_type": "stream",
     "text": [
      "current total cost 0.2277 $\n",
      "current input tokens 4296\n",
      "current accumulated tokens 34217\n"
     ]
    },
    {
     "data": {
      "text/markdown": [
       "```python\n",
       "def identify_rearing_bouts(identifier):\n",
       "    \"\"\"\n",
       "    Identify continuous bouts of rearing based on the given procedure and save the results to a file.\n",
       "\n",
       "    Parameters\n",
       "    ----------\n",
       "    identifier: Identifier\n",
       "        Contains information about the video, keypoint, and config.\n",
       "    \"\"\"\n",
       "    import numpy as np\n",
       "\n",
       "    # Create an analysis instance\n",
       "    analysis = create_analysis(identifier)\n",
       "\n",
       "    # Get keypoints and their indices\n",
       "    keypoints = analysis.get_keypoints()  # shape (n_frames, n_individuals, n_kpts, n_dims)\n",
       "    n_frames = keypoints.shape[0]\n",
       "    snout_idx = analysis.get_keypoint_names().index('Snout')\n",
       "    left_ear_idx = analysis.get_keypoint_names().index('Left ear')\n",
       "    right_ear_idx = analysis.get_keypoint_names().index('Right ear')\n",
       "    neck_base_idx = analysis.get_keypoint_names().index('Neck base')\n",
       "    tail_base_idx = analysis.get_keypoint_names().index('Tail base')\n",
       "    body_tail_midpoint_idx = analysis.get_keypoint_names().index('Body-tail midpoint')\n",
       "    body_midpoint_idx = analysis.get_keypoint_names().index('Body midpoint')\n",
       "\n",
       "    # Extract height (z-coordinate)\n",
       "    head_heights = keypoints[:, 0, [snout_idx, left_ear_idx, right_ear_idx, neck_base_idx], 2]  # shape (n_frames, 4)\n",
       "    tail_heights = keypoints[:, 0, [tail_base_idx, body_tail_midpoint_idx], 2]  # shape (n_frames, 2)\n",
       "    body_mid_heights = keypoints[:, 0, body_midpoint_idx, 2]  # shape (n_frames,)\n",
       "\n",
       "    # Compute mean heights\n",
       "    head_mean_h = np.mean(head_heights, axis=1)  # shape (n_frames,)\n",
       "    tail_mean_h = np.mean(tail_heights, axis=1)  # shape (n_frames,)\n",
       "\n",
       "    # Initialize variables\n",
       "    in_bout = False\n",
       "    bouts = []\n",
       "\n",
       "    # Loop through frames\n",
       "    for i in range(n_frames):\n",
       "        if head_mean_h[i] >= 2.5 * tail_mean_h[i] and tail_mean_h[i] <= body_mid_heights[i] <= head_mean_h[i]:\n",
       "            if not in_bout:\n",
       "                in_bout = True\n",
       "                start = i\n",
       "        else:\n",
       "            if in_bout:\n",
       "                if i - start >= 5:\n",
       "                    bouts.append((start, i - 1))\n",
       "                in_bout = False\n",
       "\n",
       "    # Check for ongoing bout at the end\n",
       "    if in_bout and (n_frames - start) >= 5:\n",
       "        bouts.append((start, n_frames - 1))\n",
       "\n",
       "    # Merge bouts separated by ≤ 2 frames\n",
       "    merged_bouts = []\n",
       "    if bouts:\n",
       "        current_bout = bouts[0]\n",
       "        for next_bout in bouts[1:]:\n",
       "            if next_bout[0] - current_bout[1] <= 2:\n",
       "                current_bout = (current_bout[0], next_bout[1])\n",
       "            else:\n",
       "                merged_bouts.append(current_bout)\n",
       "                current_bout = next_bout\n",
       "        merged_bouts.append(current_bout)\n",
       "\n",
       "    # Save results to file\n",
       "    with open('results/rearing.txt', 'w') as f:\n",
       "        for bout in merged_bouts:\n",
       "            f.write(f\"{bout}\\n\")\n",
       "\n",
       "    return merged_bouts\n",
       "```"
      ],
      "text/plain": [
       "<IPython.core.display.Markdown object>"
      ]
     },
     "metadata": {},
     "output_type": "display_data"
    },
    {
     "data": {
      "text/markdown": [
       "[(1, 12), (32, 66), (75, 111), (150, 220), (223, 265), (270, 333), (336, 382), (385, 468), (488, 514), (553, 557), (587, 614), (678, 778), (814, 839), (898, 906), (941, 1006), (1074, 1088), (1127, 1134), (1140, 1164), (1208, 1261), (1267, 1461), (1653, 1658), (1769, 1881), (1941, 2123), (2520, 2525), (2530, 2554), (2563, 2570), (2789, 2811), (3030, 3035), (3049, 3055), (3263, 3341), (3393, 3464), (3469, 3585), (3590, 3597), (3619, 3811), (3885, 3889), (3896, 3953), (4000, 4112), (4217, 4290), (4350, 4416), (4503, 4561), (4564, 4618), (5465, 5513), (5516, 5526), (5531, 5546), (5564, 5571), (5778, 5853), (5919, 5932), (6020, 6069), (6481, 6504), (6508, 6530), (6602, 6688), (6739, 6837), (6863, 6896), (6908, 6969), (6997, 7018), (7680, 7694), (7699, 7739), (7742, 7759), (7797, 7896), (7966, 8022), (8065, 8348), (8379, 8417), (8454, 8578), (8609, 8626), (8649, 8664), (8674, 8708), (8829, 8849), (9020, 9025), (9035, 9041), (9229, 9285), (9622, 9626), (9750, 9779), (9830, 9856), (9888, 9893), (10022, 10154), (10157, 10508), (10538, 10610), (10714, 10757), (10766, 10785)]"
      ],
      "text/plain": [
       "<IPython.core.display.Markdown object>"
      ]
     },
     "metadata": {},
     "output_type": "display_data"
    },
    {
     "data": {
      "text/markdown": [
       "[(1, 12), (32, 66), (75, 111), (150, 220), (223, 265), (270, 333), (336, 382), (385, 468), (488, 514), (553, 557), (587, 614), (678, 778), (814, 839), (898, 906), (941, 1006), (1074, 1088), (1127, 1134), (1140, 1164), (1208, 1261), (1267, 1461), (1653, 1658), (1769, 1881), (1941, 2123), (2520, 2525), (2530, 2554), (2563, 2570), (2789, 2811), (3030, 3035), (3049, 3055), (3263, 3341), (3393, 3464), (3469, 3585), (3590, 3597), (3619, 3811), (3885, 3889), (3896, 3953), (4000, 4112), (4217, 4290), (4350, 4416), (4503, 4561), (4564, 4618), (5465, 5513), (5516, 5526), (5531, 5546), (5564, 5571), (5778, 5853), (5919, 5932), (6020, 6069), (6481, 6504), (6508, 6530), (6602, 6688), (6739, 6837), (6863, 6896), (6908, 6969), (6997, 7018), (7680, 7694), (7699, 7739), (7742, 7759), (7797, 7896), (7966, 8022), (8065, 8348), (8379, 8417), (8454, 8578), (8609, 8626), (8649, 8664), (8674, 8708), (8829, 8849), (9020, 9025), (9035, 9041), (9229, 9285), (9622, 9626), (9750, 9779), (9830, 9856), (9888, 9893), (10022, 10154), (10157, 10508), (10538, 10610), (10714, 10757), (10766, 10785)]"
      ],
      "text/plain": [
       "<IPython.core.display.Markdown object>"
      ]
     },
     "metadata": {},
     "output_type": "display_data"
    },
    {
     "data": {
      "text/markdown": [
       "[(1, 12), (32, 66), (75, 111), (150, 220), (223, 265), (270, 333), (336, 382), (385, 468), (488, 514), (553, 557), (587, 614), (678, 778), (814, 839), (898, 906), (941, 1006), (1074, 1088), (1127, 1134), (1140, 1164), (1208, 1261), (1267, 1461), (1653, 1658), (1769, 1881), (1941, 2123), (2520, 2525), (2530, 2554), (2563, 2570), (2789, 2811), (3030, 3035), (3049, 3055), (3263, 3341), (3393, 3464), (3469, 3585), (3590, 3597), (3619, 3811), (3885, 3889), (3896, 3953), (4000, 4112), (4217, 4290), (4350, 4416), (4503, 4561), (4564, 4618), (5465, 5513), (5516, 5526), (5531, 5546), (5564, 5571), (5778, 5853), (5919, 5932), (6020, 6069), (6481, 6504), (6508, 6530), (6602, 6688), (6739, 6837), (6863, 6896), (6908, 6969), (6997, 7018), (7680, 7694), (7699, 7739), (7742, 7759), (7797, 7896), (7966, 8022), (8065, 8348), (8379, 8417), (8454, 8578), (8609, 8626), (8649, 8664), (8674, 8708), (8829, 8849), (9020, 9025), (9035, 9041), (9229, 9285), (9622, 9626), (9750, 9779), (9830, 9856), (9888, 9893), (10022, 10154), (10157, 10508), (10538, 10610), (10714, 10757), (10766, 10785)]"
      ],
      "text/plain": [
       "<IPython.core.display.Markdown object>"
      ]
     },
     "metadata": {},
     "output_type": "display_data"
    },
    {
     "data": {
      "text/markdown": [
       "[(1, 12), (32, 66), (75, 111), (150, 220), (223, 265), (270, 333), (336, 382), (385, 468), (488, 514), (553, 557), (587, 614), (678, 778), (814, 839), (898, 906), (941, 1006), (1074, 1088), (1127, 1134), (1140, 1164), (1208, 1261), (1267, 1461), (1653, 1658), (1769, 1881), (1941, 2123), (2520, 2525), (2530, 2554), (2563, 2570), (2789, 2811), (3030, 3035), (3049, 3055), (3263, 3341), (3393, 3464), (3469, 3585), (3590, 3597), (3619, 3811), (3885, 3889), (3896, 3953), (4000, 4112), (4217, 4290), (4350, 4416), (4503, 4561), (4564, 4618), (5465, 5513), (5516, 5526), (5531, 5546), (5564, 5571), (5778, 5853), (5919, 5932), (6020, 6069), (6481, 6504), (6508, 6530), (6602, 6688), (6739, 6837), (6863, 6896), (6908, 6969), (6997, 7018), (7680, 7694), (7699, 7739), (7742, 7759), (7797, 7896), (7966, 8022), (8065, 8348), (8379, 8417), (8454, 8578), (8609, 8626), (8649, 8664), (8674, 8708), (8829, 8849), (9020, 9025), (9035, 9041), (9229, 9285), (9622, 9626), (9750, 9779), (9830, 9856), (9888, 9893), (10022, 10154), (10157, 10508), (10538, 10610), (10714, 10757), (10766, 10785)]"
      ],
      "text/plain": [
       "<IPython.core.display.Markdown object>"
      ]
     },
     "metadata": {},
     "output_type": "display_data"
    },
    {
     "data": {
      "text/markdown": [
       "[(1, 12), (32, 66), (75, 111), (150, 220), (223, 265), (270, 333), (336, 382), (385, 468), (488, 514), (553, 557), (587, 614), (678, 778), (814, 839), (898, 906), (941, 1006), (1074, 1088), (1127, 1134), (1140, 1164), (1208, 1261), (1267, 1461), (1653, 1658), (1769, 1881), (1941, 2123), (2520, 2525), (2530, 2554), (2563, 2570), (2789, 2811), (3030, 3035), (3049, 3055), (3263, 3341), (3393, 3464), (3469, 3585), (3590, 3597), (3619, 3811), (3885, 3889), (3896, 3953), (4000, 4112), (4217, 4290), (4350, 4416), (4503, 4561), (4564, 4618), (5465, 5513), (5516, 5526), (5531, 5546), (5564, 5571), (5778, 5853), (5919, 5932), (6020, 6069), (6481, 6504), (6508, 6530), (6602, 6688), (6739, 6837), (6863, 6896), (6908, 6969), (6997, 7018), (7680, 7694), (7699, 7739), (7742, 7759), (7797, 7896), (7966, 8022), (8065, 8348), (8379, 8417), (8454, 8578), (8609, 8626), (8649, 8664), (8674, 8708), (8829, 8849), (9020, 9025), (9035, 9041), (9229, 9285), (9622, 9626), (9750, 9779), (9830, 9856), (9888, 9893), (10022, 10154), (10157, 10508), (10538, 10610), (10714, 10757), (10766, 10785)]"
      ],
      "text/plain": [
       "<IPython.core.display.Markdown object>"
      ]
     },
     "metadata": {},
     "output_type": "display_data"
    },
    {
     "data": {
      "text/markdown": [
       "[(1, 12), (32, 66), (75, 111), (150, 220), (223, 265), (270, 333), (336, 382), (385, 468), (488, 514), (553, 557), (587, 614), (678, 778), (814, 839), (898, 906), (941, 1006), (1074, 1088), (1127, 1134), (1140, 1164), (1208, 1261), (1267, 1461), (1653, 1658), (1769, 1881), (1941, 2123), (2520, 2525), (2530, 2554), (2563, 2570), (2789, 2811), (3030, 3035), (3049, 3055), (3263, 3341), (3393, 3464), (3469, 3585), (3590, 3597), (3619, 3811), (3885, 3889), (3896, 3953), (4000, 4112), (4217, 4290), (4350, 4416), (4503, 4561), (4564, 4618), (5465, 5513), (5516, 5526), (5531, 5546), (5564, 5571), (5778, 5853), (5919, 5932), (6020, 6069), (6481, 6504), (6508, 6530), (6602, 6688), (6739, 6837), (6863, 6896), (6908, 6969), (6997, 7018), (7680, 7694), (7699, 7739), (7742, 7759), (7797, 7896), (7966, 8022), (8065, 8348), (8379, 8417), (8454, 8578), (8609, 8626), (8649, 8664), (8674, 8708), (8829, 8849), (9020, 9025), (9035, 9041), (9229, 9285), (9622, 9626), (9750, 9779), (9830, 9856), (9888, 9893), (10022, 10154), (10157, 10508), (10538, 10610), (10714, 10757), (10766, 10785)]"
      ],
      "text/plain": [
       "<IPython.core.display.Markdown object>"
      ]
     },
     "metadata": {},
     "output_type": "display_data"
    },
    {
     "data": {
      "text/markdown": [
       "[(1, 12), (32, 66), (75, 111), (150, 220), (223, 265), (270, 333), (336, 382), (385, 468), (488, 514), (553, 557), (587, 614), (678, 778), (814, 839), (898, 906), (941, 1006), (1074, 1088), (1127, 1134), (1140, 1164), (1208, 1261), (1267, 1461), (1653, 1658), (1769, 1881), (1941, 2123), (2520, 2525), (2530, 2554), (2563, 2570), (2789, 2811), (3030, 3035), (3049, 3055), (3263, 3341), (3393, 3464), (3469, 3585), (3590, 3597), (3619, 3811), (3885, 3889), (3896, 3953), (4000, 4112), (4217, 4290), (4350, 4416), (4503, 4561), (4564, 4618), (5465, 5513), (5516, 5526), (5531, 5546), (5564, 5571), (5778, 5853), (5919, 5932), (6020, 6069), (6481, 6504), (6508, 6530), (6602, 6688), (6739, 6837), (6863, 6896), (6908, 6969), (6997, 7018), (7680, 7694), (7699, 7739), (7742, 7759), (7797, 7896), (7966, 8022), (8065, 8348), (8379, 8417), (8454, 8578), (8609, 8626), (8649, 8664), (8674, 8708), (8829, 8849), (9020, 9025), (9035, 9041), (9229, 9285), (9622, 9626), (9750, 9779), (9830, 9856), (9888, 9893), (10022, 10154), (10157, 10508), (10538, 10610), (10714, 10757), (10766, 10785)]"
      ],
      "text/plain": [
       "<IPython.core.display.Markdown object>"
      ]
     },
     "metadata": {},
     "output_type": "display_data"
    },
    {
     "data": {
      "text/markdown": [
       "[(1, 12), (32, 66), (75, 111), (150, 220), (223, 265), (270, 333), (336, 382), (385, 468), (488, 514), (553, 557), (587, 614), (678, 778), (814, 839), (898, 906), (941, 1006), (1074, 1088), (1127, 1134), (1140, 1164), (1208, 1261), (1267, 1461), (1653, 1658), (1769, 1881), (1941, 2123), (2520, 2525), (2530, 2554), (2563, 2570), (2789, 2811), (3030, 3035), (3049, 3055), (3263, 3341), (3393, 3464), (3469, 3585), (3590, 3597), (3619, 3811), (3885, 3889), (3896, 3953), (4000, 4112), (4217, 4290), (4350, 4416), (4503, 4561), (4564, 4618), (5465, 5513), (5516, 5526), (5531, 5546), (5564, 5571), (5778, 5853), (5919, 5932), (6020, 6069), (6481, 6504), (6508, 6530), (6602, 6688), (6739, 6837), (6863, 6896), (6908, 6969), (6997, 7018), (7680, 7694), (7699, 7739), (7742, 7759), (7797, 7896), (7966, 8022), (8065, 8348), (8379, 8417), (8454, 8578), (8609, 8626), (8649, 8664), (8674, 8708), (8829, 8849), (9020, 9025), (9035, 9041), (9229, 9285), (9622, 9626), (9750, 9779), (9830, 9856), (9888, 9893), (10022, 10154), (10157, 10508), (10538, 10610), (10714, 10757), (10766, 10785)]"
      ],
      "text/plain": [
       "<IPython.core.display.Markdown object>"
      ]
     },
     "metadata": {},
     "output_type": "display_data"
    },
    {
     "data": {
      "text/markdown": [
       "[(1, 12), (32, 66), (75, 111), (150, 220), (223, 265), (270, 333), (336, 382), (385, 468), (488, 514), (553, 557), (587, 614), (678, 778), (814, 839), (898, 906), (941, 1006), (1074, 1088), (1127, 1134), (1140, 1164), (1208, 1261), (1267, 1461), (1653, 1658), (1769, 1881), (1941, 2123), (2520, 2525), (2530, 2554), (2563, 2570), (2789, 2811), (3030, 3035), (3049, 3055), (3263, 3341), (3393, 3464), (3469, 3585), (3590, 3597), (3619, 3811), (3885, 3889), (3896, 3953), (4000, 4112), (4217, 4290), (4350, 4416), (4503, 4561), (4564, 4618), (5465, 5513), (5516, 5526), (5531, 5546), (5564, 5571), (5778, 5853), (5919, 5932), (6020, 6069), (6481, 6504), (6508, 6530), (6602, 6688), (6739, 6837), (6863, 6896), (6908, 6969), (6997, 7018), (7680, 7694), (7699, 7739), (7742, 7759), (7797, 7896), (7966, 8022), (8065, 8348), (8379, 8417), (8454, 8578), (8609, 8626), (8649, 8664), (8674, 8708), (8829, 8849), (9020, 9025), (9035, 9041), (9229, 9285), (9622, 9626), (9750, 9779), (9830, 9856), (9888, 9893), (10022, 10154), (10157, 10508), (10538, 10610), (10714, 10757), (10766, 10785)]"
      ],
      "text/plain": [
       "<IPython.core.display.Markdown object>"
      ]
     },
     "metadata": {},
     "output_type": "display_data"
    },
    {
     "data": {
      "text/markdown": [
       "[(1, 12), (32, 66), (75, 111), (150, 220), (223, 265), (270, 333), (336, 382), (385, 468), (488, 514), (553, 557), (587, 614), (678, 778), (814, 839), (898, 906), (941, 1006), (1074, 1088), (1127, 1134), (1140, 1164), (1208, 1261), (1267, 1461), (1653, 1658), (1769, 1881), (1941, 2123), (2520, 2525), (2530, 2554), (2563, 2570), (2789, 2811), (3030, 3035), (3049, 3055), (3263, 3341), (3393, 3464), (3469, 3585), (3590, 3597), (3619, 3811), (3885, 3889), (3896, 3953), (4000, 4112), (4217, 4290), (4350, 4416), (4503, 4561), (4564, 4618), (5465, 5513), (5516, 5526), (5531, 5546), (5564, 5571), (5778, 5853), (5919, 5932), (6020, 6069), (6481, 6504), (6508, 6530), (6602, 6688), (6739, 6837), (6863, 6896), (6908, 6969), (6997, 7018), (7680, 7694), (7699, 7739), (7742, 7759), (7797, 7896), (7966, 8022), (8065, 8348), (8379, 8417), (8454, 8578), (8609, 8626), (8649, 8664), (8674, 8708), (8829, 8849), (9020, 9025), (9035, 9041), (9229, 9285), (9622, 9626), (9750, 9779), (9830, 9856), (9888, 9893), (10022, 10154), (10157, 10508), (10538, 10610), (10714, 10757), (10766, 10785)]"
      ],
      "text/plain": [
       "<IPython.core.display.Markdown object>"
      ]
     },
     "metadata": {},
     "output_type": "display_data"
    },
    {
     "data": {
      "text/markdown": [
       "[(1, 12), (32, 66), (75, 111), (150, 220), (223, 265), (270, 333), (336, 382), (385, 468), (488, 514), (553, 557), (587, 614), (678, 778), (814, 839), (898, 906), (941, 1006), (1074, 1088), (1127, 1134), (1140, 1164), (1208, 1261), (1267, 1461), (1653, 1658), (1769, 1881), (1941, 2123), (2520, 2525), (2530, 2554), (2563, 2570), (2789, 2811), (3030, 3035), (3049, 3055), (3263, 3341), (3393, 3464), (3469, 3585), (3590, 3597), (3619, 3811), (3885, 3889), (3896, 3953), (4000, 4112), (4217, 4290), (4350, 4416), (4503, 4561), (4564, 4618), (5465, 5513), (5516, 5526), (5531, 5546), (5564, 5571), (5778, 5853), (5919, 5932), (6020, 6069), (6481, 6504), (6508, 6530), (6602, 6688), (6739, 6837), (6863, 6896), (6908, 6969), (6997, 7018), (7680, 7694), (7699, 7739), (7742, 7759), (7797, 7896), (7966, 8022), (8065, 8348), (8379, 8417), (8454, 8578), (8609, 8626), (8649, 8664), (8674, 8708), (8829, 8849), (9020, 9025), (9035, 9041), (9229, 9285), (9622, 9626), (9750, 9779), (9830, 9856), (9888, 9893), (10022, 10154), (10157, 10508), (10538, 10610), (10714, 10757), (10766, 10785)]"
      ],
      "text/plain": [
       "<IPython.core.display.Markdown object>"
      ]
     },
     "metadata": {},
     "output_type": "display_data"
    },
    {
     "data": {
      "text/markdown": [
       "[(1, 12), (32, 66), (75, 111), (150, 220), (223, 265), (270, 333), (336, 382), (385, 468), (488, 514), (553, 557), (587, 614), (678, 778), (814, 839), (898, 906), (941, 1006), (1074, 1088), (1127, 1134), (1140, 1164), (1208, 1261), (1267, 1461), (1653, 1658), (1769, 1881), (1941, 2123), (2520, 2525), (2530, 2554), (2563, 2570), (2789, 2811), (3030, 3035), (3049, 3055), (3263, 3341), (3393, 3464), (3469, 3585), (3590, 3597), (3619, 3811), (3885, 3889), (3896, 3953), (4000, 4112), (4217, 4290), (4350, 4416), (4503, 4561), (4564, 4618), (5465, 5513), (5516, 5526), (5531, 5546), (5564, 5571), (5778, 5853), (5919, 5932), (6020, 6069), (6481, 6504), (6508, 6530), (6602, 6688), (6739, 6837), (6863, 6896), (6908, 6969), (6997, 7018), (7680, 7694), (7699, 7739), (7742, 7759), (7797, 7896), (7966, 8022), (8065, 8348), (8379, 8417), (8454, 8578), (8609, 8626), (8649, 8664), (8674, 8708), (8829, 8849), (9020, 9025), (9035, 9041), (9229, 9285), (9622, 9626), (9750, 9779), (9830, 9856), (9888, 9893), (10022, 10154), (10157, 10508), (10538, 10610), (10714, 10757), (10766, 10785)]"
      ],
      "text/plain": [
       "<IPython.core.display.Markdown object>"
      ]
     },
     "metadata": {},
     "output_type": "display_data"
    },
    {
     "data": {
      "text/markdown": [
       "[(1, 12), (32, 66), (75, 111), (150, 220), (223, 265), (270, 333), (336, 382), (385, 468), (488, 514), (553, 557), (587, 614), (678, 778), (814, 839), (898, 906), (941, 1006), (1074, 1088), (1127, 1134), (1140, 1164), (1208, 1261), (1267, 1461), (1653, 1658), (1769, 1881), (1941, 2123), (2520, 2525), (2530, 2554), (2563, 2570), (2789, 2811), (3030, 3035), (3049, 3055), (3263, 3341), (3393, 3464), (3469, 3585), (3590, 3597), (3619, 3811), (3885, 3889), (3896, 3953), (4000, 4112), (4217, 4290), (4350, 4416), (4503, 4561), (4564, 4618), (5465, 5513), (5516, 5526), (5531, 5546), (5564, 5571), (5778, 5853), (5919, 5932), (6020, 6069), (6481, 6504), (6508, 6530), (6602, 6688), (6739, 6837), (6863, 6896), (6908, 6969), (6997, 7018), (7680, 7694), (7699, 7739), (7742, 7759), (7797, 7896), (7966, 8022), (8065, 8348), (8379, 8417), (8454, 8578), (8609, 8626), (8649, 8664), (8674, 8708), (8829, 8849), (9020, 9025), (9035, 9041), (9229, 9285), (9622, 9626), (9750, 9779), (9830, 9856), (9888, 9893), (10022, 10154), (10157, 10508), (10538, 10610), (10714, 10757), (10766, 10785)]"
      ],
      "text/plain": [
       "<IPython.core.display.Markdown object>"
      ]
     },
     "metadata": {},
     "output_type": "display_data"
    },
    {
     "data": {
      "text/markdown": [
       "[(1, 12), (32, 66), (75, 111), (150, 220), (223, 265), (270, 333), (336, 382), (385, 468), (488, 514), (553, 557), (587, 614), (678, 778), (814, 839), (898, 906), (941, 1006), (1074, 1088), (1127, 1134), (1140, 1164), (1208, 1261), (1267, 1461), (1653, 1658), (1769, 1881), (1941, 2123), (2520, 2525), (2530, 2554), (2563, 2570), (2789, 2811), (3030, 3035), (3049, 3055), (3263, 3341), (3393, 3464), (3469, 3585), (3590, 3597), (3619, 3811), (3885, 3889), (3896, 3953), (4000, 4112), (4217, 4290), (4350, 4416), (4503, 4561), (4564, 4618), (5465, 5513), (5516, 5526), (5531, 5546), (5564, 5571), (5778, 5853), (5919, 5932), (6020, 6069), (6481, 6504), (6508, 6530), (6602, 6688), (6739, 6837), (6863, 6896), (6908, 6969), (6997, 7018), (7680, 7694), (7699, 7739), (7742, 7759), (7797, 7896), (7966, 8022), (8065, 8348), (8379, 8417), (8454, 8578), (8609, 8626), (8649, 8664), (8674, 8708), (8829, 8849), (9020, 9025), (9035, 9041), (9229, 9285), (9622, 9626), (9750, 9779), (9830, 9856), (9888, 9893), (10022, 10154), (10157, 10508), (10538, 10610), (10714, 10757), (10766, 10785)]"
      ],
      "text/plain": [
       "<IPython.core.display.Markdown object>"
      ]
     },
     "metadata": {},
     "output_type": "display_data"
    },
    {
     "data": {
      "text/markdown": [
       "[(1, 12), (32, 66), (75, 111), (150, 220), (223, 265), (270, 333), (336, 382), (385, 468), (488, 514), (553, 557), (587, 614), (678, 778), (814, 839), (898, 906), (941, 1006), (1074, 1088), (1127, 1134), (1140, 1164), (1208, 1261), (1267, 1461), (1653, 1658), (1769, 1881), (1941, 2123), (2520, 2525), (2530, 2554), (2563, 2570), (2789, 2811), (3030, 3035), (3049, 3055), (3263, 3341), (3393, 3464), (3469, 3585), (3590, 3597), (3619, 3811), (3885, 3889), (3896, 3953), (4000, 4112), (4217, 4290), (4350, 4416), (4503, 4561), (4564, 4618), (5465, 5513), (5516, 5526), (5531, 5546), (5564, 5571), (5778, 5853), (5919, 5932), (6020, 6069), (6481, 6504), (6508, 6530), (6602, 6688), (6739, 6837), (6863, 6896), (6908, 6969), (6997, 7018), (7680, 7694), (7699, 7739), (7742, 7759), (7797, 7896), (7966, 8022), (8065, 8348), (8379, 8417), (8454, 8578), (8609, 8626), (8649, 8664), (8674, 8708), (8829, 8849), (9020, 9025), (9035, 9041), (9229, 9285), (9622, 9626), (9750, 9779), (9830, 9856), (9888, 9893), (10022, 10154), (10157, 10508), (10538, 10610), (10714, 10757), (10766, 10785)]"
      ],
      "text/plain": [
       "<IPython.core.display.Markdown object>"
      ]
     },
     "metadata": {},
     "output_type": "display_data"
    },
    {
     "data": {
      "text/markdown": [
       "[(1, 12), (32, 66), (75, 111), (150, 220), (223, 265), (270, 333), (336, 382), (385, 468), (488, 514), (553, 557), (587, 614), (678, 778), (814, 839), (898, 906), (941, 1006), (1074, 1088), (1127, 1134), (1140, 1164), (1208, 1261), (1267, 1461), (1653, 1658), (1769, 1881), (1941, 2123), (2520, 2525), (2530, 2554), (2563, 2570), (2789, 2811), (3030, 3035), (3049, 3055), (3263, 3341), (3393, 3464), (3469, 3585), (3590, 3597), (3619, 3811), (3885, 3889), (3896, 3953), (4000, 4112), (4217, 4290), (4350, 4416), (4503, 4561), (4564, 4618), (5465, 5513), (5516, 5526), (5531, 5546), (5564, 5571), (5778, 5853), (5919, 5932), (6020, 6069), (6481, 6504), (6508, 6530), (6602, 6688), (6739, 6837), (6863, 6896), (6908, 6969), (6997, 7018), (7680, 7694), (7699, 7739), (7742, 7759), (7797, 7896), (7966, 8022), (8065, 8348), (8379, 8417), (8454, 8578), (8609, 8626), (8649, 8664), (8674, 8708), (8829, 8849), (9020, 9025), (9035, 9041), (9229, 9285), (9622, 9626), (9750, 9779), (9830, 9856), (9888, 9893), (10022, 10154), (10157, 10508), (10538, 10610), (10714, 10757), (10766, 10785)]"
      ],
      "text/plain": [
       "<IPython.core.display.Markdown object>"
      ]
     },
     "metadata": {},
     "output_type": "display_data"
    },
    {
     "data": {
      "text/markdown": [
       "[(1, 12), (32, 66), (75, 111), (150, 220), (223, 265), (270, 333), (336, 382), (385, 468), (488, 514), (553, 557), (587, 614), (678, 778), (814, 839), (898, 906), (941, 1006), (1074, 1088), (1127, 1134), (1140, 1164), (1208, 1261), (1267, 1461), (1653, 1658), (1769, 1881), (1941, 2123), (2520, 2525), (2530, 2554), (2563, 2570), (2789, 2811), (3030, 3035), (3049, 3055), (3263, 3341), (3393, 3464), (3469, 3585), (3590, 3597), (3619, 3811), (3885, 3889), (3896, 3953), (4000, 4112), (4217, 4290), (4350, 4416), (4503, 4561), (4564, 4618), (5465, 5513), (5516, 5526), (5531, 5546), (5564, 5571), (5778, 5853), (5919, 5932), (6020, 6069), (6481, 6504), (6508, 6530), (6602, 6688), (6739, 6837), (6863, 6896), (6908, 6969), (6997, 7018), (7680, 7694), (7699, 7739), (7742, 7759), (7797, 7896), (7966, 8022), (8065, 8348), (8379, 8417), (8454, 8578), (8609, 8626), (8649, 8664), (8674, 8708), (8829, 8849), (9020, 9025), (9035, 9041), (9229, 9285), (9622, 9626), (9750, 9779), (9830, 9856), (9888, 9893), (10022, 10154), (10157, 10508), (10538, 10610), (10714, 10757), (10766, 10785)]"
      ],
      "text/plain": [
       "<IPython.core.display.Markdown object>"
      ]
     },
     "metadata": {},
     "output_type": "display_data"
    },
    {
     "data": {
      "text/markdown": [
       "[(1, 12), (32, 66), (75, 111), (150, 220), (223, 265), (270, 333), (336, 382), (385, 468), (488, 514), (553, 557), (587, 614), (678, 778), (814, 839), (898, 906), (941, 1006), (1074, 1088), (1127, 1134), (1140, 1164), (1208, 1261), (1267, 1461), (1653, 1658), (1769, 1881), (1941, 2123), (2520, 2525), (2530, 2554), (2563, 2570), (2789, 2811), (3030, 3035), (3049, 3055), (3263, 3341), (3393, 3464), (3469, 3585), (3590, 3597), (3619, 3811), (3885, 3889), (3896, 3953), (4000, 4112), (4217, 4290), (4350, 4416), (4503, 4561), (4564, 4618), (5465, 5513), (5516, 5526), (5531, 5546), (5564, 5571), (5778, 5853), (5919, 5932), (6020, 6069), (6481, 6504), (6508, 6530), (6602, 6688), (6739, 6837), (6863, 6896), (6908, 6969), (6997, 7018), (7680, 7694), (7699, 7739), (7742, 7759), (7797, 7896), (7966, 8022), (8065, 8348), (8379, 8417), (8454, 8578), (8609, 8626), (8649, 8664), (8674, 8708), (8829, 8849), (9020, 9025), (9035, 9041), (9229, 9285), (9622, 9626), (9750, 9779), (9830, 9856), (9888, 9893), (10022, 10154), (10157, 10508), (10538, 10610), (10714, 10757), (10766, 10785)]"
      ],
      "text/plain": [
       "<IPython.core.display.Markdown object>"
      ]
     },
     "metadata": {},
     "output_type": "display_data"
    },
    {
     "data": {
      "text/markdown": [
       "[(1, 12), (32, 66), (75, 111), (150, 220), (223, 265), (270, 333), (336, 382), (385, 468), (488, 514), (553, 557), (587, 614), (678, 778), (814, 839), (898, 906), (941, 1006), (1074, 1088), (1127, 1134), (1140, 1164), (1208, 1261), (1267, 1461), (1653, 1658), (1769, 1881), (1941, 2123), (2520, 2525), (2530, 2554), (2563, 2570), (2789, 2811), (3030, 3035), (3049, 3055), (3263, 3341), (3393, 3464), (3469, 3585), (3590, 3597), (3619, 3811), (3885, 3889), (3896, 3953), (4000, 4112), (4217, 4290), (4350, 4416), (4503, 4561), (4564, 4618), (5465, 5513), (5516, 5526), (5531, 5546), (5564, 5571), (5778, 5853), (5919, 5932), (6020, 6069), (6481, 6504), (6508, 6530), (6602, 6688), (6739, 6837), (6863, 6896), (6908, 6969), (6997, 7018), (7680, 7694), (7699, 7739), (7742, 7759), (7797, 7896), (7966, 8022), (8065, 8348), (8379, 8417), (8454, 8578), (8609, 8626), (8649, 8664), (8674, 8708), (8829, 8849), (9020, 9025), (9035, 9041), (9229, 9285), (9622, 9626), (9750, 9779), (9830, 9856), (9888, 9893), (10022, 10154), (10157, 10508), (10538, 10610), (10714, 10757), (10766, 10785)]"
      ],
      "text/plain": [
       "<IPython.core.display.Markdown object>"
      ]
     },
     "metadata": {},
     "output_type": "display_data"
    },
    {
     "data": {
      "text/markdown": [
       "[(1, 12), (32, 66), (75, 111), (150, 220), (223, 265), (270, 333), (336, 382), (385, 468), (488, 514), (553, 557), (587, 614), (678, 778), (814, 839), (898, 906), (941, 1006), (1074, 1088), (1127, 1134), (1140, 1164), (1208, 1261), (1267, 1461), (1653, 1658), (1769, 1881), (1941, 2123), (2520, 2525), (2530, 2554), (2563, 2570), (2789, 2811), (3030, 3035), (3049, 3055), (3263, 3341), (3393, 3464), (3469, 3585), (3590, 3597), (3619, 3811), (3885, 3889), (3896, 3953), (4000, 4112), (4217, 4290), (4350, 4416), (4503, 4561), (4564, 4618), (5465, 5513), (5516, 5526), (5531, 5546), (5564, 5571), (5778, 5853), (5919, 5932), (6020, 6069), (6481, 6504), (6508, 6530), (6602, 6688), (6739, 6837), (6863, 6896), (6908, 6969), (6997, 7018), (7680, 7694), (7699, 7739), (7742, 7759), (7797, 7896), (7966, 8022), (8065, 8348), (8379, 8417), (8454, 8578), (8609, 8626), (8649, 8664), (8674, 8708), (8829, 8849), (9020, 9025), (9035, 9041), (9229, 9285), (9622, 9626), (9750, 9779), (9830, 9856), (9888, 9893), (10022, 10154), (10157, 10508), (10538, 10610), (10714, 10757), (10766, 10785)]"
      ],
      "text/plain": [
       "<IPython.core.display.Markdown object>"
      ]
     },
     "metadata": {},
     "output_type": "display_data"
    },
    {
     "data": {
      "text/markdown": [
       "[(1, 12), (32, 66), (75, 111), (150, 220), (223, 265), (270, 333), (336, 382), (385, 468), (488, 514), (553, 557), (587, 614), (678, 778), (814, 839), (898, 906), (941, 1006), (1074, 1088), (1127, 1134), (1140, 1164), (1208, 1261), (1267, 1461), (1653, 1658), (1769, 1881), (1941, 2123), (2520, 2525), (2530, 2554), (2563, 2570), (2789, 2811), (3030, 3035), (3049, 3055), (3263, 3341), (3393, 3464), (3469, 3585), (3590, 3597), (3619, 3811), (3885, 3889), (3896, 3953), (4000, 4112), (4217, 4290), (4350, 4416), (4503, 4561), (4564, 4618), (5465, 5513), (5516, 5526), (5531, 5546), (5564, 5571), (5778, 5853), (5919, 5932), (6020, 6069), (6481, 6504), (6508, 6530), (6602, 6688), (6739, 6837), (6863, 6896), (6908, 6969), (6997, 7018), (7680, 7694), (7699, 7739), (7742, 7759), (7797, 7896), (7966, 8022), (8065, 8348), (8379, 8417), (8454, 8578), (8609, 8626), (8649, 8664), (8674, 8708), (8829, 8849), (9020, 9025), (9035, 9041), (9229, 9285), (9622, 9626), (9750, 9779), (9830, 9856), (9888, 9893), (10022, 10154), (10157, 10508), (10538, 10610), (10714, 10757), (10766, 10785)]"
      ],
      "text/plain": [
       "<IPython.core.display.Markdown object>"
      ]
     },
     "metadata": {},
     "output_type": "display_data"
    },
    {
     "data": {
      "text/markdown": [
       "[(1, 12), (32, 66), (75, 111), (150, 220), (223, 265), (270, 333), (336, 382), (385, 468), (488, 514), (553, 557), (587, 614), (678, 778), (814, 839), (898, 906), (941, 1006), (1074, 1088), (1127, 1134), (1140, 1164), (1208, 1261), (1267, 1461), (1653, 1658), (1769, 1881), (1941, 2123), (2520, 2525), (2530, 2554), (2563, 2570), (2789, 2811), (3030, 3035), (3049, 3055), (3263, 3341), (3393, 3464), (3469, 3585), (3590, 3597), (3619, 3811), (3885, 3889), (3896, 3953), (4000, 4112), (4217, 4290), (4350, 4416), (4503, 4561), (4564, 4618), (5465, 5513), (5516, 5526), (5531, 5546), (5564, 5571), (5778, 5853), (5919, 5932), (6020, 6069), (6481, 6504), (6508, 6530), (6602, 6688), (6739, 6837), (6863, 6896), (6908, 6969), (6997, 7018), (7680, 7694), (7699, 7739), (7742, 7759), (7797, 7896), (7966, 8022), (8065, 8348), (8379, 8417), (8454, 8578), (8609, 8626), (8649, 8664), (8674, 8708), (8829, 8849), (9020, 9025), (9035, 9041), (9229, 9285), (9622, 9626), (9750, 9779), (9830, 9856), (9888, 9893), (10022, 10154), (10157, 10508), (10538, 10610), (10714, 10757), (10766, 10785)]"
      ],
      "text/plain": [
       "<IPython.core.display.Markdown object>"
      ]
     },
     "metadata": {},
     "output_type": "display_data"
    },
    {
     "data": {
      "text/markdown": [
       "[(1, 12), (32, 66), (75, 111), (150, 220), (223, 265), (270, 333), (336, 382), (385, 468), (488, 514), (553, 557), (587, 614), (678, 778), (814, 839), (898, 906), (941, 1006), (1074, 1088), (1127, 1134), (1140, 1164), (1208, 1261), (1267, 1461), (1653, 1658), (1769, 1881), (1941, 2123), (2520, 2525), (2530, 2554), (2563, 2570), (2789, 2811), (3030, 3035), (3049, 3055), (3263, 3341), (3393, 3464), (3469, 3585), (3590, 3597), (3619, 3811), (3885, 3889), (3896, 3953), (4000, 4112), (4217, 4290), (4350, 4416), (4503, 4561), (4564, 4618), (5465, 5513), (5516, 5526), (5531, 5546), (5564, 5571), (5778, 5853), (5919, 5932), (6020, 6069), (6481, 6504), (6508, 6530), (6602, 6688), (6739, 6837), (6863, 6896), (6908, 6969), (6997, 7018), (7680, 7694), (7699, 7739), (7742, 7759), (7797, 7896), (7966, 8022), (8065, 8348), (8379, 8417), (8454, 8578), (8609, 8626), (8649, 8664), (8674, 8708), (8829, 8849), (9020, 9025), (9035, 9041), (9229, 9285), (9622, 9626), (9750, 9779), (9830, 9856), (9888, 9893), (10022, 10154), (10157, 10508), (10538, 10610), (10714, 10757), (10766, 10785)]"
      ],
      "text/plain": [
       "<IPython.core.display.Markdown object>"
      ]
     },
     "metadata": {},
     "output_type": "display_data"
    },
    {
     "data": {
      "text/markdown": [
       "[(1, 12), (32, 66), (75, 111), (150, 220), (223, 265), (270, 333), (336, 382), (385, 468), (488, 514), (553, 557), (587, 614), (678, 778), (814, 839), (898, 906), (941, 1006), (1074, 1088), (1127, 1134), (1140, 1164), (1208, 1261), (1267, 1461), (1653, 1658), (1769, 1881), (1941, 2123), (2520, 2525), (2530, 2554), (2563, 2570), (2789, 2811), (3030, 3035), (3049, 3055), (3263, 3341), (3393, 3464), (3469, 3585), (3590, 3597), (3619, 3811), (3885, 3889), (3896, 3953), (4000, 4112), (4217, 4290), (4350, 4416), (4503, 4561), (4564, 4618), (5465, 5513), (5516, 5526), (5531, 5546), (5564, 5571), (5778, 5853), (5919, 5932), (6020, 6069), (6481, 6504), (6508, 6530), (6602, 6688), (6739, 6837), (6863, 6896), (6908, 6969), (6997, 7018), (7680, 7694), (7699, 7739), (7742, 7759), (7797, 7896), (7966, 8022), (8065, 8348), (8379, 8417), (8454, 8578), (8609, 8626), (8649, 8664), (8674, 8708), (8829, 8849), (9020, 9025), (9035, 9041), (9229, 9285), (9622, 9626), (9750, 9779), (9830, 9856), (9888, 9893), (10022, 10154), (10157, 10508), (10538, 10610), (10714, 10757), (10766, 10785)]"
      ],
      "text/plain": [
       "<IPython.core.display.Markdown object>"
      ]
     },
     "metadata": {},
     "output_type": "display_data"
    },
    {
     "data": {
      "text/markdown": [
       "[(1, 12), (32, 66), (75, 111), (150, 220), (223, 265), (270, 333), (336, 382), (385, 468), (488, 514), (553, 557), (587, 614), (678, 778), (814, 839), (898, 906), (941, 1006), (1074, 1088), (1127, 1134), (1140, 1164), (1208, 1261), (1267, 1461), (1653, 1658), (1769, 1881), (1941, 2123), (2520, 2525), (2530, 2554), (2563, 2570), (2789, 2811), (3030, 3035), (3049, 3055), (3263, 3341), (3393, 3464), (3469, 3585), (3590, 3597), (3619, 3811), (3885, 3889), (3896, 3953), (4000, 4112), (4217, 4290), (4350, 4416), (4503, 4561), (4564, 4618), (5465, 5513), (5516, 5526), (5531, 5546), (5564, 5571), (5778, 5853), (5919, 5932), (6020, 6069), (6481, 6504), (6508, 6530), (6602, 6688), (6739, 6837), (6863, 6896), (6908, 6969), (6997, 7018), (7680, 7694), (7699, 7739), (7742, 7759), (7797, 7896), (7966, 8022), (8065, 8348), (8379, 8417), (8454, 8578), (8609, 8626), (8649, 8664), (8674, 8708), (8829, 8849), (9020, 9025), (9035, 9041), (9229, 9285), (9622, 9626), (9750, 9779), (9830, 9856), (9888, 9893), (10022, 10154), (10157, 10508), (10538, 10610), (10714, 10757), (10766, 10785)]"
      ],
      "text/plain": [
       "<IPython.core.display.Markdown object>"
      ]
     },
     "metadata": {},
     "output_type": "display_data"
    },
    {
     "data": {
      "text/markdown": [
       "[(1, 12), (32, 66), (75, 111), (150, 220), (223, 265), (270, 333), (336, 382), (385, 468), (488, 514), (553, 557), (587, 614), (678, 778), (814, 839), (898, 906), (941, 1006), (1074, 1088), (1127, 1134), (1140, 1164), (1208, 1261), (1267, 1461), (1653, 1658), (1769, 1881), (1941, 2123), (2520, 2525), (2530, 2554), (2563, 2570), (2789, 2811), (3030, 3035), (3049, 3055), (3263, 3341), (3393, 3464), (3469, 3585), (3590, 3597), (3619, 3811), (3885, 3889), (3896, 3953), (4000, 4112), (4217, 4290), (4350, 4416), (4503, 4561), (4564, 4618), (5465, 5513), (5516, 5526), (5531, 5546), (5564, 5571), (5778, 5853), (5919, 5932), (6020, 6069), (6481, 6504), (6508, 6530), (6602, 6688), (6739, 6837), (6863, 6896), (6908, 6969), (6997, 7018), (7680, 7694), (7699, 7739), (7742, 7759), (7797, 7896), (7966, 8022), (8065, 8348), (8379, 8417), (8454, 8578), (8609, 8626), (8649, 8664), (8674, 8708), (8829, 8849), (9020, 9025), (9035, 9041), (9229, 9285), (9622, 9626), (9750, 9779), (9830, 9856), (9888, 9893), (10022, 10154), (10157, 10508), (10538, 10610), (10714, 10757), (10766, 10785)]"
      ],
      "text/plain": [
       "<IPython.core.display.Markdown object>"
      ]
     },
     "metadata": {},
     "output_type": "display_data"
    },
    {
     "data": {
      "text/markdown": [
       "[(1, 12), (32, 66), (75, 111), (150, 220), (223, 265), (270, 333), (336, 382), (385, 468), (488, 514), (553, 557), (587, 614), (678, 778), (814, 839), (898, 906), (941, 1006), (1074, 1088), (1127, 1134), (1140, 1164), (1208, 1261), (1267, 1461), (1653, 1658), (1769, 1881), (1941, 2123), (2520, 2525), (2530, 2554), (2563, 2570), (2789, 2811), (3030, 3035), (3049, 3055), (3263, 3341), (3393, 3464), (3469, 3585), (3590, 3597), (3619, 3811), (3885, 3889), (3896, 3953), (4000, 4112), (4217, 4290), (4350, 4416), (4503, 4561), (4564, 4618), (5465, 5513), (5516, 5526), (5531, 5546), (5564, 5571), (5778, 5853), (5919, 5932), (6020, 6069), (6481, 6504), (6508, 6530), (6602, 6688), (6739, 6837), (6863, 6896), (6908, 6969), (6997, 7018), (7680, 7694), (7699, 7739), (7742, 7759), (7797, 7896), (7966, 8022), (8065, 8348), (8379, 8417), (8454, 8578), (8609, 8626), (8649, 8664), (8674, 8708), (8829, 8849), (9020, 9025), (9035, 9041), (9229, 9285), (9622, 9626), (9750, 9779), (9830, 9856), (9888, 9893), (10022, 10154), (10157, 10508), (10538, 10610), (10714, 10757), (10766, 10785)]"
      ],
      "text/plain": [
       "<IPython.core.display.Markdown object>"
      ]
     },
     "metadata": {},
     "output_type": "display_data"
    },
    {
     "data": {
      "text/markdown": [
       "[(1, 12), (32, 66), (75, 111), (150, 220), (223, 265), (270, 333), (336, 382), (385, 468), (488, 514), (553, 557), (587, 614), (678, 778), (814, 839), (898, 906), (941, 1006), (1074, 1088), (1127, 1134), (1140, 1164), (1208, 1261), (1267, 1461), (1653, 1658), (1769, 1881), (1941, 2123), (2520, 2525), (2530, 2554), (2563, 2570), (2789, 2811), (3030, 3035), (3049, 3055), (3263, 3341), (3393, 3464), (3469, 3585), (3590, 3597), (3619, 3811), (3885, 3889), (3896, 3953), (4000, 4112), (4217, 4290), (4350, 4416), (4503, 4561), (4564, 4618), (5465, 5513), (5516, 5526), (5531, 5546), (5564, 5571), (5778, 5853), (5919, 5932), (6020, 6069), (6481, 6504), (6508, 6530), (6602, 6688), (6739, 6837), (6863, 6896), (6908, 6969), (6997, 7018), (7680, 7694), (7699, 7739), (7742, 7759), (7797, 7896), (7966, 8022), (8065, 8348), (8379, 8417), (8454, 8578), (8609, 8626), (8649, 8664), (8674, 8708), (8829, 8849), (9020, 9025), (9035, 9041), (9229, 9285), (9622, 9626), (9750, 9779), (9830, 9856), (9888, 9893), (10022, 10154), (10157, 10508), (10538, 10610), (10714, 10757), (10766, 10785)]"
      ],
      "text/plain": [
       "<IPython.core.display.Markdown object>"
      ]
     },
     "metadata": {},
     "output_type": "display_data"
    },
    {
     "data": {
      "text/markdown": [
       "[(1, 12), (32, 66), (75, 111), (150, 220), (223, 265), (270, 333), (336, 382), (385, 468), (488, 514), (553, 557), (587, 614), (678, 778), (814, 839), (898, 906), (941, 1006), (1074, 1088), (1127, 1134), (1140, 1164), (1208, 1261), (1267, 1461), (1653, 1658), (1769, 1881), (1941, 2123), (2520, 2525), (2530, 2554), (2563, 2570), (2789, 2811), (3030, 3035), (3049, 3055), (3263, 3341), (3393, 3464), (3469, 3585), (3590, 3597), (3619, 3811), (3885, 3889), (3896, 3953), (4000, 4112), (4217, 4290), (4350, 4416), (4503, 4561), (4564, 4618), (5465, 5513), (5516, 5526), (5531, 5546), (5564, 5571), (5778, 5853), (5919, 5932), (6020, 6069), (6481, 6504), (6508, 6530), (6602, 6688), (6739, 6837), (6863, 6896), (6908, 6969), (6997, 7018), (7680, 7694), (7699, 7739), (7742, 7759), (7797, 7896), (7966, 8022), (8065, 8348), (8379, 8417), (8454, 8578), (8609, 8626), (8649, 8664), (8674, 8708), (8829, 8849), (9020, 9025), (9035, 9041), (9229, 9285), (9622, 9626), (9750, 9779), (9830, 9856), (9888, 9893), (10022, 10154), (10157, 10508), (10538, 10610), (10714, 10757), (10766, 10785)]"
      ],
      "text/plain": [
       "<IPython.core.display.Markdown object>"
      ]
     },
     "metadata": {},
     "output_type": "display_data"
    },
    {
     "data": {
      "text/markdown": [
       "[(1, 12), (32, 66), (75, 111), (150, 220), (223, 265), (270, 333), (336, 382), (385, 468), (488, 514), (553, 557), (587, 614), (678, 778), (814, 839), (898, 906), (941, 1006), (1074, 1088), (1127, 1134), (1140, 1164), (1208, 1261), (1267, 1461), (1653, 1658), (1769, 1881), (1941, 2123), (2520, 2525), (2530, 2554), (2563, 2570), (2789, 2811), (3030, 3035), (3049, 3055), (3263, 3341), (3393, 3464), (3469, 3585), (3590, 3597), (3619, 3811), (3885, 3889), (3896, 3953), (4000, 4112), (4217, 4290), (4350, 4416), (4503, 4561), (4564, 4618), (5465, 5513), (5516, 5526), (5531, 5546), (5564, 5571), (5778, 5853), (5919, 5932), (6020, 6069), (6481, 6504), (6508, 6530), (6602, 6688), (6739, 6837), (6863, 6896), (6908, 6969), (6997, 7018), (7680, 7694), (7699, 7739), (7742, 7759), (7797, 7896), (7966, 8022), (8065, 8348), (8379, 8417), (8454, 8578), (8609, 8626), (8649, 8664), (8674, 8708), (8829, 8849), (9020, 9025), (9035, 9041), (9229, 9285), (9622, 9626), (9750, 9779), (9830, 9856), (9888, 9893), (10022, 10154), (10157, 10508), (10538, 10610), (10714, 10757), (10766, 10785)]"
      ],
      "text/plain": [
       "<IPython.core.display.Markdown object>"
      ]
     },
     "metadata": {},
     "output_type": "display_data"
    },
    {
     "data": {
      "text/markdown": [
       "[(1, 12), (32, 66), (75, 111), (150, 220), (223, 265), (270, 333), (336, 382), (385, 468), (488, 514), (553, 557), (587, 614), (678, 778), (814, 839), (898, 906), (941, 1006), (1074, 1088), (1127, 1134), (1140, 1164), (1208, 1261), (1267, 1461), (1653, 1658), (1769, 1881), (1941, 2123), (2520, 2525), (2530, 2554), (2563, 2570), (2789, 2811), (3030, 3035), (3049, 3055), (3263, 3341), (3393, 3464), (3469, 3585), (3590, 3597), (3619, 3811), (3885, 3889), (3896, 3953), (4000, 4112), (4217, 4290), (4350, 4416), (4503, 4561), (4564, 4618), (5465, 5513), (5516, 5526), (5531, 5546), (5564, 5571), (5778, 5853), (5919, 5932), (6020, 6069), (6481, 6504), (6508, 6530), (6602, 6688), (6739, 6837), (6863, 6896), (6908, 6969), (6997, 7018), (7680, 7694), (7699, 7739), (7742, 7759), (7797, 7896), (7966, 8022), (8065, 8348), (8379, 8417), (8454, 8578), (8609, 8626), (8649, 8664), (8674, 8708), (8829, 8849), (9020, 9025), (9035, 9041), (9229, 9285), (9622, 9626), (9750, 9779), (9830, 9856), (9888, 9893), (10022, 10154), (10157, 10508), (10538, 10610), (10714, 10757), (10766, 10785)]"
      ],
      "text/plain": [
       "<IPython.core.display.Markdown object>"
      ]
     },
     "metadata": {},
     "output_type": "display_data"
    },
    {
     "data": {
      "text/markdown": [
       "[(1, 12), (32, 66), (75, 111), (150, 220), (223, 265), (270, 333), (336, 382), (385, 468), (488, 514), (553, 557), (587, 614), (678, 778), (814, 839), (898, 906), (941, 1006), (1074, 1088), (1127, 1134), (1140, 1164), (1208, 1261), (1267, 1461), (1653, 1658), (1769, 1881), (1941, 2123), (2520, 2525), (2530, 2554), (2563, 2570), (2789, 2811), (3030, 3035), (3049, 3055), (3263, 3341), (3393, 3464), (3469, 3585), (3590, 3597), (3619, 3811), (3885, 3889), (3896, 3953), (4000, 4112), (4217, 4290), (4350, 4416), (4503, 4561), (4564, 4618), (5465, 5513), (5516, 5526), (5531, 5546), (5564, 5571), (5778, 5853), (5919, 5932), (6020, 6069), (6481, 6504), (6508, 6530), (6602, 6688), (6739, 6837), (6863, 6896), (6908, 6969), (6997, 7018), (7680, 7694), (7699, 7739), (7742, 7759), (7797, 7896), (7966, 8022), (8065, 8348), (8379, 8417), (8454, 8578), (8609, 8626), (8649, 8664), (8674, 8708), (8829, 8849), (9020, 9025), (9035, 9041), (9229, 9285), (9622, 9626), (9750, 9779), (9830, 9856), (9888, 9893), (10022, 10154), (10157, 10508), (10538, 10610), (10714, 10757), (10766, 10785)]"
      ],
      "text/plain": [
       "<IPython.core.display.Markdown object>"
      ]
     },
     "metadata": {},
     "output_type": "display_data"
    },
    {
     "data": {
      "text/markdown": [
       "[(1, 12), (32, 66), (75, 111), (150, 220), (223, 265), (270, 333), (336, 382), (385, 468), (488, 514), (553, 557), (587, 614), (678, 778), (814, 839), (898, 906), (941, 1006), (1074, 1088), (1127, 1134), (1140, 1164), (1208, 1261), (1267, 1461), (1653, 1658), (1769, 1881), (1941, 2123), (2520, 2525), (2530, 2554), (2563, 2570), (2789, 2811), (3030, 3035), (3049, 3055), (3263, 3341), (3393, 3464), (3469, 3585), (3590, 3597), (3619, 3811), (3885, 3889), (3896, 3953), (4000, 4112), (4217, 4290), (4350, 4416), (4503, 4561), (4564, 4618), (5465, 5513), (5516, 5526), (5531, 5546), (5564, 5571), (5778, 5853), (5919, 5932), (6020, 6069), (6481, 6504), (6508, 6530), (6602, 6688), (6739, 6837), (6863, 6896), (6908, 6969), (6997, 7018), (7680, 7694), (7699, 7739), (7742, 7759), (7797, 7896), (7966, 8022), (8065, 8348), (8379, 8417), (8454, 8578), (8609, 8626), (8649, 8664), (8674, 8708), (8829, 8849), (9020, 9025), (9035, 9041), (9229, 9285), (9622, 9626), (9750, 9779), (9830, 9856), (9888, 9893), (10022, 10154), (10157, 10508), (10538, 10610), (10714, 10757), (10766, 10785)]"
      ],
      "text/plain": [
       "<IPython.core.display.Markdown object>"
      ]
     },
     "metadata": {},
     "output_type": "display_data"
    },
    {
     "data": {
      "text/markdown": [
       "[(1, 12), (32, 66), (75, 111), (150, 220), (223, 265), (270, 333), (336, 382), (385, 468), (488, 514), (553, 557), (587, 614), (678, 778), (814, 839), (898, 906), (941, 1006), (1074, 1088), (1127, 1134), (1140, 1164), (1208, 1261), (1267, 1461), (1653, 1658), (1769, 1881), (1941, 2123), (2520, 2525), (2530, 2554), (2563, 2570), (2789, 2811), (3030, 3035), (3049, 3055), (3263, 3341), (3393, 3464), (3469, 3585), (3590, 3597), (3619, 3811), (3885, 3889), (3896, 3953), (4000, 4112), (4217, 4290), (4350, 4416), (4503, 4561), (4564, 4618), (5465, 5513), (5516, 5526), (5531, 5546), (5564, 5571), (5778, 5853), (5919, 5932), (6020, 6069), (6481, 6504), (6508, 6530), (6602, 6688), (6739, 6837), (6863, 6896), (6908, 6969), (6997, 7018), (7680, 7694), (7699, 7739), (7742, 7759), (7797, 7896), (7966, 8022), (8065, 8348), (8379, 8417), (8454, 8578), (8609, 8626), (8649, 8664), (8674, 8708), (8829, 8849), (9020, 9025), (9035, 9041), (9229, 9285), (9622, 9626), (9750, 9779), (9830, 9856), (9888, 9893), (10022, 10154), (10157, 10508), (10538, 10610), (10714, 10757), (10766, 10785)]"
      ],
      "text/plain": [
       "<IPython.core.display.Markdown object>"
      ]
     },
     "metadata": {},
     "output_type": "display_data"
    },
    {
     "data": {
      "text/markdown": [
       "[(1, 12), (32, 66), (75, 111), (150, 220), (223, 265), (270, 333), (336, 382), (385, 468), (488, 514), (553, 557), (587, 614), (678, 778), (814, 839), (898, 906), (941, 1006), (1074, 1088), (1127, 1134), (1140, 1164), (1208, 1261), (1267, 1461), (1653, 1658), (1769, 1881), (1941, 2123), (2520, 2525), (2530, 2554), (2563, 2570), (2789, 2811), (3030, 3035), (3049, 3055), (3263, 3341), (3393, 3464), (3469, 3585), (3590, 3597), (3619, 3811), (3885, 3889), (3896, 3953), (4000, 4112), (4217, 4290), (4350, 4416), (4503, 4561), (4564, 4618), (5465, 5513), (5516, 5526), (5531, 5546), (5564, 5571), (5778, 5853), (5919, 5932), (6020, 6069), (6481, 6504), (6508, 6530), (6602, 6688), (6739, 6837), (6863, 6896), (6908, 6969), (6997, 7018), (7680, 7694), (7699, 7739), (7742, 7759), (7797, 7896), (7966, 8022), (8065, 8348), (8379, 8417), (8454, 8578), (8609, 8626), (8649, 8664), (8674, 8708), (8829, 8849), (9020, 9025), (9035, 9041), (9229, 9285), (9622, 9626), (9750, 9779), (9830, 9856), (9888, 9893), (10022, 10154), (10157, 10508), (10538, 10610), (10714, 10757), (10766, 10785)]"
      ],
      "text/plain": [
       "<IPython.core.display.Markdown object>"
      ]
     },
     "metadata": {},
     "output_type": "display_data"
    },
    {
     "data": {
      "text/markdown": [
       "[(1, 12), (32, 66), (75, 111), (150, 220), (223, 265), (270, 333), (336, 382), (385, 468), (488, 514), (553, 557), (587, 614), (678, 778), (814, 839), (898, 906), (941, 1006), (1074, 1088), (1127, 1134), (1140, 1164), (1208, 1261), (1267, 1461), (1653, 1658), (1769, 1881), (1941, 2123), (2520, 2525), (2530, 2554), (2563, 2570), (2789, 2811), (3030, 3035), (3049, 3055), (3263, 3341), (3393, 3464), (3469, 3585), (3590, 3597), (3619, 3811), (3885, 3889), (3896, 3953), (4000, 4112), (4217, 4290), (4350, 4416), (4503, 4561), (4564, 4618), (5465, 5513), (5516, 5526), (5531, 5546), (5564, 5571), (5778, 5853), (5919, 5932), (6020, 6069), (6481, 6504), (6508, 6530), (6602, 6688), (6739, 6837), (6863, 6896), (6908, 6969), (6997, 7018), (7680, 7694), (7699, 7739), (7742, 7759), (7797, 7896), (7966, 8022), (8065, 8348), (8379, 8417), (8454, 8578), (8609, 8626), (8649, 8664), (8674, 8708), (8829, 8849), (9020, 9025), (9035, 9041), (9229, 9285), (9622, 9626), (9750, 9779), (9830, 9856), (9888, 9893), (10022, 10154), (10157, 10508), (10538, 10610), (10714, 10757), (10766, 10785)]"
      ],
      "text/plain": [
       "<IPython.core.display.Markdown object>"
      ]
     },
     "metadata": {},
     "output_type": "display_data"
    },
    {
     "data": {
      "text/markdown": [
       "[(1, 12), (32, 66), (75, 111), (150, 220), (223, 265), (270, 333), (336, 382), (385, 468), (488, 514), (553, 557), (587, 614), (678, 778), (814, 839), (898, 906), (941, 1006), (1074, 1088), (1127, 1134), (1140, 1164), (1208, 1261), (1267, 1461), (1653, 1658), (1769, 1881), (1941, 2123), (2520, 2525), (2530, 2554), (2563, 2570), (2789, 2811), (3030, 3035), (3049, 3055), (3263, 3341), (3393, 3464), (3469, 3585), (3590, 3597), (3619, 3811), (3885, 3889), (3896, 3953), (4000, 4112), (4217, 4290), (4350, 4416), (4503, 4561), (4564, 4618), (5465, 5513), (5516, 5526), (5531, 5546), (5564, 5571), (5778, 5853), (5919, 5932), (6020, 6069), (6481, 6504), (6508, 6530), (6602, 6688), (6739, 6837), (6863, 6896), (6908, 6969), (6997, 7018), (7680, 7694), (7699, 7739), (7742, 7759), (7797, 7896), (7966, 8022), (8065, 8348), (8379, 8417), (8454, 8578), (8609, 8626), (8649, 8664), (8674, 8708), (8829, 8849), (9020, 9025), (9035, 9041), (9229, 9285), (9622, 9626), (9750, 9779), (9830, 9856), (9888, 9893), (10022, 10154), (10157, 10508), (10538, 10610), (10714, 10757), (10766, 10785)]"
      ],
      "text/plain": [
       "<IPython.core.display.Markdown object>"
      ]
     },
     "metadata": {},
     "output_type": "display_data"
    },
    {
     "data": {
      "text/markdown": [
       "[(1, 12), (32, 66), (75, 111), (150, 220), (223, 265), (270, 333), (336, 382), (385, 468), (488, 514), (553, 557), (587, 614), (678, 778), (814, 839), (898, 906), (941, 1006), (1074, 1088), (1127, 1134), (1140, 1164), (1208, 1261), (1267, 1461), (1653, 1658), (1769, 1881), (1941, 2123), (2520, 2525), (2530, 2554), (2563, 2570), (2789, 2811), (3030, 3035), (3049, 3055), (3263, 3341), (3393, 3464), (3469, 3585), (3590, 3597), (3619, 3811), (3885, 3889), (3896, 3953), (4000, 4112), (4217, 4290), (4350, 4416), (4503, 4561), (4564, 4618), (5465, 5513), (5516, 5526), (5531, 5546), (5564, 5571), (5778, 5853), (5919, 5932), (6020, 6069), (6481, 6504), (6508, 6530), (6602, 6688), (6739, 6837), (6863, 6896), (6908, 6969), (6997, 7018), (7680, 7694), (7699, 7739), (7742, 7759), (7797, 7896), (7966, 8022), (8065, 8348), (8379, 8417), (8454, 8578), (8609, 8626), (8649, 8664), (8674, 8708), (8829, 8849), (9020, 9025), (9035, 9041), (9229, 9285), (9622, 9626), (9750, 9779), (9830, 9856), (9888, 9893), (10022, 10154), (10157, 10508), (10538, 10610), (10714, 10757), (10766, 10785)]"
      ],
      "text/plain": [
       "<IPython.core.display.Markdown object>"
      ]
     },
     "metadata": {},
     "output_type": "display_data"
    },
    {
     "data": {
      "text/markdown": [
       "[(1, 12), (32, 66), (75, 111), (150, 220), (223, 265), (270, 333), (336, 382), (385, 468), (488, 514), (553, 557), (587, 614), (678, 778), (814, 839), (898, 906), (941, 1006), (1074, 1088), (1127, 1134), (1140, 1164), (1208, 1261), (1267, 1461), (1653, 1658), (1769, 1881), (1941, 2123), (2520, 2525), (2530, 2554), (2563, 2570), (2789, 2811), (3030, 3035), (3049, 3055), (3263, 3341), (3393, 3464), (3469, 3585), (3590, 3597), (3619, 3811), (3885, 3889), (3896, 3953), (4000, 4112), (4217, 4290), (4350, 4416), (4503, 4561), (4564, 4618), (5465, 5513), (5516, 5526), (5531, 5546), (5564, 5571), (5778, 5853), (5919, 5932), (6020, 6069), (6481, 6504), (6508, 6530), (6602, 6688), (6739, 6837), (6863, 6896), (6908, 6969), (6997, 7018), (7680, 7694), (7699, 7739), (7742, 7759), (7797, 7896), (7966, 8022), (8065, 8348), (8379, 8417), (8454, 8578), (8609, 8626), (8649, 8664), (8674, 8708), (8829, 8849), (9020, 9025), (9035, 9041), (9229, 9285), (9622, 9626), (9750, 9779), (9830, 9856), (9888, 9893), (10022, 10154), (10157, 10508), (10538, 10610), (10714, 10757), (10766, 10785)]"
      ],
      "text/plain": [
       "<IPython.core.display.Markdown object>"
      ]
     },
     "metadata": {},
     "output_type": "display_data"
    },
    {
     "data": {
      "text/markdown": [
       "[(1, 12), (32, 66), (75, 111), (150, 220), (223, 265), (270, 333), (336, 382), (385, 468), (488, 514), (553, 557), (587, 614), (678, 778), (814, 839), (898, 906), (941, 1006), (1074, 1088), (1127, 1134), (1140, 1164), (1208, 1261), (1267, 1461), (1653, 1658), (1769, 1881), (1941, 2123), (2520, 2525), (2530, 2554), (2563, 2570), (2789, 2811), (3030, 3035), (3049, 3055), (3263, 3341), (3393, 3464), (3469, 3585), (3590, 3597), (3619, 3811), (3885, 3889), (3896, 3953), (4000, 4112), (4217, 4290), (4350, 4416), (4503, 4561), (4564, 4618), (5465, 5513), (5516, 5526), (5531, 5546), (5564, 5571), (5778, 5853), (5919, 5932), (6020, 6069), (6481, 6504), (6508, 6530), (6602, 6688), (6739, 6837), (6863, 6896), (6908, 6969), (6997, 7018), (7680, 7694), (7699, 7739), (7742, 7759), (7797, 7896), (7966, 8022), (8065, 8348), (8379, 8417), (8454, 8578), (8609, 8626), (8649, 8664), (8674, 8708), (8829, 8849), (9020, 9025), (9035, 9041), (9229, 9285), (9622, 9626), (9750, 9779), (9830, 9856), (9888, 9893), (10022, 10154), (10157, 10508), (10538, 10610), (10714, 10757), (10766, 10785)]"
      ],
      "text/plain": [
       "<IPython.core.display.Markdown object>"
      ]
     },
     "metadata": {},
     "output_type": "display_data"
    },
    {
     "data": {
      "text/markdown": [
       "[(1, 12), (32, 66), (75, 111), (150, 220), (223, 265), (270, 333), (336, 382), (385, 468), (488, 514), (553, 557), (587, 614), (678, 778), (814, 839), (898, 906), (941, 1006), (1074, 1088), (1127, 1134), (1140, 1164), (1208, 1261), (1267, 1461), (1653, 1658), (1769, 1881), (1941, 2123), (2520, 2525), (2530, 2554), (2563, 2570), (2789, 2811), (3030, 3035), (3049, 3055), (3263, 3341), (3393, 3464), (3469, 3585), (3590, 3597), (3619, 3811), (3885, 3889), (3896, 3953), (4000, 4112), (4217, 4290), (4350, 4416), (4503, 4561), (4564, 4618), (5465, 5513), (5516, 5526), (5531, 5546), (5564, 5571), (5778, 5853), (5919, 5932), (6020, 6069), (6481, 6504), (6508, 6530), (6602, 6688), (6739, 6837), (6863, 6896), (6908, 6969), (6997, 7018), (7680, 7694), (7699, 7739), (7742, 7759), (7797, 7896), (7966, 8022), (8065, 8348), (8379, 8417), (8454, 8578), (8609, 8626), (8649, 8664), (8674, 8708), (8829, 8849), (9020, 9025), (9035, 9041), (9229, 9285), (9622, 9626), (9750, 9779), (9830, 9856), (9888, 9893), (10022, 10154), (10157, 10508), (10538, 10610), (10714, 10757), (10766, 10785)]"
      ],
      "text/plain": [
       "<IPython.core.display.Markdown object>"
      ]
     },
     "metadata": {},
     "output_type": "display_data"
    },
    {
     "data": {
      "text/markdown": [
       "[(1, 12), (32, 66), (75, 111), (150, 220), (223, 265), (270, 333), (336, 382), (385, 468), (488, 514), (553, 557), (587, 614), (678, 778), (814, 839), (898, 906), (941, 1006), (1074, 1088), (1127, 1134), (1140, 1164), (1208, 1261), (1267, 1461), (1653, 1658), (1769, 1881), (1941, 2123), (2520, 2525), (2530, 2554), (2563, 2570), (2789, 2811), (3030, 3035), (3049, 3055), (3263, 3341), (3393, 3464), (3469, 3585), (3590, 3597), (3619, 3811), (3885, 3889), (3896, 3953), (4000, 4112), (4217, 4290), (4350, 4416), (4503, 4561), (4564, 4618), (5465, 5513), (5516, 5526), (5531, 5546), (5564, 5571), (5778, 5853), (5919, 5932), (6020, 6069), (6481, 6504), (6508, 6530), (6602, 6688), (6739, 6837), (6863, 6896), (6908, 6969), (6997, 7018), (7680, 7694), (7699, 7739), (7742, 7759), (7797, 7896), (7966, 8022), (8065, 8348), (8379, 8417), (8454, 8578), (8609, 8626), (8649, 8664), (8674, 8708), (8829, 8849), (9020, 9025), (9035, 9041), (9229, 9285), (9622, 9626), (9750, 9779), (9830, 9856), (9888, 9893), (10022, 10154), (10157, 10508), (10538, 10610), (10714, 10757), (10766, 10785)]"
      ],
      "text/plain": [
       "<IPython.core.display.Markdown object>"
      ]
     },
     "metadata": {},
     "output_type": "display_data"
    },
    {
     "data": {
      "text/markdown": [
       "[(1, 12), (32, 66), (75, 111), (150, 220), (223, 265), (270, 333), (336, 382), (385, 468), (488, 514), (553, 557), (587, 614), (678, 778), (814, 839), (898, 906), (941, 1006), (1074, 1088), (1127, 1134), (1140, 1164), (1208, 1261), (1267, 1461), (1653, 1658), (1769, 1881), (1941, 2123), (2520, 2525), (2530, 2554), (2563, 2570), (2789, 2811), (3030, 3035), (3049, 3055), (3263, 3341), (3393, 3464), (3469, 3585), (3590, 3597), (3619, 3811), (3885, 3889), (3896, 3953), (4000, 4112), (4217, 4290), (4350, 4416), (4503, 4561), (4564, 4618), (5465, 5513), (5516, 5526), (5531, 5546), (5564, 5571), (5778, 5853), (5919, 5932), (6020, 6069), (6481, 6504), (6508, 6530), (6602, 6688), (6739, 6837), (6863, 6896), (6908, 6969), (6997, 7018), (7680, 7694), (7699, 7739), (7742, 7759), (7797, 7896), (7966, 8022), (8065, 8348), (8379, 8417), (8454, 8578), (8609, 8626), (8649, 8664), (8674, 8708), (8829, 8849), (9020, 9025), (9035, 9041), (9229, 9285), (9622, 9626), (9750, 9779), (9830, 9856), (9888, 9893), (10022, 10154), (10157, 10508), (10538, 10610), (10714, 10757), (10766, 10785)]"
      ],
      "text/plain": [
       "<IPython.core.display.Markdown object>"
      ]
     },
     "metadata": {},
     "output_type": "display_data"
    },
    {
     "data": {
      "text/markdown": [
       "[(1, 12), (32, 66), (75, 111), (150, 220), (223, 265), (270, 333), (336, 382), (385, 468), (488, 514), (553, 557), (587, 614), (678, 778), (814, 839), (898, 906), (941, 1006), (1074, 1088), (1127, 1134), (1140, 1164), (1208, 1261), (1267, 1461), (1653, 1658), (1769, 1881), (1941, 2123), (2520, 2525), (2530, 2554), (2563, 2570), (2789, 2811), (3030, 3035), (3049, 3055), (3263, 3341), (3393, 3464), (3469, 3585), (3590, 3597), (3619, 3811), (3885, 3889), (3896, 3953), (4000, 4112), (4217, 4290), (4350, 4416), (4503, 4561), (4564, 4618), (5465, 5513), (5516, 5526), (5531, 5546), (5564, 5571), (5778, 5853), (5919, 5932), (6020, 6069), (6481, 6504), (6508, 6530), (6602, 6688), (6739, 6837), (6863, 6896), (6908, 6969), (6997, 7018), (7680, 7694), (7699, 7739), (7742, 7759), (7797, 7896), (7966, 8022), (8065, 8348), (8379, 8417), (8454, 8578), (8609, 8626), (8649, 8664), (8674, 8708), (8829, 8849), (9020, 9025), (9035, 9041), (9229, 9285), (9622, 9626), (9750, 9779), (9830, 9856), (9888, 9893), (10022, 10154), (10157, 10508), (10538, 10610), (10714, 10757), (10766, 10785)]"
      ],
      "text/plain": [
       "<IPython.core.display.Markdown object>"
      ]
     },
     "metadata": {},
     "output_type": "display_data"
    },
    {
     "data": {
      "text/markdown": [
       "[(1, 12), (32, 66), (75, 111), (150, 220), (223, 265), (270, 333), (336, 382), (385, 468), (488, 514), (553, 557), (587, 614), (678, 778), (814, 839), (898, 906), (941, 1006), (1074, 1088), (1127, 1134), (1140, 1164), (1208, 1261), (1267, 1461), (1653, 1658), (1769, 1881), (1941, 2123), (2520, 2525), (2530, 2554), (2563, 2570), (2789, 2811), (3030, 3035), (3049, 3055), (3263, 3341), (3393, 3464), (3469, 3585), (3590, 3597), (3619, 3811), (3885, 3889), (3896, 3953), (4000, 4112), (4217, 4290), (4350, 4416), (4503, 4561), (4564, 4618), (5465, 5513), (5516, 5526), (5531, 5546), (5564, 5571), (5778, 5853), (5919, 5932), (6020, 6069), (6481, 6504), (6508, 6530), (6602, 6688), (6739, 6837), (6863, 6896), (6908, 6969), (6997, 7018), (7680, 7694), (7699, 7739), (7742, 7759), (7797, 7896), (7966, 8022), (8065, 8348), (8379, 8417), (8454, 8578), (8609, 8626), (8649, 8664), (8674, 8708), (8829, 8849), (9020, 9025), (9035, 9041), (9229, 9285), (9622, 9626), (9750, 9779), (9830, 9856), (9888, 9893), (10022, 10154), (10157, 10508), (10538, 10610), (10714, 10757), (10766, 10785)]"
      ],
      "text/plain": [
       "<IPython.core.display.Markdown object>"
      ]
     },
     "metadata": {},
     "output_type": "display_data"
    },
    {
     "data": {
      "text/markdown": [
       "[(1, 12), (32, 66), (75, 111), (150, 220), (223, 265), (270, 333), (336, 382), (385, 468), (488, 514), (553, 557), (587, 614), (678, 778), (814, 839), (898, 906), (941, 1006), (1074, 1088), (1127, 1134), (1140, 1164), (1208, 1261), (1267, 1461), (1653, 1658), (1769, 1881), (1941, 2123), (2520, 2525), (2530, 2554), (2563, 2570), (2789, 2811), (3030, 3035), (3049, 3055), (3263, 3341), (3393, 3464), (3469, 3585), (3590, 3597), (3619, 3811), (3885, 3889), (3896, 3953), (4000, 4112), (4217, 4290), (4350, 4416), (4503, 4561), (4564, 4618), (5465, 5513), (5516, 5526), (5531, 5546), (5564, 5571), (5778, 5853), (5919, 5932), (6020, 6069), (6481, 6504), (6508, 6530), (6602, 6688), (6739, 6837), (6863, 6896), (6908, 6969), (6997, 7018), (7680, 7694), (7699, 7739), (7742, 7759), (7797, 7896), (7966, 8022), (8065, 8348), (8379, 8417), (8454, 8578), (8609, 8626), (8649, 8664), (8674, 8708), (8829, 8849), (9020, 9025), (9035, 9041), (9229, 9285), (9622, 9626), (9750, 9779), (9830, 9856), (9888, 9893), (10022, 10154), (10157, 10508), (10538, 10610), (10714, 10757), (10766, 10785)]"
      ],
      "text/plain": [
       "<IPython.core.display.Markdown object>"
      ]
     },
     "metadata": {},
     "output_type": "display_data"
    },
    {
     "data": {
      "text/markdown": [
       "[(1, 12), (32, 66), (75, 111), (150, 220), (223, 265), (270, 333), (336, 382), (385, 468), (488, 514), (553, 557), (587, 614), (678, 778), (814, 839), (898, 906), (941, 1006), (1074, 1088), (1127, 1134), (1140, 1164), (1208, 1261), (1267, 1461), (1653, 1658), (1769, 1881), (1941, 2123), (2520, 2525), (2530, 2554), (2563, 2570), (2789, 2811), (3030, 3035), (3049, 3055), (3263, 3341), (3393, 3464), (3469, 3585), (3590, 3597), (3619, 3811), (3885, 3889), (3896, 3953), (4000, 4112), (4217, 4290), (4350, 4416), (4503, 4561), (4564, 4618), (5465, 5513), (5516, 5526), (5531, 5546), (5564, 5571), (5778, 5853), (5919, 5932), (6020, 6069), (6481, 6504), (6508, 6530), (6602, 6688), (6739, 6837), (6863, 6896), (6908, 6969), (6997, 7018), (7680, 7694), (7699, 7739), (7742, 7759), (7797, 7896), (7966, 8022), (8065, 8348), (8379, 8417), (8454, 8578), (8609, 8626), (8649, 8664), (8674, 8708), (8829, 8849), (9020, 9025), (9035, 9041), (9229, 9285), (9622, 9626), (9750, 9779), (9830, 9856), (9888, 9893), (10022, 10154), (10157, 10508), (10538, 10610), (10714, 10757), (10766, 10785)]"
      ],
      "text/plain": [
       "<IPython.core.display.Markdown object>"
      ]
     },
     "metadata": {},
     "output_type": "display_data"
    },
    {
     "data": {
      "text/markdown": [
       "[(1, 12), (32, 66), (75, 111), (150, 220), (223, 265), (270, 333), (336, 382), (385, 468), (488, 514), (553, 557), (587, 614), (678, 778), (814, 839), (898, 906), (941, 1006), (1074, 1088), (1127, 1134), (1140, 1164), (1208, 1261), (1267, 1461), (1653, 1658), (1769, 1881), (1941, 2123), (2520, 2525), (2530, 2554), (2563, 2570), (2789, 2811), (3030, 3035), (3049, 3055), (3263, 3341), (3393, 3464), (3469, 3585), (3590, 3597), (3619, 3811), (3885, 3889), (3896, 3953), (4000, 4112), (4217, 4290), (4350, 4416), (4503, 4561), (4564, 4618), (5465, 5513), (5516, 5526), (5531, 5546), (5564, 5571), (5778, 5853), (5919, 5932), (6020, 6069), (6481, 6504), (6508, 6530), (6602, 6688), (6739, 6837), (6863, 6896), (6908, 6969), (6997, 7018), (7680, 7694), (7699, 7739), (7742, 7759), (7797, 7896), (7966, 8022), (8065, 8348), (8379, 8417), (8454, 8578), (8609, 8626), (8649, 8664), (8674, 8708), (8829, 8849), (9020, 9025), (9035, 9041), (9229, 9285), (9622, 9626), (9750, 9779), (9830, 9856), (9888, 9893), (10022, 10154), (10157, 10508), (10538, 10610), (10714, 10757), (10766, 10785)]"
      ],
      "text/plain": [
       "<IPython.core.display.Markdown object>"
      ]
     },
     "metadata": {},
     "output_type": "display_data"
    },
    {
     "data": {
      "text/markdown": [
       "[(1, 12), (32, 66), (75, 111), (150, 220), (223, 265), (270, 333), (336, 382), (385, 468), (488, 514), (553, 557), (587, 614), (678, 778), (814, 839), (898, 906), (941, 1006), (1074, 1088), (1127, 1134), (1140, 1164), (1208, 1261), (1267, 1461), (1653, 1658), (1769, 1881), (1941, 2123), (2520, 2525), (2530, 2554), (2563, 2570), (2789, 2811), (3030, 3035), (3049, 3055), (3263, 3341), (3393, 3464), (3469, 3585), (3590, 3597), (3619, 3811), (3885, 3889), (3896, 3953), (4000, 4112), (4217, 4290), (4350, 4416), (4503, 4561), (4564, 4618), (5465, 5513), (5516, 5526), (5531, 5546), (5564, 5571), (5778, 5853), (5919, 5932), (6020, 6069), (6481, 6504), (6508, 6530), (6602, 6688), (6739, 6837), (6863, 6896), (6908, 6969), (6997, 7018), (7680, 7694), (7699, 7739), (7742, 7759), (7797, 7896), (7966, 8022), (8065, 8348), (8379, 8417), (8454, 8578), (8609, 8626), (8649, 8664), (8674, 8708), (8829, 8849), (9020, 9025), (9035, 9041), (9229, 9285), (9622, 9626), (9750, 9779), (9830, 9856), (9888, 9893), (10022, 10154), (10157, 10508), (10538, 10610), (10714, 10757), (10766, 10785)]"
      ],
      "text/plain": [
       "<IPython.core.display.Markdown object>"
      ]
     },
     "metadata": {},
     "output_type": "display_data"
    },
    {
     "data": {
      "text/markdown": [
       "[(1, 12), (32, 66), (75, 111), (150, 220), (223, 265), (270, 333), (336, 382), (385, 468), (488, 514), (553, 557), (587, 614), (678, 778), (814, 839), (898, 906), (941, 1006), (1074, 1088), (1127, 1134), (1140, 1164), (1208, 1261), (1267, 1461), (1653, 1658), (1769, 1881), (1941, 2123), (2520, 2525), (2530, 2554), (2563, 2570), (2789, 2811), (3030, 3035), (3049, 3055), (3263, 3341), (3393, 3464), (3469, 3585), (3590, 3597), (3619, 3811), (3885, 3889), (3896, 3953), (4000, 4112), (4217, 4290), (4350, 4416), (4503, 4561), (4564, 4618), (5465, 5513), (5516, 5526), (5531, 5546), (5564, 5571), (5778, 5853), (5919, 5932), (6020, 6069), (6481, 6504), (6508, 6530), (6602, 6688), (6739, 6837), (6863, 6896), (6908, 6969), (6997, 7018), (7680, 7694), (7699, 7739), (7742, 7759), (7797, 7896), (7966, 8022), (8065, 8348), (8379, 8417), (8454, 8578), (8609, 8626), (8649, 8664), (8674, 8708), (8829, 8849), (9020, 9025), (9035, 9041), (9229, 9285), (9622, 9626), (9750, 9779), (9830, 9856), (9888, 9893), (10022, 10154), (10157, 10508), (10538, 10610), (10714, 10757), (10766, 10785)]"
      ],
      "text/plain": [
       "<IPython.core.display.Markdown object>"
      ]
     },
     "metadata": {},
     "output_type": "display_data"
    },
    {
     "data": {
      "text/markdown": [
       "[(1, 12), (32, 66), (75, 111), (150, 220), (223, 265), (270, 333), (336, 382), (385, 468), (488, 514), (553, 557), (587, 614), (678, 778), (814, 839), (898, 906), (941, 1006), (1074, 1088), (1127, 1134), (1140, 1164), (1208, 1261), (1267, 1461), (1653, 1658), (1769, 1881), (1941, 2123), (2520, 2525), (2530, 2554), (2563, 2570), (2789, 2811), (3030, 3035), (3049, 3055), (3263, 3341), (3393, 3464), (3469, 3585), (3590, 3597), (3619, 3811), (3885, 3889), (3896, 3953), (4000, 4112), (4217, 4290), (4350, 4416), (4503, 4561), (4564, 4618), (5465, 5513), (5516, 5526), (5531, 5546), (5564, 5571), (5778, 5853), (5919, 5932), (6020, 6069), (6481, 6504), (6508, 6530), (6602, 6688), (6739, 6837), (6863, 6896), (6908, 6969), (6997, 7018), (7680, 7694), (7699, 7739), (7742, 7759), (7797, 7896), (7966, 8022), (8065, 8348), (8379, 8417), (8454, 8578), (8609, 8626), (8649, 8664), (8674, 8708), (8829, 8849), (9020, 9025), (9035, 9041), (9229, 9285), (9622, 9626), (9750, 9779), (9830, 9856), (9888, 9893), (10022, 10154), (10157, 10508), (10538, 10610), (10714, 10757), (10766, 10785)]"
      ],
      "text/plain": [
       "<IPython.core.display.Markdown object>"
      ]
     },
     "metadata": {},
     "output_type": "display_data"
    },
    {
     "data": {
      "text/markdown": [
       "[(1, 12), (32, 66), (75, 111), (150, 220), (223, 265), (270, 333), (336, 382), (385, 468), (488, 514), (553, 557), (587, 614), (678, 778), (814, 839), (898, 906), (941, 1006), (1074, 1088), (1127, 1134), (1140, 1164), (1208, 1261), (1267, 1461), (1653, 1658), (1769, 1881), (1941, 2123), (2520, 2525), (2530, 2554), (2563, 2570), (2789, 2811), (3030, 3035), (3049, 3055), (3263, 3341), (3393, 3464), (3469, 3585), (3590, 3597), (3619, 3811), (3885, 3889), (3896, 3953), (4000, 4112), (4217, 4290), (4350, 4416), (4503, 4561), (4564, 4618), (5465, 5513), (5516, 5526), (5531, 5546), (5564, 5571), (5778, 5853), (5919, 5932), (6020, 6069), (6481, 6504), (6508, 6530), (6602, 6688), (6739, 6837), (6863, 6896), (6908, 6969), (6997, 7018), (7680, 7694), (7699, 7739), (7742, 7759), (7797, 7896), (7966, 8022), (8065, 8348), (8379, 8417), (8454, 8578), (8609, 8626), (8649, 8664), (8674, 8708), (8829, 8849), (9020, 9025), (9035, 9041), (9229, 9285), (9622, 9626), (9750, 9779), (9830, 9856), (9888, 9893), (10022, 10154), (10157, 10508), (10538, 10610), (10714, 10757), (10766, 10785)]"
      ],
      "text/plain": [
       "<IPython.core.display.Markdown object>"
      ]
     },
     "metadata": {},
     "output_type": "display_data"
    },
    {
     "data": {
      "text/markdown": [
       "[(1, 12), (32, 66), (75, 111), (150, 220), (223, 265), (270, 333), (336, 382), (385, 468), (488, 514), (553, 557), (587, 614), (678, 778), (814, 839), (898, 906), (941, 1006), (1074, 1088), (1127, 1134), (1140, 1164), (1208, 1261), (1267, 1461), (1653, 1658), (1769, 1881), (1941, 2123), (2520, 2525), (2530, 2554), (2563, 2570), (2789, 2811), (3030, 3035), (3049, 3055), (3263, 3341), (3393, 3464), (3469, 3585), (3590, 3597), (3619, 3811), (3885, 3889), (3896, 3953), (4000, 4112), (4217, 4290), (4350, 4416), (4503, 4561), (4564, 4618), (5465, 5513), (5516, 5526), (5531, 5546), (5564, 5571), (5778, 5853), (5919, 5932), (6020, 6069), (6481, 6504), (6508, 6530), (6602, 6688), (6739, 6837), (6863, 6896), (6908, 6969), (6997, 7018), (7680, 7694), (7699, 7739), (7742, 7759), (7797, 7896), (7966, 8022), (8065, 8348), (8379, 8417), (8454, 8578), (8609, 8626), (8649, 8664), (8674, 8708), (8829, 8849), (9020, 9025), (9035, 9041), (9229, 9285), (9622, 9626), (9750, 9779), (9830, 9856), (9888, 9893), (10022, 10154), (10157, 10508), (10538, 10610), (10714, 10757), (10766, 10785)]"
      ],
      "text/plain": [
       "<IPython.core.display.Markdown object>"
      ]
     },
     "metadata": {},
     "output_type": "display_data"
    },
    {
     "data": {
      "text/markdown": [
       "[(1, 12), (32, 66), (75, 111), (150, 220), (223, 265), (270, 333), (336, 382), (385, 468), (488, 514), (553, 557), (587, 614), (678, 778), (814, 839), (898, 906), (941, 1006), (1074, 1088), (1127, 1134), (1140, 1164), (1208, 1261), (1267, 1461), (1653, 1658), (1769, 1881), (1941, 2123), (2520, 2525), (2530, 2554), (2563, 2570), (2789, 2811), (3030, 3035), (3049, 3055), (3263, 3341), (3393, 3464), (3469, 3585), (3590, 3597), (3619, 3811), (3885, 3889), (3896, 3953), (4000, 4112), (4217, 4290), (4350, 4416), (4503, 4561), (4564, 4618), (5465, 5513), (5516, 5526), (5531, 5546), (5564, 5571), (5778, 5853), (5919, 5932), (6020, 6069), (6481, 6504), (6508, 6530), (6602, 6688), (6739, 6837), (6863, 6896), (6908, 6969), (6997, 7018), (7680, 7694), (7699, 7739), (7742, 7759), (7797, 7896), (7966, 8022), (8065, 8348), (8379, 8417), (8454, 8578), (8609, 8626), (8649, 8664), (8674, 8708), (8829, 8849), (9020, 9025), (9035, 9041), (9229, 9285), (9622, 9626), (9750, 9779), (9830, 9856), (9888, 9893), (10022, 10154), (10157, 10508), (10538, 10610), (10714, 10757), (10766, 10785)]"
      ],
      "text/plain": [
       "<IPython.core.display.Markdown object>"
      ]
     },
     "metadata": {},
     "output_type": "display_data"
    },
    {
     "data": {
      "text/markdown": [
       "[(1, 12), (32, 66), (75, 111), (150, 220), (223, 265), (270, 333), (336, 382), (385, 468), (488, 514), (553, 557), (587, 614), (678, 778), (814, 839), (898, 906), (941, 1006), (1074, 1088), (1127, 1134), (1140, 1164), (1208, 1261), (1267, 1461), (1653, 1658), (1769, 1881), (1941, 2123), (2520, 2525), (2530, 2554), (2563, 2570), (2789, 2811), (3030, 3035), (3049, 3055), (3263, 3341), (3393, 3464), (3469, 3585), (3590, 3597), (3619, 3811), (3885, 3889), (3896, 3953), (4000, 4112), (4217, 4290), (4350, 4416), (4503, 4561), (4564, 4618), (5465, 5513), (5516, 5526), (5531, 5546), (5564, 5571), (5778, 5853), (5919, 5932), (6020, 6069), (6481, 6504), (6508, 6530), (6602, 6688), (6739, 6837), (6863, 6896), (6908, 6969), (6997, 7018), (7680, 7694), (7699, 7739), (7742, 7759), (7797, 7896), (7966, 8022), (8065, 8348), (8379, 8417), (8454, 8578), (8609, 8626), (8649, 8664), (8674, 8708), (8829, 8849), (9020, 9025), (9035, 9041), (9229, 9285), (9622, 9626), (9750, 9779), (9830, 9856), (9888, 9893), (10022, 10154), (10157, 10508), (10538, 10610), (10714, 10757), (10766, 10785)]"
      ],
      "text/plain": [
       "<IPython.core.display.Markdown object>"
      ]
     },
     "metadata": {},
     "output_type": "display_data"
    },
    {
     "data": {
      "text/markdown": [
       "[(1, 12), (32, 66), (75, 111), (150, 220), (223, 265), (270, 333), (336, 382), (385, 468), (488, 514), (553, 557), (587, 614), (678, 778), (814, 839), (898, 906), (941, 1006), (1074, 1088), (1127, 1134), (1140, 1164), (1208, 1261), (1267, 1461), (1653, 1658), (1769, 1881), (1941, 2123), (2520, 2525), (2530, 2554), (2563, 2570), (2789, 2811), (3030, 3035), (3049, 3055), (3263, 3341), (3393, 3464), (3469, 3585), (3590, 3597), (3619, 3811), (3885, 3889), (3896, 3953), (4000, 4112), (4217, 4290), (4350, 4416), (4503, 4561), (4564, 4618), (5465, 5513), (5516, 5526), (5531, 5546), (5564, 5571), (5778, 5853), (5919, 5932), (6020, 6069), (6481, 6504), (6508, 6530), (6602, 6688), (6739, 6837), (6863, 6896), (6908, 6969), (6997, 7018), (7680, 7694), (7699, 7739), (7742, 7759), (7797, 7896), (7966, 8022), (8065, 8348), (8379, 8417), (8454, 8578), (8609, 8626), (8649, 8664), (8674, 8708), (8829, 8849), (9020, 9025), (9035, 9041), (9229, 9285), (9622, 9626), (9750, 9779), (9830, 9856), (9888, 9893), (10022, 10154), (10157, 10508), (10538, 10610), (10714, 10757), (10766, 10785)]"
      ],
      "text/plain": [
       "<IPython.core.display.Markdown object>"
      ]
     },
     "metadata": {},
     "output_type": "display_data"
    },
    {
     "data": {
      "text/markdown": [
       "[(1, 12), (32, 66), (75, 111), (150, 220), (223, 265), (270, 333), (336, 382), (385, 468), (488, 514), (553, 557), (587, 614), (678, 778), (814, 839), (898, 906), (941, 1006), (1074, 1088), (1127, 1134), (1140, 1164), (1208, 1261), (1267, 1461), (1653, 1658), (1769, 1881), (1941, 2123), (2520, 2525), (2530, 2554), (2563, 2570), (2789, 2811), (3030, 3035), (3049, 3055), (3263, 3341), (3393, 3464), (3469, 3585), (3590, 3597), (3619, 3811), (3885, 3889), (3896, 3953), (4000, 4112), (4217, 4290), (4350, 4416), (4503, 4561), (4564, 4618), (5465, 5513), (5516, 5526), (5531, 5546), (5564, 5571), (5778, 5853), (5919, 5932), (6020, 6069), (6481, 6504), (6508, 6530), (6602, 6688), (6739, 6837), (6863, 6896), (6908, 6969), (6997, 7018), (7680, 7694), (7699, 7739), (7742, 7759), (7797, 7896), (7966, 8022), (8065, 8348), (8379, 8417), (8454, 8578), (8609, 8626), (8649, 8664), (8674, 8708), (8829, 8849), (9020, 9025), (9035, 9041), (9229, 9285), (9622, 9626), (9750, 9779), (9830, 9856), (9888, 9893), (10022, 10154), (10157, 10508), (10538, 10610), (10714, 10757), (10766, 10785)]"
      ],
      "text/plain": [
       "<IPython.core.display.Markdown object>"
      ]
     },
     "metadata": {},
     "output_type": "display_data"
    },
    {
     "data": {
      "text/markdown": [
       "[(1, 12), (32, 66), (75, 111), (150, 220), (223, 265), (270, 333), (336, 382), (385, 468), (488, 514), (553, 557), (587, 614), (678, 778), (814, 839), (898, 906), (941, 1006), (1074, 1088), (1127, 1134), (1140, 1164), (1208, 1261), (1267, 1461), (1653, 1658), (1769, 1881), (1941, 2123), (2520, 2525), (2530, 2554), (2563, 2570), (2789, 2811), (3030, 3035), (3049, 3055), (3263, 3341), (3393, 3464), (3469, 3585), (3590, 3597), (3619, 3811), (3885, 3889), (3896, 3953), (4000, 4112), (4217, 4290), (4350, 4416), (4503, 4561), (4564, 4618), (5465, 5513), (5516, 5526), (5531, 5546), (5564, 5571), (5778, 5853), (5919, 5932), (6020, 6069), (6481, 6504), (6508, 6530), (6602, 6688), (6739, 6837), (6863, 6896), (6908, 6969), (6997, 7018), (7680, 7694), (7699, 7739), (7742, 7759), (7797, 7896), (7966, 8022), (8065, 8348), (8379, 8417), (8454, 8578), (8609, 8626), (8649, 8664), (8674, 8708), (8829, 8849), (9020, 9025), (9035, 9041), (9229, 9285), (9622, 9626), (9750, 9779), (9830, 9856), (9888, 9893), (10022, 10154), (10157, 10508), (10538, 10610), (10714, 10757), (10766, 10785)]"
      ],
      "text/plain": [
       "<IPython.core.display.Markdown object>"
      ]
     },
     "metadata": {},
     "output_type": "display_data"
    },
    {
     "data": {
      "text/markdown": [
       "[(1, 12), (32, 66), (75, 111), (150, 220), (223, 265), (270, 333), (336, 382), (385, 468), (488, 514), (553, 557), (587, 614), (678, 778), (814, 839), (898, 906), (941, 1006), (1074, 1088), (1127, 1134), (1140, 1164), (1208, 1261), (1267, 1461), (1653, 1658), (1769, 1881), (1941, 2123), (2520, 2525), (2530, 2554), (2563, 2570), (2789, 2811), (3030, 3035), (3049, 3055), (3263, 3341), (3393, 3464), (3469, 3585), (3590, 3597), (3619, 3811), (3885, 3889), (3896, 3953), (4000, 4112), (4217, 4290), (4350, 4416), (4503, 4561), (4564, 4618), (5465, 5513), (5516, 5526), (5531, 5546), (5564, 5571), (5778, 5853), (5919, 5932), (6020, 6069), (6481, 6504), (6508, 6530), (6602, 6688), (6739, 6837), (6863, 6896), (6908, 6969), (6997, 7018), (7680, 7694), (7699, 7739), (7742, 7759), (7797, 7896), (7966, 8022), (8065, 8348), (8379, 8417), (8454, 8578), (8609, 8626), (8649, 8664), (8674, 8708), (8829, 8849), (9020, 9025), (9035, 9041), (9229, 9285), (9622, 9626), (9750, 9779), (9830, 9856), (9888, 9893), (10022, 10154), (10157, 10508), (10538, 10610), (10714, 10757), (10766, 10785)]"
      ],
      "text/plain": [
       "<IPython.core.display.Markdown object>"
      ]
     },
     "metadata": {},
     "output_type": "display_data"
    },
    {
     "data": {
      "text/markdown": [
       "[(1, 12), (32, 66), (75, 111), (150, 220), (223, 265), (270, 333), (336, 382), (385, 468), (488, 514), (553, 557), (587, 614), (678, 778), (814, 839), (898, 906), (941, 1006), (1074, 1088), (1127, 1134), (1140, 1164), (1208, 1261), (1267, 1461), (1653, 1658), (1769, 1881), (1941, 2123), (2520, 2525), (2530, 2554), (2563, 2570), (2789, 2811), (3030, 3035), (3049, 3055), (3263, 3341), (3393, 3464), (3469, 3585), (3590, 3597), (3619, 3811), (3885, 3889), (3896, 3953), (4000, 4112), (4217, 4290), (4350, 4416), (4503, 4561), (4564, 4618), (5465, 5513), (5516, 5526), (5531, 5546), (5564, 5571), (5778, 5853), (5919, 5932), (6020, 6069), (6481, 6504), (6508, 6530), (6602, 6688), (6739, 6837), (6863, 6896), (6908, 6969), (6997, 7018), (7680, 7694), (7699, 7739), (7742, 7759), (7797, 7896), (7966, 8022), (8065, 8348), (8379, 8417), (8454, 8578), (8609, 8626), (8649, 8664), (8674, 8708), (8829, 8849), (9020, 9025), (9035, 9041), (9229, 9285), (9622, 9626), (9750, 9779), (9830, 9856), (9888, 9893), (10022, 10154), (10157, 10508), (10538, 10610), (10714, 10757), (10766, 10785)]"
      ],
      "text/plain": [
       "<IPython.core.display.Markdown object>"
      ]
     },
     "metadata": {},
     "output_type": "display_data"
    },
    {
     "data": {
      "text/markdown": [
       "[(1, 12), (32, 66), (75, 111), (150, 220), (223, 265), (270, 333), (336, 382), (385, 468), (488, 514), (553, 557), (587, 614), (678, 778), (814, 839), (898, 906), (941, 1006), (1074, 1088), (1127, 1134), (1140, 1164), (1208, 1261), (1267, 1461), (1653, 1658), (1769, 1881), (1941, 2123), (2520, 2525), (2530, 2554), (2563, 2570), (2789, 2811), (3030, 3035), (3049, 3055), (3263, 3341), (3393, 3464), (3469, 3585), (3590, 3597), (3619, 3811), (3885, 3889), (3896, 3953), (4000, 4112), (4217, 4290), (4350, 4416), (4503, 4561), (4564, 4618), (5465, 5513), (5516, 5526), (5531, 5546), (5564, 5571), (5778, 5853), (5919, 5932), (6020, 6069), (6481, 6504), (6508, 6530), (6602, 6688), (6739, 6837), (6863, 6896), (6908, 6969), (6997, 7018), (7680, 7694), (7699, 7739), (7742, 7759), (7797, 7896), (7966, 8022), (8065, 8348), (8379, 8417), (8454, 8578), (8609, 8626), (8649, 8664), (8674, 8708), (8829, 8849), (9020, 9025), (9035, 9041), (9229, 9285), (9622, 9626), (9750, 9779), (9830, 9856), (9888, 9893), (10022, 10154), (10157, 10508), (10538, 10610), (10714, 10757), (10766, 10785)]"
      ],
      "text/plain": [
       "<IPython.core.display.Markdown object>"
      ]
     },
     "metadata": {},
     "output_type": "display_data"
    },
    {
     "data": {
      "text/markdown": [
       "[(1, 12), (32, 66), (75, 111), (150, 220), (223, 265), (270, 333), (336, 382), (385, 468), (488, 514), (553, 557), (587, 614), (678, 778), (814, 839), (898, 906), (941, 1006), (1074, 1088), (1127, 1134), (1140, 1164), (1208, 1261), (1267, 1461), (1653, 1658), (1769, 1881), (1941, 2123), (2520, 2525), (2530, 2554), (2563, 2570), (2789, 2811), (3030, 3035), (3049, 3055), (3263, 3341), (3393, 3464), (3469, 3585), (3590, 3597), (3619, 3811), (3885, 3889), (3896, 3953), (4000, 4112), (4217, 4290), (4350, 4416), (4503, 4561), (4564, 4618), (5465, 5513), (5516, 5526), (5531, 5546), (5564, 5571), (5778, 5853), (5919, 5932), (6020, 6069), (6481, 6504), (6508, 6530), (6602, 6688), (6739, 6837), (6863, 6896), (6908, 6969), (6997, 7018), (7680, 7694), (7699, 7739), (7742, 7759), (7797, 7896), (7966, 8022), (8065, 8348), (8379, 8417), (8454, 8578), (8609, 8626), (8649, 8664), (8674, 8708), (8829, 8849), (9020, 9025), (9035, 9041), (9229, 9285), (9622, 9626), (9750, 9779), (9830, 9856), (9888, 9893), (10022, 10154), (10157, 10508), (10538, 10610), (10714, 10757), (10766, 10785)]"
      ],
      "text/plain": [
       "<IPython.core.display.Markdown object>"
      ]
     },
     "metadata": {},
     "output_type": "display_data"
    },
    {
     "data": {
      "text/markdown": [
       "[(1, 12), (32, 66), (75, 111), (150, 220), (223, 265), (270, 333), (336, 382), (385, 468), (488, 514), (553, 557), (587, 614), (678, 778), (814, 839), (898, 906), (941, 1006), (1074, 1088), (1127, 1134), (1140, 1164), (1208, 1261), (1267, 1461), (1653, 1658), (1769, 1881), (1941, 2123), (2520, 2525), (2530, 2554), (2563, 2570), (2789, 2811), (3030, 3035), (3049, 3055), (3263, 3341), (3393, 3464), (3469, 3585), (3590, 3597), (3619, 3811), (3885, 3889), (3896, 3953), (4000, 4112), (4217, 4290), (4350, 4416), (4503, 4561), (4564, 4618), (5465, 5513), (5516, 5526), (5531, 5546), (5564, 5571), (5778, 5853), (5919, 5932), (6020, 6069), (6481, 6504), (6508, 6530), (6602, 6688), (6739, 6837), (6863, 6896), (6908, 6969), (6997, 7018), (7680, 7694), (7699, 7739), (7742, 7759), (7797, 7896), (7966, 8022), (8065, 8348), (8379, 8417), (8454, 8578), (8609, 8626), (8649, 8664), (8674, 8708), (8829, 8849), (9020, 9025), (9035, 9041), (9229, 9285), (9622, 9626), (9750, 9779), (9830, 9856), (9888, 9893), (10022, 10154), (10157, 10508), (10538, 10610), (10714, 10757), (10766, 10785)]"
      ],
      "text/plain": [
       "<IPython.core.display.Markdown object>"
      ]
     },
     "metadata": {},
     "output_type": "display_data"
    },
    {
     "data": {
      "text/markdown": [
       "[(1, 12), (32, 66), (75, 111), (150, 220), (223, 265), (270, 333), (336, 382), (385, 468), (488, 514), (553, 557), (587, 614), (678, 778), (814, 839), (898, 906), (941, 1006), (1074, 1088), (1127, 1134), (1140, 1164), (1208, 1261), (1267, 1461), (1653, 1658), (1769, 1881), (1941, 2123), (2520, 2525), (2530, 2554), (2563, 2570), (2789, 2811), (3030, 3035), (3049, 3055), (3263, 3341), (3393, 3464), (3469, 3585), (3590, 3597), (3619, 3811), (3885, 3889), (3896, 3953), (4000, 4112), (4217, 4290), (4350, 4416), (4503, 4561), (4564, 4618), (5465, 5513), (5516, 5526), (5531, 5546), (5564, 5571), (5778, 5853), (5919, 5932), (6020, 6069), (6481, 6504), (6508, 6530), (6602, 6688), (6739, 6837), (6863, 6896), (6908, 6969), (6997, 7018), (7680, 7694), (7699, 7739), (7742, 7759), (7797, 7896), (7966, 8022), (8065, 8348), (8379, 8417), (8454, 8578), (8609, 8626), (8649, 8664), (8674, 8708), (8829, 8849), (9020, 9025), (9035, 9041), (9229, 9285), (9622, 9626), (9750, 9779), (9830, 9856), (9888, 9893), (10022, 10154), (10157, 10508), (10538, 10610), (10714, 10757), (10766, 10785)]"
      ],
      "text/plain": [
       "<IPython.core.display.Markdown object>"
      ]
     },
     "metadata": {},
     "output_type": "display_data"
    },
    {
     "data": {
      "text/markdown": [
       "[(1, 12), (32, 66), (75, 111), (150, 220), (223, 265), (270, 333), (336, 382), (385, 468), (488, 514), (553, 557), (587, 614), (678, 778), (814, 839), (898, 906), (941, 1006), (1074, 1088), (1127, 1134), (1140, 1164), (1208, 1261), (1267, 1461), (1653, 1658), (1769, 1881), (1941, 2123), (2520, 2525), (2530, 2554), (2563, 2570), (2789, 2811), (3030, 3035), (3049, 3055), (3263, 3341), (3393, 3464), (3469, 3585), (3590, 3597), (3619, 3811), (3885, 3889), (3896, 3953), (4000, 4112), (4217, 4290), (4350, 4416), (4503, 4561), (4564, 4618), (5465, 5513), (5516, 5526), (5531, 5546), (5564, 5571), (5778, 5853), (5919, 5932), (6020, 6069), (6481, 6504), (6508, 6530), (6602, 6688), (6739, 6837), (6863, 6896), (6908, 6969), (6997, 7018), (7680, 7694), (7699, 7739), (7742, 7759), (7797, 7896), (7966, 8022), (8065, 8348), (8379, 8417), (8454, 8578), (8609, 8626), (8649, 8664), (8674, 8708), (8829, 8849), (9020, 9025), (9035, 9041), (9229, 9285), (9622, 9626), (9750, 9779), (9830, 9856), (9888, 9893), (10022, 10154), (10157, 10508), (10538, 10610), (10714, 10757), (10766, 10785)]"
      ],
      "text/plain": [
       "<IPython.core.display.Markdown object>"
      ]
     },
     "metadata": {},
     "output_type": "display_data"
    },
    {
     "data": {
      "text/markdown": [
       "[(1, 12), (32, 66), (75, 111), (150, 220), (223, 265), (270, 333), (336, 382), (385, 468), (488, 514), (553, 557), (587, 614), (678, 778), (814, 839), (898, 906), (941, 1006), (1074, 1088), (1127, 1134), (1140, 1164), (1208, 1261), (1267, 1461), (1653, 1658), (1769, 1881), (1941, 2123), (2520, 2525), (2530, 2554), (2563, 2570), (2789, 2811), (3030, 3035), (3049, 3055), (3263, 3341), (3393, 3464), (3469, 3585), (3590, 3597), (3619, 3811), (3885, 3889), (3896, 3953), (4000, 4112), (4217, 4290), (4350, 4416), (4503, 4561), (4564, 4618), (5465, 5513), (5516, 5526), (5531, 5546), (5564, 5571), (5778, 5853), (5919, 5932), (6020, 6069), (6481, 6504), (6508, 6530), (6602, 6688), (6739, 6837), (6863, 6896), (6908, 6969), (6997, 7018), (7680, 7694), (7699, 7739), (7742, 7759), (7797, 7896), (7966, 8022), (8065, 8348), (8379, 8417), (8454, 8578), (8609, 8626), (8649, 8664), (8674, 8708), (8829, 8849), (9020, 9025), (9035, 9041), (9229, 9285), (9622, 9626), (9750, 9779), (9830, 9856), (9888, 9893), (10022, 10154), (10157, 10508), (10538, 10610), (10714, 10757), (10766, 10785)]"
      ],
      "text/plain": [
       "<IPython.core.display.Markdown object>"
      ]
     },
     "metadata": {},
     "output_type": "display_data"
    },
    {
     "data": {
      "text/markdown": [
       "[(1, 12), (32, 66), (75, 111), (150, 220), (223, 265), (270, 333), (336, 382), (385, 468), (488, 514), (553, 557), (587, 614), (678, 778), (814, 839), (898, 906), (941, 1006), (1074, 1088), (1127, 1134), (1140, 1164), (1208, 1261), (1267, 1461), (1653, 1658), (1769, 1881), (1941, 2123), (2520, 2525), (2530, 2554), (2563, 2570), (2789, 2811), (3030, 3035), (3049, 3055), (3263, 3341), (3393, 3464), (3469, 3585), (3590, 3597), (3619, 3811), (3885, 3889), (3896, 3953), (4000, 4112), (4217, 4290), (4350, 4416), (4503, 4561), (4564, 4618), (5465, 5513), (5516, 5526), (5531, 5546), (5564, 5571), (5778, 5853), (5919, 5932), (6020, 6069), (6481, 6504), (6508, 6530), (6602, 6688), (6739, 6837), (6863, 6896), (6908, 6969), (6997, 7018), (7680, 7694), (7699, 7739), (7742, 7759), (7797, 7896), (7966, 8022), (8065, 8348), (8379, 8417), (8454, 8578), (8609, 8626), (8649, 8664), (8674, 8708), (8829, 8849), (9020, 9025), (9035, 9041), (9229, 9285), (9622, 9626), (9750, 9779), (9830, 9856), (9888, 9893), (10022, 10154), (10157, 10508), (10538, 10610), (10714, 10757), (10766, 10785)]"
      ],
      "text/plain": [
       "<IPython.core.display.Markdown object>"
      ]
     },
     "metadata": {},
     "output_type": "display_data"
    },
    {
     "data": {
      "text/markdown": [
       "[(1, 12), (32, 66), (75, 111), (150, 220), (223, 265), (270, 333), (336, 382), (385, 468), (488, 514), (553, 557), (587, 614), (678, 778), (814, 839), (898, 906), (941, 1006), (1074, 1088), (1127, 1134), (1140, 1164), (1208, 1261), (1267, 1461), (1653, 1658), (1769, 1881), (1941, 2123), (2520, 2525), (2530, 2554), (2563, 2570), (2789, 2811), (3030, 3035), (3049, 3055), (3263, 3341), (3393, 3464), (3469, 3585), (3590, 3597), (3619, 3811), (3885, 3889), (3896, 3953), (4000, 4112), (4217, 4290), (4350, 4416), (4503, 4561), (4564, 4618), (5465, 5513), (5516, 5526), (5531, 5546), (5564, 5571), (5778, 5853), (5919, 5932), (6020, 6069), (6481, 6504), (6508, 6530), (6602, 6688), (6739, 6837), (6863, 6896), (6908, 6969), (6997, 7018), (7680, 7694), (7699, 7739), (7742, 7759), (7797, 7896), (7966, 8022), (8065, 8348), (8379, 8417), (8454, 8578), (8609, 8626), (8649, 8664), (8674, 8708), (8829, 8849), (9020, 9025), (9035, 9041), (9229, 9285), (9622, 9626), (9750, 9779), (9830, 9856), (9888, 9893), (10022, 10154), (10157, 10508), (10538, 10610), (10714, 10757), (10766, 10785)]"
      ],
      "text/plain": [
       "<IPython.core.display.Markdown object>"
      ]
     },
     "metadata": {},
     "output_type": "display_data"
    },
    {
     "data": {
      "text/markdown": [
       "[(1, 12), (32, 66), (75, 111), (150, 220), (223, 265), (270, 333), (336, 382), (385, 468), (488, 514), (553, 557), (587, 614), (678, 778), (814, 839), (898, 906), (941, 1006), (1074, 1088), (1127, 1134), (1140, 1164), (1208, 1261), (1267, 1461), (1653, 1658), (1769, 1881), (1941, 2123), (2520, 2525), (2530, 2554), (2563, 2570), (2789, 2811), (3030, 3035), (3049, 3055), (3263, 3341), (3393, 3464), (3469, 3585), (3590, 3597), (3619, 3811), (3885, 3889), (3896, 3953), (4000, 4112), (4217, 4290), (4350, 4416), (4503, 4561), (4564, 4618), (5465, 5513), (5516, 5526), (5531, 5546), (5564, 5571), (5778, 5853), (5919, 5932), (6020, 6069), (6481, 6504), (6508, 6530), (6602, 6688), (6739, 6837), (6863, 6896), (6908, 6969), (6997, 7018), (7680, 7694), (7699, 7739), (7742, 7759), (7797, 7896), (7966, 8022), (8065, 8348), (8379, 8417), (8454, 8578), (8609, 8626), (8649, 8664), (8674, 8708), (8829, 8849), (9020, 9025), (9035, 9041), (9229, 9285), (9622, 9626), (9750, 9779), (9830, 9856), (9888, 9893), (10022, 10154), (10157, 10508), (10538, 10610), (10714, 10757), (10766, 10785)]"
      ],
      "text/plain": [
       "<IPython.core.display.Markdown object>"
      ]
     },
     "metadata": {},
     "output_type": "display_data"
    },
    {
     "data": {
      "text/markdown": [
       "[(1, 12), (32, 66), (75, 111), (150, 220), (223, 265), (270, 333), (336, 382), (385, 468), (488, 514), (553, 557), (587, 614), (678, 778), (814, 839), (898, 906), (941, 1006), (1074, 1088), (1127, 1134), (1140, 1164), (1208, 1261), (1267, 1461), (1653, 1658), (1769, 1881), (1941, 2123), (2520, 2525), (2530, 2554), (2563, 2570), (2789, 2811), (3030, 3035), (3049, 3055), (3263, 3341), (3393, 3464), (3469, 3585), (3590, 3597), (3619, 3811), (3885, 3889), (3896, 3953), (4000, 4112), (4217, 4290), (4350, 4416), (4503, 4561), (4564, 4618), (5465, 5513), (5516, 5526), (5531, 5546), (5564, 5571), (5778, 5853), (5919, 5932), (6020, 6069), (6481, 6504), (6508, 6530), (6602, 6688), (6739, 6837), (6863, 6896), (6908, 6969), (6997, 7018), (7680, 7694), (7699, 7739), (7742, 7759), (7797, 7896), (7966, 8022), (8065, 8348), (8379, 8417), (8454, 8578), (8609, 8626), (8649, 8664), (8674, 8708), (8829, 8849), (9020, 9025), (9035, 9041), (9229, 9285), (9622, 9626), (9750, 9779), (9830, 9856), (9888, 9893), (10022, 10154), (10157, 10508), (10538, 10610), (10714, 10757), (10766, 10785)]"
      ],
      "text/plain": [
       "<IPython.core.display.Markdown object>"
      ]
     },
     "metadata": {},
     "output_type": "display_data"
    },
    {
     "data": {
      "text/markdown": [
       "[(1, 12), (32, 66), (75, 111), (150, 220), (223, 265), (270, 333), (336, 382), (385, 468), (488, 514), (553, 557), (587, 614), (678, 778), (814, 839), (898, 906), (941, 1006), (1074, 1088), (1127, 1134), (1140, 1164), (1208, 1261), (1267, 1461), (1653, 1658), (1769, 1881), (1941, 2123), (2520, 2525), (2530, 2554), (2563, 2570), (2789, 2811), (3030, 3035), (3049, 3055), (3263, 3341), (3393, 3464), (3469, 3585), (3590, 3597), (3619, 3811), (3885, 3889), (3896, 3953), (4000, 4112), (4217, 4290), (4350, 4416), (4503, 4561), (4564, 4618), (5465, 5513), (5516, 5526), (5531, 5546), (5564, 5571), (5778, 5853), (5919, 5932), (6020, 6069), (6481, 6504), (6508, 6530), (6602, 6688), (6739, 6837), (6863, 6896), (6908, 6969), (6997, 7018), (7680, 7694), (7699, 7739), (7742, 7759), (7797, 7896), (7966, 8022), (8065, 8348), (8379, 8417), (8454, 8578), (8609, 8626), (8649, 8664), (8674, 8708), (8829, 8849), (9020, 9025), (9035, 9041), (9229, 9285), (9622, 9626), (9750, 9779), (9830, 9856), (9888, 9893), (10022, 10154), (10157, 10508), (10538, 10610), (10714, 10757), (10766, 10785)]"
      ],
      "text/plain": [
       "<IPython.core.display.Markdown object>"
      ]
     },
     "metadata": {},
     "output_type": "display_data"
    },
    {
     "data": {
      "text/markdown": [
       "[(1, 12), (32, 66), (75, 111), (150, 220), (223, 265), (270, 333), (336, 382), (385, 468), (488, 514), (553, 557), (587, 614), (678, 778), (814, 839), (898, 906), (941, 1006), (1074, 1088), (1127, 1134), (1140, 1164), (1208, 1261), (1267, 1461), (1653, 1658), (1769, 1881), (1941, 2123), (2520, 2525), (2530, 2554), (2563, 2570), (2789, 2811), (3030, 3035), (3049, 3055), (3263, 3341), (3393, 3464), (3469, 3585), (3590, 3597), (3619, 3811), (3885, 3889), (3896, 3953), (4000, 4112), (4217, 4290), (4350, 4416), (4503, 4561), (4564, 4618), (5465, 5513), (5516, 5526), (5531, 5546), (5564, 5571), (5778, 5853), (5919, 5932), (6020, 6069), (6481, 6504), (6508, 6530), (6602, 6688), (6739, 6837), (6863, 6896), (6908, 6969), (6997, 7018), (7680, 7694), (7699, 7739), (7742, 7759), (7797, 7896), (7966, 8022), (8065, 8348), (8379, 8417), (8454, 8578), (8609, 8626), (8649, 8664), (8674, 8708), (8829, 8849), (9020, 9025), (9035, 9041), (9229, 9285), (9622, 9626), (9750, 9779), (9830, 9856), (9888, 9893), (10022, 10154), (10157, 10508), (10538, 10610), (10714, 10757), (10766, 10785)]"
      ],
      "text/plain": [
       "<IPython.core.display.Markdown object>"
      ]
     },
     "metadata": {},
     "output_type": "display_data"
    },
    {
     "data": {
      "text/markdown": [
       "[(1, 12), (32, 66), (75, 111), (150, 220), (223, 265), (270, 333), (336, 382), (385, 468), (488, 514), (553, 557), (587, 614), (678, 778), (814, 839), (898, 906), (941, 1006), (1074, 1088), (1127, 1134), (1140, 1164), (1208, 1261), (1267, 1461), (1653, 1658), (1769, 1881), (1941, 2123), (2520, 2525), (2530, 2554), (2563, 2570), (2789, 2811), (3030, 3035), (3049, 3055), (3263, 3341), (3393, 3464), (3469, 3585), (3590, 3597), (3619, 3811), (3885, 3889), (3896, 3953), (4000, 4112), (4217, 4290), (4350, 4416), (4503, 4561), (4564, 4618), (5465, 5513), (5516, 5526), (5531, 5546), (5564, 5571), (5778, 5853), (5919, 5932), (6020, 6069), (6481, 6504), (6508, 6530), (6602, 6688), (6739, 6837), (6863, 6896), (6908, 6969), (6997, 7018), (7680, 7694), (7699, 7739), (7742, 7759), (7797, 7896), (7966, 8022), (8065, 8348), (8379, 8417), (8454, 8578), (8609, 8626), (8649, 8664), (8674, 8708), (8829, 8849), (9020, 9025), (9035, 9041), (9229, 9285), (9622, 9626), (9750, 9779), (9830, 9856), (9888, 9893), (10022, 10154), (10157, 10508), (10538, 10610), (10714, 10757), (10766, 10785)]"
      ],
      "text/plain": [
       "<IPython.core.display.Markdown object>"
      ]
     },
     "metadata": {},
     "output_type": "display_data"
    },
    {
     "data": {
      "text/markdown": [
       "[(1, 12), (32, 66), (75, 111), (150, 220), (223, 265), (270, 333), (336, 382), (385, 468), (488, 514), (553, 557), (587, 614), (678, 778), (814, 839), (898, 906), (941, 1006), (1074, 1088), (1127, 1134), (1140, 1164), (1208, 1261), (1267, 1461), (1653, 1658), (1769, 1881), (1941, 2123), (2520, 2525), (2530, 2554), (2563, 2570), (2789, 2811), (3030, 3035), (3049, 3055), (3263, 3341), (3393, 3464), (3469, 3585), (3590, 3597), (3619, 3811), (3885, 3889), (3896, 3953), (4000, 4112), (4217, 4290), (4350, 4416), (4503, 4561), (4564, 4618), (5465, 5513), (5516, 5526), (5531, 5546), (5564, 5571), (5778, 5853), (5919, 5932), (6020, 6069), (6481, 6504), (6508, 6530), (6602, 6688), (6739, 6837), (6863, 6896), (6908, 6969), (6997, 7018), (7680, 7694), (7699, 7739), (7742, 7759), (7797, 7896), (7966, 8022), (8065, 8348), (8379, 8417), (8454, 8578), (8609, 8626), (8649, 8664), (8674, 8708), (8829, 8849), (9020, 9025), (9035, 9041), (9229, 9285), (9622, 9626), (9750, 9779), (9830, 9856), (9888, 9893), (10022, 10154), (10157, 10508), (10538, 10610), (10714, 10757), (10766, 10785)]"
      ],
      "text/plain": [
       "<IPython.core.display.Markdown object>"
      ]
     },
     "metadata": {},
     "output_type": "display_data"
    },
    {
     "data": {
      "text/markdown": [
       "[(1, 12), (32, 66), (75, 111), (150, 220), (223, 265), (270, 333), (336, 382), (385, 468), (488, 514), (553, 557), (587, 614), (678, 778), (814, 839), (898, 906), (941, 1006), (1074, 1088), (1127, 1134), (1140, 1164), (1208, 1261), (1267, 1461), (1653, 1658), (1769, 1881), (1941, 2123), (2520, 2525), (2530, 2554), (2563, 2570), (2789, 2811), (3030, 3035), (3049, 3055), (3263, 3341), (3393, 3464), (3469, 3585), (3590, 3597), (3619, 3811), (3885, 3889), (3896, 3953), (4000, 4112), (4217, 4290), (4350, 4416), (4503, 4561), (4564, 4618), (5465, 5513), (5516, 5526), (5531, 5546), (5564, 5571), (5778, 5853), (5919, 5932), (6020, 6069), (6481, 6504), (6508, 6530), (6602, 6688), (6739, 6837), (6863, 6896), (6908, 6969), (6997, 7018), (7680, 7694), (7699, 7739), (7742, 7759), (7797, 7896), (7966, 8022), (8065, 8348), (8379, 8417), (8454, 8578), (8609, 8626), (8649, 8664), (8674, 8708), (8829, 8849), (9020, 9025), (9035, 9041), (9229, 9285), (9622, 9626), (9750, 9779), (9830, 9856), (9888, 9893), (10022, 10154), (10157, 10508), (10538, 10610), (10714, 10757), (10766, 10785)]"
      ],
      "text/plain": [
       "<IPython.core.display.Markdown object>"
      ]
     },
     "metadata": {},
     "output_type": "display_data"
    },
    {
     "data": {
      "text/markdown": [
       "[(1, 12), (32, 66), (75, 111), (150, 220), (223, 265), (270, 333), (336, 382), (385, 468), (488, 514), (553, 557), (587, 614), (678, 778), (814, 839), (898, 906), (941, 1006), (1074, 1088), (1127, 1134), (1140, 1164), (1208, 1261), (1267, 1461), (1653, 1658), (1769, 1881), (1941, 2123), (2520, 2525), (2530, 2554), (2563, 2570), (2789, 2811), (3030, 3035), (3049, 3055), (3263, 3341), (3393, 3464), (3469, 3585), (3590, 3597), (3619, 3811), (3885, 3889), (3896, 3953), (4000, 4112), (4217, 4290), (4350, 4416), (4503, 4561), (4564, 4618), (5465, 5513), (5516, 5526), (5531, 5546), (5564, 5571), (5778, 5853), (5919, 5932), (6020, 6069), (6481, 6504), (6508, 6530), (6602, 6688), (6739, 6837), (6863, 6896), (6908, 6969), (6997, 7018), (7680, 7694), (7699, 7739), (7742, 7759), (7797, 7896), (7966, 8022), (8065, 8348), (8379, 8417), (8454, 8578), (8609, 8626), (8649, 8664), (8674, 8708), (8829, 8849), (9020, 9025), (9035, 9041), (9229, 9285), (9622, 9626), (9750, 9779), (9830, 9856), (9888, 9893), (10022, 10154), (10157, 10508), (10538, 10610), (10714, 10757), (10766, 10785)]"
      ],
      "text/plain": [
       "<IPython.core.display.Markdown object>"
      ]
     },
     "metadata": {},
     "output_type": "display_data"
    },
    {
     "data": {
      "text/markdown": [
       "[(1, 12), (32, 66), (75, 111), (150, 220), (223, 265), (270, 333), (336, 382), (385, 468), (488, 514), (553, 557), (587, 614), (678, 778), (814, 839), (898, 906), (941, 1006), (1074, 1088), (1127, 1134), (1140, 1164), (1208, 1261), (1267, 1461), (1653, 1658), (1769, 1881), (1941, 2123), (2520, 2525), (2530, 2554), (2563, 2570), (2789, 2811), (3030, 3035), (3049, 3055), (3263, 3341), (3393, 3464), (3469, 3585), (3590, 3597), (3619, 3811), (3885, 3889), (3896, 3953), (4000, 4112), (4217, 4290), (4350, 4416), (4503, 4561), (4564, 4618), (5465, 5513), (5516, 5526), (5531, 5546), (5564, 5571), (5778, 5853), (5919, 5932), (6020, 6069), (6481, 6504), (6508, 6530), (6602, 6688), (6739, 6837), (6863, 6896), (6908, 6969), (6997, 7018), (7680, 7694), (7699, 7739), (7742, 7759), (7797, 7896), (7966, 8022), (8065, 8348), (8379, 8417), (8454, 8578), (8609, 8626), (8649, 8664), (8674, 8708), (8829, 8849), (9020, 9025), (9035, 9041), (9229, 9285), (9622, 9626), (9750, 9779), (9830, 9856), (9888, 9893), (10022, 10154), (10157, 10508), (10538, 10610), (10714, 10757), (10766, 10785)]"
      ],
      "text/plain": [
       "<IPython.core.display.Markdown object>"
      ]
     },
     "metadata": {},
     "output_type": "display_data"
    },
    {
     "data": {
      "text/markdown": [
       "[(1, 12), (32, 66), (75, 111), (150, 220), (223, 265), (270, 333), (336, 382), (385, 468), (488, 514), (553, 557), (587, 614), (678, 778), (814, 839), (898, 906), (941, 1006), (1074, 1088), (1127, 1134), (1140, 1164), (1208, 1261), (1267, 1461), (1653, 1658), (1769, 1881), (1941, 2123), (2520, 2525), (2530, 2554), (2563, 2570), (2789, 2811), (3030, 3035), (3049, 3055), (3263, 3341), (3393, 3464), (3469, 3585), (3590, 3597), (3619, 3811), (3885, 3889), (3896, 3953), (4000, 4112), (4217, 4290), (4350, 4416), (4503, 4561), (4564, 4618), (5465, 5513), (5516, 5526), (5531, 5546), (5564, 5571), (5778, 5853), (5919, 5932), (6020, 6069), (6481, 6504), (6508, 6530), (6602, 6688), (6739, 6837), (6863, 6896), (6908, 6969), (6997, 7018), (7680, 7694), (7699, 7739), (7742, 7759), (7797, 7896), (7966, 8022), (8065, 8348), (8379, 8417), (8454, 8578), (8609, 8626), (8649, 8664), (8674, 8708), (8829, 8849), (9020, 9025), (9035, 9041), (9229, 9285), (9622, 9626), (9750, 9779), (9830, 9856), (9888, 9893), (10022, 10154), (10157, 10508), (10538, 10610), (10714, 10757), (10766, 10785)]"
      ],
      "text/plain": [
       "<IPython.core.display.Markdown object>"
      ]
     },
     "metadata": {},
     "output_type": "display_data"
    },
    {
     "data": {
      "text/markdown": [
       "[(1, 12), (32, 66), (75, 111), (150, 220), (223, 265), (270, 333), (336, 382), (385, 468), (488, 514), (553, 557), (587, 614), (678, 778), (814, 839), (898, 906), (941, 1006), (1074, 1088), (1127, 1134), (1140, 1164), (1208, 1261), (1267, 1461), (1653, 1658), (1769, 1881), (1941, 2123), (2520, 2525), (2530, 2554), (2563, 2570), (2789, 2811), (3030, 3035), (3049, 3055), (3263, 3341), (3393, 3464), (3469, 3585), (3590, 3597), (3619, 3811), (3885, 3889), (3896, 3953), (4000, 4112), (4217, 4290), (4350, 4416), (4503, 4561), (4564, 4618), (5465, 5513), (5516, 5526), (5531, 5546), (5564, 5571), (5778, 5853), (5919, 5932), (6020, 6069), (6481, 6504), (6508, 6530), (6602, 6688), (6739, 6837), (6863, 6896), (6908, 6969), (6997, 7018), (7680, 7694), (7699, 7739), (7742, 7759), (7797, 7896), (7966, 8022), (8065, 8348), (8379, 8417), (8454, 8578), (8609, 8626), (8649, 8664), (8674, 8708), (8829, 8849), (9020, 9025), (9035, 9041), (9229, 9285), (9622, 9626), (9750, 9779), (9830, 9856), (9888, 9893), (10022, 10154), (10157, 10508), (10538, 10610), (10714, 10757), (10766, 10785)]"
      ],
      "text/plain": [
       "<IPython.core.display.Markdown object>"
      ]
     },
     "metadata": {},
     "output_type": "display_data"
    },
    {
     "name": "stdout",
     "output_type": "stream",
     "text": [
      "🔍  Querying 'body elongation'…\n"
     ]
    },
    {
     "name": "stderr",
     "output_type": "stream",
     "text": [
      "INFO:httpx:HTTP Request: POST https://api.openai.com/v1/embeddings \"HTTP/1.1 200 OK\"\n"
     ]
    },
    {
     "name": "stdout",
     "output_type": "stream",
     "text": [
      "doing active forgetting\n"
     ]
    },
    {
     "name": "stderr",
     "output_type": "stream",
     "text": [
      "INFO:httpx:HTTP Request: POST https://api.openai.com/v1/chat/completions \"HTTP/1.1 200 OK\"\n"
     ]
    },
    {
     "name": "stdout",
     "output_type": "stream",
     "text": [
      "current total cost 0.2579 $\n",
      "current input tokens 3863\n",
      "current accumulated tokens 38808\n"
     ]
    },
    {
     "data": {
      "text/markdown": [
       "```python\n",
       "def identify_elongation_bouts(identifier):\n",
       "    \"\"\"\n",
       "    Identify continuous bouts of elongation based on the given procedure and save the results to a file.\n",
       "\n",
       "    Parameters\n",
       "    ----------\n",
       "    identifier: Identifier\n",
       "        Contains information about the video, keypoint, and config.\n",
       "    \"\"\"\n",
       "    import numpy as np\n",
       "    from scipy.signal import medfilt\n",
       "\n",
       "    # Create an analysis instance\n",
       "    analysis = create_analysis(identifier)\n",
       "\n",
       "    # Get keypoints and their indices\n",
       "    keypoints = analysis.get_keypoints()  # shape (n_frames, n_individuals, n_kpts, n_dims)\n",
       "    n_frames = keypoints.shape[0]\n",
       "    snout_idx = analysis.get_keypoint_names().index('Snout')\n",
       "    tail_base_idx = analysis.get_keypoint_names().index('Tail base')\n",
       "    body_midpoint_idx = analysis.get_keypoint_names().index('Body midpoint')\n",
       "\n",
       "    # Extract coordinates\n",
       "    snout_coords = keypoints[:, 0, snout_idx, :2]  # shape (n_frames, 2)\n",
       "    tail_base_coords = keypoints[:, 0, tail_base_idx, :2]  # shape (n_frames, 2)\n",
       "    body_mid_heights = keypoints[:, 0, body_midpoint_idx, 2]  # shape (n_frames,)\n",
       "    tail_base_heights = keypoints[:, 0, tail_base_idx, 2]  # shape (n_frames,)\n",
       "\n",
       "    # Calculate Snout-to-Tail base distance\n",
       "    distances = np.linalg.norm(snout_coords - tail_base_coords, axis=1)  # shape (n_frames,)\n",
       "\n",
       "    # Calculate running median of distances over a window of 61 frames\n",
       "    running_median = medfilt(distances, kernel_size=61)  # shape (n_frames,)\n",
       "\n",
       "    # Calculate length factor\n",
       "    length_factor = distances / running_median  # shape (n_frames,)\n",
       "\n",
       "    # Initialize variables\n",
       "    in_bout = False\n",
       "    bouts = []\n",
       "\n",
       "    # Loop through frames\n",
       "    for i in range(n_frames):\n",
       "        height_condition = abs(body_mid_heights[i] - tail_base_heights[i]) <= 0.1 * tail_base_heights[i]\n",
       "        if length_factor[i] >= 1.3 and height_condition:\n",
       "            if not in_bout:\n",
       "                in_bout = True\n",
       "                start = i\n",
       "        elif in_bout and length_factor[i] < 1.2:\n",
       "            if i - start >= 1:\n",
       "                bouts.append((start, i - 1))\n",
       "            in_bout = False\n",
       "\n",
       "    # Check for ongoing bout at the end\n",
       "    if in_bout and (n_frames - start) >= 1:\n",
       "        bouts.append((start, n_frames - 1))\n",
       "\n",
       "    # Merge bouts separated by ≤ 2 frames\n",
       "    merged_bouts = []\n",
       "    if bouts:\n",
       "        current_bout = bouts[0]\n",
       "        for next_bout in bouts[1:]:\n",
       "            if next_bout[0] - current_bout[1] <= 2:\n",
       "                current_bout = (current_bout[0], next_bout[1])\n",
       "            else:\n",
       "                merged_bouts.append(current_bout)\n",
       "                current_bout = next_bout\n",
       "        merged_bouts.append(current_bout)\n",
       "\n",
       "    # Save results to file\n",
       "    with open('results/body elongation.txt', 'w') as f:\n",
       "        for bout in merged_bouts:\n",
       "            f.write(f\"{bout}\\n\")\n",
       "\n",
       "    return merged_bouts\n",
       "```"
      ],
      "text/plain": [
       "<IPython.core.display.Markdown object>"
      ]
     },
     "metadata": {},
     "output_type": "display_data"
    },
    {
     "name": "stdout",
     "output_type": "stream",
     "text": [
      "🔍  Querying 'body contraction'…\n"
     ]
    },
    {
     "name": "stderr",
     "output_type": "stream",
     "text": [
      "INFO:httpx:HTTP Request: POST https://api.openai.com/v1/embeddings \"HTTP/1.1 200 OK\"\n"
     ]
    },
    {
     "name": "stdout",
     "output_type": "stream",
     "text": [
      "doing active forgetting\n"
     ]
    },
    {
     "name": "stderr",
     "output_type": "stream",
     "text": [
      "INFO:httpx:HTTP Request: POST https://api.openai.com/v1/chat/completions \"HTTP/1.1 200 OK\"\n"
     ]
    },
    {
     "name": "stdout",
     "output_type": "stream",
     "text": [
      "current total cost 0.2879 $\n",
      "current input tokens 3878\n",
      "current accumulated tokens 43393\n"
     ]
    },
    {
     "data": {
      "text/markdown": [
       "```python\n",
       "def identify_contraction_bouts(identifier):\n",
       "    \"\"\"\n",
       "    Identify continuous bouts of contraction based on the given procedure and save the results to a file.\n",
       "\n",
       "    Parameters\n",
       "    ----------\n",
       "    identifier: Identifier\n",
       "        Contains information about the video, keypoint, and config.\n",
       "    \"\"\"\n",
       "    import numpy as np\n",
       "    from scipy.signal import medfilt\n",
       "\n",
       "    # Create an analysis instance\n",
       "    analysis = create_analysis(identifier)\n",
       "\n",
       "    # Get keypoints and their indices\n",
       "    keypoints = analysis.get_keypoints()  # shape (n_frames, n_individuals, n_kpts, n_dims)\n",
       "    n_frames = keypoints.shape[0]\n",
       "    snout_idx = analysis.get_keypoint_names().index('Snout')\n",
       "    tail_base_idx = analysis.get_keypoint_names().index('Tail base')\n",
       "\n",
       "    # Extract coordinates\n",
       "    snout_coords = keypoints[:, 0, snout_idx, :2]  # shape (n_frames, 2)\n",
       "    tail_base_coords = keypoints[:, 0, tail_base_idx, :2]  # shape (n_frames, 2)\n",
       "    snout_heights = keypoints[:, 0, snout_idx, 2]  # shape (n_frames,)\n",
       "    tail_base_heights = keypoints[:, 0, tail_base_idx, 2]  # shape (n_frames,)\n",
       "\n",
       "    # Calculate Snout-to-Tail base distance\n",
       "    distances = np.linalg.norm(snout_coords - tail_base_coords, axis=1)  # shape (n_frames,)\n",
       "\n",
       "    # Calculate running median of distances over a window of 61 frames\n",
       "    running_median = medfilt(distances, kernel_size=61)  # shape (n_frames,)\n",
       "\n",
       "    # Calculate length factor\n",
       "    length_factor = distances / running_median  # shape (n_frames,)\n",
       "\n",
       "    # Initialize variables\n",
       "    in_bout = False\n",
       "    bouts = []\n",
       "\n",
       "    # Loop through frames\n",
       "    for i in range(n_frames):\n",
       "        height_condition = abs(snout_heights[i] - tail_base_heights[i]) <= 0.15 * tail_base_heights[i]\n",
       "        if length_factor[i] <= 0.7 and height_condition:\n",
       "            if not in_bout:\n",
       "                in_bout = True\n",
       "                start = i\n",
       "        elif in_bout and length_factor[i] > 0.8:\n",
       "            if i - start >= 1:\n",
       "                bouts.append((start, i - 1))\n",
       "            in_bout = False\n",
       "\n",
       "    # Check for ongoing bout at the end\n",
       "    if in_bout and (n_frames - start) >= 1:\n",
       "        bouts.append((start, n_frames - 1))\n",
       "\n",
       "    # Merge bouts separated by ≤ 2 frames\n",
       "    merged_bouts = []\n",
       "    if bouts:\n",
       "        current_bout = bouts[0]\n",
       "        for next_bout in bouts[1:]:\n",
       "            if next_bout[0] - current_bout[1] <= 2:\n",
       "                current_bout = (current_bout[0], next_bout[1])\n",
       "            else:\n",
       "                merged_bouts.append(current_bout)\n",
       "                current_bout = next_bout\n",
       "        merged_bouts.append(current_bout)\n",
       "\n",
       "    # Save results to file\n",
       "    with open('results/body contraction.txt', 'w') as f:\n",
       "        for bout in merged_bouts:\n",
       "            f.write(f\"{bout}\\n\")\n",
       "\n",
       "    return merged_bouts\n",
       "```"
      ],
      "text/plain": [
       "<IPython.core.display.Markdown object>"
      ]
     },
     "metadata": {},
     "output_type": "display_data"
    },
    {
     "name": "stdout",
     "output_type": "stream",
     "text": [
      "🔍  Querying 'head rotations'…\n"
     ]
    },
    {
     "name": "stderr",
     "output_type": "stream",
     "text": [
      "INFO:httpx:HTTP Request: POST https://api.openai.com/v1/embeddings \"HTTP/1.1 200 OK\"\n"
     ]
    },
    {
     "name": "stdout",
     "output_type": "stream",
     "text": [
      "doing active forgetting\n"
     ]
    },
    {
     "name": "stderr",
     "output_type": "stream",
     "text": [
      "INFO:httpx:HTTP Request: POST https://api.openai.com/v1/chat/completions \"HTTP/1.1 200 OK\"\n"
     ]
    },
    {
     "name": "stdout",
     "output_type": "stream",
     "text": [
      "current total cost 0.3197 $\n",
      "current input tokens 3845\n",
      "current accumulated tokens 48078\n"
     ]
    },
    {
     "data": {
      "text/markdown": [
       "```python\n",
       "def identify_head_rotation_bouts(identifier):\n",
       "    \"\"\"\n",
       "    Identify continuous bouts of head rotation based on the given procedure and save the results to a file.\n",
       "\n",
       "    Parameters\n",
       "    ----------\n",
       "    identifier: Identifier\n",
       "        Contains information about the video, keypoint, and config.\n",
       "    \"\"\"\n",
       "    import numpy as np\n",
       "\n",
       "    def signed_angle(v1, v2):\n",
       "        \"\"\"Calculate the signed angle between two vectors.\"\"\"\n",
       "        angle = np.arctan2(v2[1], v2[0]) - np.arctan2(v1[1], v1[0])\n",
       "        return np.degrees(angle)\n",
       "\n",
       "    # Create an analysis instance\n",
       "    analysis = create_analysis(identifier)\n",
       "\n",
       "    # Get keypoints and their indices\n",
       "    keypoints = analysis.get_keypoints()  # shape (n_frames, n_individuals, n_kpts, n_dims)\n",
       "    n_frames = keypoints.shape[0]\n",
       "    left_ear_idx = analysis.get_keypoint_names().index('Left ear')\n",
       "    right_ear_idx = analysis.get_keypoint_names().index('Right ear')\n",
       "    snout_idx = analysis.get_keypoint_names().index('Snout')\n",
       "    tail_base_idx = analysis.get_keypoint_names().index('Tail base')\n",
       "\n",
       "    # Extract coordinates\n",
       "    left_ear_coords = keypoints[:, 0, left_ear_idx, :2]  # shape (n_frames, 2)\n",
       "    right_ear_coords = keypoints[:, 0, right_ear_idx, :2]  # shape (n_frames, 2)\n",
       "    snout_coords = keypoints[:, 0, snout_idx, :2]  # shape (n_frames, 2)\n",
       "    tail_base_coords = keypoints[:, 0, tail_base_idx, :2]  # shape (n_frames, 2)\n",
       "\n",
       "    # Calculate head and body orientation vectors\n",
       "    head_vectors = right_ear_coords - left_ear_coords  # shape (n_frames, 2)\n",
       "    body_orientation_vectors = snout_coords - tail_base_coords  # shape (n_frames, 2)\n",
       "\n",
       "    # Calculate angles\n",
       "    angles = np.array([signed_angle(head_vectors[i], body_orientation_vectors[i]) for i in range(n_frames)])  # shape (n_frames,)\n",
       "    body_orientation_angles = np.array([np.degrees(np.arctan2(body_orientation_vectors[i, 1], body_orientation_vectors[i, 0])) for i in range(n_frames)])  # shape (n_frames,)\n",
       "\n",
       "    # Initialize variables\n",
       "    in_bout = False\n",
       "    bouts = []\n",
       "\n",
       "    # Loop through frames\n",
       "    for i in range(n_frames - 6):\n",
       "        angle_change = np.abs(angles[i + 6] - angles[i])\n",
       "        body_orientation_change = np.abs(body_orientation_angles[i + 6] - body_orientation_angles[i])\n",
       "        if angle_change >= 40 and body_orientation_change < 10:\n",
       "            if not in_bout:\n",
       "                in_bout = True\n",
       "                start = i\n",
       "        elif in_bout and (i - start) > 6:\n",
       "            bouts.append((start, i - 1))\n",
       "            in_bout = False\n",
       "\n",
       "    # Check for ongoing bout at the end\n",
       "    if in_bout and (n_frames - start) > 6:\n",
       "        bouts.append((start, n_frames - 1))\n",
       "\n",
       "    # Merge bouts separated by < 4 frames\n",
       "    merged_bouts = []\n",
       "    if bouts:\n",
       "        current_bout = bouts[0]\n",
       "        for next_bout in bouts[1:]:\n",
       "            if next_bout[0] - current_bout[1] < 4:\n",
       "                current_bout = (current_bout[0], next_bout[1])\n",
       "            else:\n",
       "                merged_bouts.append(current_bout)\n",
       "                current_bout = next_bout\n",
       "        merged_bouts.append(current_bout)\n",
       "\n",
       "    # Save results to file\n",
       "    with open('results/head rotations.txt', 'w') as f:\n",
       "        for bout in merged_bouts:\n",
       "            f.write(f\"{bout}\\n\")\n",
       "\n",
       "    return merged_bouts\n",
       "```"
      ],
      "text/plain": [
       "<IPython.core.display.Markdown object>"
      ]
     },
     "metadata": {},
     "output_type": "display_data"
    },
    {
     "data": {
      "text/markdown": [
       "[(2, 16), (20, 31), (203, 217), (305, 311), (714, 720), (734, 759), (766, 772), (1254, 1260), (2010, 2016), (2100, 2106), (2204, 2210), (2266, 2272), (2297, 2303), (2618, 2624), (2635, 2657), (2679, 2685), (2800, 2806), (3088, 3094), (3222, 3228), (3591, 3597), (4123, 4129), (4241, 4247), (4262, 4268), (4329, 4360), (4366, 4381), (4396, 4402), (4406, 4412), (4559, 4571), (4609, 4615), (4984, 4990), (5406, 5412), (5450, 5456), (5468, 5476), (5509, 5519), (5526, 5533), (5537, 5559), (5565, 5571), (5600, 5607), (6018, 6026), (6030, 6037), (6668, 6674), (7110, 7116), (7142, 7148), (7548, 7554), (7756, 7762), (7839, 7845), (7879, 7885), (7890, 7896), (8099, 8105), (8303, 8309), (8339, 8345), (8417, 8424), (8430, 8442), (8502, 8508), (8527, 8533), (8549, 8577), (8624, 8630), (8640, 8646), (9025, 9039), (9274, 9280), (9307, 9313), (9344, 9350), (9366, 9375), (9419, 9435), (9486, 9492), (9543, 9557), (9561, 9567), (9583, 9598), (9618, 9624), (9656, 9662), (9826, 9832), (9849, 9872), (10130, 10136), (10269, 10275), (10459, 10465), (10498, 10504), (10595, 10601), (10667, 10673)]"
      ],
      "text/plain": [
       "<IPython.core.display.Markdown object>"
      ]
     },
     "metadata": {},
     "output_type": "display_data"
    },
    {
     "data": {
      "text/markdown": [
       "[(2, 16), (20, 31), (203, 217), (305, 311), (714, 720), (734, 759), (766, 772), (1254, 1260), (2010, 2016), (2100, 2106), (2204, 2210), (2266, 2272), (2297, 2303), (2618, 2624), (2635, 2657), (2679, 2685), (2800, 2806), (3088, 3094), (3222, 3228), (3591, 3597), (4123, 4129), (4241, 4247), (4262, 4268), (4329, 4360), (4366, 4381), (4396, 4402), (4406, 4412), (4559, 4571), (4609, 4615), (4984, 4990), (5406, 5412), (5450, 5456), (5468, 5476), (5509, 5519), (5526, 5533), (5537, 5559), (5565, 5571), (5600, 5607), (6018, 6026), (6030, 6037), (6668, 6674), (7110, 7116), (7142, 7148), (7548, 7554), (7756, 7762), (7839, 7845), (7879, 7885), (7890, 7896), (8099, 8105), (8303, 8309), (8339, 8345), (8417, 8424), (8430, 8442), (8502, 8508), (8527, 8533), (8549, 8577), (8624, 8630), (8640, 8646), (9025, 9039), (9274, 9280), (9307, 9313), (9344, 9350), (9366, 9375), (9419, 9435), (9486, 9492), (9543, 9557), (9561, 9567), (9583, 9598), (9618, 9624), (9656, 9662), (9826, 9832), (9849, 9872), (10130, 10136), (10269, 10275), (10459, 10465), (10498, 10504), (10595, 10601), (10667, 10673)]"
      ],
      "text/plain": [
       "<IPython.core.display.Markdown object>"
      ]
     },
     "metadata": {},
     "output_type": "display_data"
    },
    {
     "data": {
      "text/markdown": [
       "[(2, 16), (20, 31), (203, 217), (305, 311), (714, 720), (734, 759), (766, 772), (1254, 1260), (2010, 2016), (2100, 2106), (2204, 2210), (2266, 2272), (2297, 2303), (2618, 2624), (2635, 2657), (2679, 2685), (2800, 2806), (3088, 3094), (3222, 3228), (3591, 3597), (4123, 4129), (4241, 4247), (4262, 4268), (4329, 4360), (4366, 4381), (4396, 4402), (4406, 4412), (4559, 4571), (4609, 4615), (4984, 4990), (5406, 5412), (5450, 5456), (5468, 5476), (5509, 5519), (5526, 5533), (5537, 5559), (5565, 5571), (5600, 5607), (6018, 6026), (6030, 6037), (6668, 6674), (7110, 7116), (7142, 7148), (7548, 7554), (7756, 7762), (7839, 7845), (7879, 7885), (7890, 7896), (8099, 8105), (8303, 8309), (8339, 8345), (8417, 8424), (8430, 8442), (8502, 8508), (8527, 8533), (8549, 8577), (8624, 8630), (8640, 8646), (9025, 9039), (9274, 9280), (9307, 9313), (9344, 9350), (9366, 9375), (9419, 9435), (9486, 9492), (9543, 9557), (9561, 9567), (9583, 9598), (9618, 9624), (9656, 9662), (9826, 9832), (9849, 9872), (10130, 10136), (10269, 10275), (10459, 10465), (10498, 10504), (10595, 10601), (10667, 10673)]"
      ],
      "text/plain": [
       "<IPython.core.display.Markdown object>"
      ]
     },
     "metadata": {},
     "output_type": "display_data"
    },
    {
     "data": {
      "text/markdown": [
       "[(2, 16), (20, 31), (203, 217), (305, 311), (714, 720), (734, 759), (766, 772), (1254, 1260), (2010, 2016), (2100, 2106), (2204, 2210), (2266, 2272), (2297, 2303), (2618, 2624), (2635, 2657), (2679, 2685), (2800, 2806), (3088, 3094), (3222, 3228), (3591, 3597), (4123, 4129), (4241, 4247), (4262, 4268), (4329, 4360), (4366, 4381), (4396, 4402), (4406, 4412), (4559, 4571), (4609, 4615), (4984, 4990), (5406, 5412), (5450, 5456), (5468, 5476), (5509, 5519), (5526, 5533), (5537, 5559), (5565, 5571), (5600, 5607), (6018, 6026), (6030, 6037), (6668, 6674), (7110, 7116), (7142, 7148), (7548, 7554), (7756, 7762), (7839, 7845), (7879, 7885), (7890, 7896), (8099, 8105), (8303, 8309), (8339, 8345), (8417, 8424), (8430, 8442), (8502, 8508), (8527, 8533), (8549, 8577), (8624, 8630), (8640, 8646), (9025, 9039), (9274, 9280), (9307, 9313), (9344, 9350), (9366, 9375), (9419, 9435), (9486, 9492), (9543, 9557), (9561, 9567), (9583, 9598), (9618, 9624), (9656, 9662), (9826, 9832), (9849, 9872), (10130, 10136), (10269, 10275), (10459, 10465), (10498, 10504), (10595, 10601), (10667, 10673)]"
      ],
      "text/plain": [
       "<IPython.core.display.Markdown object>"
      ]
     },
     "metadata": {},
     "output_type": "display_data"
    },
    {
     "data": {
      "text/markdown": [
       "[(2, 16), (20, 31), (203, 217), (305, 311), (714, 720), (734, 759), (766, 772), (1254, 1260), (2010, 2016), (2100, 2106), (2204, 2210), (2266, 2272), (2297, 2303), (2618, 2624), (2635, 2657), (2679, 2685), (2800, 2806), (3088, 3094), (3222, 3228), (3591, 3597), (4123, 4129), (4241, 4247), (4262, 4268), (4329, 4360), (4366, 4381), (4396, 4402), (4406, 4412), (4559, 4571), (4609, 4615), (4984, 4990), (5406, 5412), (5450, 5456), (5468, 5476), (5509, 5519), (5526, 5533), (5537, 5559), (5565, 5571), (5600, 5607), (6018, 6026), (6030, 6037), (6668, 6674), (7110, 7116), (7142, 7148), (7548, 7554), (7756, 7762), (7839, 7845), (7879, 7885), (7890, 7896), (8099, 8105), (8303, 8309), (8339, 8345), (8417, 8424), (8430, 8442), (8502, 8508), (8527, 8533), (8549, 8577), (8624, 8630), (8640, 8646), (9025, 9039), (9274, 9280), (9307, 9313), (9344, 9350), (9366, 9375), (9419, 9435), (9486, 9492), (9543, 9557), (9561, 9567), (9583, 9598), (9618, 9624), (9656, 9662), (9826, 9832), (9849, 9872), (10130, 10136), (10269, 10275), (10459, 10465), (10498, 10504), (10595, 10601), (10667, 10673)]"
      ],
      "text/plain": [
       "<IPython.core.display.Markdown object>"
      ]
     },
     "metadata": {},
     "output_type": "display_data"
    },
    {
     "data": {
      "text/markdown": [
       "[(2, 16), (20, 31), (203, 217), (305, 311), (714, 720), (734, 759), (766, 772), (1254, 1260), (2010, 2016), (2100, 2106), (2204, 2210), (2266, 2272), (2297, 2303), (2618, 2624), (2635, 2657), (2679, 2685), (2800, 2806), (3088, 3094), (3222, 3228), (3591, 3597), (4123, 4129), (4241, 4247), (4262, 4268), (4329, 4360), (4366, 4381), (4396, 4402), (4406, 4412), (4559, 4571), (4609, 4615), (4984, 4990), (5406, 5412), (5450, 5456), (5468, 5476), (5509, 5519), (5526, 5533), (5537, 5559), (5565, 5571), (5600, 5607), (6018, 6026), (6030, 6037), (6668, 6674), (7110, 7116), (7142, 7148), (7548, 7554), (7756, 7762), (7839, 7845), (7879, 7885), (7890, 7896), (8099, 8105), (8303, 8309), (8339, 8345), (8417, 8424), (8430, 8442), (8502, 8508), (8527, 8533), (8549, 8577), (8624, 8630), (8640, 8646), (9025, 9039), (9274, 9280), (9307, 9313), (9344, 9350), (9366, 9375), (9419, 9435), (9486, 9492), (9543, 9557), (9561, 9567), (9583, 9598), (9618, 9624), (9656, 9662), (9826, 9832), (9849, 9872), (10130, 10136), (10269, 10275), (10459, 10465), (10498, 10504), (10595, 10601), (10667, 10673)]"
      ],
      "text/plain": [
       "<IPython.core.display.Markdown object>"
      ]
     },
     "metadata": {},
     "output_type": "display_data"
    },
    {
     "data": {
      "text/markdown": [
       "[(2, 16), (20, 31), (203, 217), (305, 311), (714, 720), (734, 759), (766, 772), (1254, 1260), (2010, 2016), (2100, 2106), (2204, 2210), (2266, 2272), (2297, 2303), (2618, 2624), (2635, 2657), (2679, 2685), (2800, 2806), (3088, 3094), (3222, 3228), (3591, 3597), (4123, 4129), (4241, 4247), (4262, 4268), (4329, 4360), (4366, 4381), (4396, 4402), (4406, 4412), (4559, 4571), (4609, 4615), (4984, 4990), (5406, 5412), (5450, 5456), (5468, 5476), (5509, 5519), (5526, 5533), (5537, 5559), (5565, 5571), (5600, 5607), (6018, 6026), (6030, 6037), (6668, 6674), (7110, 7116), (7142, 7148), (7548, 7554), (7756, 7762), (7839, 7845), (7879, 7885), (7890, 7896), (8099, 8105), (8303, 8309), (8339, 8345), (8417, 8424), (8430, 8442), (8502, 8508), (8527, 8533), (8549, 8577), (8624, 8630), (8640, 8646), (9025, 9039), (9274, 9280), (9307, 9313), (9344, 9350), (9366, 9375), (9419, 9435), (9486, 9492), (9543, 9557), (9561, 9567), (9583, 9598), (9618, 9624), (9656, 9662), (9826, 9832), (9849, 9872), (10130, 10136), (10269, 10275), (10459, 10465), (10498, 10504), (10595, 10601), (10667, 10673)]"
      ],
      "text/plain": [
       "<IPython.core.display.Markdown object>"
      ]
     },
     "metadata": {},
     "output_type": "display_data"
    },
    {
     "data": {
      "text/markdown": [
       "[(2, 16), (20, 31), (203, 217), (305, 311), (714, 720), (734, 759), (766, 772), (1254, 1260), (2010, 2016), (2100, 2106), (2204, 2210), (2266, 2272), (2297, 2303), (2618, 2624), (2635, 2657), (2679, 2685), (2800, 2806), (3088, 3094), (3222, 3228), (3591, 3597), (4123, 4129), (4241, 4247), (4262, 4268), (4329, 4360), (4366, 4381), (4396, 4402), (4406, 4412), (4559, 4571), (4609, 4615), (4984, 4990), (5406, 5412), (5450, 5456), (5468, 5476), (5509, 5519), (5526, 5533), (5537, 5559), (5565, 5571), (5600, 5607), (6018, 6026), (6030, 6037), (6668, 6674), (7110, 7116), (7142, 7148), (7548, 7554), (7756, 7762), (7839, 7845), (7879, 7885), (7890, 7896), (8099, 8105), (8303, 8309), (8339, 8345), (8417, 8424), (8430, 8442), (8502, 8508), (8527, 8533), (8549, 8577), (8624, 8630), (8640, 8646), (9025, 9039), (9274, 9280), (9307, 9313), (9344, 9350), (9366, 9375), (9419, 9435), (9486, 9492), (9543, 9557), (9561, 9567), (9583, 9598), (9618, 9624), (9656, 9662), (9826, 9832), (9849, 9872), (10130, 10136), (10269, 10275), (10459, 10465), (10498, 10504), (10595, 10601), (10667, 10673)]"
      ],
      "text/plain": [
       "<IPython.core.display.Markdown object>"
      ]
     },
     "metadata": {},
     "output_type": "display_data"
    },
    {
     "data": {
      "text/markdown": [
       "[(2, 16), (20, 31), (203, 217), (305, 311), (714, 720), (734, 759), (766, 772), (1254, 1260), (2010, 2016), (2100, 2106), (2204, 2210), (2266, 2272), (2297, 2303), (2618, 2624), (2635, 2657), (2679, 2685), (2800, 2806), (3088, 3094), (3222, 3228), (3591, 3597), (4123, 4129), (4241, 4247), (4262, 4268), (4329, 4360), (4366, 4381), (4396, 4402), (4406, 4412), (4559, 4571), (4609, 4615), (4984, 4990), (5406, 5412), (5450, 5456), (5468, 5476), (5509, 5519), (5526, 5533), (5537, 5559), (5565, 5571), (5600, 5607), (6018, 6026), (6030, 6037), (6668, 6674), (7110, 7116), (7142, 7148), (7548, 7554), (7756, 7762), (7839, 7845), (7879, 7885), (7890, 7896), (8099, 8105), (8303, 8309), (8339, 8345), (8417, 8424), (8430, 8442), (8502, 8508), (8527, 8533), (8549, 8577), (8624, 8630), (8640, 8646), (9025, 9039), (9274, 9280), (9307, 9313), (9344, 9350), (9366, 9375), (9419, 9435), (9486, 9492), (9543, 9557), (9561, 9567), (9583, 9598), (9618, 9624), (9656, 9662), (9826, 9832), (9849, 9872), (10130, 10136), (10269, 10275), (10459, 10465), (10498, 10504), (10595, 10601), (10667, 10673)]"
      ],
      "text/plain": [
       "<IPython.core.display.Markdown object>"
      ]
     },
     "metadata": {},
     "output_type": "display_data"
    },
    {
     "data": {
      "text/markdown": [
       "[(2, 16), (20, 31), (203, 217), (305, 311), (714, 720), (734, 759), (766, 772), (1254, 1260), (2010, 2016), (2100, 2106), (2204, 2210), (2266, 2272), (2297, 2303), (2618, 2624), (2635, 2657), (2679, 2685), (2800, 2806), (3088, 3094), (3222, 3228), (3591, 3597), (4123, 4129), (4241, 4247), (4262, 4268), (4329, 4360), (4366, 4381), (4396, 4402), (4406, 4412), (4559, 4571), (4609, 4615), (4984, 4990), (5406, 5412), (5450, 5456), (5468, 5476), (5509, 5519), (5526, 5533), (5537, 5559), (5565, 5571), (5600, 5607), (6018, 6026), (6030, 6037), (6668, 6674), (7110, 7116), (7142, 7148), (7548, 7554), (7756, 7762), (7839, 7845), (7879, 7885), (7890, 7896), (8099, 8105), (8303, 8309), (8339, 8345), (8417, 8424), (8430, 8442), (8502, 8508), (8527, 8533), (8549, 8577), (8624, 8630), (8640, 8646), (9025, 9039), (9274, 9280), (9307, 9313), (9344, 9350), (9366, 9375), (9419, 9435), (9486, 9492), (9543, 9557), (9561, 9567), (9583, 9598), (9618, 9624), (9656, 9662), (9826, 9832), (9849, 9872), (10130, 10136), (10269, 10275), (10459, 10465), (10498, 10504), (10595, 10601), (10667, 10673)]"
      ],
      "text/plain": [
       "<IPython.core.display.Markdown object>"
      ]
     },
     "metadata": {},
     "output_type": "display_data"
    },
    {
     "data": {
      "text/markdown": [
       "[(2, 16), (20, 31), (203, 217), (305, 311), (714, 720), (734, 759), (766, 772), (1254, 1260), (2010, 2016), (2100, 2106), (2204, 2210), (2266, 2272), (2297, 2303), (2618, 2624), (2635, 2657), (2679, 2685), (2800, 2806), (3088, 3094), (3222, 3228), (3591, 3597), (4123, 4129), (4241, 4247), (4262, 4268), (4329, 4360), (4366, 4381), (4396, 4402), (4406, 4412), (4559, 4571), (4609, 4615), (4984, 4990), (5406, 5412), (5450, 5456), (5468, 5476), (5509, 5519), (5526, 5533), (5537, 5559), (5565, 5571), (5600, 5607), (6018, 6026), (6030, 6037), (6668, 6674), (7110, 7116), (7142, 7148), (7548, 7554), (7756, 7762), (7839, 7845), (7879, 7885), (7890, 7896), (8099, 8105), (8303, 8309), (8339, 8345), (8417, 8424), (8430, 8442), (8502, 8508), (8527, 8533), (8549, 8577), (8624, 8630), (8640, 8646), (9025, 9039), (9274, 9280), (9307, 9313), (9344, 9350), (9366, 9375), (9419, 9435), (9486, 9492), (9543, 9557), (9561, 9567), (9583, 9598), (9618, 9624), (9656, 9662), (9826, 9832), (9849, 9872), (10130, 10136), (10269, 10275), (10459, 10465), (10498, 10504), (10595, 10601), (10667, 10673)]"
      ],
      "text/plain": [
       "<IPython.core.display.Markdown object>"
      ]
     },
     "metadata": {},
     "output_type": "display_data"
    },
    {
     "data": {
      "text/markdown": [
       "[(2, 16), (20, 31), (203, 217), (305, 311), (714, 720), (734, 759), (766, 772), (1254, 1260), (2010, 2016), (2100, 2106), (2204, 2210), (2266, 2272), (2297, 2303), (2618, 2624), (2635, 2657), (2679, 2685), (2800, 2806), (3088, 3094), (3222, 3228), (3591, 3597), (4123, 4129), (4241, 4247), (4262, 4268), (4329, 4360), (4366, 4381), (4396, 4402), (4406, 4412), (4559, 4571), (4609, 4615), (4984, 4990), (5406, 5412), (5450, 5456), (5468, 5476), (5509, 5519), (5526, 5533), (5537, 5559), (5565, 5571), (5600, 5607), (6018, 6026), (6030, 6037), (6668, 6674), (7110, 7116), (7142, 7148), (7548, 7554), (7756, 7762), (7839, 7845), (7879, 7885), (7890, 7896), (8099, 8105), (8303, 8309), (8339, 8345), (8417, 8424), (8430, 8442), (8502, 8508), (8527, 8533), (8549, 8577), (8624, 8630), (8640, 8646), (9025, 9039), (9274, 9280), (9307, 9313), (9344, 9350), (9366, 9375), (9419, 9435), (9486, 9492), (9543, 9557), (9561, 9567), (9583, 9598), (9618, 9624), (9656, 9662), (9826, 9832), (9849, 9872), (10130, 10136), (10269, 10275), (10459, 10465), (10498, 10504), (10595, 10601), (10667, 10673)]"
      ],
      "text/plain": [
       "<IPython.core.display.Markdown object>"
      ]
     },
     "metadata": {},
     "output_type": "display_data"
    },
    {
     "data": {
      "text/markdown": [
       "[(2, 16), (20, 31), (203, 217), (305, 311), (714, 720), (734, 759), (766, 772), (1254, 1260), (2010, 2016), (2100, 2106), (2204, 2210), (2266, 2272), (2297, 2303), (2618, 2624), (2635, 2657), (2679, 2685), (2800, 2806), (3088, 3094), (3222, 3228), (3591, 3597), (4123, 4129), (4241, 4247), (4262, 4268), (4329, 4360), (4366, 4381), (4396, 4402), (4406, 4412), (4559, 4571), (4609, 4615), (4984, 4990), (5406, 5412), (5450, 5456), (5468, 5476), (5509, 5519), (5526, 5533), (5537, 5559), (5565, 5571), (5600, 5607), (6018, 6026), (6030, 6037), (6668, 6674), (7110, 7116), (7142, 7148), (7548, 7554), (7756, 7762), (7839, 7845), (7879, 7885), (7890, 7896), (8099, 8105), (8303, 8309), (8339, 8345), (8417, 8424), (8430, 8442), (8502, 8508), (8527, 8533), (8549, 8577), (8624, 8630), (8640, 8646), (9025, 9039), (9274, 9280), (9307, 9313), (9344, 9350), (9366, 9375), (9419, 9435), (9486, 9492), (9543, 9557), (9561, 9567), (9583, 9598), (9618, 9624), (9656, 9662), (9826, 9832), (9849, 9872), (10130, 10136), (10269, 10275), (10459, 10465), (10498, 10504), (10595, 10601), (10667, 10673)]"
      ],
      "text/plain": [
       "<IPython.core.display.Markdown object>"
      ]
     },
     "metadata": {},
     "output_type": "display_data"
    },
    {
     "data": {
      "text/markdown": [
       "[(2, 16), (20, 31), (203, 217), (305, 311), (714, 720), (734, 759), (766, 772), (1254, 1260), (2010, 2016), (2100, 2106), (2204, 2210), (2266, 2272), (2297, 2303), (2618, 2624), (2635, 2657), (2679, 2685), (2800, 2806), (3088, 3094), (3222, 3228), (3591, 3597), (4123, 4129), (4241, 4247), (4262, 4268), (4329, 4360), (4366, 4381), (4396, 4402), (4406, 4412), (4559, 4571), (4609, 4615), (4984, 4990), (5406, 5412), (5450, 5456), (5468, 5476), (5509, 5519), (5526, 5533), (5537, 5559), (5565, 5571), (5600, 5607), (6018, 6026), (6030, 6037), (6668, 6674), (7110, 7116), (7142, 7148), (7548, 7554), (7756, 7762), (7839, 7845), (7879, 7885), (7890, 7896), (8099, 8105), (8303, 8309), (8339, 8345), (8417, 8424), (8430, 8442), (8502, 8508), (8527, 8533), (8549, 8577), (8624, 8630), (8640, 8646), (9025, 9039), (9274, 9280), (9307, 9313), (9344, 9350), (9366, 9375), (9419, 9435), (9486, 9492), (9543, 9557), (9561, 9567), (9583, 9598), (9618, 9624), (9656, 9662), (9826, 9832), (9849, 9872), (10130, 10136), (10269, 10275), (10459, 10465), (10498, 10504), (10595, 10601), (10667, 10673)]"
      ],
      "text/plain": [
       "<IPython.core.display.Markdown object>"
      ]
     },
     "metadata": {},
     "output_type": "display_data"
    },
    {
     "data": {
      "text/markdown": [
       "[(2, 16), (20, 31), (203, 217), (305, 311), (714, 720), (734, 759), (766, 772), (1254, 1260), (2010, 2016), (2100, 2106), (2204, 2210), (2266, 2272), (2297, 2303), (2618, 2624), (2635, 2657), (2679, 2685), (2800, 2806), (3088, 3094), (3222, 3228), (3591, 3597), (4123, 4129), (4241, 4247), (4262, 4268), (4329, 4360), (4366, 4381), (4396, 4402), (4406, 4412), (4559, 4571), (4609, 4615), (4984, 4990), (5406, 5412), (5450, 5456), (5468, 5476), (5509, 5519), (5526, 5533), (5537, 5559), (5565, 5571), (5600, 5607), (6018, 6026), (6030, 6037), (6668, 6674), (7110, 7116), (7142, 7148), (7548, 7554), (7756, 7762), (7839, 7845), (7879, 7885), (7890, 7896), (8099, 8105), (8303, 8309), (8339, 8345), (8417, 8424), (8430, 8442), (8502, 8508), (8527, 8533), (8549, 8577), (8624, 8630), (8640, 8646), (9025, 9039), (9274, 9280), (9307, 9313), (9344, 9350), (9366, 9375), (9419, 9435), (9486, 9492), (9543, 9557), (9561, 9567), (9583, 9598), (9618, 9624), (9656, 9662), (9826, 9832), (9849, 9872), (10130, 10136), (10269, 10275), (10459, 10465), (10498, 10504), (10595, 10601), (10667, 10673)]"
      ],
      "text/plain": [
       "<IPython.core.display.Markdown object>"
      ]
     },
     "metadata": {},
     "output_type": "display_data"
    },
    {
     "data": {
      "text/markdown": [
       "[(2, 16), (20, 31), (203, 217), (305, 311), (714, 720), (734, 759), (766, 772), (1254, 1260), (2010, 2016), (2100, 2106), (2204, 2210), (2266, 2272), (2297, 2303), (2618, 2624), (2635, 2657), (2679, 2685), (2800, 2806), (3088, 3094), (3222, 3228), (3591, 3597), (4123, 4129), (4241, 4247), (4262, 4268), (4329, 4360), (4366, 4381), (4396, 4402), (4406, 4412), (4559, 4571), (4609, 4615), (4984, 4990), (5406, 5412), (5450, 5456), (5468, 5476), (5509, 5519), (5526, 5533), (5537, 5559), (5565, 5571), (5600, 5607), (6018, 6026), (6030, 6037), (6668, 6674), (7110, 7116), (7142, 7148), (7548, 7554), (7756, 7762), (7839, 7845), (7879, 7885), (7890, 7896), (8099, 8105), (8303, 8309), (8339, 8345), (8417, 8424), (8430, 8442), (8502, 8508), (8527, 8533), (8549, 8577), (8624, 8630), (8640, 8646), (9025, 9039), (9274, 9280), (9307, 9313), (9344, 9350), (9366, 9375), (9419, 9435), (9486, 9492), (9543, 9557), (9561, 9567), (9583, 9598), (9618, 9624), (9656, 9662), (9826, 9832), (9849, 9872), (10130, 10136), (10269, 10275), (10459, 10465), (10498, 10504), (10595, 10601), (10667, 10673)]"
      ],
      "text/plain": [
       "<IPython.core.display.Markdown object>"
      ]
     },
     "metadata": {},
     "output_type": "display_data"
    },
    {
     "data": {
      "text/markdown": [
       "[(2, 16), (20, 31), (203, 217), (305, 311), (714, 720), (734, 759), (766, 772), (1254, 1260), (2010, 2016), (2100, 2106), (2204, 2210), (2266, 2272), (2297, 2303), (2618, 2624), (2635, 2657), (2679, 2685), (2800, 2806), (3088, 3094), (3222, 3228), (3591, 3597), (4123, 4129), (4241, 4247), (4262, 4268), (4329, 4360), (4366, 4381), (4396, 4402), (4406, 4412), (4559, 4571), (4609, 4615), (4984, 4990), (5406, 5412), (5450, 5456), (5468, 5476), (5509, 5519), (5526, 5533), (5537, 5559), (5565, 5571), (5600, 5607), (6018, 6026), (6030, 6037), (6668, 6674), (7110, 7116), (7142, 7148), (7548, 7554), (7756, 7762), (7839, 7845), (7879, 7885), (7890, 7896), (8099, 8105), (8303, 8309), (8339, 8345), (8417, 8424), (8430, 8442), (8502, 8508), (8527, 8533), (8549, 8577), (8624, 8630), (8640, 8646), (9025, 9039), (9274, 9280), (9307, 9313), (9344, 9350), (9366, 9375), (9419, 9435), (9486, 9492), (9543, 9557), (9561, 9567), (9583, 9598), (9618, 9624), (9656, 9662), (9826, 9832), (9849, 9872), (10130, 10136), (10269, 10275), (10459, 10465), (10498, 10504), (10595, 10601), (10667, 10673)]"
      ],
      "text/plain": [
       "<IPython.core.display.Markdown object>"
      ]
     },
     "metadata": {},
     "output_type": "display_data"
    },
    {
     "data": {
      "text/markdown": [
       "[(2, 16), (20, 31), (203, 217), (305, 311), (714, 720), (734, 759), (766, 772), (1254, 1260), (2010, 2016), (2100, 2106), (2204, 2210), (2266, 2272), (2297, 2303), (2618, 2624), (2635, 2657), (2679, 2685), (2800, 2806), (3088, 3094), (3222, 3228), (3591, 3597), (4123, 4129), (4241, 4247), (4262, 4268), (4329, 4360), (4366, 4381), (4396, 4402), (4406, 4412), (4559, 4571), (4609, 4615), (4984, 4990), (5406, 5412), (5450, 5456), (5468, 5476), (5509, 5519), (5526, 5533), (5537, 5559), (5565, 5571), (5600, 5607), (6018, 6026), (6030, 6037), (6668, 6674), (7110, 7116), (7142, 7148), (7548, 7554), (7756, 7762), (7839, 7845), (7879, 7885), (7890, 7896), (8099, 8105), (8303, 8309), (8339, 8345), (8417, 8424), (8430, 8442), (8502, 8508), (8527, 8533), (8549, 8577), (8624, 8630), (8640, 8646), (9025, 9039), (9274, 9280), (9307, 9313), (9344, 9350), (9366, 9375), (9419, 9435), (9486, 9492), (9543, 9557), (9561, 9567), (9583, 9598), (9618, 9624), (9656, 9662), (9826, 9832), (9849, 9872), (10130, 10136), (10269, 10275), (10459, 10465), (10498, 10504), (10595, 10601), (10667, 10673)]"
      ],
      "text/plain": [
       "<IPython.core.display.Markdown object>"
      ]
     },
     "metadata": {},
     "output_type": "display_data"
    },
    {
     "data": {
      "text/markdown": [
       "[(2, 16), (20, 31), (203, 217), (305, 311), (714, 720), (734, 759), (766, 772), (1254, 1260), (2010, 2016), (2100, 2106), (2204, 2210), (2266, 2272), (2297, 2303), (2618, 2624), (2635, 2657), (2679, 2685), (2800, 2806), (3088, 3094), (3222, 3228), (3591, 3597), (4123, 4129), (4241, 4247), (4262, 4268), (4329, 4360), (4366, 4381), (4396, 4402), (4406, 4412), (4559, 4571), (4609, 4615), (4984, 4990), (5406, 5412), (5450, 5456), (5468, 5476), (5509, 5519), (5526, 5533), (5537, 5559), (5565, 5571), (5600, 5607), (6018, 6026), (6030, 6037), (6668, 6674), (7110, 7116), (7142, 7148), (7548, 7554), (7756, 7762), (7839, 7845), (7879, 7885), (7890, 7896), (8099, 8105), (8303, 8309), (8339, 8345), (8417, 8424), (8430, 8442), (8502, 8508), (8527, 8533), (8549, 8577), (8624, 8630), (8640, 8646), (9025, 9039), (9274, 9280), (9307, 9313), (9344, 9350), (9366, 9375), (9419, 9435), (9486, 9492), (9543, 9557), (9561, 9567), (9583, 9598), (9618, 9624), (9656, 9662), (9826, 9832), (9849, 9872), (10130, 10136), (10269, 10275), (10459, 10465), (10498, 10504), (10595, 10601), (10667, 10673)]"
      ],
      "text/plain": [
       "<IPython.core.display.Markdown object>"
      ]
     },
     "metadata": {},
     "output_type": "display_data"
    },
    {
     "data": {
      "text/markdown": [
       "[(2, 16), (20, 31), (203, 217), (305, 311), (714, 720), (734, 759), (766, 772), (1254, 1260), (2010, 2016), (2100, 2106), (2204, 2210), (2266, 2272), (2297, 2303), (2618, 2624), (2635, 2657), (2679, 2685), (2800, 2806), (3088, 3094), (3222, 3228), (3591, 3597), (4123, 4129), (4241, 4247), (4262, 4268), (4329, 4360), (4366, 4381), (4396, 4402), (4406, 4412), (4559, 4571), (4609, 4615), (4984, 4990), (5406, 5412), (5450, 5456), (5468, 5476), (5509, 5519), (5526, 5533), (5537, 5559), (5565, 5571), (5600, 5607), (6018, 6026), (6030, 6037), (6668, 6674), (7110, 7116), (7142, 7148), (7548, 7554), (7756, 7762), (7839, 7845), (7879, 7885), (7890, 7896), (8099, 8105), (8303, 8309), (8339, 8345), (8417, 8424), (8430, 8442), (8502, 8508), (8527, 8533), (8549, 8577), (8624, 8630), (8640, 8646), (9025, 9039), (9274, 9280), (9307, 9313), (9344, 9350), (9366, 9375), (9419, 9435), (9486, 9492), (9543, 9557), (9561, 9567), (9583, 9598), (9618, 9624), (9656, 9662), (9826, 9832), (9849, 9872), (10130, 10136), (10269, 10275), (10459, 10465), (10498, 10504), (10595, 10601), (10667, 10673)]"
      ],
      "text/plain": [
       "<IPython.core.display.Markdown object>"
      ]
     },
     "metadata": {},
     "output_type": "display_data"
    },
    {
     "data": {
      "text/markdown": [
       "[(2, 16), (20, 31), (203, 217), (305, 311), (714, 720), (734, 759), (766, 772), (1254, 1260), (2010, 2016), (2100, 2106), (2204, 2210), (2266, 2272), (2297, 2303), (2618, 2624), (2635, 2657), (2679, 2685), (2800, 2806), (3088, 3094), (3222, 3228), (3591, 3597), (4123, 4129), (4241, 4247), (4262, 4268), (4329, 4360), (4366, 4381), (4396, 4402), (4406, 4412), (4559, 4571), (4609, 4615), (4984, 4990), (5406, 5412), (5450, 5456), (5468, 5476), (5509, 5519), (5526, 5533), (5537, 5559), (5565, 5571), (5600, 5607), (6018, 6026), (6030, 6037), (6668, 6674), (7110, 7116), (7142, 7148), (7548, 7554), (7756, 7762), (7839, 7845), (7879, 7885), (7890, 7896), (8099, 8105), (8303, 8309), (8339, 8345), (8417, 8424), (8430, 8442), (8502, 8508), (8527, 8533), (8549, 8577), (8624, 8630), (8640, 8646), (9025, 9039), (9274, 9280), (9307, 9313), (9344, 9350), (9366, 9375), (9419, 9435), (9486, 9492), (9543, 9557), (9561, 9567), (9583, 9598), (9618, 9624), (9656, 9662), (9826, 9832), (9849, 9872), (10130, 10136), (10269, 10275), (10459, 10465), (10498, 10504), (10595, 10601), (10667, 10673)]"
      ],
      "text/plain": [
       "<IPython.core.display.Markdown object>"
      ]
     },
     "metadata": {},
     "output_type": "display_data"
    },
    {
     "data": {
      "text/markdown": [
       "[(2, 16), (20, 31), (203, 217), (305, 311), (714, 720), (734, 759), (766, 772), (1254, 1260), (2010, 2016), (2100, 2106), (2204, 2210), (2266, 2272), (2297, 2303), (2618, 2624), (2635, 2657), (2679, 2685), (2800, 2806), (3088, 3094), (3222, 3228), (3591, 3597), (4123, 4129), (4241, 4247), (4262, 4268), (4329, 4360), (4366, 4381), (4396, 4402), (4406, 4412), (4559, 4571), (4609, 4615), (4984, 4990), (5406, 5412), (5450, 5456), (5468, 5476), (5509, 5519), (5526, 5533), (5537, 5559), (5565, 5571), (5600, 5607), (6018, 6026), (6030, 6037), (6668, 6674), (7110, 7116), (7142, 7148), (7548, 7554), (7756, 7762), (7839, 7845), (7879, 7885), (7890, 7896), (8099, 8105), (8303, 8309), (8339, 8345), (8417, 8424), (8430, 8442), (8502, 8508), (8527, 8533), (8549, 8577), (8624, 8630), (8640, 8646), (9025, 9039), (9274, 9280), (9307, 9313), (9344, 9350), (9366, 9375), (9419, 9435), (9486, 9492), (9543, 9557), (9561, 9567), (9583, 9598), (9618, 9624), (9656, 9662), (9826, 9832), (9849, 9872), (10130, 10136), (10269, 10275), (10459, 10465), (10498, 10504), (10595, 10601), (10667, 10673)]"
      ],
      "text/plain": [
       "<IPython.core.display.Markdown object>"
      ]
     },
     "metadata": {},
     "output_type": "display_data"
    },
    {
     "data": {
      "text/markdown": [
       "[(2, 16), (20, 31), (203, 217), (305, 311), (714, 720), (734, 759), (766, 772), (1254, 1260), (2010, 2016), (2100, 2106), (2204, 2210), (2266, 2272), (2297, 2303), (2618, 2624), (2635, 2657), (2679, 2685), (2800, 2806), (3088, 3094), (3222, 3228), (3591, 3597), (4123, 4129), (4241, 4247), (4262, 4268), (4329, 4360), (4366, 4381), (4396, 4402), (4406, 4412), (4559, 4571), (4609, 4615), (4984, 4990), (5406, 5412), (5450, 5456), (5468, 5476), (5509, 5519), (5526, 5533), (5537, 5559), (5565, 5571), (5600, 5607), (6018, 6026), (6030, 6037), (6668, 6674), (7110, 7116), (7142, 7148), (7548, 7554), (7756, 7762), (7839, 7845), (7879, 7885), (7890, 7896), (8099, 8105), (8303, 8309), (8339, 8345), (8417, 8424), (8430, 8442), (8502, 8508), (8527, 8533), (8549, 8577), (8624, 8630), (8640, 8646), (9025, 9039), (9274, 9280), (9307, 9313), (9344, 9350), (9366, 9375), (9419, 9435), (9486, 9492), (9543, 9557), (9561, 9567), (9583, 9598), (9618, 9624), (9656, 9662), (9826, 9832), (9849, 9872), (10130, 10136), (10269, 10275), (10459, 10465), (10498, 10504), (10595, 10601), (10667, 10673)]"
      ],
      "text/plain": [
       "<IPython.core.display.Markdown object>"
      ]
     },
     "metadata": {},
     "output_type": "display_data"
    },
    {
     "data": {
      "text/markdown": [
       "[(2, 16), (20, 31), (203, 217), (305, 311), (714, 720), (734, 759), (766, 772), (1254, 1260), (2010, 2016), (2100, 2106), (2204, 2210), (2266, 2272), (2297, 2303), (2618, 2624), (2635, 2657), (2679, 2685), (2800, 2806), (3088, 3094), (3222, 3228), (3591, 3597), (4123, 4129), (4241, 4247), (4262, 4268), (4329, 4360), (4366, 4381), (4396, 4402), (4406, 4412), (4559, 4571), (4609, 4615), (4984, 4990), (5406, 5412), (5450, 5456), (5468, 5476), (5509, 5519), (5526, 5533), (5537, 5559), (5565, 5571), (5600, 5607), (6018, 6026), (6030, 6037), (6668, 6674), (7110, 7116), (7142, 7148), (7548, 7554), (7756, 7762), (7839, 7845), (7879, 7885), (7890, 7896), (8099, 8105), (8303, 8309), (8339, 8345), (8417, 8424), (8430, 8442), (8502, 8508), (8527, 8533), (8549, 8577), (8624, 8630), (8640, 8646), (9025, 9039), (9274, 9280), (9307, 9313), (9344, 9350), (9366, 9375), (9419, 9435), (9486, 9492), (9543, 9557), (9561, 9567), (9583, 9598), (9618, 9624), (9656, 9662), (9826, 9832), (9849, 9872), (10130, 10136), (10269, 10275), (10459, 10465), (10498, 10504), (10595, 10601), (10667, 10673)]"
      ],
      "text/plain": [
       "<IPython.core.display.Markdown object>"
      ]
     },
     "metadata": {},
     "output_type": "display_data"
    },
    {
     "data": {
      "text/markdown": [
       "[(2, 16), (20, 31), (203, 217), (305, 311), (714, 720), (734, 759), (766, 772), (1254, 1260), (2010, 2016), (2100, 2106), (2204, 2210), (2266, 2272), (2297, 2303), (2618, 2624), (2635, 2657), (2679, 2685), (2800, 2806), (3088, 3094), (3222, 3228), (3591, 3597), (4123, 4129), (4241, 4247), (4262, 4268), (4329, 4360), (4366, 4381), (4396, 4402), (4406, 4412), (4559, 4571), (4609, 4615), (4984, 4990), (5406, 5412), (5450, 5456), (5468, 5476), (5509, 5519), (5526, 5533), (5537, 5559), (5565, 5571), (5600, 5607), (6018, 6026), (6030, 6037), (6668, 6674), (7110, 7116), (7142, 7148), (7548, 7554), (7756, 7762), (7839, 7845), (7879, 7885), (7890, 7896), (8099, 8105), (8303, 8309), (8339, 8345), (8417, 8424), (8430, 8442), (8502, 8508), (8527, 8533), (8549, 8577), (8624, 8630), (8640, 8646), (9025, 9039), (9274, 9280), (9307, 9313), (9344, 9350), (9366, 9375), (9419, 9435), (9486, 9492), (9543, 9557), (9561, 9567), (9583, 9598), (9618, 9624), (9656, 9662), (9826, 9832), (9849, 9872), (10130, 10136), (10269, 10275), (10459, 10465), (10498, 10504), (10595, 10601), (10667, 10673)]"
      ],
      "text/plain": [
       "<IPython.core.display.Markdown object>"
      ]
     },
     "metadata": {},
     "output_type": "display_data"
    },
    {
     "data": {
      "text/markdown": [
       "[(2, 16), (20, 31), (203, 217), (305, 311), (714, 720), (734, 759), (766, 772), (1254, 1260), (2010, 2016), (2100, 2106), (2204, 2210), (2266, 2272), (2297, 2303), (2618, 2624), (2635, 2657), (2679, 2685), (2800, 2806), (3088, 3094), (3222, 3228), (3591, 3597), (4123, 4129), (4241, 4247), (4262, 4268), (4329, 4360), (4366, 4381), (4396, 4402), (4406, 4412), (4559, 4571), (4609, 4615), (4984, 4990), (5406, 5412), (5450, 5456), (5468, 5476), (5509, 5519), (5526, 5533), (5537, 5559), (5565, 5571), (5600, 5607), (6018, 6026), (6030, 6037), (6668, 6674), (7110, 7116), (7142, 7148), (7548, 7554), (7756, 7762), (7839, 7845), (7879, 7885), (7890, 7896), (8099, 8105), (8303, 8309), (8339, 8345), (8417, 8424), (8430, 8442), (8502, 8508), (8527, 8533), (8549, 8577), (8624, 8630), (8640, 8646), (9025, 9039), (9274, 9280), (9307, 9313), (9344, 9350), (9366, 9375), (9419, 9435), (9486, 9492), (9543, 9557), (9561, 9567), (9583, 9598), (9618, 9624), (9656, 9662), (9826, 9832), (9849, 9872), (10130, 10136), (10269, 10275), (10459, 10465), (10498, 10504), (10595, 10601), (10667, 10673)]"
      ],
      "text/plain": [
       "<IPython.core.display.Markdown object>"
      ]
     },
     "metadata": {},
     "output_type": "display_data"
    },
    {
     "data": {
      "text/markdown": [
       "[(2, 16), (20, 31), (203, 217), (305, 311), (714, 720), (734, 759), (766, 772), (1254, 1260), (2010, 2016), (2100, 2106), (2204, 2210), (2266, 2272), (2297, 2303), (2618, 2624), (2635, 2657), (2679, 2685), (2800, 2806), (3088, 3094), (3222, 3228), (3591, 3597), (4123, 4129), (4241, 4247), (4262, 4268), (4329, 4360), (4366, 4381), (4396, 4402), (4406, 4412), (4559, 4571), (4609, 4615), (4984, 4990), (5406, 5412), (5450, 5456), (5468, 5476), (5509, 5519), (5526, 5533), (5537, 5559), (5565, 5571), (5600, 5607), (6018, 6026), (6030, 6037), (6668, 6674), (7110, 7116), (7142, 7148), (7548, 7554), (7756, 7762), (7839, 7845), (7879, 7885), (7890, 7896), (8099, 8105), (8303, 8309), (8339, 8345), (8417, 8424), (8430, 8442), (8502, 8508), (8527, 8533), (8549, 8577), (8624, 8630), (8640, 8646), (9025, 9039), (9274, 9280), (9307, 9313), (9344, 9350), (9366, 9375), (9419, 9435), (9486, 9492), (9543, 9557), (9561, 9567), (9583, 9598), (9618, 9624), (9656, 9662), (9826, 9832), (9849, 9872), (10130, 10136), (10269, 10275), (10459, 10465), (10498, 10504), (10595, 10601), (10667, 10673)]"
      ],
      "text/plain": [
       "<IPython.core.display.Markdown object>"
      ]
     },
     "metadata": {},
     "output_type": "display_data"
    },
    {
     "data": {
      "text/markdown": [
       "[(2, 16), (20, 31), (203, 217), (305, 311), (714, 720), (734, 759), (766, 772), (1254, 1260), (2010, 2016), (2100, 2106), (2204, 2210), (2266, 2272), (2297, 2303), (2618, 2624), (2635, 2657), (2679, 2685), (2800, 2806), (3088, 3094), (3222, 3228), (3591, 3597), (4123, 4129), (4241, 4247), (4262, 4268), (4329, 4360), (4366, 4381), (4396, 4402), (4406, 4412), (4559, 4571), (4609, 4615), (4984, 4990), (5406, 5412), (5450, 5456), (5468, 5476), (5509, 5519), (5526, 5533), (5537, 5559), (5565, 5571), (5600, 5607), (6018, 6026), (6030, 6037), (6668, 6674), (7110, 7116), (7142, 7148), (7548, 7554), (7756, 7762), (7839, 7845), (7879, 7885), (7890, 7896), (8099, 8105), (8303, 8309), (8339, 8345), (8417, 8424), (8430, 8442), (8502, 8508), (8527, 8533), (8549, 8577), (8624, 8630), (8640, 8646), (9025, 9039), (9274, 9280), (9307, 9313), (9344, 9350), (9366, 9375), (9419, 9435), (9486, 9492), (9543, 9557), (9561, 9567), (9583, 9598), (9618, 9624), (9656, 9662), (9826, 9832), (9849, 9872), (10130, 10136), (10269, 10275), (10459, 10465), (10498, 10504), (10595, 10601), (10667, 10673)]"
      ],
      "text/plain": [
       "<IPython.core.display.Markdown object>"
      ]
     },
     "metadata": {},
     "output_type": "display_data"
    },
    {
     "data": {
      "text/markdown": [
       "[(2, 16), (20, 31), (203, 217), (305, 311), (714, 720), (734, 759), (766, 772), (1254, 1260), (2010, 2016), (2100, 2106), (2204, 2210), (2266, 2272), (2297, 2303), (2618, 2624), (2635, 2657), (2679, 2685), (2800, 2806), (3088, 3094), (3222, 3228), (3591, 3597), (4123, 4129), (4241, 4247), (4262, 4268), (4329, 4360), (4366, 4381), (4396, 4402), (4406, 4412), (4559, 4571), (4609, 4615), (4984, 4990), (5406, 5412), (5450, 5456), (5468, 5476), (5509, 5519), (5526, 5533), (5537, 5559), (5565, 5571), (5600, 5607), (6018, 6026), (6030, 6037), (6668, 6674), (7110, 7116), (7142, 7148), (7548, 7554), (7756, 7762), (7839, 7845), (7879, 7885), (7890, 7896), (8099, 8105), (8303, 8309), (8339, 8345), (8417, 8424), (8430, 8442), (8502, 8508), (8527, 8533), (8549, 8577), (8624, 8630), (8640, 8646), (9025, 9039), (9274, 9280), (9307, 9313), (9344, 9350), (9366, 9375), (9419, 9435), (9486, 9492), (9543, 9557), (9561, 9567), (9583, 9598), (9618, 9624), (9656, 9662), (9826, 9832), (9849, 9872), (10130, 10136), (10269, 10275), (10459, 10465), (10498, 10504), (10595, 10601), (10667, 10673)]"
      ],
      "text/plain": [
       "<IPython.core.display.Markdown object>"
      ]
     },
     "metadata": {},
     "output_type": "display_data"
    },
    {
     "data": {
      "text/markdown": [
       "[(2, 16), (20, 31), (203, 217), (305, 311), (714, 720), (734, 759), (766, 772), (1254, 1260), (2010, 2016), (2100, 2106), (2204, 2210), (2266, 2272), (2297, 2303), (2618, 2624), (2635, 2657), (2679, 2685), (2800, 2806), (3088, 3094), (3222, 3228), (3591, 3597), (4123, 4129), (4241, 4247), (4262, 4268), (4329, 4360), (4366, 4381), (4396, 4402), (4406, 4412), (4559, 4571), (4609, 4615), (4984, 4990), (5406, 5412), (5450, 5456), (5468, 5476), (5509, 5519), (5526, 5533), (5537, 5559), (5565, 5571), (5600, 5607), (6018, 6026), (6030, 6037), (6668, 6674), (7110, 7116), (7142, 7148), (7548, 7554), (7756, 7762), (7839, 7845), (7879, 7885), (7890, 7896), (8099, 8105), (8303, 8309), (8339, 8345), (8417, 8424), (8430, 8442), (8502, 8508), (8527, 8533), (8549, 8577), (8624, 8630), (8640, 8646), (9025, 9039), (9274, 9280), (9307, 9313), (9344, 9350), (9366, 9375), (9419, 9435), (9486, 9492), (9543, 9557), (9561, 9567), (9583, 9598), (9618, 9624), (9656, 9662), (9826, 9832), (9849, 9872), (10130, 10136), (10269, 10275), (10459, 10465), (10498, 10504), (10595, 10601), (10667, 10673)]"
      ],
      "text/plain": [
       "<IPython.core.display.Markdown object>"
      ]
     },
     "metadata": {},
     "output_type": "display_data"
    },
    {
     "data": {
      "text/markdown": [
       "[(2, 16), (20, 31), (203, 217), (305, 311), (714, 720), (734, 759), (766, 772), (1254, 1260), (2010, 2016), (2100, 2106), (2204, 2210), (2266, 2272), (2297, 2303), (2618, 2624), (2635, 2657), (2679, 2685), (2800, 2806), (3088, 3094), (3222, 3228), (3591, 3597), (4123, 4129), (4241, 4247), (4262, 4268), (4329, 4360), (4366, 4381), (4396, 4402), (4406, 4412), (4559, 4571), (4609, 4615), (4984, 4990), (5406, 5412), (5450, 5456), (5468, 5476), (5509, 5519), (5526, 5533), (5537, 5559), (5565, 5571), (5600, 5607), (6018, 6026), (6030, 6037), (6668, 6674), (7110, 7116), (7142, 7148), (7548, 7554), (7756, 7762), (7839, 7845), (7879, 7885), (7890, 7896), (8099, 8105), (8303, 8309), (8339, 8345), (8417, 8424), (8430, 8442), (8502, 8508), (8527, 8533), (8549, 8577), (8624, 8630), (8640, 8646), (9025, 9039), (9274, 9280), (9307, 9313), (9344, 9350), (9366, 9375), (9419, 9435), (9486, 9492), (9543, 9557), (9561, 9567), (9583, 9598), (9618, 9624), (9656, 9662), (9826, 9832), (9849, 9872), (10130, 10136), (10269, 10275), (10459, 10465), (10498, 10504), (10595, 10601), (10667, 10673)]"
      ],
      "text/plain": [
       "<IPython.core.display.Markdown object>"
      ]
     },
     "metadata": {},
     "output_type": "display_data"
    },
    {
     "data": {
      "text/markdown": [
       "[(2, 16), (20, 31), (203, 217), (305, 311), (714, 720), (734, 759), (766, 772), (1254, 1260), (2010, 2016), (2100, 2106), (2204, 2210), (2266, 2272), (2297, 2303), (2618, 2624), (2635, 2657), (2679, 2685), (2800, 2806), (3088, 3094), (3222, 3228), (3591, 3597), (4123, 4129), (4241, 4247), (4262, 4268), (4329, 4360), (4366, 4381), (4396, 4402), (4406, 4412), (4559, 4571), (4609, 4615), (4984, 4990), (5406, 5412), (5450, 5456), (5468, 5476), (5509, 5519), (5526, 5533), (5537, 5559), (5565, 5571), (5600, 5607), (6018, 6026), (6030, 6037), (6668, 6674), (7110, 7116), (7142, 7148), (7548, 7554), (7756, 7762), (7839, 7845), (7879, 7885), (7890, 7896), (8099, 8105), (8303, 8309), (8339, 8345), (8417, 8424), (8430, 8442), (8502, 8508), (8527, 8533), (8549, 8577), (8624, 8630), (8640, 8646), (9025, 9039), (9274, 9280), (9307, 9313), (9344, 9350), (9366, 9375), (9419, 9435), (9486, 9492), (9543, 9557), (9561, 9567), (9583, 9598), (9618, 9624), (9656, 9662), (9826, 9832), (9849, 9872), (10130, 10136), (10269, 10275), (10459, 10465), (10498, 10504), (10595, 10601), (10667, 10673)]"
      ],
      "text/plain": [
       "<IPython.core.display.Markdown object>"
      ]
     },
     "metadata": {},
     "output_type": "display_data"
    },
    {
     "data": {
      "text/markdown": [
       "[(2, 16), (20, 31), (203, 217), (305, 311), (714, 720), (734, 759), (766, 772), (1254, 1260), (2010, 2016), (2100, 2106), (2204, 2210), (2266, 2272), (2297, 2303), (2618, 2624), (2635, 2657), (2679, 2685), (2800, 2806), (3088, 3094), (3222, 3228), (3591, 3597), (4123, 4129), (4241, 4247), (4262, 4268), (4329, 4360), (4366, 4381), (4396, 4402), (4406, 4412), (4559, 4571), (4609, 4615), (4984, 4990), (5406, 5412), (5450, 5456), (5468, 5476), (5509, 5519), (5526, 5533), (5537, 5559), (5565, 5571), (5600, 5607), (6018, 6026), (6030, 6037), (6668, 6674), (7110, 7116), (7142, 7148), (7548, 7554), (7756, 7762), (7839, 7845), (7879, 7885), (7890, 7896), (8099, 8105), (8303, 8309), (8339, 8345), (8417, 8424), (8430, 8442), (8502, 8508), (8527, 8533), (8549, 8577), (8624, 8630), (8640, 8646), (9025, 9039), (9274, 9280), (9307, 9313), (9344, 9350), (9366, 9375), (9419, 9435), (9486, 9492), (9543, 9557), (9561, 9567), (9583, 9598), (9618, 9624), (9656, 9662), (9826, 9832), (9849, 9872), (10130, 10136), (10269, 10275), (10459, 10465), (10498, 10504), (10595, 10601), (10667, 10673)]"
      ],
      "text/plain": [
       "<IPython.core.display.Markdown object>"
      ]
     },
     "metadata": {},
     "output_type": "display_data"
    },
    {
     "data": {
      "text/markdown": [
       "[(2, 16), (20, 31), (203, 217), (305, 311), (714, 720), (734, 759), (766, 772), (1254, 1260), (2010, 2016), (2100, 2106), (2204, 2210), (2266, 2272), (2297, 2303), (2618, 2624), (2635, 2657), (2679, 2685), (2800, 2806), (3088, 3094), (3222, 3228), (3591, 3597), (4123, 4129), (4241, 4247), (4262, 4268), (4329, 4360), (4366, 4381), (4396, 4402), (4406, 4412), (4559, 4571), (4609, 4615), (4984, 4990), (5406, 5412), (5450, 5456), (5468, 5476), (5509, 5519), (5526, 5533), (5537, 5559), (5565, 5571), (5600, 5607), (6018, 6026), (6030, 6037), (6668, 6674), (7110, 7116), (7142, 7148), (7548, 7554), (7756, 7762), (7839, 7845), (7879, 7885), (7890, 7896), (8099, 8105), (8303, 8309), (8339, 8345), (8417, 8424), (8430, 8442), (8502, 8508), (8527, 8533), (8549, 8577), (8624, 8630), (8640, 8646), (9025, 9039), (9274, 9280), (9307, 9313), (9344, 9350), (9366, 9375), (9419, 9435), (9486, 9492), (9543, 9557), (9561, 9567), (9583, 9598), (9618, 9624), (9656, 9662), (9826, 9832), (9849, 9872), (10130, 10136), (10269, 10275), (10459, 10465), (10498, 10504), (10595, 10601), (10667, 10673)]"
      ],
      "text/plain": [
       "<IPython.core.display.Markdown object>"
      ]
     },
     "metadata": {},
     "output_type": "display_data"
    },
    {
     "data": {
      "text/markdown": [
       "[(2, 16), (20, 31), (203, 217), (305, 311), (714, 720), (734, 759), (766, 772), (1254, 1260), (2010, 2016), (2100, 2106), (2204, 2210), (2266, 2272), (2297, 2303), (2618, 2624), (2635, 2657), (2679, 2685), (2800, 2806), (3088, 3094), (3222, 3228), (3591, 3597), (4123, 4129), (4241, 4247), (4262, 4268), (4329, 4360), (4366, 4381), (4396, 4402), (4406, 4412), (4559, 4571), (4609, 4615), (4984, 4990), (5406, 5412), (5450, 5456), (5468, 5476), (5509, 5519), (5526, 5533), (5537, 5559), (5565, 5571), (5600, 5607), (6018, 6026), (6030, 6037), (6668, 6674), (7110, 7116), (7142, 7148), (7548, 7554), (7756, 7762), (7839, 7845), (7879, 7885), (7890, 7896), (8099, 8105), (8303, 8309), (8339, 8345), (8417, 8424), (8430, 8442), (8502, 8508), (8527, 8533), (8549, 8577), (8624, 8630), (8640, 8646), (9025, 9039), (9274, 9280), (9307, 9313), (9344, 9350), (9366, 9375), (9419, 9435), (9486, 9492), (9543, 9557), (9561, 9567), (9583, 9598), (9618, 9624), (9656, 9662), (9826, 9832), (9849, 9872), (10130, 10136), (10269, 10275), (10459, 10465), (10498, 10504), (10595, 10601), (10667, 10673)]"
      ],
      "text/plain": [
       "<IPython.core.display.Markdown object>"
      ]
     },
     "metadata": {},
     "output_type": "display_data"
    },
    {
     "data": {
      "text/markdown": [
       "[(2, 16), (20, 31), (203, 217), (305, 311), (714, 720), (734, 759), (766, 772), (1254, 1260), (2010, 2016), (2100, 2106), (2204, 2210), (2266, 2272), (2297, 2303), (2618, 2624), (2635, 2657), (2679, 2685), (2800, 2806), (3088, 3094), (3222, 3228), (3591, 3597), (4123, 4129), (4241, 4247), (4262, 4268), (4329, 4360), (4366, 4381), (4396, 4402), (4406, 4412), (4559, 4571), (4609, 4615), (4984, 4990), (5406, 5412), (5450, 5456), (5468, 5476), (5509, 5519), (5526, 5533), (5537, 5559), (5565, 5571), (5600, 5607), (6018, 6026), (6030, 6037), (6668, 6674), (7110, 7116), (7142, 7148), (7548, 7554), (7756, 7762), (7839, 7845), (7879, 7885), (7890, 7896), (8099, 8105), (8303, 8309), (8339, 8345), (8417, 8424), (8430, 8442), (8502, 8508), (8527, 8533), (8549, 8577), (8624, 8630), (8640, 8646), (9025, 9039), (9274, 9280), (9307, 9313), (9344, 9350), (9366, 9375), (9419, 9435), (9486, 9492), (9543, 9557), (9561, 9567), (9583, 9598), (9618, 9624), (9656, 9662), (9826, 9832), (9849, 9872), (10130, 10136), (10269, 10275), (10459, 10465), (10498, 10504), (10595, 10601), (10667, 10673)]"
      ],
      "text/plain": [
       "<IPython.core.display.Markdown object>"
      ]
     },
     "metadata": {},
     "output_type": "display_data"
    },
    {
     "data": {
      "text/markdown": [
       "[(2, 16), (20, 31), (203, 217), (305, 311), (714, 720), (734, 759), (766, 772), (1254, 1260), (2010, 2016), (2100, 2106), (2204, 2210), (2266, 2272), (2297, 2303), (2618, 2624), (2635, 2657), (2679, 2685), (2800, 2806), (3088, 3094), (3222, 3228), (3591, 3597), (4123, 4129), (4241, 4247), (4262, 4268), (4329, 4360), (4366, 4381), (4396, 4402), (4406, 4412), (4559, 4571), (4609, 4615), (4984, 4990), (5406, 5412), (5450, 5456), (5468, 5476), (5509, 5519), (5526, 5533), (5537, 5559), (5565, 5571), (5600, 5607), (6018, 6026), (6030, 6037), (6668, 6674), (7110, 7116), (7142, 7148), (7548, 7554), (7756, 7762), (7839, 7845), (7879, 7885), (7890, 7896), (8099, 8105), (8303, 8309), (8339, 8345), (8417, 8424), (8430, 8442), (8502, 8508), (8527, 8533), (8549, 8577), (8624, 8630), (8640, 8646), (9025, 9039), (9274, 9280), (9307, 9313), (9344, 9350), (9366, 9375), (9419, 9435), (9486, 9492), (9543, 9557), (9561, 9567), (9583, 9598), (9618, 9624), (9656, 9662), (9826, 9832), (9849, 9872), (10130, 10136), (10269, 10275), (10459, 10465), (10498, 10504), (10595, 10601), (10667, 10673)]"
      ],
      "text/plain": [
       "<IPython.core.display.Markdown object>"
      ]
     },
     "metadata": {},
     "output_type": "display_data"
    },
    {
     "data": {
      "text/markdown": [
       "[(2, 16), (20, 31), (203, 217), (305, 311), (714, 720), (734, 759), (766, 772), (1254, 1260), (2010, 2016), (2100, 2106), (2204, 2210), (2266, 2272), (2297, 2303), (2618, 2624), (2635, 2657), (2679, 2685), (2800, 2806), (3088, 3094), (3222, 3228), (3591, 3597), (4123, 4129), (4241, 4247), (4262, 4268), (4329, 4360), (4366, 4381), (4396, 4402), (4406, 4412), (4559, 4571), (4609, 4615), (4984, 4990), (5406, 5412), (5450, 5456), (5468, 5476), (5509, 5519), (5526, 5533), (5537, 5559), (5565, 5571), (5600, 5607), (6018, 6026), (6030, 6037), (6668, 6674), (7110, 7116), (7142, 7148), (7548, 7554), (7756, 7762), (7839, 7845), (7879, 7885), (7890, 7896), (8099, 8105), (8303, 8309), (8339, 8345), (8417, 8424), (8430, 8442), (8502, 8508), (8527, 8533), (8549, 8577), (8624, 8630), (8640, 8646), (9025, 9039), (9274, 9280), (9307, 9313), (9344, 9350), (9366, 9375), (9419, 9435), (9486, 9492), (9543, 9557), (9561, 9567), (9583, 9598), (9618, 9624), (9656, 9662), (9826, 9832), (9849, 9872), (10130, 10136), (10269, 10275), (10459, 10465), (10498, 10504), (10595, 10601), (10667, 10673)]"
      ],
      "text/plain": [
       "<IPython.core.display.Markdown object>"
      ]
     },
     "metadata": {},
     "output_type": "display_data"
    },
    {
     "data": {
      "text/markdown": [
       "[(2, 16), (20, 31), (203, 217), (305, 311), (714, 720), (734, 759), (766, 772), (1254, 1260), (2010, 2016), (2100, 2106), (2204, 2210), (2266, 2272), (2297, 2303), (2618, 2624), (2635, 2657), (2679, 2685), (2800, 2806), (3088, 3094), (3222, 3228), (3591, 3597), (4123, 4129), (4241, 4247), (4262, 4268), (4329, 4360), (4366, 4381), (4396, 4402), (4406, 4412), (4559, 4571), (4609, 4615), (4984, 4990), (5406, 5412), (5450, 5456), (5468, 5476), (5509, 5519), (5526, 5533), (5537, 5559), (5565, 5571), (5600, 5607), (6018, 6026), (6030, 6037), (6668, 6674), (7110, 7116), (7142, 7148), (7548, 7554), (7756, 7762), (7839, 7845), (7879, 7885), (7890, 7896), (8099, 8105), (8303, 8309), (8339, 8345), (8417, 8424), (8430, 8442), (8502, 8508), (8527, 8533), (8549, 8577), (8624, 8630), (8640, 8646), (9025, 9039), (9274, 9280), (9307, 9313), (9344, 9350), (9366, 9375), (9419, 9435), (9486, 9492), (9543, 9557), (9561, 9567), (9583, 9598), (9618, 9624), (9656, 9662), (9826, 9832), (9849, 9872), (10130, 10136), (10269, 10275), (10459, 10465), (10498, 10504), (10595, 10601), (10667, 10673)]"
      ],
      "text/plain": [
       "<IPython.core.display.Markdown object>"
      ]
     },
     "metadata": {},
     "output_type": "display_data"
    },
    {
     "data": {
      "text/markdown": [
       "[(2, 16), (20, 31), (203, 217), (305, 311), (714, 720), (734, 759), (766, 772), (1254, 1260), (2010, 2016), (2100, 2106), (2204, 2210), (2266, 2272), (2297, 2303), (2618, 2624), (2635, 2657), (2679, 2685), (2800, 2806), (3088, 3094), (3222, 3228), (3591, 3597), (4123, 4129), (4241, 4247), (4262, 4268), (4329, 4360), (4366, 4381), (4396, 4402), (4406, 4412), (4559, 4571), (4609, 4615), (4984, 4990), (5406, 5412), (5450, 5456), (5468, 5476), (5509, 5519), (5526, 5533), (5537, 5559), (5565, 5571), (5600, 5607), (6018, 6026), (6030, 6037), (6668, 6674), (7110, 7116), (7142, 7148), (7548, 7554), (7756, 7762), (7839, 7845), (7879, 7885), (7890, 7896), (8099, 8105), (8303, 8309), (8339, 8345), (8417, 8424), (8430, 8442), (8502, 8508), (8527, 8533), (8549, 8577), (8624, 8630), (8640, 8646), (9025, 9039), (9274, 9280), (9307, 9313), (9344, 9350), (9366, 9375), (9419, 9435), (9486, 9492), (9543, 9557), (9561, 9567), (9583, 9598), (9618, 9624), (9656, 9662), (9826, 9832), (9849, 9872), (10130, 10136), (10269, 10275), (10459, 10465), (10498, 10504), (10595, 10601), (10667, 10673)]"
      ],
      "text/plain": [
       "<IPython.core.display.Markdown object>"
      ]
     },
     "metadata": {},
     "output_type": "display_data"
    },
    {
     "data": {
      "text/markdown": [
       "[(2, 16), (20, 31), (203, 217), (305, 311), (714, 720), (734, 759), (766, 772), (1254, 1260), (2010, 2016), (2100, 2106), (2204, 2210), (2266, 2272), (2297, 2303), (2618, 2624), (2635, 2657), (2679, 2685), (2800, 2806), (3088, 3094), (3222, 3228), (3591, 3597), (4123, 4129), (4241, 4247), (4262, 4268), (4329, 4360), (4366, 4381), (4396, 4402), (4406, 4412), (4559, 4571), (4609, 4615), (4984, 4990), (5406, 5412), (5450, 5456), (5468, 5476), (5509, 5519), (5526, 5533), (5537, 5559), (5565, 5571), (5600, 5607), (6018, 6026), (6030, 6037), (6668, 6674), (7110, 7116), (7142, 7148), (7548, 7554), (7756, 7762), (7839, 7845), (7879, 7885), (7890, 7896), (8099, 8105), (8303, 8309), (8339, 8345), (8417, 8424), (8430, 8442), (8502, 8508), (8527, 8533), (8549, 8577), (8624, 8630), (8640, 8646), (9025, 9039), (9274, 9280), (9307, 9313), (9344, 9350), (9366, 9375), (9419, 9435), (9486, 9492), (9543, 9557), (9561, 9567), (9583, 9598), (9618, 9624), (9656, 9662), (9826, 9832), (9849, 9872), (10130, 10136), (10269, 10275), (10459, 10465), (10498, 10504), (10595, 10601), (10667, 10673)]"
      ],
      "text/plain": [
       "<IPython.core.display.Markdown object>"
      ]
     },
     "metadata": {},
     "output_type": "display_data"
    },
    {
     "data": {
      "text/markdown": [
       "[(2, 16), (20, 31), (203, 217), (305, 311), (714, 720), (734, 759), (766, 772), (1254, 1260), (2010, 2016), (2100, 2106), (2204, 2210), (2266, 2272), (2297, 2303), (2618, 2624), (2635, 2657), (2679, 2685), (2800, 2806), (3088, 3094), (3222, 3228), (3591, 3597), (4123, 4129), (4241, 4247), (4262, 4268), (4329, 4360), (4366, 4381), (4396, 4402), (4406, 4412), (4559, 4571), (4609, 4615), (4984, 4990), (5406, 5412), (5450, 5456), (5468, 5476), (5509, 5519), (5526, 5533), (5537, 5559), (5565, 5571), (5600, 5607), (6018, 6026), (6030, 6037), (6668, 6674), (7110, 7116), (7142, 7148), (7548, 7554), (7756, 7762), (7839, 7845), (7879, 7885), (7890, 7896), (8099, 8105), (8303, 8309), (8339, 8345), (8417, 8424), (8430, 8442), (8502, 8508), (8527, 8533), (8549, 8577), (8624, 8630), (8640, 8646), (9025, 9039), (9274, 9280), (9307, 9313), (9344, 9350), (9366, 9375), (9419, 9435), (9486, 9492), (9543, 9557), (9561, 9567), (9583, 9598), (9618, 9624), (9656, 9662), (9826, 9832), (9849, 9872), (10130, 10136), (10269, 10275), (10459, 10465), (10498, 10504), (10595, 10601), (10667, 10673)]"
      ],
      "text/plain": [
       "<IPython.core.display.Markdown object>"
      ]
     },
     "metadata": {},
     "output_type": "display_data"
    },
    {
     "data": {
      "text/markdown": [
       "[(2, 16), (20, 31), (203, 217), (305, 311), (714, 720), (734, 759), (766, 772), (1254, 1260), (2010, 2016), (2100, 2106), (2204, 2210), (2266, 2272), (2297, 2303), (2618, 2624), (2635, 2657), (2679, 2685), (2800, 2806), (3088, 3094), (3222, 3228), (3591, 3597), (4123, 4129), (4241, 4247), (4262, 4268), (4329, 4360), (4366, 4381), (4396, 4402), (4406, 4412), (4559, 4571), (4609, 4615), (4984, 4990), (5406, 5412), (5450, 5456), (5468, 5476), (5509, 5519), (5526, 5533), (5537, 5559), (5565, 5571), (5600, 5607), (6018, 6026), (6030, 6037), (6668, 6674), (7110, 7116), (7142, 7148), (7548, 7554), (7756, 7762), (7839, 7845), (7879, 7885), (7890, 7896), (8099, 8105), (8303, 8309), (8339, 8345), (8417, 8424), (8430, 8442), (8502, 8508), (8527, 8533), (8549, 8577), (8624, 8630), (8640, 8646), (9025, 9039), (9274, 9280), (9307, 9313), (9344, 9350), (9366, 9375), (9419, 9435), (9486, 9492), (9543, 9557), (9561, 9567), (9583, 9598), (9618, 9624), (9656, 9662), (9826, 9832), (9849, 9872), (10130, 10136), (10269, 10275), (10459, 10465), (10498, 10504), (10595, 10601), (10667, 10673)]"
      ],
      "text/plain": [
       "<IPython.core.display.Markdown object>"
      ]
     },
     "metadata": {},
     "output_type": "display_data"
    },
    {
     "data": {
      "text/markdown": [
       "[(2, 16), (20, 31), (203, 217), (305, 311), (714, 720), (734, 759), (766, 772), (1254, 1260), (2010, 2016), (2100, 2106), (2204, 2210), (2266, 2272), (2297, 2303), (2618, 2624), (2635, 2657), (2679, 2685), (2800, 2806), (3088, 3094), (3222, 3228), (3591, 3597), (4123, 4129), (4241, 4247), (4262, 4268), (4329, 4360), (4366, 4381), (4396, 4402), (4406, 4412), (4559, 4571), (4609, 4615), (4984, 4990), (5406, 5412), (5450, 5456), (5468, 5476), (5509, 5519), (5526, 5533), (5537, 5559), (5565, 5571), (5600, 5607), (6018, 6026), (6030, 6037), (6668, 6674), (7110, 7116), (7142, 7148), (7548, 7554), (7756, 7762), (7839, 7845), (7879, 7885), (7890, 7896), (8099, 8105), (8303, 8309), (8339, 8345), (8417, 8424), (8430, 8442), (8502, 8508), (8527, 8533), (8549, 8577), (8624, 8630), (8640, 8646), (9025, 9039), (9274, 9280), (9307, 9313), (9344, 9350), (9366, 9375), (9419, 9435), (9486, 9492), (9543, 9557), (9561, 9567), (9583, 9598), (9618, 9624), (9656, 9662), (9826, 9832), (9849, 9872), (10130, 10136), (10269, 10275), (10459, 10465), (10498, 10504), (10595, 10601), (10667, 10673)]"
      ],
      "text/plain": [
       "<IPython.core.display.Markdown object>"
      ]
     },
     "metadata": {},
     "output_type": "display_data"
    },
    {
     "data": {
      "text/markdown": [
       "[(2, 16), (20, 31), (203, 217), (305, 311), (714, 720), (734, 759), (766, 772), (1254, 1260), (2010, 2016), (2100, 2106), (2204, 2210), (2266, 2272), (2297, 2303), (2618, 2624), (2635, 2657), (2679, 2685), (2800, 2806), (3088, 3094), (3222, 3228), (3591, 3597), (4123, 4129), (4241, 4247), (4262, 4268), (4329, 4360), (4366, 4381), (4396, 4402), (4406, 4412), (4559, 4571), (4609, 4615), (4984, 4990), (5406, 5412), (5450, 5456), (5468, 5476), (5509, 5519), (5526, 5533), (5537, 5559), (5565, 5571), (5600, 5607), (6018, 6026), (6030, 6037), (6668, 6674), (7110, 7116), (7142, 7148), (7548, 7554), (7756, 7762), (7839, 7845), (7879, 7885), (7890, 7896), (8099, 8105), (8303, 8309), (8339, 8345), (8417, 8424), (8430, 8442), (8502, 8508), (8527, 8533), (8549, 8577), (8624, 8630), (8640, 8646), (9025, 9039), (9274, 9280), (9307, 9313), (9344, 9350), (9366, 9375), (9419, 9435), (9486, 9492), (9543, 9557), (9561, 9567), (9583, 9598), (9618, 9624), (9656, 9662), (9826, 9832), (9849, 9872), (10130, 10136), (10269, 10275), (10459, 10465), (10498, 10504), (10595, 10601), (10667, 10673)]"
      ],
      "text/plain": [
       "<IPython.core.display.Markdown object>"
      ]
     },
     "metadata": {},
     "output_type": "display_data"
    },
    {
     "data": {
      "text/markdown": [
       "[(2, 16), (20, 31), (203, 217), (305, 311), (714, 720), (734, 759), (766, 772), (1254, 1260), (2010, 2016), (2100, 2106), (2204, 2210), (2266, 2272), (2297, 2303), (2618, 2624), (2635, 2657), (2679, 2685), (2800, 2806), (3088, 3094), (3222, 3228), (3591, 3597), (4123, 4129), (4241, 4247), (4262, 4268), (4329, 4360), (4366, 4381), (4396, 4402), (4406, 4412), (4559, 4571), (4609, 4615), (4984, 4990), (5406, 5412), (5450, 5456), (5468, 5476), (5509, 5519), (5526, 5533), (5537, 5559), (5565, 5571), (5600, 5607), (6018, 6026), (6030, 6037), (6668, 6674), (7110, 7116), (7142, 7148), (7548, 7554), (7756, 7762), (7839, 7845), (7879, 7885), (7890, 7896), (8099, 8105), (8303, 8309), (8339, 8345), (8417, 8424), (8430, 8442), (8502, 8508), (8527, 8533), (8549, 8577), (8624, 8630), (8640, 8646), (9025, 9039), (9274, 9280), (9307, 9313), (9344, 9350), (9366, 9375), (9419, 9435), (9486, 9492), (9543, 9557), (9561, 9567), (9583, 9598), (9618, 9624), (9656, 9662), (9826, 9832), (9849, 9872), (10130, 10136), (10269, 10275), (10459, 10465), (10498, 10504), (10595, 10601), (10667, 10673)]"
      ],
      "text/plain": [
       "<IPython.core.display.Markdown object>"
      ]
     },
     "metadata": {},
     "output_type": "display_data"
    },
    {
     "data": {
      "text/markdown": [
       "[(2, 16), (20, 31), (203, 217), (305, 311), (714, 720), (734, 759), (766, 772), (1254, 1260), (2010, 2016), (2100, 2106), (2204, 2210), (2266, 2272), (2297, 2303), (2618, 2624), (2635, 2657), (2679, 2685), (2800, 2806), (3088, 3094), (3222, 3228), (3591, 3597), (4123, 4129), (4241, 4247), (4262, 4268), (4329, 4360), (4366, 4381), (4396, 4402), (4406, 4412), (4559, 4571), (4609, 4615), (4984, 4990), (5406, 5412), (5450, 5456), (5468, 5476), (5509, 5519), (5526, 5533), (5537, 5559), (5565, 5571), (5600, 5607), (6018, 6026), (6030, 6037), (6668, 6674), (7110, 7116), (7142, 7148), (7548, 7554), (7756, 7762), (7839, 7845), (7879, 7885), (7890, 7896), (8099, 8105), (8303, 8309), (8339, 8345), (8417, 8424), (8430, 8442), (8502, 8508), (8527, 8533), (8549, 8577), (8624, 8630), (8640, 8646), (9025, 9039), (9274, 9280), (9307, 9313), (9344, 9350), (9366, 9375), (9419, 9435), (9486, 9492), (9543, 9557), (9561, 9567), (9583, 9598), (9618, 9624), (9656, 9662), (9826, 9832), (9849, 9872), (10130, 10136), (10269, 10275), (10459, 10465), (10498, 10504), (10595, 10601), (10667, 10673)]"
      ],
      "text/plain": [
       "<IPython.core.display.Markdown object>"
      ]
     },
     "metadata": {},
     "output_type": "display_data"
    },
    {
     "data": {
      "text/markdown": [
       "[(2, 16), (20, 31), (203, 217), (305, 311), (714, 720), (734, 759), (766, 772), (1254, 1260), (2010, 2016), (2100, 2106), (2204, 2210), (2266, 2272), (2297, 2303), (2618, 2624), (2635, 2657), (2679, 2685), (2800, 2806), (3088, 3094), (3222, 3228), (3591, 3597), (4123, 4129), (4241, 4247), (4262, 4268), (4329, 4360), (4366, 4381), (4396, 4402), (4406, 4412), (4559, 4571), (4609, 4615), (4984, 4990), (5406, 5412), (5450, 5456), (5468, 5476), (5509, 5519), (5526, 5533), (5537, 5559), (5565, 5571), (5600, 5607), (6018, 6026), (6030, 6037), (6668, 6674), (7110, 7116), (7142, 7148), (7548, 7554), (7756, 7762), (7839, 7845), (7879, 7885), (7890, 7896), (8099, 8105), (8303, 8309), (8339, 8345), (8417, 8424), (8430, 8442), (8502, 8508), (8527, 8533), (8549, 8577), (8624, 8630), (8640, 8646), (9025, 9039), (9274, 9280), (9307, 9313), (9344, 9350), (9366, 9375), (9419, 9435), (9486, 9492), (9543, 9557), (9561, 9567), (9583, 9598), (9618, 9624), (9656, 9662), (9826, 9832), (9849, 9872), (10130, 10136), (10269, 10275), (10459, 10465), (10498, 10504), (10595, 10601), (10667, 10673)]"
      ],
      "text/plain": [
       "<IPython.core.display.Markdown object>"
      ]
     },
     "metadata": {},
     "output_type": "display_data"
    },
    {
     "data": {
      "text/markdown": [
       "[(2, 16), (20, 31), (203, 217), (305, 311), (714, 720), (734, 759), (766, 772), (1254, 1260), (2010, 2016), (2100, 2106), (2204, 2210), (2266, 2272), (2297, 2303), (2618, 2624), (2635, 2657), (2679, 2685), (2800, 2806), (3088, 3094), (3222, 3228), (3591, 3597), (4123, 4129), (4241, 4247), (4262, 4268), (4329, 4360), (4366, 4381), (4396, 4402), (4406, 4412), (4559, 4571), (4609, 4615), (4984, 4990), (5406, 5412), (5450, 5456), (5468, 5476), (5509, 5519), (5526, 5533), (5537, 5559), (5565, 5571), (5600, 5607), (6018, 6026), (6030, 6037), (6668, 6674), (7110, 7116), (7142, 7148), (7548, 7554), (7756, 7762), (7839, 7845), (7879, 7885), (7890, 7896), (8099, 8105), (8303, 8309), (8339, 8345), (8417, 8424), (8430, 8442), (8502, 8508), (8527, 8533), (8549, 8577), (8624, 8630), (8640, 8646), (9025, 9039), (9274, 9280), (9307, 9313), (9344, 9350), (9366, 9375), (9419, 9435), (9486, 9492), (9543, 9557), (9561, 9567), (9583, 9598), (9618, 9624), (9656, 9662), (9826, 9832), (9849, 9872), (10130, 10136), (10269, 10275), (10459, 10465), (10498, 10504), (10595, 10601), (10667, 10673)]"
      ],
      "text/plain": [
       "<IPython.core.display.Markdown object>"
      ]
     },
     "metadata": {},
     "output_type": "display_data"
    },
    {
     "data": {
      "text/markdown": [
       "[(2, 16), (20, 31), (203, 217), (305, 311), (714, 720), (734, 759), (766, 772), (1254, 1260), (2010, 2016), (2100, 2106), (2204, 2210), (2266, 2272), (2297, 2303), (2618, 2624), (2635, 2657), (2679, 2685), (2800, 2806), (3088, 3094), (3222, 3228), (3591, 3597), (4123, 4129), (4241, 4247), (4262, 4268), (4329, 4360), (4366, 4381), (4396, 4402), (4406, 4412), (4559, 4571), (4609, 4615), (4984, 4990), (5406, 5412), (5450, 5456), (5468, 5476), (5509, 5519), (5526, 5533), (5537, 5559), (5565, 5571), (5600, 5607), (6018, 6026), (6030, 6037), (6668, 6674), (7110, 7116), (7142, 7148), (7548, 7554), (7756, 7762), (7839, 7845), (7879, 7885), (7890, 7896), (8099, 8105), (8303, 8309), (8339, 8345), (8417, 8424), (8430, 8442), (8502, 8508), (8527, 8533), (8549, 8577), (8624, 8630), (8640, 8646), (9025, 9039), (9274, 9280), (9307, 9313), (9344, 9350), (9366, 9375), (9419, 9435), (9486, 9492), (9543, 9557), (9561, 9567), (9583, 9598), (9618, 9624), (9656, 9662), (9826, 9832), (9849, 9872), (10130, 10136), (10269, 10275), (10459, 10465), (10498, 10504), (10595, 10601), (10667, 10673)]"
      ],
      "text/plain": [
       "<IPython.core.display.Markdown object>"
      ]
     },
     "metadata": {},
     "output_type": "display_data"
    },
    {
     "data": {
      "text/markdown": [
       "[(2, 16), (20, 31), (203, 217), (305, 311), (714, 720), (734, 759), (766, 772), (1254, 1260), (2010, 2016), (2100, 2106), (2204, 2210), (2266, 2272), (2297, 2303), (2618, 2624), (2635, 2657), (2679, 2685), (2800, 2806), (3088, 3094), (3222, 3228), (3591, 3597), (4123, 4129), (4241, 4247), (4262, 4268), (4329, 4360), (4366, 4381), (4396, 4402), (4406, 4412), (4559, 4571), (4609, 4615), (4984, 4990), (5406, 5412), (5450, 5456), (5468, 5476), (5509, 5519), (5526, 5533), (5537, 5559), (5565, 5571), (5600, 5607), (6018, 6026), (6030, 6037), (6668, 6674), (7110, 7116), (7142, 7148), (7548, 7554), (7756, 7762), (7839, 7845), (7879, 7885), (7890, 7896), (8099, 8105), (8303, 8309), (8339, 8345), (8417, 8424), (8430, 8442), (8502, 8508), (8527, 8533), (8549, 8577), (8624, 8630), (8640, 8646), (9025, 9039), (9274, 9280), (9307, 9313), (9344, 9350), (9366, 9375), (9419, 9435), (9486, 9492), (9543, 9557), (9561, 9567), (9583, 9598), (9618, 9624), (9656, 9662), (9826, 9832), (9849, 9872), (10130, 10136), (10269, 10275), (10459, 10465), (10498, 10504), (10595, 10601), (10667, 10673)]"
      ],
      "text/plain": [
       "<IPython.core.display.Markdown object>"
      ]
     },
     "metadata": {},
     "output_type": "display_data"
    },
    {
     "data": {
      "text/markdown": [
       "[(2, 16), (20, 31), (203, 217), (305, 311), (714, 720), (734, 759), (766, 772), (1254, 1260), (2010, 2016), (2100, 2106), (2204, 2210), (2266, 2272), (2297, 2303), (2618, 2624), (2635, 2657), (2679, 2685), (2800, 2806), (3088, 3094), (3222, 3228), (3591, 3597), (4123, 4129), (4241, 4247), (4262, 4268), (4329, 4360), (4366, 4381), (4396, 4402), (4406, 4412), (4559, 4571), (4609, 4615), (4984, 4990), (5406, 5412), (5450, 5456), (5468, 5476), (5509, 5519), (5526, 5533), (5537, 5559), (5565, 5571), (5600, 5607), (6018, 6026), (6030, 6037), (6668, 6674), (7110, 7116), (7142, 7148), (7548, 7554), (7756, 7762), (7839, 7845), (7879, 7885), (7890, 7896), (8099, 8105), (8303, 8309), (8339, 8345), (8417, 8424), (8430, 8442), (8502, 8508), (8527, 8533), (8549, 8577), (8624, 8630), (8640, 8646), (9025, 9039), (9274, 9280), (9307, 9313), (9344, 9350), (9366, 9375), (9419, 9435), (9486, 9492), (9543, 9557), (9561, 9567), (9583, 9598), (9618, 9624), (9656, 9662), (9826, 9832), (9849, 9872), (10130, 10136), (10269, 10275), (10459, 10465), (10498, 10504), (10595, 10601), (10667, 10673)]"
      ],
      "text/plain": [
       "<IPython.core.display.Markdown object>"
      ]
     },
     "metadata": {},
     "output_type": "display_data"
    },
    {
     "data": {
      "text/markdown": [
       "[(2, 16), (20, 31), (203, 217), (305, 311), (714, 720), (734, 759), (766, 772), (1254, 1260), (2010, 2016), (2100, 2106), (2204, 2210), (2266, 2272), (2297, 2303), (2618, 2624), (2635, 2657), (2679, 2685), (2800, 2806), (3088, 3094), (3222, 3228), (3591, 3597), (4123, 4129), (4241, 4247), (4262, 4268), (4329, 4360), (4366, 4381), (4396, 4402), (4406, 4412), (4559, 4571), (4609, 4615), (4984, 4990), (5406, 5412), (5450, 5456), (5468, 5476), (5509, 5519), (5526, 5533), (5537, 5559), (5565, 5571), (5600, 5607), (6018, 6026), (6030, 6037), (6668, 6674), (7110, 7116), (7142, 7148), (7548, 7554), (7756, 7762), (7839, 7845), (7879, 7885), (7890, 7896), (8099, 8105), (8303, 8309), (8339, 8345), (8417, 8424), (8430, 8442), (8502, 8508), (8527, 8533), (8549, 8577), (8624, 8630), (8640, 8646), (9025, 9039), (9274, 9280), (9307, 9313), (9344, 9350), (9366, 9375), (9419, 9435), (9486, 9492), (9543, 9557), (9561, 9567), (9583, 9598), (9618, 9624), (9656, 9662), (9826, 9832), (9849, 9872), (10130, 10136), (10269, 10275), (10459, 10465), (10498, 10504), (10595, 10601), (10667, 10673)]"
      ],
      "text/plain": [
       "<IPython.core.display.Markdown object>"
      ]
     },
     "metadata": {},
     "output_type": "display_data"
    },
    {
     "data": {
      "text/markdown": [
       "[(2, 16), (20, 31), (203, 217), (305, 311), (714, 720), (734, 759), (766, 772), (1254, 1260), (2010, 2016), (2100, 2106), (2204, 2210), (2266, 2272), (2297, 2303), (2618, 2624), (2635, 2657), (2679, 2685), (2800, 2806), (3088, 3094), (3222, 3228), (3591, 3597), (4123, 4129), (4241, 4247), (4262, 4268), (4329, 4360), (4366, 4381), (4396, 4402), (4406, 4412), (4559, 4571), (4609, 4615), (4984, 4990), (5406, 5412), (5450, 5456), (5468, 5476), (5509, 5519), (5526, 5533), (5537, 5559), (5565, 5571), (5600, 5607), (6018, 6026), (6030, 6037), (6668, 6674), (7110, 7116), (7142, 7148), (7548, 7554), (7756, 7762), (7839, 7845), (7879, 7885), (7890, 7896), (8099, 8105), (8303, 8309), (8339, 8345), (8417, 8424), (8430, 8442), (8502, 8508), (8527, 8533), (8549, 8577), (8624, 8630), (8640, 8646), (9025, 9039), (9274, 9280), (9307, 9313), (9344, 9350), (9366, 9375), (9419, 9435), (9486, 9492), (9543, 9557), (9561, 9567), (9583, 9598), (9618, 9624), (9656, 9662), (9826, 9832), (9849, 9872), (10130, 10136), (10269, 10275), (10459, 10465), (10498, 10504), (10595, 10601), (10667, 10673)]"
      ],
      "text/plain": [
       "<IPython.core.display.Markdown object>"
      ]
     },
     "metadata": {},
     "output_type": "display_data"
    },
    {
     "data": {
      "text/markdown": [
       "[(2, 16), (20, 31), (203, 217), (305, 311), (714, 720), (734, 759), (766, 772), (1254, 1260), (2010, 2016), (2100, 2106), (2204, 2210), (2266, 2272), (2297, 2303), (2618, 2624), (2635, 2657), (2679, 2685), (2800, 2806), (3088, 3094), (3222, 3228), (3591, 3597), (4123, 4129), (4241, 4247), (4262, 4268), (4329, 4360), (4366, 4381), (4396, 4402), (4406, 4412), (4559, 4571), (4609, 4615), (4984, 4990), (5406, 5412), (5450, 5456), (5468, 5476), (5509, 5519), (5526, 5533), (5537, 5559), (5565, 5571), (5600, 5607), (6018, 6026), (6030, 6037), (6668, 6674), (7110, 7116), (7142, 7148), (7548, 7554), (7756, 7762), (7839, 7845), (7879, 7885), (7890, 7896), (8099, 8105), (8303, 8309), (8339, 8345), (8417, 8424), (8430, 8442), (8502, 8508), (8527, 8533), (8549, 8577), (8624, 8630), (8640, 8646), (9025, 9039), (9274, 9280), (9307, 9313), (9344, 9350), (9366, 9375), (9419, 9435), (9486, 9492), (9543, 9557), (9561, 9567), (9583, 9598), (9618, 9624), (9656, 9662), (9826, 9832), (9849, 9872), (10130, 10136), (10269, 10275), (10459, 10465), (10498, 10504), (10595, 10601), (10667, 10673)]"
      ],
      "text/plain": [
       "<IPython.core.display.Markdown object>"
      ]
     },
     "metadata": {},
     "output_type": "display_data"
    },
    {
     "data": {
      "text/markdown": [
       "[(2, 16), (20, 31), (203, 217), (305, 311), (714, 720), (734, 759), (766, 772), (1254, 1260), (2010, 2016), (2100, 2106), (2204, 2210), (2266, 2272), (2297, 2303), (2618, 2624), (2635, 2657), (2679, 2685), (2800, 2806), (3088, 3094), (3222, 3228), (3591, 3597), (4123, 4129), (4241, 4247), (4262, 4268), (4329, 4360), (4366, 4381), (4396, 4402), (4406, 4412), (4559, 4571), (4609, 4615), (4984, 4990), (5406, 5412), (5450, 5456), (5468, 5476), (5509, 5519), (5526, 5533), (5537, 5559), (5565, 5571), (5600, 5607), (6018, 6026), (6030, 6037), (6668, 6674), (7110, 7116), (7142, 7148), (7548, 7554), (7756, 7762), (7839, 7845), (7879, 7885), (7890, 7896), (8099, 8105), (8303, 8309), (8339, 8345), (8417, 8424), (8430, 8442), (8502, 8508), (8527, 8533), (8549, 8577), (8624, 8630), (8640, 8646), (9025, 9039), (9274, 9280), (9307, 9313), (9344, 9350), (9366, 9375), (9419, 9435), (9486, 9492), (9543, 9557), (9561, 9567), (9583, 9598), (9618, 9624), (9656, 9662), (9826, 9832), (9849, 9872), (10130, 10136), (10269, 10275), (10459, 10465), (10498, 10504), (10595, 10601), (10667, 10673)]"
      ],
      "text/plain": [
       "<IPython.core.display.Markdown object>"
      ]
     },
     "metadata": {},
     "output_type": "display_data"
    },
    {
     "data": {
      "text/markdown": [
       "[(2, 16), (20, 31), (203, 217), (305, 311), (714, 720), (734, 759), (766, 772), (1254, 1260), (2010, 2016), (2100, 2106), (2204, 2210), (2266, 2272), (2297, 2303), (2618, 2624), (2635, 2657), (2679, 2685), (2800, 2806), (3088, 3094), (3222, 3228), (3591, 3597), (4123, 4129), (4241, 4247), (4262, 4268), (4329, 4360), (4366, 4381), (4396, 4402), (4406, 4412), (4559, 4571), (4609, 4615), (4984, 4990), (5406, 5412), (5450, 5456), (5468, 5476), (5509, 5519), (5526, 5533), (5537, 5559), (5565, 5571), (5600, 5607), (6018, 6026), (6030, 6037), (6668, 6674), (7110, 7116), (7142, 7148), (7548, 7554), (7756, 7762), (7839, 7845), (7879, 7885), (7890, 7896), (8099, 8105), (8303, 8309), (8339, 8345), (8417, 8424), (8430, 8442), (8502, 8508), (8527, 8533), (8549, 8577), (8624, 8630), (8640, 8646), (9025, 9039), (9274, 9280), (9307, 9313), (9344, 9350), (9366, 9375), (9419, 9435), (9486, 9492), (9543, 9557), (9561, 9567), (9583, 9598), (9618, 9624), (9656, 9662), (9826, 9832), (9849, 9872), (10130, 10136), (10269, 10275), (10459, 10465), (10498, 10504), (10595, 10601), (10667, 10673)]"
      ],
      "text/plain": [
       "<IPython.core.display.Markdown object>"
      ]
     },
     "metadata": {},
     "output_type": "display_data"
    },
    {
     "data": {
      "text/markdown": [
       "[(2, 16), (20, 31), (203, 217), (305, 311), (714, 720), (734, 759), (766, 772), (1254, 1260), (2010, 2016), (2100, 2106), (2204, 2210), (2266, 2272), (2297, 2303), (2618, 2624), (2635, 2657), (2679, 2685), (2800, 2806), (3088, 3094), (3222, 3228), (3591, 3597), (4123, 4129), (4241, 4247), (4262, 4268), (4329, 4360), (4366, 4381), (4396, 4402), (4406, 4412), (4559, 4571), (4609, 4615), (4984, 4990), (5406, 5412), (5450, 5456), (5468, 5476), (5509, 5519), (5526, 5533), (5537, 5559), (5565, 5571), (5600, 5607), (6018, 6026), (6030, 6037), (6668, 6674), (7110, 7116), (7142, 7148), (7548, 7554), (7756, 7762), (7839, 7845), (7879, 7885), (7890, 7896), (8099, 8105), (8303, 8309), (8339, 8345), (8417, 8424), (8430, 8442), (8502, 8508), (8527, 8533), (8549, 8577), (8624, 8630), (8640, 8646), (9025, 9039), (9274, 9280), (9307, 9313), (9344, 9350), (9366, 9375), (9419, 9435), (9486, 9492), (9543, 9557), (9561, 9567), (9583, 9598), (9618, 9624), (9656, 9662), (9826, 9832), (9849, 9872), (10130, 10136), (10269, 10275), (10459, 10465), (10498, 10504), (10595, 10601), (10667, 10673)]"
      ],
      "text/plain": [
       "<IPython.core.display.Markdown object>"
      ]
     },
     "metadata": {},
     "output_type": "display_data"
    },
    {
     "data": {
      "text/markdown": [
       "[(2, 16), (20, 31), (203, 217), (305, 311), (714, 720), (734, 759), (766, 772), (1254, 1260), (2010, 2016), (2100, 2106), (2204, 2210), (2266, 2272), (2297, 2303), (2618, 2624), (2635, 2657), (2679, 2685), (2800, 2806), (3088, 3094), (3222, 3228), (3591, 3597), (4123, 4129), (4241, 4247), (4262, 4268), (4329, 4360), (4366, 4381), (4396, 4402), (4406, 4412), (4559, 4571), (4609, 4615), (4984, 4990), (5406, 5412), (5450, 5456), (5468, 5476), (5509, 5519), (5526, 5533), (5537, 5559), (5565, 5571), (5600, 5607), (6018, 6026), (6030, 6037), (6668, 6674), (7110, 7116), (7142, 7148), (7548, 7554), (7756, 7762), (7839, 7845), (7879, 7885), (7890, 7896), (8099, 8105), (8303, 8309), (8339, 8345), (8417, 8424), (8430, 8442), (8502, 8508), (8527, 8533), (8549, 8577), (8624, 8630), (8640, 8646), (9025, 9039), (9274, 9280), (9307, 9313), (9344, 9350), (9366, 9375), (9419, 9435), (9486, 9492), (9543, 9557), (9561, 9567), (9583, 9598), (9618, 9624), (9656, 9662), (9826, 9832), (9849, 9872), (10130, 10136), (10269, 10275), (10459, 10465), (10498, 10504), (10595, 10601), (10667, 10673)]"
      ],
      "text/plain": [
       "<IPython.core.display.Markdown object>"
      ]
     },
     "metadata": {},
     "output_type": "display_data"
    },
    {
     "data": {
      "text/markdown": [
       "[(2, 16), (20, 31), (203, 217), (305, 311), (714, 720), (734, 759), (766, 772), (1254, 1260), (2010, 2016), (2100, 2106), (2204, 2210), (2266, 2272), (2297, 2303), (2618, 2624), (2635, 2657), (2679, 2685), (2800, 2806), (3088, 3094), (3222, 3228), (3591, 3597), (4123, 4129), (4241, 4247), (4262, 4268), (4329, 4360), (4366, 4381), (4396, 4402), (4406, 4412), (4559, 4571), (4609, 4615), (4984, 4990), (5406, 5412), (5450, 5456), (5468, 5476), (5509, 5519), (5526, 5533), (5537, 5559), (5565, 5571), (5600, 5607), (6018, 6026), (6030, 6037), (6668, 6674), (7110, 7116), (7142, 7148), (7548, 7554), (7756, 7762), (7839, 7845), (7879, 7885), (7890, 7896), (8099, 8105), (8303, 8309), (8339, 8345), (8417, 8424), (8430, 8442), (8502, 8508), (8527, 8533), (8549, 8577), (8624, 8630), (8640, 8646), (9025, 9039), (9274, 9280), (9307, 9313), (9344, 9350), (9366, 9375), (9419, 9435), (9486, 9492), (9543, 9557), (9561, 9567), (9583, 9598), (9618, 9624), (9656, 9662), (9826, 9832), (9849, 9872), (10130, 10136), (10269, 10275), (10459, 10465), (10498, 10504), (10595, 10601), (10667, 10673)]"
      ],
      "text/plain": [
       "<IPython.core.display.Markdown object>"
      ]
     },
     "metadata": {},
     "output_type": "display_data"
    },
    {
     "data": {
      "text/markdown": [
       "[(2, 16), (20, 31), (203, 217), (305, 311), (714, 720), (734, 759), (766, 772), (1254, 1260), (2010, 2016), (2100, 2106), (2204, 2210), (2266, 2272), (2297, 2303), (2618, 2624), (2635, 2657), (2679, 2685), (2800, 2806), (3088, 3094), (3222, 3228), (3591, 3597), (4123, 4129), (4241, 4247), (4262, 4268), (4329, 4360), (4366, 4381), (4396, 4402), (4406, 4412), (4559, 4571), (4609, 4615), (4984, 4990), (5406, 5412), (5450, 5456), (5468, 5476), (5509, 5519), (5526, 5533), (5537, 5559), (5565, 5571), (5600, 5607), (6018, 6026), (6030, 6037), (6668, 6674), (7110, 7116), (7142, 7148), (7548, 7554), (7756, 7762), (7839, 7845), (7879, 7885), (7890, 7896), (8099, 8105), (8303, 8309), (8339, 8345), (8417, 8424), (8430, 8442), (8502, 8508), (8527, 8533), (8549, 8577), (8624, 8630), (8640, 8646), (9025, 9039), (9274, 9280), (9307, 9313), (9344, 9350), (9366, 9375), (9419, 9435), (9486, 9492), (9543, 9557), (9561, 9567), (9583, 9598), (9618, 9624), (9656, 9662), (9826, 9832), (9849, 9872), (10130, 10136), (10269, 10275), (10459, 10465), (10498, 10504), (10595, 10601), (10667, 10673)]"
      ],
      "text/plain": [
       "<IPython.core.display.Markdown object>"
      ]
     },
     "metadata": {},
     "output_type": "display_data"
    },
    {
     "data": {
      "text/markdown": [
       "[(2, 16), (20, 31), (203, 217), (305, 311), (714, 720), (734, 759), (766, 772), (1254, 1260), (2010, 2016), (2100, 2106), (2204, 2210), (2266, 2272), (2297, 2303), (2618, 2624), (2635, 2657), (2679, 2685), (2800, 2806), (3088, 3094), (3222, 3228), (3591, 3597), (4123, 4129), (4241, 4247), (4262, 4268), (4329, 4360), (4366, 4381), (4396, 4402), (4406, 4412), (4559, 4571), (4609, 4615), (4984, 4990), (5406, 5412), (5450, 5456), (5468, 5476), (5509, 5519), (5526, 5533), (5537, 5559), (5565, 5571), (5600, 5607), (6018, 6026), (6030, 6037), (6668, 6674), (7110, 7116), (7142, 7148), (7548, 7554), (7756, 7762), (7839, 7845), (7879, 7885), (7890, 7896), (8099, 8105), (8303, 8309), (8339, 8345), (8417, 8424), (8430, 8442), (8502, 8508), (8527, 8533), (8549, 8577), (8624, 8630), (8640, 8646), (9025, 9039), (9274, 9280), (9307, 9313), (9344, 9350), (9366, 9375), (9419, 9435), (9486, 9492), (9543, 9557), (9561, 9567), (9583, 9598), (9618, 9624), (9656, 9662), (9826, 9832), (9849, 9872), (10130, 10136), (10269, 10275), (10459, 10465), (10498, 10504), (10595, 10601), (10667, 10673)]"
      ],
      "text/plain": [
       "<IPython.core.display.Markdown object>"
      ]
     },
     "metadata": {},
     "output_type": "display_data"
    },
    {
     "data": {
      "text/markdown": [
       "[(2, 16), (20, 31), (203, 217), (305, 311), (714, 720), (734, 759), (766, 772), (1254, 1260), (2010, 2016), (2100, 2106), (2204, 2210), (2266, 2272), (2297, 2303), (2618, 2624), (2635, 2657), (2679, 2685), (2800, 2806), (3088, 3094), (3222, 3228), (3591, 3597), (4123, 4129), (4241, 4247), (4262, 4268), (4329, 4360), (4366, 4381), (4396, 4402), (4406, 4412), (4559, 4571), (4609, 4615), (4984, 4990), (5406, 5412), (5450, 5456), (5468, 5476), (5509, 5519), (5526, 5533), (5537, 5559), (5565, 5571), (5600, 5607), (6018, 6026), (6030, 6037), (6668, 6674), (7110, 7116), (7142, 7148), (7548, 7554), (7756, 7762), (7839, 7845), (7879, 7885), (7890, 7896), (8099, 8105), (8303, 8309), (8339, 8345), (8417, 8424), (8430, 8442), (8502, 8508), (8527, 8533), (8549, 8577), (8624, 8630), (8640, 8646), (9025, 9039), (9274, 9280), (9307, 9313), (9344, 9350), (9366, 9375), (9419, 9435), (9486, 9492), (9543, 9557), (9561, 9567), (9583, 9598), (9618, 9624), (9656, 9662), (9826, 9832), (9849, 9872), (10130, 10136), (10269, 10275), (10459, 10465), (10498, 10504), (10595, 10601), (10667, 10673)]"
      ],
      "text/plain": [
       "<IPython.core.display.Markdown object>"
      ]
     },
     "metadata": {},
     "output_type": "display_data"
    },
    {
     "data": {
      "text/markdown": [
       "[(2, 16), (20, 31), (203, 217), (305, 311), (714, 720), (734, 759), (766, 772), (1254, 1260), (2010, 2016), (2100, 2106), (2204, 2210), (2266, 2272), (2297, 2303), (2618, 2624), (2635, 2657), (2679, 2685), (2800, 2806), (3088, 3094), (3222, 3228), (3591, 3597), (4123, 4129), (4241, 4247), (4262, 4268), (4329, 4360), (4366, 4381), (4396, 4402), (4406, 4412), (4559, 4571), (4609, 4615), (4984, 4990), (5406, 5412), (5450, 5456), (5468, 5476), (5509, 5519), (5526, 5533), (5537, 5559), (5565, 5571), (5600, 5607), (6018, 6026), (6030, 6037), (6668, 6674), (7110, 7116), (7142, 7148), (7548, 7554), (7756, 7762), (7839, 7845), (7879, 7885), (7890, 7896), (8099, 8105), (8303, 8309), (8339, 8345), (8417, 8424), (8430, 8442), (8502, 8508), (8527, 8533), (8549, 8577), (8624, 8630), (8640, 8646), (9025, 9039), (9274, 9280), (9307, 9313), (9344, 9350), (9366, 9375), (9419, 9435), (9486, 9492), (9543, 9557), (9561, 9567), (9583, 9598), (9618, 9624), (9656, 9662), (9826, 9832), (9849, 9872), (10130, 10136), (10269, 10275), (10459, 10465), (10498, 10504), (10595, 10601), (10667, 10673)]"
      ],
      "text/plain": [
       "<IPython.core.display.Markdown object>"
      ]
     },
     "metadata": {},
     "output_type": "display_data"
    },
    {
     "data": {
      "text/markdown": [
       "[(2, 16), (20, 31), (203, 217), (305, 311), (714, 720), (734, 759), (766, 772), (1254, 1260), (2010, 2016), (2100, 2106), (2204, 2210), (2266, 2272), (2297, 2303), (2618, 2624), (2635, 2657), (2679, 2685), (2800, 2806), (3088, 3094), (3222, 3228), (3591, 3597), (4123, 4129), (4241, 4247), (4262, 4268), (4329, 4360), (4366, 4381), (4396, 4402), (4406, 4412), (4559, 4571), (4609, 4615), (4984, 4990), (5406, 5412), (5450, 5456), (5468, 5476), (5509, 5519), (5526, 5533), (5537, 5559), (5565, 5571), (5600, 5607), (6018, 6026), (6030, 6037), (6668, 6674), (7110, 7116), (7142, 7148), (7548, 7554), (7756, 7762), (7839, 7845), (7879, 7885), (7890, 7896), (8099, 8105), (8303, 8309), (8339, 8345), (8417, 8424), (8430, 8442), (8502, 8508), (8527, 8533), (8549, 8577), (8624, 8630), (8640, 8646), (9025, 9039), (9274, 9280), (9307, 9313), (9344, 9350), (9366, 9375), (9419, 9435), (9486, 9492), (9543, 9557), (9561, 9567), (9583, 9598), (9618, 9624), (9656, 9662), (9826, 9832), (9849, 9872), (10130, 10136), (10269, 10275), (10459, 10465), (10498, 10504), (10595, 10601), (10667, 10673)]"
      ],
      "text/plain": [
       "<IPython.core.display.Markdown object>"
      ]
     },
     "metadata": {},
     "output_type": "display_data"
    },
    {
     "data": {
      "text/markdown": [
       "[(2, 16), (20, 31), (203, 217), (305, 311), (714, 720), (734, 759), (766, 772), (1254, 1260), (2010, 2016), (2100, 2106), (2204, 2210), (2266, 2272), (2297, 2303), (2618, 2624), (2635, 2657), (2679, 2685), (2800, 2806), (3088, 3094), (3222, 3228), (3591, 3597), (4123, 4129), (4241, 4247), (4262, 4268), (4329, 4360), (4366, 4381), (4396, 4402), (4406, 4412), (4559, 4571), (4609, 4615), (4984, 4990), (5406, 5412), (5450, 5456), (5468, 5476), (5509, 5519), (5526, 5533), (5537, 5559), (5565, 5571), (5600, 5607), (6018, 6026), (6030, 6037), (6668, 6674), (7110, 7116), (7142, 7148), (7548, 7554), (7756, 7762), (7839, 7845), (7879, 7885), (7890, 7896), (8099, 8105), (8303, 8309), (8339, 8345), (8417, 8424), (8430, 8442), (8502, 8508), (8527, 8533), (8549, 8577), (8624, 8630), (8640, 8646), (9025, 9039), (9274, 9280), (9307, 9313), (9344, 9350), (9366, 9375), (9419, 9435), (9486, 9492), (9543, 9557), (9561, 9567), (9583, 9598), (9618, 9624), (9656, 9662), (9826, 9832), (9849, 9872), (10130, 10136), (10269, 10275), (10459, 10465), (10498, 10504), (10595, 10601), (10667, 10673)]"
      ],
      "text/plain": [
       "<IPython.core.display.Markdown object>"
      ]
     },
     "metadata": {},
     "output_type": "display_data"
    },
    {
     "data": {
      "text/markdown": [
       "[(2, 16), (20, 31), (203, 217), (305, 311), (714, 720), (734, 759), (766, 772), (1254, 1260), (2010, 2016), (2100, 2106), (2204, 2210), (2266, 2272), (2297, 2303), (2618, 2624), (2635, 2657), (2679, 2685), (2800, 2806), (3088, 3094), (3222, 3228), (3591, 3597), (4123, 4129), (4241, 4247), (4262, 4268), (4329, 4360), (4366, 4381), (4396, 4402), (4406, 4412), (4559, 4571), (4609, 4615), (4984, 4990), (5406, 5412), (5450, 5456), (5468, 5476), (5509, 5519), (5526, 5533), (5537, 5559), (5565, 5571), (5600, 5607), (6018, 6026), (6030, 6037), (6668, 6674), (7110, 7116), (7142, 7148), (7548, 7554), (7756, 7762), (7839, 7845), (7879, 7885), (7890, 7896), (8099, 8105), (8303, 8309), (8339, 8345), (8417, 8424), (8430, 8442), (8502, 8508), (8527, 8533), (8549, 8577), (8624, 8630), (8640, 8646), (9025, 9039), (9274, 9280), (9307, 9313), (9344, 9350), (9366, 9375), (9419, 9435), (9486, 9492), (9543, 9557), (9561, 9567), (9583, 9598), (9618, 9624), (9656, 9662), (9826, 9832), (9849, 9872), (10130, 10136), (10269, 10275), (10459, 10465), (10498, 10504), (10595, 10601), (10667, 10673)]"
      ],
      "text/plain": [
       "<IPython.core.display.Markdown object>"
      ]
     },
     "metadata": {},
     "output_type": "display_data"
    },
    {
     "data": {
      "text/markdown": [
       "[(2, 16), (20, 31), (203, 217), (305, 311), (714, 720), (734, 759), (766, 772), (1254, 1260), (2010, 2016), (2100, 2106), (2204, 2210), (2266, 2272), (2297, 2303), (2618, 2624), (2635, 2657), (2679, 2685), (2800, 2806), (3088, 3094), (3222, 3228), (3591, 3597), (4123, 4129), (4241, 4247), (4262, 4268), (4329, 4360), (4366, 4381), (4396, 4402), (4406, 4412), (4559, 4571), (4609, 4615), (4984, 4990), (5406, 5412), (5450, 5456), (5468, 5476), (5509, 5519), (5526, 5533), (5537, 5559), (5565, 5571), (5600, 5607), (6018, 6026), (6030, 6037), (6668, 6674), (7110, 7116), (7142, 7148), (7548, 7554), (7756, 7762), (7839, 7845), (7879, 7885), (7890, 7896), (8099, 8105), (8303, 8309), (8339, 8345), (8417, 8424), (8430, 8442), (8502, 8508), (8527, 8533), (8549, 8577), (8624, 8630), (8640, 8646), (9025, 9039), (9274, 9280), (9307, 9313), (9344, 9350), (9366, 9375), (9419, 9435), (9486, 9492), (9543, 9557), (9561, 9567), (9583, 9598), (9618, 9624), (9656, 9662), (9826, 9832), (9849, 9872), (10130, 10136), (10269, 10275), (10459, 10465), (10498, 10504), (10595, 10601), (10667, 10673)]"
      ],
      "text/plain": [
       "<IPython.core.display.Markdown object>"
      ]
     },
     "metadata": {},
     "output_type": "display_data"
    },
    {
     "data": {
      "text/markdown": [
       "[(2, 16), (20, 31), (203, 217), (305, 311), (714, 720), (734, 759), (766, 772), (1254, 1260), (2010, 2016), (2100, 2106), (2204, 2210), (2266, 2272), (2297, 2303), (2618, 2624), (2635, 2657), (2679, 2685), (2800, 2806), (3088, 3094), (3222, 3228), (3591, 3597), (4123, 4129), (4241, 4247), (4262, 4268), (4329, 4360), (4366, 4381), (4396, 4402), (4406, 4412), (4559, 4571), (4609, 4615), (4984, 4990), (5406, 5412), (5450, 5456), (5468, 5476), (5509, 5519), (5526, 5533), (5537, 5559), (5565, 5571), (5600, 5607), (6018, 6026), (6030, 6037), (6668, 6674), (7110, 7116), (7142, 7148), (7548, 7554), (7756, 7762), (7839, 7845), (7879, 7885), (7890, 7896), (8099, 8105), (8303, 8309), (8339, 8345), (8417, 8424), (8430, 8442), (8502, 8508), (8527, 8533), (8549, 8577), (8624, 8630), (8640, 8646), (9025, 9039), (9274, 9280), (9307, 9313), (9344, 9350), (9366, 9375), (9419, 9435), (9486, 9492), (9543, 9557), (9561, 9567), (9583, 9598), (9618, 9624), (9656, 9662), (9826, 9832), (9849, 9872), (10130, 10136), (10269, 10275), (10459, 10465), (10498, 10504), (10595, 10601), (10667, 10673)]"
      ],
      "text/plain": [
       "<IPython.core.display.Markdown object>"
      ]
     },
     "metadata": {},
     "output_type": "display_data"
    },
    {
     "data": {
      "text/markdown": [
       "[(2, 16), (20, 31), (203, 217), (305, 311), (714, 720), (734, 759), (766, 772), (1254, 1260), (2010, 2016), (2100, 2106), (2204, 2210), (2266, 2272), (2297, 2303), (2618, 2624), (2635, 2657), (2679, 2685), (2800, 2806), (3088, 3094), (3222, 3228), (3591, 3597), (4123, 4129), (4241, 4247), (4262, 4268), (4329, 4360), (4366, 4381), (4396, 4402), (4406, 4412), (4559, 4571), (4609, 4615), (4984, 4990), (5406, 5412), (5450, 5456), (5468, 5476), (5509, 5519), (5526, 5533), (5537, 5559), (5565, 5571), (5600, 5607), (6018, 6026), (6030, 6037), (6668, 6674), (7110, 7116), (7142, 7148), (7548, 7554), (7756, 7762), (7839, 7845), (7879, 7885), (7890, 7896), (8099, 8105), (8303, 8309), (8339, 8345), (8417, 8424), (8430, 8442), (8502, 8508), (8527, 8533), (8549, 8577), (8624, 8630), (8640, 8646), (9025, 9039), (9274, 9280), (9307, 9313), (9344, 9350), (9366, 9375), (9419, 9435), (9486, 9492), (9543, 9557), (9561, 9567), (9583, 9598), (9618, 9624), (9656, 9662), (9826, 9832), (9849, 9872), (10130, 10136), (10269, 10275), (10459, 10465), (10498, 10504), (10595, 10601), (10667, 10673)]"
      ],
      "text/plain": [
       "<IPython.core.display.Markdown object>"
      ]
     },
     "metadata": {},
     "output_type": "display_data"
    },
    {
     "data": {
      "text/markdown": [
       "[(2, 16), (20, 31), (203, 217), (305, 311), (714, 720), (734, 759), (766, 772), (1254, 1260), (2010, 2016), (2100, 2106), (2204, 2210), (2266, 2272), (2297, 2303), (2618, 2624), (2635, 2657), (2679, 2685), (2800, 2806), (3088, 3094), (3222, 3228), (3591, 3597), (4123, 4129), (4241, 4247), (4262, 4268), (4329, 4360), (4366, 4381), (4396, 4402), (4406, 4412), (4559, 4571), (4609, 4615), (4984, 4990), (5406, 5412), (5450, 5456), (5468, 5476), (5509, 5519), (5526, 5533), (5537, 5559), (5565, 5571), (5600, 5607), (6018, 6026), (6030, 6037), (6668, 6674), (7110, 7116), (7142, 7148), (7548, 7554), (7756, 7762), (7839, 7845), (7879, 7885), (7890, 7896), (8099, 8105), (8303, 8309), (8339, 8345), (8417, 8424), (8430, 8442), (8502, 8508), (8527, 8533), (8549, 8577), (8624, 8630), (8640, 8646), (9025, 9039), (9274, 9280), (9307, 9313), (9344, 9350), (9366, 9375), (9419, 9435), (9486, 9492), (9543, 9557), (9561, 9567), (9583, 9598), (9618, 9624), (9656, 9662), (9826, 9832), (9849, 9872), (10130, 10136), (10269, 10275), (10459, 10465), (10498, 10504), (10595, 10601), (10667, 10673)]"
      ],
      "text/plain": [
       "<IPython.core.display.Markdown object>"
      ]
     },
     "metadata": {},
     "output_type": "display_data"
    },
    {
     "data": {
      "text/markdown": [
       "[(2, 16), (20, 31), (203, 217), (305, 311), (714, 720), (734, 759), (766, 772), (1254, 1260), (2010, 2016), (2100, 2106), (2204, 2210), (2266, 2272), (2297, 2303), (2618, 2624), (2635, 2657), (2679, 2685), (2800, 2806), (3088, 3094), (3222, 3228), (3591, 3597), (4123, 4129), (4241, 4247), (4262, 4268), (4329, 4360), (4366, 4381), (4396, 4402), (4406, 4412), (4559, 4571), (4609, 4615), (4984, 4990), (5406, 5412), (5450, 5456), (5468, 5476), (5509, 5519), (5526, 5533), (5537, 5559), (5565, 5571), (5600, 5607), (6018, 6026), (6030, 6037), (6668, 6674), (7110, 7116), (7142, 7148), (7548, 7554), (7756, 7762), (7839, 7845), (7879, 7885), (7890, 7896), (8099, 8105), (8303, 8309), (8339, 8345), (8417, 8424), (8430, 8442), (8502, 8508), (8527, 8533), (8549, 8577), (8624, 8630), (8640, 8646), (9025, 9039), (9274, 9280), (9307, 9313), (9344, 9350), (9366, 9375), (9419, 9435), (9486, 9492), (9543, 9557), (9561, 9567), (9583, 9598), (9618, 9624), (9656, 9662), (9826, 9832), (9849, 9872), (10130, 10136), (10269, 10275), (10459, 10465), (10498, 10504), (10595, 10601), (10667, 10673)]"
      ],
      "text/plain": [
       "<IPython.core.display.Markdown object>"
      ]
     },
     "metadata": {},
     "output_type": "display_data"
    },
    {
     "data": {
      "text/markdown": [
       "[(2, 16), (20, 31), (203, 217), (305, 311), (714, 720), (734, 759), (766, 772), (1254, 1260), (2010, 2016), (2100, 2106), (2204, 2210), (2266, 2272), (2297, 2303), (2618, 2624), (2635, 2657), (2679, 2685), (2800, 2806), (3088, 3094), (3222, 3228), (3591, 3597), (4123, 4129), (4241, 4247), (4262, 4268), (4329, 4360), (4366, 4381), (4396, 4402), (4406, 4412), (4559, 4571), (4609, 4615), (4984, 4990), (5406, 5412), (5450, 5456), (5468, 5476), (5509, 5519), (5526, 5533), (5537, 5559), (5565, 5571), (5600, 5607), (6018, 6026), (6030, 6037), (6668, 6674), (7110, 7116), (7142, 7148), (7548, 7554), (7756, 7762), (7839, 7845), (7879, 7885), (7890, 7896), (8099, 8105), (8303, 8309), (8339, 8345), (8417, 8424), (8430, 8442), (8502, 8508), (8527, 8533), (8549, 8577), (8624, 8630), (8640, 8646), (9025, 9039), (9274, 9280), (9307, 9313), (9344, 9350), (9366, 9375), (9419, 9435), (9486, 9492), (9543, 9557), (9561, 9567), (9583, 9598), (9618, 9624), (9656, 9662), (9826, 9832), (9849, 9872), (10130, 10136), (10269, 10275), (10459, 10465), (10498, 10504), (10595, 10601), (10667, 10673)]"
      ],
      "text/plain": [
       "<IPython.core.display.Markdown object>"
      ]
     },
     "metadata": {},
     "output_type": "display_data"
    },
    {
     "data": {
      "text/markdown": [
       "[(2, 16), (20, 31), (203, 217), (305, 311), (714, 720), (734, 759), (766, 772), (1254, 1260), (2010, 2016), (2100, 2106), (2204, 2210), (2266, 2272), (2297, 2303), (2618, 2624), (2635, 2657), (2679, 2685), (2800, 2806), (3088, 3094), (3222, 3228), (3591, 3597), (4123, 4129), (4241, 4247), (4262, 4268), (4329, 4360), (4366, 4381), (4396, 4402), (4406, 4412), (4559, 4571), (4609, 4615), (4984, 4990), (5406, 5412), (5450, 5456), (5468, 5476), (5509, 5519), (5526, 5533), (5537, 5559), (5565, 5571), (5600, 5607), (6018, 6026), (6030, 6037), (6668, 6674), (7110, 7116), (7142, 7148), (7548, 7554), (7756, 7762), (7839, 7845), (7879, 7885), (7890, 7896), (8099, 8105), (8303, 8309), (8339, 8345), (8417, 8424), (8430, 8442), (8502, 8508), (8527, 8533), (8549, 8577), (8624, 8630), (8640, 8646), (9025, 9039), (9274, 9280), (9307, 9313), (9344, 9350), (9366, 9375), (9419, 9435), (9486, 9492), (9543, 9557), (9561, 9567), (9583, 9598), (9618, 9624), (9656, 9662), (9826, 9832), (9849, 9872), (10130, 10136), (10269, 10275), (10459, 10465), (10498, 10504), (10595, 10601), (10667, 10673)]"
      ],
      "text/plain": [
       "<IPython.core.display.Markdown object>"
      ]
     },
     "metadata": {},
     "output_type": "display_data"
    },
    {
     "data": {
      "text/markdown": [
       "[(2, 16), (20, 31), (203, 217), (305, 311), (714, 720), (734, 759), (766, 772), (1254, 1260), (2010, 2016), (2100, 2106), (2204, 2210), (2266, 2272), (2297, 2303), (2618, 2624), (2635, 2657), (2679, 2685), (2800, 2806), (3088, 3094), (3222, 3228), (3591, 3597), (4123, 4129), (4241, 4247), (4262, 4268), (4329, 4360), (4366, 4381), (4396, 4402), (4406, 4412), (4559, 4571), (4609, 4615), (4984, 4990), (5406, 5412), (5450, 5456), (5468, 5476), (5509, 5519), (5526, 5533), (5537, 5559), (5565, 5571), (5600, 5607), (6018, 6026), (6030, 6037), (6668, 6674), (7110, 7116), (7142, 7148), (7548, 7554), (7756, 7762), (7839, 7845), (7879, 7885), (7890, 7896), (8099, 8105), (8303, 8309), (8339, 8345), (8417, 8424), (8430, 8442), (8502, 8508), (8527, 8533), (8549, 8577), (8624, 8630), (8640, 8646), (9025, 9039), (9274, 9280), (9307, 9313), (9344, 9350), (9366, 9375), (9419, 9435), (9486, 9492), (9543, 9557), (9561, 9567), (9583, 9598), (9618, 9624), (9656, 9662), (9826, 9832), (9849, 9872), (10130, 10136), (10269, 10275), (10459, 10465), (10498, 10504), (10595, 10601), (10667, 10673)]"
      ],
      "text/plain": [
       "<IPython.core.display.Markdown object>"
      ]
     },
     "metadata": {},
     "output_type": "display_data"
    },
    {
     "data": {
      "text/markdown": [
       "[(2, 16), (20, 31), (203, 217), (305, 311), (714, 720), (734, 759), (766, 772), (1254, 1260), (2010, 2016), (2100, 2106), (2204, 2210), (2266, 2272), (2297, 2303), (2618, 2624), (2635, 2657), (2679, 2685), (2800, 2806), (3088, 3094), (3222, 3228), (3591, 3597), (4123, 4129), (4241, 4247), (4262, 4268), (4329, 4360), (4366, 4381), (4396, 4402), (4406, 4412), (4559, 4571), (4609, 4615), (4984, 4990), (5406, 5412), (5450, 5456), (5468, 5476), (5509, 5519), (5526, 5533), (5537, 5559), (5565, 5571), (5600, 5607), (6018, 6026), (6030, 6037), (6668, 6674), (7110, 7116), (7142, 7148), (7548, 7554), (7756, 7762), (7839, 7845), (7879, 7885), (7890, 7896), (8099, 8105), (8303, 8309), (8339, 8345), (8417, 8424), (8430, 8442), (8502, 8508), (8527, 8533), (8549, 8577), (8624, 8630), (8640, 8646), (9025, 9039), (9274, 9280), (9307, 9313), (9344, 9350), (9366, 9375), (9419, 9435), (9486, 9492), (9543, 9557), (9561, 9567), (9583, 9598), (9618, 9624), (9656, 9662), (9826, 9832), (9849, 9872), (10130, 10136), (10269, 10275), (10459, 10465), (10498, 10504), (10595, 10601), (10667, 10673)]"
      ],
      "text/plain": [
       "<IPython.core.display.Markdown object>"
      ]
     },
     "metadata": {},
     "output_type": "display_data"
    },
    {
     "data": {
      "text/markdown": [
       "[(2, 16), (20, 31), (203, 217), (305, 311), (714, 720), (734, 759), (766, 772), (1254, 1260), (2010, 2016), (2100, 2106), (2204, 2210), (2266, 2272), (2297, 2303), (2618, 2624), (2635, 2657), (2679, 2685), (2800, 2806), (3088, 3094), (3222, 3228), (3591, 3597), (4123, 4129), (4241, 4247), (4262, 4268), (4329, 4360), (4366, 4381), (4396, 4402), (4406, 4412), (4559, 4571), (4609, 4615), (4984, 4990), (5406, 5412), (5450, 5456), (5468, 5476), (5509, 5519), (5526, 5533), (5537, 5559), (5565, 5571), (5600, 5607), (6018, 6026), (6030, 6037), (6668, 6674), (7110, 7116), (7142, 7148), (7548, 7554), (7756, 7762), (7839, 7845), (7879, 7885), (7890, 7896), (8099, 8105), (8303, 8309), (8339, 8345), (8417, 8424), (8430, 8442), (8502, 8508), (8527, 8533), (8549, 8577), (8624, 8630), (8640, 8646), (9025, 9039), (9274, 9280), (9307, 9313), (9344, 9350), (9366, 9375), (9419, 9435), (9486, 9492), (9543, 9557), (9561, 9567), (9583, 9598), (9618, 9624), (9656, 9662), (9826, 9832), (9849, 9872), (10130, 10136), (10269, 10275), (10459, 10465), (10498, 10504), (10595, 10601), (10667, 10673)]"
      ],
      "text/plain": [
       "<IPython.core.display.Markdown object>"
      ]
     },
     "metadata": {},
     "output_type": "display_data"
    },
    {
     "data": {
      "text/markdown": [
       "[(2, 16), (20, 31), (203, 217), (305, 311), (714, 720), (734, 759), (766, 772), (1254, 1260), (2010, 2016), (2100, 2106), (2204, 2210), (2266, 2272), (2297, 2303), (2618, 2624), (2635, 2657), (2679, 2685), (2800, 2806), (3088, 3094), (3222, 3228), (3591, 3597), (4123, 4129), (4241, 4247), (4262, 4268), (4329, 4360), (4366, 4381), (4396, 4402), (4406, 4412), (4559, 4571), (4609, 4615), (4984, 4990), (5406, 5412), (5450, 5456), (5468, 5476), (5509, 5519), (5526, 5533), (5537, 5559), (5565, 5571), (5600, 5607), (6018, 6026), (6030, 6037), (6668, 6674), (7110, 7116), (7142, 7148), (7548, 7554), (7756, 7762), (7839, 7845), (7879, 7885), (7890, 7896), (8099, 8105), (8303, 8309), (8339, 8345), (8417, 8424), (8430, 8442), (8502, 8508), (8527, 8533), (8549, 8577), (8624, 8630), (8640, 8646), (9025, 9039), (9274, 9280), (9307, 9313), (9344, 9350), (9366, 9375), (9419, 9435), (9486, 9492), (9543, 9557), (9561, 9567), (9583, 9598), (9618, 9624), (9656, 9662), (9826, 9832), (9849, 9872), (10130, 10136), (10269, 10275), (10459, 10465), (10498, 10504), (10595, 10601), (10667, 10673)]"
      ],
      "text/plain": [
       "<IPython.core.display.Markdown object>"
      ]
     },
     "metadata": {},
     "output_type": "display_data"
    }
   ],
   "source": [
    "from pathlib import Path\n",
    "import json, traceback\n",
    "\n",
    "queries_path = Path(\"queries.json\")\n",
    "with queries_path.open(encoding=\"utf‑8\") as f:\n",
    "    queries = json.load(f)\n",
    "\n",
    "TEMPLATE = (\n",
    "    \"Follow the definition below *verbatim*.  \"\n",
    "    \"Identify every **continuous bout** that satisfies the rules then return ONLY the list of (start_frame, end_frame) tuples \"\n",
    "    \"using 0‑based indexing. Do not add explanations or any other text.\\n\\n\"\n",
    ")\n",
    "\n",
    "for key, definition in queries.items():\n",
    "    try:\n",
    "        prompt = (\n",
    "            TEMPLATE\n",
    "            + definition\n",
    "            + f\"\\n\\nAfter processing, save the tuple list to 'results/{key}.txt'.\"\n",
    "        )\n",
    "\n",
    "        print(f\"🔍  Querying '{key}'…\")\n",
    "        msg = amadeus.step(prompt)\n",
    "        parse_result(amadeus, msg)\n",
    "\n",
    "    except Exception as e:\n",
    "        print(f\"❌  Error processing '{key}': {e}\")\n",
    "        traceback.print_exc()\n",
    "        continue"
   ]
  },
  {
   "cell_type": "markdown",
   "id": "69dee87b",
   "metadata": {},
   "source": [
    "#### 5 · Get Video Samples 🎬\n"
   ]
  },
  {
   "cell_type": "code",
   "execution_count": null,
   "id": "fb68adb4",
   "metadata": {},
   "outputs": [],
   "source": []
  },
  {
   "cell_type": "markdown",
   "id": "aec8a00c",
   "metadata": {},
   "source": [
    "\n",
    "#### 1. Updating code  \n",
    "- After you’ve made changes to your package source, simply re-run the dependency‐install cell. [Re-install dependencies here.](#bootstrap-jupyter-interpreter)\n",
    "#### 2. Troubleshooting\n",
    "\n",
    "* **Kernel name not visible?**\n",
    "\n",
    "  * Reload VS Code/Notebook window (e.g. ⌘⇧P → “Developer: Reload Window”).\n",
    "  * Make sure you're selecting Jupyter Kernels not Python Environments to find `AmadeusGPT (venv)`\n",
    "  * Ensure the workspace interpreter is set to your `.venv` (click the Python version in the status bar).\n",
    "\n",
    "* **Version or Downloading Issues?**\n",
    "  \n",
    "  * Versioning errors occur if your Kernel is not Python version 3.10 (required for AmadeusGPT).\n",
    "    *  Ensure that you have this version of Python installed and have selected it as the version for your environment\n",
    "    *  You can check this in top right corner. If you see it's Python 3.10... that's not the issue.\n",
    "\n",
    "* **“Package X not found” after reinstalling**\n",
    "\n",
    "  * Confirm you’ve restarted the kernel (Kernel ▶ Restart).\n",
    "  * Run `pip list` in a cell to verify that your package is installed in the active environment.\n",
    "\n",
    "* **Still stuck?**\n",
    "\n",
    "  * In a terminal, run:\n",
    "\n",
    "    ```bash\n",
    "    jupyter kernelspec list\n",
    "    ```\n",
    "\n",
    "    to verify that `amadeus-gpt-env` appears under your user kernels.\n",
    "  * Stop & restart the Jupyter server\n",
    "    (in VS Code: ⌘⇧P → “Jupyter: Stop Jupyter Server”, then run any cell again)."
   ]
  },
  {
   "cell_type": "markdown",
   "id": "73bc035a",
   "metadata": {},
   "source": []
  }
 ],
 "metadata": {
  "kernelspec": {
   "display_name": "AmadeusGPT (venv)",
   "language": "python",
   "name": "amadeus-gpt-env"
  },
  "language_info": {
   "codemirror_mode": {
    "name": "ipython",
    "version": 3
   },
   "file_extension": ".py",
   "mimetype": "text/x-python",
   "name": "python",
   "nbconvert_exporter": "python",
   "pygments_lexer": "ipython3",
   "version": "3.10.10"
  }
 },
 "nbformat": 4,
 "nbformat_minor": 5
}
