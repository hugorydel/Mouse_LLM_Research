{
 "cells": [
  {
   "cell_type": "markdown",
   "id": "e0699e66",
   "metadata": {},
   "source": [
    "### 🐁 AmadeusGPT Quickstart\n",
    "\n",
    "---\n"
   ]
  },
  {
   "cell_type": "markdown",
   "id": "3f17b51e",
   "metadata": {},
   "source": [
    "#### Notebook Overview:\n",
    "1. Bootstrap the Jupyter interpreter 🛠️\n",
    "2. Load secrets & config 🔑\n",
    "3. Project initialization 📁\n",
    "4. Run a demo query 🎬\n",
    "5. Appendix 📚"
   ]
  },
  {
   "cell_type": "markdown",
   "id": "1ab5db29",
   "metadata": {},
   "source": [
    "#### 1 · Bootstrap the Jupyter interpreter 🛠️\n",
    "-  Run the below cell *once* per fresh clone or when dependencies change\n",
    "-  ⚠️ Select a 3.10 Python environment before you run the below code (if you already have the AmadeusGPT Jupyter kernel select that and skip to [Jump to “Load secrets & config”](#load-secrets-config)\n",
    ")\n",
    "<a id=\"bootstrap-jupyter-interpreter\"></a>"
   ]
  },
  {
   "cell_type": "code",
   "execution_count": null,
   "id": "7085db6c",
   "metadata": {},
   "outputs": [],
   "source": [
    "%pip install --quiet --upgrade pip\n",
    "%pip install --quiet -e .            # editable install → reads pyproject.toml\n",
    "%pip install --quiet ipykernel       # needed for kernel registration"
   ]
  },
  {
   "cell_type": "markdown",
   "id": "0392322c",
   "metadata": {},
   "source": [
    "Register the interpreter as a named Jupyter kernel - unless you already have access to the AmadeusGPT (venv)"
   ]
  },
  {
   "cell_type": "code",
   "execution_count": null,
   "id": "169a3a7d",
   "metadata": {},
   "outputs": [],
   "source": [
    "!python -m ipykernel install --user --name amadeus-gpt-env --display-name \"AmadeusGPT (venv)\"\n",
    "\n",
    "print(\"✅  Bootstrapping done – now **Restart** the kernel (Kernel ▶ Restart) and select “AmadeusGPT (venv)” in the top-right kernel picker.\")"
   ]
  },
  {
   "cell_type": "markdown",
   "id": "08a2d565",
   "metadata": {},
   "source": [
    "<a id=\"load-secrets-config\"></a>\n",
    "#### 2 · Load secrets & config 🔑\n"
   ]
  },
  {
   "cell_type": "code",
   "execution_count": null,
   "id": "3108eb9b",
   "metadata": {},
   "outputs": [],
   "source": [
    "from dotenv import load_dotenv, find_dotenv\n",
    "\n",
    "env_path = find_dotenv()\n",
    "load_dotenv(env_path, override=True)\n",
    "print(\"🔐  Environment loaded from:\", env_path or \"❌  .env file not found. Create one and add your OPENAI_API_KEY='api_key' to complete this step\")\n"
   ]
  },
  {
   "cell_type": "markdown",
   "id": "cffbe8c2",
   "metadata": {},
   "source": [
    "#### 3 · Project initialisation 📁\n"
   ]
  },
  {
   "cell_type": "code",
   "execution_count": 6,
   "id": "a2f2805b",
   "metadata": {},
   "outputs": [
    {
     "name": "stdout",
     "output_type": "stream",
     "text": [
      "Project created at c:\\Users\\hugos\\Desktop\\AmadeusGPT\\video_results. Results will be saved to c:\\Users\\hugos\\Desktop\\AmadeusGPT\\video_results\n",
      "The project will load video files (*.avi) and optionally keypoint files from c:\\Users\\hugos\\Desktop\\AmadeusGPT\\data\n",
      "A copy of the project config file is saved at c:\\Users\\hugos\\Desktop\\AmadeusGPT\\video_results\\config.yaml\n",
      "{'data_info': {'data_folder': 'c:\\\\Users\\\\hugos\\\\Desktop\\\\AmadeusGPT\\\\data',\n",
      "               'result_folder': 'c:\\\\Users\\\\hugos\\\\Desktop\\\\AmadeusGPT\\\\video_results',\n",
      "               'video_suffix': '.avi'},\n",
      " 'keypoint_info': {'include_confidence': False, 'use_3d': True},\n",
      " 'llm_info': {'gpt_model': 'gpt-4o',\n",
      "              'keep_last_n_messages': 2,\n",
      "              'max_tokens': 4096,\n",
      "              'temperature': 0.0},\n",
      " 'object_info': {'load_objects_from_disk': False, 'use_grid_objects': False},\n",
      " 'video_info': {'scene_frame_number': 1}}\n",
      "✅  Project ready: {'data_info': {'data_folder': 'c:\\\\Users\\\\hugos\\\\Desktop\\\\AmadeusGPT\\\\data', 'result_folder': 'c:\\\\Users\\\\hugos\\\\Desktop\\\\AmadeusGPT\\\\video_results', 'video_suffix': '.avi'}, 'llm_info': {'max_tokens': 4096, 'temperature': 0.0, 'gpt_model': 'gpt-4o', 'keep_last_n_messages': 2}, 'object_info': {'load_objects_from_disk': False, 'use_grid_objects': False}, 'keypoint_info': {'use_3d': True, 'include_confidence': False}, 'video_info': {'scene_frame_number': 1}}\n"
     ]
    }
   ],
   "source": [
    "import os\n",
    "from amadeusgpt import AMADEUS, create_project\n",
    "from amadeusgpt.utils import parse_result\n",
    "\n",
    "# ── resolve repo root dynamically ──\n",
    "ROOT = os.getcwd()\n",
    "\n",
    "DATA_DIR   = os.path.join(ROOT, \"data\")\n",
    "RESULT_DIR = os.path.join(ROOT, \"video_results\")\n",
    "\n",
    "project_cfg = create_project(\n",
    "    data_folder   = DATA_DIR,\n",
    "    result_folder = RESULT_DIR,\n",
    "    **{\n",
    "        \"data_info.video_suffix\": \".avi\",\n",
    "        \"keypoint_info.use_3d\"  : True\n",
    "    }\n",
    ")\n",
    "\n",
    "amadeus = AMADEUS(project_cfg)\n",
    "print(\"✅  Project ready:\", project_cfg)\n"
   ]
  },
  {
   "cell_type": "markdown",
   "id": "b295ce4e",
   "metadata": {},
   "source": [
    "#### 4 · Run a demo query 🎬\n"
   ]
  },
  {
   "cell_type": "code",
   "execution_count": 8,
   "id": "d5de930f",
   "metadata": {},
   "outputs": [
    {
     "name": "stderr",
     "output_type": "stream",
     "text": [
      "INFO:httpx:HTTP Request: POST https://api.openai.com/v1/embeddings \"HTTP/1.1 200 OK\"\n",
      "INFO:httpx:HTTP Request: POST https://api.openai.com/v1/chat/completions \"HTTP/1.1 200 OK\"\n"
     ]
    },
    {
     "name": "stdout",
     "output_type": "stream",
     "text": [
      "current total cost 0.0321 $\n",
      "current input tokens 3015\n",
      "current accumulated tokens 6090\n"
     ]
    },
    {
     "data": {
      "text/markdown": [
       "To plot the trajectory of the animal using the animal center and color it by time, we will follow these steps:\n",
       "\n",
       "1. Retrieve the keypoints data for the animal.\n",
       "2. Calculate the center of the animal for each frame by averaging the x, y, and z coordinates of all keypoints.\n",
       "3. Plot the trajectory of the animal's center and color it by time.\n",
       "\n",
       "Let's implement this in the code."
      ],
      "text/plain": [
       "<IPython.core.display.Markdown object>"
      ]
     },
     "metadata": {},
     "output_type": "display_data"
    },
    {
     "name": "stdout",
     "output_type": "stream",
     "text": [
      "✅  Query executed successfully!\n"
     ]
    }
   ],
   "source": [
    "query = \"Plot the trajectory of the animal using the animal center and color it by time\"\n",
    "msg   = amadeus.step(query)\n",
    "parse_result(amadeus, msg)          # renders figure / prints response\n",
    "print(\"✅  Query executed successfully!\")"
   ]
  },
  {
   "cell_type": "markdown",
   "id": "2b9850c6",
   "metadata": {},
   "source": [
    "### Appendix 📚\n",
    "\n",
    "---"
   ]
  },
  {
   "cell_type": "markdown",
   "id": "aec8a00c",
   "metadata": {},
   "source": [
    "\n",
    "#### 1. Updating code  \n",
    "- After you’ve made changes to your package source, simply re-run the dependency‐install cell. [Re-install dependencies here.](#bootstrap-jupyter-interpreter)\n",
    "#### 2. Troubleshooting\n",
    "\n",
    "* **Kernel name not visible?**\n",
    "\n",
    "  * Reload VS Code/Notebook window (e.g. ⌘⇧P → “Developer: Reload Window”).\n",
    "  * Make sure you're selecting Jupyter Kernels not Python Environments to find `AmadeusGPT (venv)`\n",
    "  * Ensure the workspace interpreter is set to your `.venv` (click the Python version in the status bar).\n",
    "\n",
    "* **Version or Downloading Issues?**\n",
    "  \n",
    "  * Versioning errors occur if your Kernel is not Python version 3.10 (required for AmadeusGPT).\n",
    "    *  Ensure that you have this version of Python installed and have selected it as the version for your environment\n",
    "    *  You can check this in top right corner. If you see it's Python 3.10... that's not the issue.\n",
    "\n",
    "* **“Package X not found” after reinstalling**\n",
    "\n",
    "  * Confirm you’ve restarted the kernel (Kernel ▶ Restart).\n",
    "  * Run `pip list` in a cell to verify that your package is installed in the active environment.\n",
    "\n",
    "* **Still stuck?**\n",
    "\n",
    "  * In a terminal, run:\n",
    "\n",
    "    ```bash\n",
    "    jupyter kernelspec list\n",
    "    ```\n",
    "\n",
    "    to verify that `amadeus-gpt-env` appears under your user kernels.\n",
    "  * Stop & restart the Jupyter server\n",
    "    (in VS Code: ⌘⇧P → “Jupyter: Stop Jupyter Server”, then run any cell again)."
   ]
  },
  {
   "cell_type": "markdown",
   "id": "73bc035a",
   "metadata": {},
   "source": []
  }
 ],
 "metadata": {
  "kernelspec": {
   "display_name": "AmadeusGPT (venv)",
   "language": "python",
   "name": "amadeus-gpt-env"
  },
  "language_info": {
   "codemirror_mode": {
    "name": "ipython",
    "version": 3
   },
   "file_extension": ".py",
   "mimetype": "text/x-python",
   "name": "python",
   "nbconvert_exporter": "python",
   "pygments_lexer": "ipython3",
   "version": "3.10.10"
  }
 },
 "nbformat": 4,
 "nbformat_minor": 5
}
