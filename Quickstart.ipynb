{
 "cells": [
  {
   "cell_type": "markdown",
   "id": "e0699e66",
   "metadata": {},
   "source": [
    "### 🐁 AmadeusGPT Quickstart\n",
    "\n",
    "---\n"
   ]
  },
  {
   "cell_type": "markdown",
   "id": "3f17b51e",
   "metadata": {},
   "source": [
    "#### Notebook Overview:\n",
    "1. Bootstrap the Jupyter interpreter 🛠️\n",
    "2. Load secrets & config 🔑\n",
    "3. Project initialization 📁\n",
    "4. Run a demo query 🎬\n",
    "5. Appendix 📚"
   ]
  },
  {
   "cell_type": "markdown",
   "id": "1ab5db29",
   "metadata": {},
   "source": [
    "#### 1 · Bootstrap the Jupyter interpreter 🛠️\n",
    "-  Run the below cell *once* per fresh clone or when dependencies change\n",
    "-  ⚠️ Select a 3.10 Python environment before you run the below code (if you already have the AmadeusGPT Jupyter kernel select that and skip to [Jump to “Load secrets & config”](#load-secrets-config)\n",
    ")\n",
    "<a id=\"bootstrap-jupyter-interpreter\"></a>"
   ]
  },
  {
   "cell_type": "code",
   "execution_count": null,
   "id": "7085db6c",
   "metadata": {},
   "outputs": [],
   "source": [
    "%pip install --quiet --upgrade pip\n",
    "%pip install --quiet -e .[dev]            # editable install → reads pyproject.toml\n",
    "%pip install --quiet ipykernel       # needed for kernel registration\n",
    "%matplotlib inline"
   ]
  },
  {
   "cell_type": "markdown",
   "id": "0392322c",
   "metadata": {},
   "source": [
    "Register the interpreter as a named Jupyter kernel - unless you already have access to the AmadeusGPT (venv)"
   ]
  },
  {
   "cell_type": "code",
   "execution_count": null,
   "id": "169a3a7d",
   "metadata": {},
   "outputs": [],
   "source": [
    "!python -m ipykernel install --user --name amadeus-gpt-env --display-name \"AmadeusGPT (venv)\"\n",
    "\n",
    "print(\"✅  Bootstrapping done – now **Restart** the kernel (Kernel ▶ Restart) and select “AmadeusGPT (venv)” in the top-right kernel picker.\")"
   ]
  },
  {
   "cell_type": "markdown",
   "id": "08a2d565",
   "metadata": {},
   "source": [
    "<a id=\"load-secrets-config\"></a>\n",
    "#### 2 · Load secrets & config 🔑\n"
   ]
  },
  {
   "cell_type": "code",
   "execution_count": 2,
   "id": "3108eb9b",
   "metadata": {},
   "outputs": [
    {
     "name": "stdout",
     "output_type": "stream",
     "text": [
      "🔐  Environment loaded from: c:\\Users\\hugos\\Desktop\\AmadeusGPT\\.env\n"
     ]
    }
   ],
   "source": [
    "from dotenv import load_dotenv, find_dotenv\n",
    "\n",
    "env_path = find_dotenv()\n",
    "load_dotenv(env_path, override=True)\n",
    "print(\"🔐  Environment loaded from:\", env_path or \"❌  .env file not found. Create one and add your OPENAI_API_KEY='api_key' to complete this step\")\n"
   ]
  },
  {
   "cell_type": "markdown",
   "id": "cffbe8c2",
   "metadata": {},
   "source": [
    "#### 3 · Project initialisation 📁\n",
    "You can "
   ]
  },
  {
   "cell_type": "code",
   "execution_count": null,
   "id": "a2f2805b",
   "metadata": {},
   "outputs": [
    {
     "name": "stdout",
     "output_type": "stream",
     "text": [
      "Project created at c:\\Users\\hugos\\Desktop\\AmadeusGPT\\results. Results will be saved to c:\\Users\\hugos\\Desktop\\AmadeusGPT\\results\n",
      "The project will load video files (*.avi) and optionally keypoint files from c:\\Users\\hugos\\Desktop\\AmadeusGPT\\data\n",
      "A copy of the project config file is saved at c:\\Users\\hugos\\Desktop\\AmadeusGPT\\results\\config.yaml\n",
      "{'data_info': {'data_folder': 'c:\\\\Users\\\\hugos\\\\Desktop\\\\AmadeusGPT\\\\data',\n",
      "               'result_folder': 'c:\\\\Users\\\\hugos\\\\Desktop\\\\AmadeusGPT\\\\results',\n",
      "               'video_suffix': '.avi'},\n",
      " 'keypoint_info': {'include_confidence': False, 'use_3d': True},\n",
      " 'llm_info': {'gpt_model': 'gpt-4o',\n",
      "              'keep_last_n_messages': 2,\n",
      "              'max_tokens': 4096,\n",
      "              'temperature': 0.0},\n",
      " 'object_info': {'load_objects_from_disk': False, 'use_grid_objects': False},\n",
      " 'video_info': {'scene_frame_number': 1}}\n",
      "✅  Project ready: {'data_info': {'data_folder': 'c:\\\\Users\\\\hugos\\\\Desktop\\\\AmadeusGPT\\\\data', 'result_folder': 'c:\\\\Users\\\\hugos\\\\Desktop\\\\AmadeusGPT\\\\results', 'video_suffix': '.avi'}, 'llm_info': {'max_tokens': 4096, 'temperature': 0.0, 'gpt_model': 'gpt-4o', 'keep_last_n_messages': 2}, 'object_info': {'load_objects_from_disk': False, 'use_grid_objects': False}, 'keypoint_info': {'use_3d': True, 'include_confidence': False}, 'video_info': {'scene_frame_number': 1}}\n"
     ]
    }
   ],
   "source": [
    "import os\n",
    "from amadeusgpt import AMADEUS, create_project\n",
    "from amadeusgpt.utils import parse_result\n",
    "\n",
    "# ── resolve repo root dynamically ──\n",
    "ROOT = os.getcwd()\n",
    "\n",
    "DATA_DIR   = os.path.join(ROOT, \"data\")\n",
    "RESULT_DIR = os.path.join(ROOT, \"results\")\n",
    "\n",
    "project_cfg = create_project(\n",
    "    data_folder   = DATA_DIR,\n",
    "    result_folder = RESULT_DIR,\n",
    "    **{\n",
    "        \"data_info.video_suffix\": \".avi\",\n",
    "        \"keypoint_info.use_3d\"  : True,\n",
    "    }\n",
    ")\n",
    "\n",
    "amadeus = AMADEUS(project_cfg)\n",
    "print(\"✅  Project ready:\", project_cfg)\n"
   ]
  },
  {
   "cell_type": "markdown",
   "id": "b295ce4e",
   "metadata": {},
   "source": [
    "#### 4 · Run a demo query 🎬\n"
   ]
  },
  {
   "cell_type": "markdown",
   "id": "2b9850c6",
   "metadata": {},
   "source": [
    "### Appendix 📚\n",
    "\n",
    "---"
   ]
  },
  {
   "cell_type": "code",
   "execution_count": null,
   "id": "d5de930f",
   "metadata": {},
   "outputs": [
    {
     "name": "stderr",
     "output_type": "stream",
     "text": [
      "INFO:httpx:HTTP Request: POST https://api.openai.com/v1/embeddings \"HTTP/1.1 200 OK\"\n"
     ]
    },
    {
     "name": "stdout",
     "output_type": "stream",
     "text": [
      "doing active forgetting\n"
     ]
    },
    {
     "name": "stderr",
     "output_type": "stream",
     "text": [
      "INFO:httpx:HTTP Request: POST https://api.openai.com/v1/chat/completions \"HTTP/1.1 200 OK\"\n"
     ]
    },
    {
     "name": "stdout",
     "output_type": "stream",
     "text": [
      "current total cost 0.4347 $\n",
      "current input tokens 3961\n",
      "current accumulated tokens 63440\n"
     ]
    },
    {
     "data": {
      "text/markdown": [
       "To address your request, I will write a function that identifies the frames where the mouse is rearing based on the defined criteria. Then, I will create two plots: \n",
       "\n",
       "1. A rectangular timeline plot showing the frames during which the mouse was rearing, using a purple color scheme.\n",
       "2. A plot showing the average height of the mouse's head, snout, and ears over time, with a red line indicating the threshold for rearing behavior.\n",
       "\n",
       "Here's the implementation:\n",
       "\n",
       "```python\n",
       "def plot_rearing_behavior(identifier):\n",
       "    '''\n",
       "    Analyzes and plots the rearing behavior of a mouse.\n",
       "\n",
       "    Parameters\n",
       "    ----------\n",
       "    identifier: Identifier\n",
       "        Contains information about the video, keypoint, and config.\n",
       "    '''\n",
       "    import numpy as np\n",
       "    import matplotlib.pyplot as plt\n",
       "\n",
       "    # Create an instance of AnimalBehaviorAnalysis\n",
       "    analysis = create_analysis(identifier)\n",
       "\n",
       "    # Get keypoints and their names\n",
       "    keypoints = analysis.get_keypoints()  # shape: (n_frames, n_individuals, n_kpts, n_dims)\n",
       "    keypoint_names = analysis.get_keypoint_names()\n",
       "\n",
       "    # Extract indices for the required keypoints\n",
       "    snout_idx = keypoint_names.index('Snout')\n",
       "    left_ear_idx = keypoint_names.index('Left ear')\n",
       "    right_ear_idx = keypoint_names.index('Right ear')\n",
       "    neck_base_idx = keypoint_names.index('Neck base')\n",
       "    tail_base_idx = keypoint_names.index('Tail base')\n",
       "    body_tail_idx = keypoint_names.index('Body-tail midpoint')\n",
       "    body_midpoint_idx = keypoint_names.index('Body midpoint')\n",
       "\n",
       "    # Extract the z-coordinates (height) for the relevant keypoints\n",
       "    head_heights = keypoints[:, 0, [snout_idx, left_ear_idx, right_ear_idx, neck_base_idx], 2]  # shape: (n_frames, 4)\n",
       "    tail_heights = keypoints[:, 0, [tail_base_idx, body_tail_idx], 2]  # shape: (n_frames, 2)\n",
       "    body_midpoint_height = keypoints[:, 0, body_midpoint_idx, 2]  # shape: (n_frames,)\n",
       "\n",
       "    # Calculate average heights\n",
       "    avg_head_height = np.mean(head_heights, axis=1)  # shape: (n_frames,)\n",
       "    avg_tail_height = np.mean(tail_heights, axis=1)  # shape: (n_frames,)\n",
       "\n",
       "    # Determine rearing frames\n",
       "    rearing_frames = (avg_head_height >= 2.5 * avg_tail_height) & (body_midpoint_height > avg_tail_height) & (body_midpoint_height < avg_head_height)\n",
       "\n",
       "    # Plotting\n",
       "    fig, axs = plt.subplots(2, 1, figsize=(12, 8))\n",
       "\n",
       "    # Plot 1: Rectangular timeline plot\n",
       "    axs[0].bar(range(len(rearing_frames)), rearing_frames, color='purple', width=1.0)\n",
       "    axs[0].set_title('Rearing Behavior Timeline')\n",
       "    axs[0].set_xlabel('Frame Number')\n",
       "    axs[0].set_ylabel('Rearing (1 = Yes, 0 = No)')\n",
       "    axs[0].set_xlim(0, len(rearing_frames))\n",
       "\n",
       "    # Plot 2: Average head height over time\n",
       "    axs[1].plot(avg_head_height, label='Average Head Height', color='blue')\n",
       "    axs[1].axhline(y=2.5 * np.mean(avg_tail_height), color='red', linestyle='--', label='Rearing Threshold')\n",
       "    axs[1].set_title('Average Head Height Over Time')\n",
       "    axs[1].set_xlabel('Frame Number')\n",
       "    axs[1].set_ylabel('Height')\n",
       "    axs[1].legend()\n",
       "    axs[1].set_xlim(0, len(avg_head_height))\n",
       "\n",
       "    plt.tight_layout()\n",
       "    return fig, axs\n",
       "```\n",
       "\n",
       "This function will analyze the rearing behavior based on the specified criteria and generate two plots. The first plot is a timeline showing when the mouse is rearing, and the second plot shows the average head height over time with a threshold line for rearing behavior."
      ],
      "text/plain": [
       "<IPython.core.display.Markdown object>"
      ]
     },
     "metadata": {},
     "output_type": "display_data"
    },
    {
     "name": "stderr",
     "output_type": "stream",
     "text": [
      "INFO:httpx:HTTP Request: POST https://api.openai.com/v1/embeddings \"HTTP/1.1 200 OK\"\n"
     ]
    },
    {
     "name": "stdout",
     "output_type": "stream",
     "text": [
      "doing active forgetting\n"
     ]
    },
    {
     "name": "stderr",
     "output_type": "stream",
     "text": [
      "INFO:httpx:HTTP Request: POST https://api.openai.com/v1/chat/completions \"HTTP/1.1 200 OK\"\n"
     ]
    },
    {
     "name": "stdout",
     "output_type": "stream",
     "text": [
      "current total cost 0.473 $\n",
      "current input tokens 3943\n",
      "current accumulated tokens 68621\n"
     ]
    },
    {
     "data": {
      "text/markdown": [
       "To save the results of the rearing behavior analysis to a file, I will modify the function to include writing the analysis results to a text file named 'rearing_behavior_analysis.txt' in the 'results' folder. The file will include the specific time ranges when the mouse was rearing, the average height of the mouse's head, snout, and ears per frame, and any relevant statistics or observations.\n",
       "\n",
       "Here's the updated implementation:\n",
       "\n",
       "```python\n",
       "def plot_and_save_rearing_behavior(identifier):\n",
       "    '''\n",
       "    Analyzes, plots, and saves the rearing behavior of a mouse.\n",
       "\n",
       "    Parameters\n",
       "    ----------\n",
       "    identifier: Identifier\n",
       "        Contains information about the video, keypoint, and config.\n",
       "    '''\n",
       "    import numpy as np\n",
       "    import matplotlib.pyplot as plt\n",
       "    import os\n",
       "\n",
       "    # Create an instance of AnimalBehaviorAnalysis\n",
       "    analysis = create_analysis(identifier)\n",
       "\n",
       "    # Get keypoints and their names\n",
       "    keypoints = analysis.get_keypoints()  # shape: (n_frames, n_individuals, n_kpts, n_dims)\n",
       "    keypoint_names = analysis.get_keypoint_names()\n",
       "\n",
       "    # Extract indices for the required keypoints\n",
       "    snout_idx = keypoint_names.index('Snout')\n",
       "    left_ear_idx = keypoint_names.index('Left ear')\n",
       "    right_ear_idx = keypoint_names.index('Right ear')\n",
       "    neck_base_idx = keypoint_names.index('Neck base')\n",
       "    tail_base_idx = keypoint_names.index('Tail base')\n",
       "    body_tail_idx = keypoint_names.index('Body-tail midpoint')\n",
       "    body_midpoint_idx = keypoint_names.index('Body midpoint')\n",
       "\n",
       "    # Extract the z-coordinates (height) for the relevant keypoints\n",
       "    head_heights = keypoints[:, 0, [snout_idx, left_ear_idx, right_ear_idx, neck_base_idx], 2]  # shape: (n_frames, 4)\n",
       "    tail_heights = keypoints[:, 0, [tail_base_idx, body_tail_idx], 2]  # shape: (n_frames, 2)\n",
       "    body_midpoint_height = keypoints[:, 0, body_midpoint_idx, 2]  # shape: (n_frames,)\n",
       "\n",
       "    # Calculate average heights\n",
       "    avg_head_height = np.mean(head_heights, axis=1)  # shape: (n_frames,)\n",
       "    avg_tail_height = np.mean(tail_heights, axis=1)  # shape: (n_frames,)\n",
       "\n",
       "    # Determine rearing frames\n",
       "    rearing_frames = (avg_head_height >= 2.5 * avg_tail_height) & (body_midpoint_height > avg_tail_height) & (body_midpoint_height < avg_head_height)\n",
       "\n",
       "    # Get frame rate to convert frames to seconds\n",
       "    frame_rate = analysis.get_frame_rate()\n",
       "\n",
       "    # Calculate time ranges for rearing behavior\n",
       "    rearing_time_ranges = []\n",
       "    start_frame = None\n",
       "    for i, is_rearing in enumerate(rearing_frames):\n",
       "        if is_rearing and start_frame is None:\n",
       "            start_frame = i\n",
       "        elif not is_rearing and start_frame is not None:\n",
       "            end_frame = i - 1\n",
       "            rearing_time_ranges.append((start_frame / frame_rate, end_frame / frame_rate))\n",
       "            start_frame = None\n",
       "    if start_frame is not None:\n",
       "        rearing_time_ranges.append((start_frame / frame_rate, len(rearing_frames) / frame_rate))\n",
       "\n",
       "    # Save results to a file\n",
       "    os.makedirs('results', exist_ok=True)\n",
       "    with open('results/rearing_behavior_analysis.txt', 'w') as file:\n",
       "        file.write(\"Rearing Behavior Analysis\\n\")\n",
       "        file.write(\"=========================\\n\\n\")\n",
       "        file.write(\"Time Ranges (in seconds) when the mouse was rearing:\\n\")\n",
       "        for start, end in rearing_time_ranges:\n",
       "            file.write(f\"Start: {start:.2f}s, End: {end:.2f}s\\n\")\n",
       "        file.write(\"\\nAverage Head Heights per Frame:\\n\")\n",
       "        for i, height in enumerate(avg_head_height):\n",
       "            file.write(f\"Frame {i}: {height:.2f}\\n\")\n",
       "        file.write(\"\\nObservations:\\n\")\n",
       "        file.write(f\"Total Rearing Duration: {sum(end - start for start, end in rearing_time_ranges):.2f} seconds\\n\")\n",
       "        file.write(f\"Total Frames: {len(rearing_frames)}\\n\")\n",
       "        file.write(f\"Frame Rate: {frame_rate} fps\\n\")\n",
       "\n",
       "    # Plotting\n",
       "    fig, axs = plt.subplots(2, 1, figsize=(12, 8))\n",
       "\n",
       "    # Plot 1: Rectangular timeline plot\n",
       "    axs[0].bar(range(len(rearing_frames)), rearing_frames, color='purple', width=1.0)\n",
       "    axs[0].set_title('Rearing Behavior Timeline')\n",
       "    axs[0].set_xlabel('Frame Number')\n",
       "    axs[0].set_ylabel('Rearing (1 = Yes, 0 = No)')\n",
       "    axs[0].set_xlim(0, len(rearing_frames))\n",
       "\n",
       "    # Plot 2: Average head height over time\n",
       "    axs[1].plot(avg_head_height, label='Average Head Height', color='blue')\n",
       "    axs[1].axhline(y=2.5 * np.mean(avg_tail_height), color='red', linestyle='--', label='Rearing Threshold')\n",
       "    axs[1].set_title('Average Head Height Over Time')\n",
       "    axs[1].set_xlabel('Frame Number')\n",
       "    axs[1].set_ylabel('Height')\n",
       "    axs[1].legend()\n",
       "    axs[1].set_xlim(0, len(avg_head_height))\n",
       "\n",
       "    plt.tight_layout()\n",
       "    return fig, axs\n",
       "```\n",
       "\n",
       "This function will analyze the rearing behavior, save the results to a text file, and generate the requested plots. The text file will include the time ranges when the mouse was rearing, the average head heights per frame, and relevant statistics."
      ],
      "text/plain": [
       "<IPython.core.display.Markdown object>"
      ]
     },
     "metadata": {},
     "output_type": "display_data"
    },
    {
     "name": "stdout",
     "output_type": "stream",
     "text": [
      "✅  Query executed successfully!\n"
     ]
    }
   ],
   "source": [
    "query = \"Define <|rearing|> as a behavior where the mouse's head, including its snout, right, left ear, and neck base, when their height is averaged together, is at least two and a half times as high as the height of the averaged tail base and body tail: the body midpoint should be between these two averaged values: if it isn't assume the animal is doing another behavior. Get the frames where the mouse is rearing and plot them as a rectangular timeline plot with the x-axis being the frame numbers and a purple color scheme showing the frames during which the mouse was rearing. In a second plot, show the average height of the mouse's head, snout, and ears over time, with a red line indicating the threshold for rearing behavior.\"\n",
    "msg   = amadeus.step(query)\n",
    "parse_result(amadeus, msg)\n",
    "\n",
    "query2 = \"Save the results of the rearing behavior analysis to a file named 'rearing_behavior_analysis.txt' in the 'results' folder. Ensure that the file includes the specific frame ranges where the mouse was rearing, the average height of the mouse's head, snout, and ears per frame, and any relevant statistics or observations from the analysis. The file should be formatted clearly for easy reading and interpretation.\"\n",
    "msg2 = amadeus.step(query2)\n",
    "\n",
    "parse_result(amadeus, msg2)\n",
    "print(\"✅  Query executed successfully!\")"
   ]
  },
  {
   "cell_type": "markdown",
   "id": "aec8a00c",
   "metadata": {},
   "source": [
    "\n",
    "#### 1. Updating code  \n",
    "- After you’ve made changes to your package source, simply re-run the dependency‐install cell. [Re-install dependencies here.](#bootstrap-jupyter-interpreter)\n",
    "#### 2. Troubleshooting\n",
    "\n",
    "* **Kernel name not visible?**\n",
    "\n",
    "  * Reload VS Code/Notebook window (e.g. ⌘⇧P → “Developer: Reload Window”).\n",
    "  * Make sure you're selecting Jupyter Kernels not Python Environments to find `AmadeusGPT (venv)`\n",
    "  * Ensure the workspace interpreter is set to your `.venv` (click the Python version in the status bar).\n",
    "\n",
    "* **Version or Downloading Issues?**\n",
    "  \n",
    "  * Versioning errors occur if your Kernel is not Python version 3.10 (required for AmadeusGPT).\n",
    "    *  Ensure that you have this version of Python installed and have selected it as the version for your environment\n",
    "    *  You can check this in top right corner. If you see it's Python 3.10... that's not the issue.\n",
    "\n",
    "* **“Package X not found” after reinstalling**\n",
    "\n",
    "  * Confirm you’ve restarted the kernel (Kernel ▶ Restart).\n",
    "  * Run `pip list` in a cell to verify that your package is installed in the active environment.\n",
    "\n",
    "* **Still stuck?**\n",
    "\n",
    "  * In a terminal, run:\n",
    "\n",
    "    ```bash\n",
    "    jupyter kernelspec list\n",
    "    ```\n",
    "\n",
    "    to verify that `amadeus-gpt-env` appears under your user kernels.\n",
    "  * Stop & restart the Jupyter server\n",
    "    (in VS Code: ⌘⇧P → “Jupyter: Stop Jupyter Server”, then run any cell again)."
   ]
  },
  {
   "cell_type": "markdown",
   "id": "73bc035a",
   "metadata": {},
   "source": []
  }
 ],
 "metadata": {
  "kernelspec": {
   "display_name": "AmadeusGPT (venv)",
   "language": "python",
   "name": "amadeus-gpt-env"
  },
  "language_info": {
   "codemirror_mode": {
    "name": "ipython",
    "version": 3
   },
   "file_extension": ".py",
   "mimetype": "text/x-python",
   "name": "python",
   "nbconvert_exporter": "python",
   "pygments_lexer": "ipython3",
   "version": "3.10.10"
  }
 },
 "nbformat": 4,
 "nbformat_minor": 5
}
