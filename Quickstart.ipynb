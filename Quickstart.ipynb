{
 "cells": [
  {
   "cell_type": "markdown",
   "id": "e0699e66",
   "metadata": {},
   "source": [
    "### 🐁 AmadeusGPT Quickstart\n",
    "\n",
    "---\n"
   ]
  },
  {
   "cell_type": "markdown",
   "id": "3f17b51e",
   "metadata": {},
   "source": [
    "#### Notebook Overview:\n",
    "1. Bootstrap the Jupyter interpreter 🛠️\n",
    "2. Load secrets & config 🔑\n",
    "3. Project initialization 📁\n",
    "4. Run a demo query 🎬\n",
    "5. Appendix 📚"
   ]
  },
  {
   "cell_type": "markdown",
   "id": "1ab5db29",
   "metadata": {},
   "source": [
    "#### 1 · Bootstrap the Jupyter interpreter 🛠️\n",
    "-  Run the below cell *once* per fresh clone or when dependencies change\n",
    "-  ⚠️ Select a 3.10 Python environment before you run the below code (if you already have the AmadeusGPT Jupyter kernel select that and skip to [Jump to “Load secrets & config”](#load-secrets-config)\n",
    ")\n",
    "<a id=\"bootstrap-jupyter-interpreter\"></a>"
   ]
  },
  {
   "cell_type": "code",
   "execution_count": null,
   "id": "7085db6c",
   "metadata": {},
   "outputs": [],
   "source": [
    "%pip install --quiet --upgrade pip\n",
    "%pip install --quiet -e .[dev]            # editable install → reads pyproject.toml\n",
    "%pip install --quiet ipykernel       # needed for kernel registration\n",
    "%matplotlib inline"
   ]
  },
  {
   "cell_type": "markdown",
   "id": "0392322c",
   "metadata": {},
   "source": [
    "Register the interpreter as a named Jupyter kernel - unless you already have access to the AmadeusGPT (venv)"
   ]
  },
  {
   "cell_type": "code",
   "execution_count": null,
   "id": "169a3a7d",
   "metadata": {},
   "outputs": [],
   "source": [
    "!python -m ipykernel install --user --name amadeus-gpt-env --display-name \"AmadeusGPT (venv)\"\n",
    "\n",
    "print(\"✅  Bootstrapping done – now **Restart** the kernel (Kernel ▶ Restart) and select “AmadeusGPT (venv)” in the top-right kernel picker.\")"
   ]
  },
  {
   "cell_type": "markdown",
   "id": "08a2d565",
   "metadata": {},
   "source": [
    "<a id=\"load-secrets-config\"></a>\n",
    "#### 2 · Load secrets & config 🔑\n"
   ]
  },
  {
   "cell_type": "code",
   "execution_count": 2,
   "id": "3108eb9b",
   "metadata": {},
   "outputs": [
    {
     "name": "stdout",
     "output_type": "stream",
     "text": [
      "🔐  Environment loaded from: c:\\Users\\hugos\\Desktop\\AmadeusGPT\\.env\n"
     ]
    }
   ],
   "source": [
    "from dotenv import load_dotenv, find_dotenv\n",
    "\n",
    "env_path = find_dotenv()\n",
    "load_dotenv(env_path, override=True)\n",
    "print(\"🔐  Environment loaded from:\", env_path or \"❌  .env file not found. Create one and add your OPENAI_API_KEY='api_key' to complete this step\")\n"
   ]
  },
  {
   "cell_type": "markdown",
   "id": "cffbe8c2",
   "metadata": {},
   "source": [
    "#### 3 · Project initialisation 📁\n",
    "You should re-run this each time you (re-)open this program."
   ]
  },
  {
   "cell_type": "code",
   "execution_count": 1,
   "id": "a2f2805b",
   "metadata": {},
   "outputs": [
    {
     "name": "stdout",
     "output_type": "stream",
     "text": [
      "Project created at c:\\Users\\hugos\\Desktop\\AmadeusGPT\\results. Results will be saved to c:\\Users\\hugos\\Desktop\\AmadeusGPT\\results\n",
      "The project will load video files (*.avi) and optionally keypoint files from c:\\Users\\hugos\\Desktop\\AmadeusGPT\\data\n",
      "A copy of the project config file is saved at c:\\Users\\hugos\\Desktop\\AmadeusGPT\\results\\config.yaml\n",
      "{'data_info': {'data_folder': 'c:\\\\Users\\\\hugos\\\\Desktop\\\\AmadeusGPT\\\\data',\n",
      "               'result_folder': 'c:\\\\Users\\\\hugos\\\\Desktop\\\\AmadeusGPT\\\\results',\n",
      "               'video_suffix': '.avi'},\n",
      " 'keypoint_info': {'include_confidence': False, 'use_3d': True},\n",
      " 'llm_info': {'gpt_model': 'gpt-4o',\n",
      "              'keep_last_n_messages': 2,\n",
      "              'max_tokens': 4096,\n",
      "              'temperature': 0.0},\n",
      " 'object_info': {'load_objects_from_disk': False, 'use_grid_objects': False},\n",
      " 'video_info': {'scene_frame_number': 1}}\n",
      "✅  Project ready: {'data_info': {'data_folder': 'c:\\\\Users\\\\hugos\\\\Desktop\\\\AmadeusGPT\\\\data', 'result_folder': 'c:\\\\Users\\\\hugos\\\\Desktop\\\\AmadeusGPT\\\\results', 'video_suffix': '.avi'}, 'llm_info': {'max_tokens': 4096, 'temperature': 0.0, 'gpt_model': 'gpt-4o', 'keep_last_n_messages': 2}, 'object_info': {'load_objects_from_disk': False, 'use_grid_objects': False}, 'keypoint_info': {'use_3d': True, 'include_confidence': False}, 'video_info': {'scene_frame_number': 1}}\n"
     ]
    }
   ],
   "source": [
    "import os\n",
    "from amadeusgpt import AMADEUS, create_project\n",
    "from amadeusgpt.utils import parse_result\n",
    "\n",
    "# ── resolve repo root dynamically ──\n",
    "ROOT = os.getcwd()\n",
    "\n",
    "DATA_DIR   = os.path.join(ROOT, \"data\")\n",
    "RESULT_DIR = os.path.join(ROOT, \"results\")\n",
    "\n",
    "project_cfg = create_project(\n",
    "    data_folder   = DATA_DIR,\n",
    "    result_folder = RESULT_DIR,\n",
    "    **{\n",
    "        \"data_info.video_suffix\": \".avi\",\n",
    "        \"keypoint_info.use_3d\"  : True,\n",
    "    }\n",
    ")\n",
    "\n",
    "amadeus = AMADEUS(project_cfg)\n",
    "print(\"✅  Project ready:\", project_cfg)\n"
   ]
  },
  {
   "cell_type": "markdown",
   "id": "b295ce4e",
   "metadata": {},
   "source": [
    "#### 4 · Run a demo query 🎬\n"
   ]
  },
  {
   "cell_type": "markdown",
   "id": "2b9850c6",
   "metadata": {},
   "source": [
    "### Appendix 📚\n",
    "\n",
    "---"
   ]
  },
  {
   "cell_type": "code",
   "execution_count": 5,
   "id": "d5de930f",
   "metadata": {},
   "outputs": [
    {
     "name": "stdout",
     "output_type": "stream",
     "text": [
      "🔍  Querying 'locomotion'…\n"
     ]
    },
    {
     "name": "stderr",
     "output_type": "stream",
     "text": [
      "INFO:httpx:HTTP Request: POST https://api.openai.com/v1/embeddings \"HTTP/1.1 200 OK\"\n"
     ]
    },
    {
     "name": "stdout",
     "output_type": "stream",
     "text": [
      "doing active forgetting\n"
     ]
    },
    {
     "name": "stderr",
     "output_type": "stream",
     "text": [
      "INFO:httpx:HTTP Request: POST https://api.openai.com/v1/chat/completions \"HTTP/1.1 200 OK\"\n"
     ]
    },
    {
     "name": "stdout",
     "output_type": "stream",
     "text": [
      "current total cost 0.2843 $\n",
      "current input tokens 4688\n",
      "current accumulated tokens 41734\n"
     ]
    },
    {
     "data": {
      "text/markdown": [
       "```python\n",
       "def identify_locomotion_bouts(identifier):\n",
       "    \"\"\"\n",
       "    Identify continuous bouts of locomotion based on the given criteria.\n",
       "    \n",
       "    Parameters\n",
       "    ----------\n",
       "    identifier: Identifier\n",
       "        Contains information about the video, keypoint, and config.\n",
       "    \n",
       "    Returns\n",
       "    -------\n",
       "    List[Tuple[int, int]]\n",
       "        A list of tuples representing the start and end frames of each locomotion bout.\n",
       "    \"\"\"\n",
       "    import numpy as np\n",
       "\n",
       "    # Create an analysis instance\n",
       "    analysis = create_analysis(identifier)\n",
       "    \n",
       "    # Get keypoints and keypoint names\n",
       "    keypoints = analysis.get_keypoints()  # shape: (n_frames, n_individuals, n_kpts, n_dims)\n",
       "    keypoint_names = analysis.get_keypoint_names()\n",
       "    \n",
       "    # Get indices for required keypoints\n",
       "    body_mid_idx = keypoint_names.index('Body midpoint')\n",
       "    snout_idx = keypoint_names.index('Snout')\n",
       "    tail_base_idx = keypoint_names.index('Tail base')\n",
       "    \n",
       "    # Extract relevant keypoints for the single animal\n",
       "    body_mid = keypoints[:, 0, body_mid_idx, :2]  # shape: (n_frames, 2)\n",
       "    snout = keypoints[:, 0, snout_idx, :2]  # shape: (n_frames, 2)\n",
       "    tail_base = keypoints[:, 0, tail_base_idx, :2]  # shape: (n_frames, 2)\n",
       "    \n",
       "    # Number of frames\n",
       "    n = keypoints.shape[0]\n",
       "    \n",
       "    # Compute unit vectors H[i]\n",
       "    H = snout - tail_base  # shape: (n_frames, 2)\n",
       "    H = H / np.linalg.norm(H, axis=1, keepdims=True)  # Normalize to unit vectors\n",
       "    \n",
       "    # Build projection array P\n",
       "    P = np.zeros(n)\n",
       "    for i in range(1, n):\n",
       "        P[i] = np.dot(body_mid[i] - body_mid[i-1], H[i])\n",
       "    \n",
       "    # Smooth P\n",
       "    P_smooth = np.convolve(P, np.ones(5)/5, mode='same')  # shape: (n,)\n",
       "    \n",
       "    # Initialize variables\n",
       "    in_bout = False\n",
       "    bouts = []\n",
       "    \n",
       "    # Loop through frames\n",
       "    for i in range(1, n):\n",
       "        if not in_bout and P_smooth[i] > 0:\n",
       "            in_bout = True\n",
       "            start = i\n",
       "            F = 0.0\n",
       "            B = 0.0\n",
       "            h0 = H[i]\n",
       "        \n",
       "        if in_bout:\n",
       "            F += max(P_smooth[i], 0)\n",
       "            B += max(-P_smooth[i], 0)\n",
       "            angle = np.degrees(np.arctan2(np.linalg.det([H[i], h0]), np.dot(H[i], h0)))\n",
       "            L = np.linalg.norm(snout[i] - tail_base[i])\n",
       "            N = i - start + 1\n",
       "            \n",
       "            if not (F >= 0.05 * L * N and B <= 0.2 * F and abs(angle) <= 30):\n",
       "                if N >= 10:\n",
       "                    bouts.append((start, i-1))\n",
       "                in_bout = False\n",
       "    \n",
       "    # Check if a bout was ongoing at the end\n",
       "    if in_bout and (n - 1 - start + 1) >= 10:\n",
       "        bouts.append((start, n - 1))\n",
       "    \n",
       "    # Merge bouts separated by ≤ 2 frames\n",
       "    merged_bouts = []\n",
       "    if bouts:\n",
       "        start, end = bouts[0]\n",
       "        for i in range(1, len(bouts)):\n",
       "            next_start, next_end = bouts[i]\n",
       "            if next_start - end <= 2:\n",
       "                end = next_end\n",
       "            else:\n",
       "                merged_bouts.append((start, end))\n",
       "                start, end = next_start, next_end\n",
       "        merged_bouts.append((start, end))\n",
       "    \n",
       "    # Save results to file\n",
       "    with open('results/locomotion.txt', 'w') as f:\n",
       "        for bout in merged_bouts:\n",
       "            f.write(f\"{bout[0]},{bout[1]}\\n\")\n",
       "    \n",
       "    return merged_bouts\n",
       "```"
      ],
      "text/plain": [
       "<IPython.core.display.Markdown object>"
      ]
     },
     "metadata": {},
     "output_type": "display_data"
    },
    {
     "data": {
      "text/markdown": [
       "[(12, 22), (96, 109), (143, 158), (931, 940), (1668, 1678), (1864, 1873), (1926, 1939), (1995, 2016), (2084, 2093), (2696, 2704), (2831, 2865), (5207, 5220), (6699, 6710), (9092, 9100), (9387, 9423), (9433, 9442), (9447, 9461), (9473, 9493), (9956, 9981), (10057, 10065), (10588, 10601), (10696, 10716), (10739, 10747)]"
      ],
      "text/plain": [
       "<IPython.core.display.Markdown object>"
      ]
     },
     "metadata": {},
     "output_type": "display_data"
    },
    {
     "data": {
      "text/markdown": [
       "[(12, 22), (96, 109), (143, 158), (931, 940), (1668, 1678), (1864, 1873), (1926, 1939), (1995, 2016), (2084, 2093), (2696, 2704), (2831, 2865), (5207, 5220), (6699, 6710), (9092, 9100), (9387, 9423), (9433, 9442), (9447, 9461), (9473, 9493), (9956, 9981), (10057, 10065), (10588, 10601), (10696, 10716), (10739, 10747)]"
      ],
      "text/plain": [
       "<IPython.core.display.Markdown object>"
      ]
     },
     "metadata": {},
     "output_type": "display_data"
    },
    {
     "data": {
      "text/markdown": [
       "[(12, 22), (96, 109), (143, 158), (931, 940), (1668, 1678), (1864, 1873), (1926, 1939), (1995, 2016), (2084, 2093), (2696, 2704), (2831, 2865), (5207, 5220), (6699, 6710), (9092, 9100), (9387, 9423), (9433, 9442), (9447, 9461), (9473, 9493), (9956, 9981), (10057, 10065), (10588, 10601), (10696, 10716), (10739, 10747)]"
      ],
      "text/plain": [
       "<IPython.core.display.Markdown object>"
      ]
     },
     "metadata": {},
     "output_type": "display_data"
    },
    {
     "data": {
      "text/markdown": [
       "[(12, 22), (96, 109), (143, 158), (931, 940), (1668, 1678), (1864, 1873), (1926, 1939), (1995, 2016), (2084, 2093), (2696, 2704), (2831, 2865), (5207, 5220), (6699, 6710), (9092, 9100), (9387, 9423), (9433, 9442), (9447, 9461), (9473, 9493), (9956, 9981), (10057, 10065), (10588, 10601), (10696, 10716), (10739, 10747)]"
      ],
      "text/plain": [
       "<IPython.core.display.Markdown object>"
      ]
     },
     "metadata": {},
     "output_type": "display_data"
    },
    {
     "data": {
      "text/markdown": [
       "[(12, 22), (96, 109), (143, 158), (931, 940), (1668, 1678), (1864, 1873), (1926, 1939), (1995, 2016), (2084, 2093), (2696, 2704), (2831, 2865), (5207, 5220), (6699, 6710), (9092, 9100), (9387, 9423), (9433, 9442), (9447, 9461), (9473, 9493), (9956, 9981), (10057, 10065), (10588, 10601), (10696, 10716), (10739, 10747)]"
      ],
      "text/plain": [
       "<IPython.core.display.Markdown object>"
      ]
     },
     "metadata": {},
     "output_type": "display_data"
    },
    {
     "data": {
      "text/markdown": [
       "[(12, 22), (96, 109), (143, 158), (931, 940), (1668, 1678), (1864, 1873), (1926, 1939), (1995, 2016), (2084, 2093), (2696, 2704), (2831, 2865), (5207, 5220), (6699, 6710), (9092, 9100), (9387, 9423), (9433, 9442), (9447, 9461), (9473, 9493), (9956, 9981), (10057, 10065), (10588, 10601), (10696, 10716), (10739, 10747)]"
      ],
      "text/plain": [
       "<IPython.core.display.Markdown object>"
      ]
     },
     "metadata": {},
     "output_type": "display_data"
    },
    {
     "data": {
      "text/markdown": [
       "[(12, 22), (96, 109), (143, 158), (931, 940), (1668, 1678), (1864, 1873), (1926, 1939), (1995, 2016), (2084, 2093), (2696, 2704), (2831, 2865), (5207, 5220), (6699, 6710), (9092, 9100), (9387, 9423), (9433, 9442), (9447, 9461), (9473, 9493), (9956, 9981), (10057, 10065), (10588, 10601), (10696, 10716), (10739, 10747)]"
      ],
      "text/plain": [
       "<IPython.core.display.Markdown object>"
      ]
     },
     "metadata": {},
     "output_type": "display_data"
    },
    {
     "data": {
      "text/markdown": [
       "[(12, 22), (96, 109), (143, 158), (931, 940), (1668, 1678), (1864, 1873), (1926, 1939), (1995, 2016), (2084, 2093), (2696, 2704), (2831, 2865), (5207, 5220), (6699, 6710), (9092, 9100), (9387, 9423), (9433, 9442), (9447, 9461), (9473, 9493), (9956, 9981), (10057, 10065), (10588, 10601), (10696, 10716), (10739, 10747)]"
      ],
      "text/plain": [
       "<IPython.core.display.Markdown object>"
      ]
     },
     "metadata": {},
     "output_type": "display_data"
    },
    {
     "data": {
      "text/markdown": [
       "[(12, 22), (96, 109), (143, 158), (931, 940), (1668, 1678), (1864, 1873), (1926, 1939), (1995, 2016), (2084, 2093), (2696, 2704), (2831, 2865), (5207, 5220), (6699, 6710), (9092, 9100), (9387, 9423), (9433, 9442), (9447, 9461), (9473, 9493), (9956, 9981), (10057, 10065), (10588, 10601), (10696, 10716), (10739, 10747)]"
      ],
      "text/plain": [
       "<IPython.core.display.Markdown object>"
      ]
     },
     "metadata": {},
     "output_type": "display_data"
    },
    {
     "data": {
      "text/markdown": [
       "[(12, 22), (96, 109), (143, 158), (931, 940), (1668, 1678), (1864, 1873), (1926, 1939), (1995, 2016), (2084, 2093), (2696, 2704), (2831, 2865), (5207, 5220), (6699, 6710), (9092, 9100), (9387, 9423), (9433, 9442), (9447, 9461), (9473, 9493), (9956, 9981), (10057, 10065), (10588, 10601), (10696, 10716), (10739, 10747)]"
      ],
      "text/plain": [
       "<IPython.core.display.Markdown object>"
      ]
     },
     "metadata": {},
     "output_type": "display_data"
    },
    {
     "data": {
      "text/markdown": [
       "[(12, 22), (96, 109), (143, 158), (931, 940), (1668, 1678), (1864, 1873), (1926, 1939), (1995, 2016), (2084, 2093), (2696, 2704), (2831, 2865), (5207, 5220), (6699, 6710), (9092, 9100), (9387, 9423), (9433, 9442), (9447, 9461), (9473, 9493), (9956, 9981), (10057, 10065), (10588, 10601), (10696, 10716), (10739, 10747)]"
      ],
      "text/plain": [
       "<IPython.core.display.Markdown object>"
      ]
     },
     "metadata": {},
     "output_type": "display_data"
    },
    {
     "data": {
      "text/markdown": [
       "[(12, 22), (96, 109), (143, 158), (931, 940), (1668, 1678), (1864, 1873), (1926, 1939), (1995, 2016), (2084, 2093), (2696, 2704), (2831, 2865), (5207, 5220), (6699, 6710), (9092, 9100), (9387, 9423), (9433, 9442), (9447, 9461), (9473, 9493), (9956, 9981), (10057, 10065), (10588, 10601), (10696, 10716), (10739, 10747)]"
      ],
      "text/plain": [
       "<IPython.core.display.Markdown object>"
      ]
     },
     "metadata": {},
     "output_type": "display_data"
    },
    {
     "data": {
      "text/markdown": [
       "[(12, 22), (96, 109), (143, 158), (931, 940), (1668, 1678), (1864, 1873), (1926, 1939), (1995, 2016), (2084, 2093), (2696, 2704), (2831, 2865), (5207, 5220), (6699, 6710), (9092, 9100), (9387, 9423), (9433, 9442), (9447, 9461), (9473, 9493), (9956, 9981), (10057, 10065), (10588, 10601), (10696, 10716), (10739, 10747)]"
      ],
      "text/plain": [
       "<IPython.core.display.Markdown object>"
      ]
     },
     "metadata": {},
     "output_type": "display_data"
    },
    {
     "data": {
      "text/markdown": [
       "[(12, 22), (96, 109), (143, 158), (931, 940), (1668, 1678), (1864, 1873), (1926, 1939), (1995, 2016), (2084, 2093), (2696, 2704), (2831, 2865), (5207, 5220), (6699, 6710), (9092, 9100), (9387, 9423), (9433, 9442), (9447, 9461), (9473, 9493), (9956, 9981), (10057, 10065), (10588, 10601), (10696, 10716), (10739, 10747)]"
      ],
      "text/plain": [
       "<IPython.core.display.Markdown object>"
      ]
     },
     "metadata": {},
     "output_type": "display_data"
    },
    {
     "data": {
      "text/markdown": [
       "[(12, 22), (96, 109), (143, 158), (931, 940), (1668, 1678), (1864, 1873), (1926, 1939), (1995, 2016), (2084, 2093), (2696, 2704), (2831, 2865), (5207, 5220), (6699, 6710), (9092, 9100), (9387, 9423), (9433, 9442), (9447, 9461), (9473, 9493), (9956, 9981), (10057, 10065), (10588, 10601), (10696, 10716), (10739, 10747)]"
      ],
      "text/plain": [
       "<IPython.core.display.Markdown object>"
      ]
     },
     "metadata": {},
     "output_type": "display_data"
    },
    {
     "data": {
      "text/markdown": [
       "[(12, 22), (96, 109), (143, 158), (931, 940), (1668, 1678), (1864, 1873), (1926, 1939), (1995, 2016), (2084, 2093), (2696, 2704), (2831, 2865), (5207, 5220), (6699, 6710), (9092, 9100), (9387, 9423), (9433, 9442), (9447, 9461), (9473, 9493), (9956, 9981), (10057, 10065), (10588, 10601), (10696, 10716), (10739, 10747)]"
      ],
      "text/plain": [
       "<IPython.core.display.Markdown object>"
      ]
     },
     "metadata": {},
     "output_type": "display_data"
    },
    {
     "data": {
      "text/markdown": [
       "[(12, 22), (96, 109), (143, 158), (931, 940), (1668, 1678), (1864, 1873), (1926, 1939), (1995, 2016), (2084, 2093), (2696, 2704), (2831, 2865), (5207, 5220), (6699, 6710), (9092, 9100), (9387, 9423), (9433, 9442), (9447, 9461), (9473, 9493), (9956, 9981), (10057, 10065), (10588, 10601), (10696, 10716), (10739, 10747)]"
      ],
      "text/plain": [
       "<IPython.core.display.Markdown object>"
      ]
     },
     "metadata": {},
     "output_type": "display_data"
    },
    {
     "data": {
      "text/markdown": [
       "[(12, 22), (96, 109), (143, 158), (931, 940), (1668, 1678), (1864, 1873), (1926, 1939), (1995, 2016), (2084, 2093), (2696, 2704), (2831, 2865), (5207, 5220), (6699, 6710), (9092, 9100), (9387, 9423), (9433, 9442), (9447, 9461), (9473, 9493), (9956, 9981), (10057, 10065), (10588, 10601), (10696, 10716), (10739, 10747)]"
      ],
      "text/plain": [
       "<IPython.core.display.Markdown object>"
      ]
     },
     "metadata": {},
     "output_type": "display_data"
    },
    {
     "data": {
      "text/markdown": [
       "[(12, 22), (96, 109), (143, 158), (931, 940), (1668, 1678), (1864, 1873), (1926, 1939), (1995, 2016), (2084, 2093), (2696, 2704), (2831, 2865), (5207, 5220), (6699, 6710), (9092, 9100), (9387, 9423), (9433, 9442), (9447, 9461), (9473, 9493), (9956, 9981), (10057, 10065), (10588, 10601), (10696, 10716), (10739, 10747)]"
      ],
      "text/plain": [
       "<IPython.core.display.Markdown object>"
      ]
     },
     "metadata": {},
     "output_type": "display_data"
    },
    {
     "data": {
      "text/markdown": [
       "[(12, 22), (96, 109), (143, 158), (931, 940), (1668, 1678), (1864, 1873), (1926, 1939), (1995, 2016), (2084, 2093), (2696, 2704), (2831, 2865), (5207, 5220), (6699, 6710), (9092, 9100), (9387, 9423), (9433, 9442), (9447, 9461), (9473, 9493), (9956, 9981), (10057, 10065), (10588, 10601), (10696, 10716), (10739, 10747)]"
      ],
      "text/plain": [
       "<IPython.core.display.Markdown object>"
      ]
     },
     "metadata": {},
     "output_type": "display_data"
    },
    {
     "data": {
      "text/markdown": [
       "[(12, 22), (96, 109), (143, 158), (931, 940), (1668, 1678), (1864, 1873), (1926, 1939), (1995, 2016), (2084, 2093), (2696, 2704), (2831, 2865), (5207, 5220), (6699, 6710), (9092, 9100), (9387, 9423), (9433, 9442), (9447, 9461), (9473, 9493), (9956, 9981), (10057, 10065), (10588, 10601), (10696, 10716), (10739, 10747)]"
      ],
      "text/plain": [
       "<IPython.core.display.Markdown object>"
      ]
     },
     "metadata": {},
     "output_type": "display_data"
    },
    {
     "data": {
      "text/markdown": [
       "[(12, 22), (96, 109), (143, 158), (931, 940), (1668, 1678), (1864, 1873), (1926, 1939), (1995, 2016), (2084, 2093), (2696, 2704), (2831, 2865), (5207, 5220), (6699, 6710), (9092, 9100), (9387, 9423), (9433, 9442), (9447, 9461), (9473, 9493), (9956, 9981), (10057, 10065), (10588, 10601), (10696, 10716), (10739, 10747)]"
      ],
      "text/plain": [
       "<IPython.core.display.Markdown object>"
      ]
     },
     "metadata": {},
     "output_type": "display_data"
    },
    {
     "data": {
      "text/markdown": [
       "[(12, 22), (96, 109), (143, 158), (931, 940), (1668, 1678), (1864, 1873), (1926, 1939), (1995, 2016), (2084, 2093), (2696, 2704), (2831, 2865), (5207, 5220), (6699, 6710), (9092, 9100), (9387, 9423), (9433, 9442), (9447, 9461), (9473, 9493), (9956, 9981), (10057, 10065), (10588, 10601), (10696, 10716), (10739, 10747)]"
      ],
      "text/plain": [
       "<IPython.core.display.Markdown object>"
      ]
     },
     "metadata": {},
     "output_type": "display_data"
    },
    {
     "name": "stdout",
     "output_type": "stream",
     "text": [
      "🔍  Querying 'rearing'…\n"
     ]
    },
    {
     "name": "stderr",
     "output_type": "stream",
     "text": [
      "INFO:httpx:HTTP Request: POST https://api.openai.com/v1/embeddings \"HTTP/1.1 200 OK\"\n"
     ]
    },
    {
     "name": "stdout",
     "output_type": "stream",
     "text": [
      "doing active forgetting\n"
     ]
    },
    {
     "name": "stderr",
     "output_type": "stream",
     "text": [
      "INFO:httpx:HTTP Request: POST https://api.openai.com/v1/chat/completions \"HTTP/1.1 200 OK\"\n"
     ]
    },
    {
     "name": "stdout",
     "output_type": "stream",
     "text": [
      "current total cost 0.3188 $\n",
      "current input tokens 4346\n",
      "current accumulated tokens 46932\n"
     ]
    },
    {
     "data": {
      "text/markdown": [
       "```python\n",
       "def identify_rearing_bouts(identifier):\n",
       "    \"\"\"\n",
       "    Identify continuous bouts of rearing based on the given criteria.\n",
       "    \n",
       "    Parameters\n",
       "    ----------\n",
       "    identifier: Identifier\n",
       "        Contains information about the video, keypoint, and config.\n",
       "    \n",
       "    Returns\n",
       "    -------\n",
       "    List[Tuple[int, int]]\n",
       "        A list of tuples representing the start and end frames of each rearing bout.\n",
       "    \"\"\"\n",
       "    import numpy as np\n",
       "\n",
       "    # Create an analysis instance\n",
       "    analysis = create_analysis(identifier)\n",
       "    \n",
       "    # Get keypoints and keypoint names\n",
       "    keypoints = analysis.get_keypoints()  # shape: (n_frames, n_individuals, n_kpts, n_dims)\n",
       "    keypoint_names = analysis.get_keypoint_names()\n",
       "    \n",
       "    # Get indices for required keypoints\n",
       "    snout_idx = keypoint_names.index('Snout')\n",
       "    left_ear_idx = keypoint_names.index('Left ear')\n",
       "    right_ear_idx = keypoint_names.index('Right ear')\n",
       "    neck_base_idx = keypoint_names.index('Neck base')\n",
       "    tail_base_idx = keypoint_names.index('Tail base')\n",
       "    body_tail_midpoint_idx = keypoint_names.index('Body-tail midpoint')\n",
       "    body_midpoint_idx = keypoint_names.index('Body midpoint')\n",
       "    \n",
       "    # Extract relevant keypoints for the single animal\n",
       "    snout_h = keypoints[:, 0, snout_idx, 2]  # shape: (n_frames,)\n",
       "    left_ear_h = keypoints[:, 0, left_ear_idx, 2]  # shape: (n_frames,)\n",
       "    right_ear_h = keypoints[:, 0, right_ear_idx, 2]  # shape: (n_frames,)\n",
       "    neck_base_h = keypoints[:, 0, neck_base_idx, 2]  # shape: (n_frames,)\n",
       "    tail_base_h = keypoints[:, 0, tail_base_idx, 2]  # shape: (n_frames,)\n",
       "    body_tail_midpoint_h = keypoints[:, 0, body_tail_midpoint_idx, 2]  # shape: (n_frames,)\n",
       "    body_midpoint_h = keypoints[:, 0, body_midpoint_idx, 2]  # shape: (n_frames,)\n",
       "    \n",
       "    # Compute head and tail mean heights\n",
       "    head_mean_h = (snout_h + left_ear_h + right_ear_h + neck_base_h) / 4\n",
       "    tail_mean_h = (tail_base_h + body_tail_midpoint_h) / 2\n",
       "    \n",
       "    # Initialize variables\n",
       "    in_bout = False\n",
       "    bouts = []\n",
       "    n = keypoints.shape[0]\n",
       "    \n",
       "    # Loop through frames\n",
       "    for i in range(n):\n",
       "        if head_mean_h[i] >= 2.5 * tail_mean_h[i] and tail_mean_h[i] <= body_midpoint_h[i] <= head_mean_h[i]:\n",
       "            if not in_bout:\n",
       "                in_bout = True\n",
       "                start = i\n",
       "        else:\n",
       "            if in_bout:\n",
       "                if i - start >= 5:\n",
       "                    bouts.append((start, i - 1))\n",
       "                in_bout = False\n",
       "    \n",
       "    # Check if a bout was ongoing at the end\n",
       "    if in_bout and (n - start) >= 5:\n",
       "        bouts.append((start, n - 1))\n",
       "    \n",
       "    # Merge bouts separated by ≤ 2 frames\n",
       "    merged_bouts = []\n",
       "    if bouts:\n",
       "        start, end = bouts[0]\n",
       "        for i in range(1, len(bouts)):\n",
       "            next_start, next_end = bouts[i]\n",
       "            if next_start - end <= 2:\n",
       "                end = next_end\n",
       "            else:\n",
       "                merged_bouts.append((start, end))\n",
       "                start, end = next_start, next_end\n",
       "        merged_bouts.append((start, end))\n",
       "    \n",
       "    # Save results to file\n",
       "    with open('results/rearing.txt', 'w') as f:\n",
       "        for bout in merged_bouts:\n",
       "            f.write(f\"{bout[0]},{bout[1]}\\n\")\n",
       "    \n",
       "    return merged_bouts\n",
       "```"
      ],
      "text/plain": [
       "<IPython.core.display.Markdown object>"
      ]
     },
     "metadata": {},
     "output_type": "display_data"
    },
    {
     "data": {
      "text/markdown": [
       "[(107, 115), (227, 244), (275, 304), (320, 330), (374, 399), (402, 411), (421, 458), (556, 564), (576, 633), (656, 721), (744, 849), (859, 896), (967, 999), (1034, 1048), (1150, 1183), (1421, 1449), (1488, 1537), (1559, 1563), (1588, 1633), (1678, 1715), (1762, 1781), (1827, 1833), (1837, 1845), (1914, 1937), (1966, 1971), (2027, 2046), (2186, 2199), (2370, 2433), (2451, 2455), (2462, 2472), (2710, 2731), (2787, 2795), (2926, 2931), (3053, 3058), (3079, 3095), (3114, 3122), (3138, 3266), (3304, 3414), (3420, 3592), (3608, 4020), (4039, 4118), (4175, 4432), (4444, 4495), (4779, 4836), (4859, 5007), (5079, 5114), (6529, 6535), (6548, 6568), (6573, 6581), (6713, 6986), (6993, 7135), (7139, 7172), (7220, 7341), (7373, 7615), (7620, 7715), (7719, 7728), (7732, 7751), (7765, 8134), (8150, 8243), (8305, 8450), (8462, 8466), (8486, 8658), (8688, 8704), (8719, 8745), (8750, 8756), (8858, 8878), (8891, 8899), (8922, 9039), (9052, 9084), (9103, 9161), (9182, 9302), (9323, 9352), (9406, 9427), (9598, 9622), (9653, 9658), (9667, 9674), (9681, 9692), (9720, 9753), (9811, 9815), (9822, 9849), (9853, 9902), (9980, 9986), (10126, 10134), (10168, 10172), (10187, 10200), (10246, 10252), (10301, 10312), (10349, 10366), (10418, 10424), (10470, 10524), (10535, 10543), (10628, 10671), (10713, 10725), (10746, 10777)]"
      ],
      "text/plain": [
       "<IPython.core.display.Markdown object>"
      ]
     },
     "metadata": {},
     "output_type": "display_data"
    },
    {
     "data": {
      "text/markdown": [
       "[(107, 115), (227, 244), (275, 304), (320, 330), (374, 399), (402, 411), (421, 458), (556, 564), (576, 633), (656, 721), (744, 849), (859, 896), (967, 999), (1034, 1048), (1150, 1183), (1421, 1449), (1488, 1537), (1559, 1563), (1588, 1633), (1678, 1715), (1762, 1781), (1827, 1833), (1837, 1845), (1914, 1937), (1966, 1971), (2027, 2046), (2186, 2199), (2370, 2433), (2451, 2455), (2462, 2472), (2710, 2731), (2787, 2795), (2926, 2931), (3053, 3058), (3079, 3095), (3114, 3122), (3138, 3266), (3304, 3414), (3420, 3592), (3608, 4020), (4039, 4118), (4175, 4432), (4444, 4495), (4779, 4836), (4859, 5007), (5079, 5114), (6529, 6535), (6548, 6568), (6573, 6581), (6713, 6986), (6993, 7135), (7139, 7172), (7220, 7341), (7373, 7615), (7620, 7715), (7719, 7728), (7732, 7751), (7765, 8134), (8150, 8243), (8305, 8450), (8462, 8466), (8486, 8658), (8688, 8704), (8719, 8745), (8750, 8756), (8858, 8878), (8891, 8899), (8922, 9039), (9052, 9084), (9103, 9161), (9182, 9302), (9323, 9352), (9406, 9427), (9598, 9622), (9653, 9658), (9667, 9674), (9681, 9692), (9720, 9753), (9811, 9815), (9822, 9849), (9853, 9902), (9980, 9986), (10126, 10134), (10168, 10172), (10187, 10200), (10246, 10252), (10301, 10312), (10349, 10366), (10418, 10424), (10470, 10524), (10535, 10543), (10628, 10671), (10713, 10725), (10746, 10777)]"
      ],
      "text/plain": [
       "<IPython.core.display.Markdown object>"
      ]
     },
     "metadata": {},
     "output_type": "display_data"
    },
    {
     "data": {
      "text/markdown": [
       "[(107, 115), (227, 244), (275, 304), (320, 330), (374, 399), (402, 411), (421, 458), (556, 564), (576, 633), (656, 721), (744, 849), (859, 896), (967, 999), (1034, 1048), (1150, 1183), (1421, 1449), (1488, 1537), (1559, 1563), (1588, 1633), (1678, 1715), (1762, 1781), (1827, 1833), (1837, 1845), (1914, 1937), (1966, 1971), (2027, 2046), (2186, 2199), (2370, 2433), (2451, 2455), (2462, 2472), (2710, 2731), (2787, 2795), (2926, 2931), (3053, 3058), (3079, 3095), (3114, 3122), (3138, 3266), (3304, 3414), (3420, 3592), (3608, 4020), (4039, 4118), (4175, 4432), (4444, 4495), (4779, 4836), (4859, 5007), (5079, 5114), (6529, 6535), (6548, 6568), (6573, 6581), (6713, 6986), (6993, 7135), (7139, 7172), (7220, 7341), (7373, 7615), (7620, 7715), (7719, 7728), (7732, 7751), (7765, 8134), (8150, 8243), (8305, 8450), (8462, 8466), (8486, 8658), (8688, 8704), (8719, 8745), (8750, 8756), (8858, 8878), (8891, 8899), (8922, 9039), (9052, 9084), (9103, 9161), (9182, 9302), (9323, 9352), (9406, 9427), (9598, 9622), (9653, 9658), (9667, 9674), (9681, 9692), (9720, 9753), (9811, 9815), (9822, 9849), (9853, 9902), (9980, 9986), (10126, 10134), (10168, 10172), (10187, 10200), (10246, 10252), (10301, 10312), (10349, 10366), (10418, 10424), (10470, 10524), (10535, 10543), (10628, 10671), (10713, 10725), (10746, 10777)]"
      ],
      "text/plain": [
       "<IPython.core.display.Markdown object>"
      ]
     },
     "metadata": {},
     "output_type": "display_data"
    },
    {
     "data": {
      "text/markdown": [
       "[(107, 115), (227, 244), (275, 304), (320, 330), (374, 399), (402, 411), (421, 458), (556, 564), (576, 633), (656, 721), (744, 849), (859, 896), (967, 999), (1034, 1048), (1150, 1183), (1421, 1449), (1488, 1537), (1559, 1563), (1588, 1633), (1678, 1715), (1762, 1781), (1827, 1833), (1837, 1845), (1914, 1937), (1966, 1971), (2027, 2046), (2186, 2199), (2370, 2433), (2451, 2455), (2462, 2472), (2710, 2731), (2787, 2795), (2926, 2931), (3053, 3058), (3079, 3095), (3114, 3122), (3138, 3266), (3304, 3414), (3420, 3592), (3608, 4020), (4039, 4118), (4175, 4432), (4444, 4495), (4779, 4836), (4859, 5007), (5079, 5114), (6529, 6535), (6548, 6568), (6573, 6581), (6713, 6986), (6993, 7135), (7139, 7172), (7220, 7341), (7373, 7615), (7620, 7715), (7719, 7728), (7732, 7751), (7765, 8134), (8150, 8243), (8305, 8450), (8462, 8466), (8486, 8658), (8688, 8704), (8719, 8745), (8750, 8756), (8858, 8878), (8891, 8899), (8922, 9039), (9052, 9084), (9103, 9161), (9182, 9302), (9323, 9352), (9406, 9427), (9598, 9622), (9653, 9658), (9667, 9674), (9681, 9692), (9720, 9753), (9811, 9815), (9822, 9849), (9853, 9902), (9980, 9986), (10126, 10134), (10168, 10172), (10187, 10200), (10246, 10252), (10301, 10312), (10349, 10366), (10418, 10424), (10470, 10524), (10535, 10543), (10628, 10671), (10713, 10725), (10746, 10777)]"
      ],
      "text/plain": [
       "<IPython.core.display.Markdown object>"
      ]
     },
     "metadata": {},
     "output_type": "display_data"
    },
    {
     "data": {
      "text/markdown": [
       "[(107, 115), (227, 244), (275, 304), (320, 330), (374, 399), (402, 411), (421, 458), (556, 564), (576, 633), (656, 721), (744, 849), (859, 896), (967, 999), (1034, 1048), (1150, 1183), (1421, 1449), (1488, 1537), (1559, 1563), (1588, 1633), (1678, 1715), (1762, 1781), (1827, 1833), (1837, 1845), (1914, 1937), (1966, 1971), (2027, 2046), (2186, 2199), (2370, 2433), (2451, 2455), (2462, 2472), (2710, 2731), (2787, 2795), (2926, 2931), (3053, 3058), (3079, 3095), (3114, 3122), (3138, 3266), (3304, 3414), (3420, 3592), (3608, 4020), (4039, 4118), (4175, 4432), (4444, 4495), (4779, 4836), (4859, 5007), (5079, 5114), (6529, 6535), (6548, 6568), (6573, 6581), (6713, 6986), (6993, 7135), (7139, 7172), (7220, 7341), (7373, 7615), (7620, 7715), (7719, 7728), (7732, 7751), (7765, 8134), (8150, 8243), (8305, 8450), (8462, 8466), (8486, 8658), (8688, 8704), (8719, 8745), (8750, 8756), (8858, 8878), (8891, 8899), (8922, 9039), (9052, 9084), (9103, 9161), (9182, 9302), (9323, 9352), (9406, 9427), (9598, 9622), (9653, 9658), (9667, 9674), (9681, 9692), (9720, 9753), (9811, 9815), (9822, 9849), (9853, 9902), (9980, 9986), (10126, 10134), (10168, 10172), (10187, 10200), (10246, 10252), (10301, 10312), (10349, 10366), (10418, 10424), (10470, 10524), (10535, 10543), (10628, 10671), (10713, 10725), (10746, 10777)]"
      ],
      "text/plain": [
       "<IPython.core.display.Markdown object>"
      ]
     },
     "metadata": {},
     "output_type": "display_data"
    },
    {
     "data": {
      "text/markdown": [
       "[(107, 115), (227, 244), (275, 304), (320, 330), (374, 399), (402, 411), (421, 458), (556, 564), (576, 633), (656, 721), (744, 849), (859, 896), (967, 999), (1034, 1048), (1150, 1183), (1421, 1449), (1488, 1537), (1559, 1563), (1588, 1633), (1678, 1715), (1762, 1781), (1827, 1833), (1837, 1845), (1914, 1937), (1966, 1971), (2027, 2046), (2186, 2199), (2370, 2433), (2451, 2455), (2462, 2472), (2710, 2731), (2787, 2795), (2926, 2931), (3053, 3058), (3079, 3095), (3114, 3122), (3138, 3266), (3304, 3414), (3420, 3592), (3608, 4020), (4039, 4118), (4175, 4432), (4444, 4495), (4779, 4836), (4859, 5007), (5079, 5114), (6529, 6535), (6548, 6568), (6573, 6581), (6713, 6986), (6993, 7135), (7139, 7172), (7220, 7341), (7373, 7615), (7620, 7715), (7719, 7728), (7732, 7751), (7765, 8134), (8150, 8243), (8305, 8450), (8462, 8466), (8486, 8658), (8688, 8704), (8719, 8745), (8750, 8756), (8858, 8878), (8891, 8899), (8922, 9039), (9052, 9084), (9103, 9161), (9182, 9302), (9323, 9352), (9406, 9427), (9598, 9622), (9653, 9658), (9667, 9674), (9681, 9692), (9720, 9753), (9811, 9815), (9822, 9849), (9853, 9902), (9980, 9986), (10126, 10134), (10168, 10172), (10187, 10200), (10246, 10252), (10301, 10312), (10349, 10366), (10418, 10424), (10470, 10524), (10535, 10543), (10628, 10671), (10713, 10725), (10746, 10777)]"
      ],
      "text/plain": [
       "<IPython.core.display.Markdown object>"
      ]
     },
     "metadata": {},
     "output_type": "display_data"
    },
    {
     "data": {
      "text/markdown": [
       "[(107, 115), (227, 244), (275, 304), (320, 330), (374, 399), (402, 411), (421, 458), (556, 564), (576, 633), (656, 721), (744, 849), (859, 896), (967, 999), (1034, 1048), (1150, 1183), (1421, 1449), (1488, 1537), (1559, 1563), (1588, 1633), (1678, 1715), (1762, 1781), (1827, 1833), (1837, 1845), (1914, 1937), (1966, 1971), (2027, 2046), (2186, 2199), (2370, 2433), (2451, 2455), (2462, 2472), (2710, 2731), (2787, 2795), (2926, 2931), (3053, 3058), (3079, 3095), (3114, 3122), (3138, 3266), (3304, 3414), (3420, 3592), (3608, 4020), (4039, 4118), (4175, 4432), (4444, 4495), (4779, 4836), (4859, 5007), (5079, 5114), (6529, 6535), (6548, 6568), (6573, 6581), (6713, 6986), (6993, 7135), (7139, 7172), (7220, 7341), (7373, 7615), (7620, 7715), (7719, 7728), (7732, 7751), (7765, 8134), (8150, 8243), (8305, 8450), (8462, 8466), (8486, 8658), (8688, 8704), (8719, 8745), (8750, 8756), (8858, 8878), (8891, 8899), (8922, 9039), (9052, 9084), (9103, 9161), (9182, 9302), (9323, 9352), (9406, 9427), (9598, 9622), (9653, 9658), (9667, 9674), (9681, 9692), (9720, 9753), (9811, 9815), (9822, 9849), (9853, 9902), (9980, 9986), (10126, 10134), (10168, 10172), (10187, 10200), (10246, 10252), (10301, 10312), (10349, 10366), (10418, 10424), (10470, 10524), (10535, 10543), (10628, 10671), (10713, 10725), (10746, 10777)]"
      ],
      "text/plain": [
       "<IPython.core.display.Markdown object>"
      ]
     },
     "metadata": {},
     "output_type": "display_data"
    },
    {
     "data": {
      "text/markdown": [
       "[(107, 115), (227, 244), (275, 304), (320, 330), (374, 399), (402, 411), (421, 458), (556, 564), (576, 633), (656, 721), (744, 849), (859, 896), (967, 999), (1034, 1048), (1150, 1183), (1421, 1449), (1488, 1537), (1559, 1563), (1588, 1633), (1678, 1715), (1762, 1781), (1827, 1833), (1837, 1845), (1914, 1937), (1966, 1971), (2027, 2046), (2186, 2199), (2370, 2433), (2451, 2455), (2462, 2472), (2710, 2731), (2787, 2795), (2926, 2931), (3053, 3058), (3079, 3095), (3114, 3122), (3138, 3266), (3304, 3414), (3420, 3592), (3608, 4020), (4039, 4118), (4175, 4432), (4444, 4495), (4779, 4836), (4859, 5007), (5079, 5114), (6529, 6535), (6548, 6568), (6573, 6581), (6713, 6986), (6993, 7135), (7139, 7172), (7220, 7341), (7373, 7615), (7620, 7715), (7719, 7728), (7732, 7751), (7765, 8134), (8150, 8243), (8305, 8450), (8462, 8466), (8486, 8658), (8688, 8704), (8719, 8745), (8750, 8756), (8858, 8878), (8891, 8899), (8922, 9039), (9052, 9084), (9103, 9161), (9182, 9302), (9323, 9352), (9406, 9427), (9598, 9622), (9653, 9658), (9667, 9674), (9681, 9692), (9720, 9753), (9811, 9815), (9822, 9849), (9853, 9902), (9980, 9986), (10126, 10134), (10168, 10172), (10187, 10200), (10246, 10252), (10301, 10312), (10349, 10366), (10418, 10424), (10470, 10524), (10535, 10543), (10628, 10671), (10713, 10725), (10746, 10777)]"
      ],
      "text/plain": [
       "<IPython.core.display.Markdown object>"
      ]
     },
     "metadata": {},
     "output_type": "display_data"
    },
    {
     "data": {
      "text/markdown": [
       "[(107, 115), (227, 244), (275, 304), (320, 330), (374, 399), (402, 411), (421, 458), (556, 564), (576, 633), (656, 721), (744, 849), (859, 896), (967, 999), (1034, 1048), (1150, 1183), (1421, 1449), (1488, 1537), (1559, 1563), (1588, 1633), (1678, 1715), (1762, 1781), (1827, 1833), (1837, 1845), (1914, 1937), (1966, 1971), (2027, 2046), (2186, 2199), (2370, 2433), (2451, 2455), (2462, 2472), (2710, 2731), (2787, 2795), (2926, 2931), (3053, 3058), (3079, 3095), (3114, 3122), (3138, 3266), (3304, 3414), (3420, 3592), (3608, 4020), (4039, 4118), (4175, 4432), (4444, 4495), (4779, 4836), (4859, 5007), (5079, 5114), (6529, 6535), (6548, 6568), (6573, 6581), (6713, 6986), (6993, 7135), (7139, 7172), (7220, 7341), (7373, 7615), (7620, 7715), (7719, 7728), (7732, 7751), (7765, 8134), (8150, 8243), (8305, 8450), (8462, 8466), (8486, 8658), (8688, 8704), (8719, 8745), (8750, 8756), (8858, 8878), (8891, 8899), (8922, 9039), (9052, 9084), (9103, 9161), (9182, 9302), (9323, 9352), (9406, 9427), (9598, 9622), (9653, 9658), (9667, 9674), (9681, 9692), (9720, 9753), (9811, 9815), (9822, 9849), (9853, 9902), (9980, 9986), (10126, 10134), (10168, 10172), (10187, 10200), (10246, 10252), (10301, 10312), (10349, 10366), (10418, 10424), (10470, 10524), (10535, 10543), (10628, 10671), (10713, 10725), (10746, 10777)]"
      ],
      "text/plain": [
       "<IPython.core.display.Markdown object>"
      ]
     },
     "metadata": {},
     "output_type": "display_data"
    },
    {
     "data": {
      "text/markdown": [
       "[(107, 115), (227, 244), (275, 304), (320, 330), (374, 399), (402, 411), (421, 458), (556, 564), (576, 633), (656, 721), (744, 849), (859, 896), (967, 999), (1034, 1048), (1150, 1183), (1421, 1449), (1488, 1537), (1559, 1563), (1588, 1633), (1678, 1715), (1762, 1781), (1827, 1833), (1837, 1845), (1914, 1937), (1966, 1971), (2027, 2046), (2186, 2199), (2370, 2433), (2451, 2455), (2462, 2472), (2710, 2731), (2787, 2795), (2926, 2931), (3053, 3058), (3079, 3095), (3114, 3122), (3138, 3266), (3304, 3414), (3420, 3592), (3608, 4020), (4039, 4118), (4175, 4432), (4444, 4495), (4779, 4836), (4859, 5007), (5079, 5114), (6529, 6535), (6548, 6568), (6573, 6581), (6713, 6986), (6993, 7135), (7139, 7172), (7220, 7341), (7373, 7615), (7620, 7715), (7719, 7728), (7732, 7751), (7765, 8134), (8150, 8243), (8305, 8450), (8462, 8466), (8486, 8658), (8688, 8704), (8719, 8745), (8750, 8756), (8858, 8878), (8891, 8899), (8922, 9039), (9052, 9084), (9103, 9161), (9182, 9302), (9323, 9352), (9406, 9427), (9598, 9622), (9653, 9658), (9667, 9674), (9681, 9692), (9720, 9753), (9811, 9815), (9822, 9849), (9853, 9902), (9980, 9986), (10126, 10134), (10168, 10172), (10187, 10200), (10246, 10252), (10301, 10312), (10349, 10366), (10418, 10424), (10470, 10524), (10535, 10543), (10628, 10671), (10713, 10725), (10746, 10777)]"
      ],
      "text/plain": [
       "<IPython.core.display.Markdown object>"
      ]
     },
     "metadata": {},
     "output_type": "display_data"
    },
    {
     "data": {
      "text/markdown": [
       "[(107, 115), (227, 244), (275, 304), (320, 330), (374, 399), (402, 411), (421, 458), (556, 564), (576, 633), (656, 721), (744, 849), (859, 896), (967, 999), (1034, 1048), (1150, 1183), (1421, 1449), (1488, 1537), (1559, 1563), (1588, 1633), (1678, 1715), (1762, 1781), (1827, 1833), (1837, 1845), (1914, 1937), (1966, 1971), (2027, 2046), (2186, 2199), (2370, 2433), (2451, 2455), (2462, 2472), (2710, 2731), (2787, 2795), (2926, 2931), (3053, 3058), (3079, 3095), (3114, 3122), (3138, 3266), (3304, 3414), (3420, 3592), (3608, 4020), (4039, 4118), (4175, 4432), (4444, 4495), (4779, 4836), (4859, 5007), (5079, 5114), (6529, 6535), (6548, 6568), (6573, 6581), (6713, 6986), (6993, 7135), (7139, 7172), (7220, 7341), (7373, 7615), (7620, 7715), (7719, 7728), (7732, 7751), (7765, 8134), (8150, 8243), (8305, 8450), (8462, 8466), (8486, 8658), (8688, 8704), (8719, 8745), (8750, 8756), (8858, 8878), (8891, 8899), (8922, 9039), (9052, 9084), (9103, 9161), (9182, 9302), (9323, 9352), (9406, 9427), (9598, 9622), (9653, 9658), (9667, 9674), (9681, 9692), (9720, 9753), (9811, 9815), (9822, 9849), (9853, 9902), (9980, 9986), (10126, 10134), (10168, 10172), (10187, 10200), (10246, 10252), (10301, 10312), (10349, 10366), (10418, 10424), (10470, 10524), (10535, 10543), (10628, 10671), (10713, 10725), (10746, 10777)]"
      ],
      "text/plain": [
       "<IPython.core.display.Markdown object>"
      ]
     },
     "metadata": {},
     "output_type": "display_data"
    },
    {
     "data": {
      "text/markdown": [
       "[(107, 115), (227, 244), (275, 304), (320, 330), (374, 399), (402, 411), (421, 458), (556, 564), (576, 633), (656, 721), (744, 849), (859, 896), (967, 999), (1034, 1048), (1150, 1183), (1421, 1449), (1488, 1537), (1559, 1563), (1588, 1633), (1678, 1715), (1762, 1781), (1827, 1833), (1837, 1845), (1914, 1937), (1966, 1971), (2027, 2046), (2186, 2199), (2370, 2433), (2451, 2455), (2462, 2472), (2710, 2731), (2787, 2795), (2926, 2931), (3053, 3058), (3079, 3095), (3114, 3122), (3138, 3266), (3304, 3414), (3420, 3592), (3608, 4020), (4039, 4118), (4175, 4432), (4444, 4495), (4779, 4836), (4859, 5007), (5079, 5114), (6529, 6535), (6548, 6568), (6573, 6581), (6713, 6986), (6993, 7135), (7139, 7172), (7220, 7341), (7373, 7615), (7620, 7715), (7719, 7728), (7732, 7751), (7765, 8134), (8150, 8243), (8305, 8450), (8462, 8466), (8486, 8658), (8688, 8704), (8719, 8745), (8750, 8756), (8858, 8878), (8891, 8899), (8922, 9039), (9052, 9084), (9103, 9161), (9182, 9302), (9323, 9352), (9406, 9427), (9598, 9622), (9653, 9658), (9667, 9674), (9681, 9692), (9720, 9753), (9811, 9815), (9822, 9849), (9853, 9902), (9980, 9986), (10126, 10134), (10168, 10172), (10187, 10200), (10246, 10252), (10301, 10312), (10349, 10366), (10418, 10424), (10470, 10524), (10535, 10543), (10628, 10671), (10713, 10725), (10746, 10777)]"
      ],
      "text/plain": [
       "<IPython.core.display.Markdown object>"
      ]
     },
     "metadata": {},
     "output_type": "display_data"
    },
    {
     "data": {
      "text/markdown": [
       "[(107, 115), (227, 244), (275, 304), (320, 330), (374, 399), (402, 411), (421, 458), (556, 564), (576, 633), (656, 721), (744, 849), (859, 896), (967, 999), (1034, 1048), (1150, 1183), (1421, 1449), (1488, 1537), (1559, 1563), (1588, 1633), (1678, 1715), (1762, 1781), (1827, 1833), (1837, 1845), (1914, 1937), (1966, 1971), (2027, 2046), (2186, 2199), (2370, 2433), (2451, 2455), (2462, 2472), (2710, 2731), (2787, 2795), (2926, 2931), (3053, 3058), (3079, 3095), (3114, 3122), (3138, 3266), (3304, 3414), (3420, 3592), (3608, 4020), (4039, 4118), (4175, 4432), (4444, 4495), (4779, 4836), (4859, 5007), (5079, 5114), (6529, 6535), (6548, 6568), (6573, 6581), (6713, 6986), (6993, 7135), (7139, 7172), (7220, 7341), (7373, 7615), (7620, 7715), (7719, 7728), (7732, 7751), (7765, 8134), (8150, 8243), (8305, 8450), (8462, 8466), (8486, 8658), (8688, 8704), (8719, 8745), (8750, 8756), (8858, 8878), (8891, 8899), (8922, 9039), (9052, 9084), (9103, 9161), (9182, 9302), (9323, 9352), (9406, 9427), (9598, 9622), (9653, 9658), (9667, 9674), (9681, 9692), (9720, 9753), (9811, 9815), (9822, 9849), (9853, 9902), (9980, 9986), (10126, 10134), (10168, 10172), (10187, 10200), (10246, 10252), (10301, 10312), (10349, 10366), (10418, 10424), (10470, 10524), (10535, 10543), (10628, 10671), (10713, 10725), (10746, 10777)]"
      ],
      "text/plain": [
       "<IPython.core.display.Markdown object>"
      ]
     },
     "metadata": {},
     "output_type": "display_data"
    },
    {
     "data": {
      "text/markdown": [
       "[(107, 115), (227, 244), (275, 304), (320, 330), (374, 399), (402, 411), (421, 458), (556, 564), (576, 633), (656, 721), (744, 849), (859, 896), (967, 999), (1034, 1048), (1150, 1183), (1421, 1449), (1488, 1537), (1559, 1563), (1588, 1633), (1678, 1715), (1762, 1781), (1827, 1833), (1837, 1845), (1914, 1937), (1966, 1971), (2027, 2046), (2186, 2199), (2370, 2433), (2451, 2455), (2462, 2472), (2710, 2731), (2787, 2795), (2926, 2931), (3053, 3058), (3079, 3095), (3114, 3122), (3138, 3266), (3304, 3414), (3420, 3592), (3608, 4020), (4039, 4118), (4175, 4432), (4444, 4495), (4779, 4836), (4859, 5007), (5079, 5114), (6529, 6535), (6548, 6568), (6573, 6581), (6713, 6986), (6993, 7135), (7139, 7172), (7220, 7341), (7373, 7615), (7620, 7715), (7719, 7728), (7732, 7751), (7765, 8134), (8150, 8243), (8305, 8450), (8462, 8466), (8486, 8658), (8688, 8704), (8719, 8745), (8750, 8756), (8858, 8878), (8891, 8899), (8922, 9039), (9052, 9084), (9103, 9161), (9182, 9302), (9323, 9352), (9406, 9427), (9598, 9622), (9653, 9658), (9667, 9674), (9681, 9692), (9720, 9753), (9811, 9815), (9822, 9849), (9853, 9902), (9980, 9986), (10126, 10134), (10168, 10172), (10187, 10200), (10246, 10252), (10301, 10312), (10349, 10366), (10418, 10424), (10470, 10524), (10535, 10543), (10628, 10671), (10713, 10725), (10746, 10777)]"
      ],
      "text/plain": [
       "<IPython.core.display.Markdown object>"
      ]
     },
     "metadata": {},
     "output_type": "display_data"
    },
    {
     "data": {
      "text/markdown": [
       "[(107, 115), (227, 244), (275, 304), (320, 330), (374, 399), (402, 411), (421, 458), (556, 564), (576, 633), (656, 721), (744, 849), (859, 896), (967, 999), (1034, 1048), (1150, 1183), (1421, 1449), (1488, 1537), (1559, 1563), (1588, 1633), (1678, 1715), (1762, 1781), (1827, 1833), (1837, 1845), (1914, 1937), (1966, 1971), (2027, 2046), (2186, 2199), (2370, 2433), (2451, 2455), (2462, 2472), (2710, 2731), (2787, 2795), (2926, 2931), (3053, 3058), (3079, 3095), (3114, 3122), (3138, 3266), (3304, 3414), (3420, 3592), (3608, 4020), (4039, 4118), (4175, 4432), (4444, 4495), (4779, 4836), (4859, 5007), (5079, 5114), (6529, 6535), (6548, 6568), (6573, 6581), (6713, 6986), (6993, 7135), (7139, 7172), (7220, 7341), (7373, 7615), (7620, 7715), (7719, 7728), (7732, 7751), (7765, 8134), (8150, 8243), (8305, 8450), (8462, 8466), (8486, 8658), (8688, 8704), (8719, 8745), (8750, 8756), (8858, 8878), (8891, 8899), (8922, 9039), (9052, 9084), (9103, 9161), (9182, 9302), (9323, 9352), (9406, 9427), (9598, 9622), (9653, 9658), (9667, 9674), (9681, 9692), (9720, 9753), (9811, 9815), (9822, 9849), (9853, 9902), (9980, 9986), (10126, 10134), (10168, 10172), (10187, 10200), (10246, 10252), (10301, 10312), (10349, 10366), (10418, 10424), (10470, 10524), (10535, 10543), (10628, 10671), (10713, 10725), (10746, 10777)]"
      ],
      "text/plain": [
       "<IPython.core.display.Markdown object>"
      ]
     },
     "metadata": {},
     "output_type": "display_data"
    },
    {
     "data": {
      "text/markdown": [
       "[(107, 115), (227, 244), (275, 304), (320, 330), (374, 399), (402, 411), (421, 458), (556, 564), (576, 633), (656, 721), (744, 849), (859, 896), (967, 999), (1034, 1048), (1150, 1183), (1421, 1449), (1488, 1537), (1559, 1563), (1588, 1633), (1678, 1715), (1762, 1781), (1827, 1833), (1837, 1845), (1914, 1937), (1966, 1971), (2027, 2046), (2186, 2199), (2370, 2433), (2451, 2455), (2462, 2472), (2710, 2731), (2787, 2795), (2926, 2931), (3053, 3058), (3079, 3095), (3114, 3122), (3138, 3266), (3304, 3414), (3420, 3592), (3608, 4020), (4039, 4118), (4175, 4432), (4444, 4495), (4779, 4836), (4859, 5007), (5079, 5114), (6529, 6535), (6548, 6568), (6573, 6581), (6713, 6986), (6993, 7135), (7139, 7172), (7220, 7341), (7373, 7615), (7620, 7715), (7719, 7728), (7732, 7751), (7765, 8134), (8150, 8243), (8305, 8450), (8462, 8466), (8486, 8658), (8688, 8704), (8719, 8745), (8750, 8756), (8858, 8878), (8891, 8899), (8922, 9039), (9052, 9084), (9103, 9161), (9182, 9302), (9323, 9352), (9406, 9427), (9598, 9622), (9653, 9658), (9667, 9674), (9681, 9692), (9720, 9753), (9811, 9815), (9822, 9849), (9853, 9902), (9980, 9986), (10126, 10134), (10168, 10172), (10187, 10200), (10246, 10252), (10301, 10312), (10349, 10366), (10418, 10424), (10470, 10524), (10535, 10543), (10628, 10671), (10713, 10725), (10746, 10777)]"
      ],
      "text/plain": [
       "<IPython.core.display.Markdown object>"
      ]
     },
     "metadata": {},
     "output_type": "display_data"
    },
    {
     "data": {
      "text/markdown": [
       "[(107, 115), (227, 244), (275, 304), (320, 330), (374, 399), (402, 411), (421, 458), (556, 564), (576, 633), (656, 721), (744, 849), (859, 896), (967, 999), (1034, 1048), (1150, 1183), (1421, 1449), (1488, 1537), (1559, 1563), (1588, 1633), (1678, 1715), (1762, 1781), (1827, 1833), (1837, 1845), (1914, 1937), (1966, 1971), (2027, 2046), (2186, 2199), (2370, 2433), (2451, 2455), (2462, 2472), (2710, 2731), (2787, 2795), (2926, 2931), (3053, 3058), (3079, 3095), (3114, 3122), (3138, 3266), (3304, 3414), (3420, 3592), (3608, 4020), (4039, 4118), (4175, 4432), (4444, 4495), (4779, 4836), (4859, 5007), (5079, 5114), (6529, 6535), (6548, 6568), (6573, 6581), (6713, 6986), (6993, 7135), (7139, 7172), (7220, 7341), (7373, 7615), (7620, 7715), (7719, 7728), (7732, 7751), (7765, 8134), (8150, 8243), (8305, 8450), (8462, 8466), (8486, 8658), (8688, 8704), (8719, 8745), (8750, 8756), (8858, 8878), (8891, 8899), (8922, 9039), (9052, 9084), (9103, 9161), (9182, 9302), (9323, 9352), (9406, 9427), (9598, 9622), (9653, 9658), (9667, 9674), (9681, 9692), (9720, 9753), (9811, 9815), (9822, 9849), (9853, 9902), (9980, 9986), (10126, 10134), (10168, 10172), (10187, 10200), (10246, 10252), (10301, 10312), (10349, 10366), (10418, 10424), (10470, 10524), (10535, 10543), (10628, 10671), (10713, 10725), (10746, 10777)]"
      ],
      "text/plain": [
       "<IPython.core.display.Markdown object>"
      ]
     },
     "metadata": {},
     "output_type": "display_data"
    },
    {
     "data": {
      "text/markdown": [
       "[(107, 115), (227, 244), (275, 304), (320, 330), (374, 399), (402, 411), (421, 458), (556, 564), (576, 633), (656, 721), (744, 849), (859, 896), (967, 999), (1034, 1048), (1150, 1183), (1421, 1449), (1488, 1537), (1559, 1563), (1588, 1633), (1678, 1715), (1762, 1781), (1827, 1833), (1837, 1845), (1914, 1937), (1966, 1971), (2027, 2046), (2186, 2199), (2370, 2433), (2451, 2455), (2462, 2472), (2710, 2731), (2787, 2795), (2926, 2931), (3053, 3058), (3079, 3095), (3114, 3122), (3138, 3266), (3304, 3414), (3420, 3592), (3608, 4020), (4039, 4118), (4175, 4432), (4444, 4495), (4779, 4836), (4859, 5007), (5079, 5114), (6529, 6535), (6548, 6568), (6573, 6581), (6713, 6986), (6993, 7135), (7139, 7172), (7220, 7341), (7373, 7615), (7620, 7715), (7719, 7728), (7732, 7751), (7765, 8134), (8150, 8243), (8305, 8450), (8462, 8466), (8486, 8658), (8688, 8704), (8719, 8745), (8750, 8756), (8858, 8878), (8891, 8899), (8922, 9039), (9052, 9084), (9103, 9161), (9182, 9302), (9323, 9352), (9406, 9427), (9598, 9622), (9653, 9658), (9667, 9674), (9681, 9692), (9720, 9753), (9811, 9815), (9822, 9849), (9853, 9902), (9980, 9986), (10126, 10134), (10168, 10172), (10187, 10200), (10246, 10252), (10301, 10312), (10349, 10366), (10418, 10424), (10470, 10524), (10535, 10543), (10628, 10671), (10713, 10725), (10746, 10777)]"
      ],
      "text/plain": [
       "<IPython.core.display.Markdown object>"
      ]
     },
     "metadata": {},
     "output_type": "display_data"
    },
    {
     "data": {
      "text/markdown": [
       "[(107, 115), (227, 244), (275, 304), (320, 330), (374, 399), (402, 411), (421, 458), (556, 564), (576, 633), (656, 721), (744, 849), (859, 896), (967, 999), (1034, 1048), (1150, 1183), (1421, 1449), (1488, 1537), (1559, 1563), (1588, 1633), (1678, 1715), (1762, 1781), (1827, 1833), (1837, 1845), (1914, 1937), (1966, 1971), (2027, 2046), (2186, 2199), (2370, 2433), (2451, 2455), (2462, 2472), (2710, 2731), (2787, 2795), (2926, 2931), (3053, 3058), (3079, 3095), (3114, 3122), (3138, 3266), (3304, 3414), (3420, 3592), (3608, 4020), (4039, 4118), (4175, 4432), (4444, 4495), (4779, 4836), (4859, 5007), (5079, 5114), (6529, 6535), (6548, 6568), (6573, 6581), (6713, 6986), (6993, 7135), (7139, 7172), (7220, 7341), (7373, 7615), (7620, 7715), (7719, 7728), (7732, 7751), (7765, 8134), (8150, 8243), (8305, 8450), (8462, 8466), (8486, 8658), (8688, 8704), (8719, 8745), (8750, 8756), (8858, 8878), (8891, 8899), (8922, 9039), (9052, 9084), (9103, 9161), (9182, 9302), (9323, 9352), (9406, 9427), (9598, 9622), (9653, 9658), (9667, 9674), (9681, 9692), (9720, 9753), (9811, 9815), (9822, 9849), (9853, 9902), (9980, 9986), (10126, 10134), (10168, 10172), (10187, 10200), (10246, 10252), (10301, 10312), (10349, 10366), (10418, 10424), (10470, 10524), (10535, 10543), (10628, 10671), (10713, 10725), (10746, 10777)]"
      ],
      "text/plain": [
       "<IPython.core.display.Markdown object>"
      ]
     },
     "metadata": {},
     "output_type": "display_data"
    },
    {
     "data": {
      "text/markdown": [
       "[(107, 115), (227, 244), (275, 304), (320, 330), (374, 399), (402, 411), (421, 458), (556, 564), (576, 633), (656, 721), (744, 849), (859, 896), (967, 999), (1034, 1048), (1150, 1183), (1421, 1449), (1488, 1537), (1559, 1563), (1588, 1633), (1678, 1715), (1762, 1781), (1827, 1833), (1837, 1845), (1914, 1937), (1966, 1971), (2027, 2046), (2186, 2199), (2370, 2433), (2451, 2455), (2462, 2472), (2710, 2731), (2787, 2795), (2926, 2931), (3053, 3058), (3079, 3095), (3114, 3122), (3138, 3266), (3304, 3414), (3420, 3592), (3608, 4020), (4039, 4118), (4175, 4432), (4444, 4495), (4779, 4836), (4859, 5007), (5079, 5114), (6529, 6535), (6548, 6568), (6573, 6581), (6713, 6986), (6993, 7135), (7139, 7172), (7220, 7341), (7373, 7615), (7620, 7715), (7719, 7728), (7732, 7751), (7765, 8134), (8150, 8243), (8305, 8450), (8462, 8466), (8486, 8658), (8688, 8704), (8719, 8745), (8750, 8756), (8858, 8878), (8891, 8899), (8922, 9039), (9052, 9084), (9103, 9161), (9182, 9302), (9323, 9352), (9406, 9427), (9598, 9622), (9653, 9658), (9667, 9674), (9681, 9692), (9720, 9753), (9811, 9815), (9822, 9849), (9853, 9902), (9980, 9986), (10126, 10134), (10168, 10172), (10187, 10200), (10246, 10252), (10301, 10312), (10349, 10366), (10418, 10424), (10470, 10524), (10535, 10543), (10628, 10671), (10713, 10725), (10746, 10777)]"
      ],
      "text/plain": [
       "<IPython.core.display.Markdown object>"
      ]
     },
     "metadata": {},
     "output_type": "display_data"
    },
    {
     "data": {
      "text/markdown": [
       "[(107, 115), (227, 244), (275, 304), (320, 330), (374, 399), (402, 411), (421, 458), (556, 564), (576, 633), (656, 721), (744, 849), (859, 896), (967, 999), (1034, 1048), (1150, 1183), (1421, 1449), (1488, 1537), (1559, 1563), (1588, 1633), (1678, 1715), (1762, 1781), (1827, 1833), (1837, 1845), (1914, 1937), (1966, 1971), (2027, 2046), (2186, 2199), (2370, 2433), (2451, 2455), (2462, 2472), (2710, 2731), (2787, 2795), (2926, 2931), (3053, 3058), (3079, 3095), (3114, 3122), (3138, 3266), (3304, 3414), (3420, 3592), (3608, 4020), (4039, 4118), (4175, 4432), (4444, 4495), (4779, 4836), (4859, 5007), (5079, 5114), (6529, 6535), (6548, 6568), (6573, 6581), (6713, 6986), (6993, 7135), (7139, 7172), (7220, 7341), (7373, 7615), (7620, 7715), (7719, 7728), (7732, 7751), (7765, 8134), (8150, 8243), (8305, 8450), (8462, 8466), (8486, 8658), (8688, 8704), (8719, 8745), (8750, 8756), (8858, 8878), (8891, 8899), (8922, 9039), (9052, 9084), (9103, 9161), (9182, 9302), (9323, 9352), (9406, 9427), (9598, 9622), (9653, 9658), (9667, 9674), (9681, 9692), (9720, 9753), (9811, 9815), (9822, 9849), (9853, 9902), (9980, 9986), (10126, 10134), (10168, 10172), (10187, 10200), (10246, 10252), (10301, 10312), (10349, 10366), (10418, 10424), (10470, 10524), (10535, 10543), (10628, 10671), (10713, 10725), (10746, 10777)]"
      ],
      "text/plain": [
       "<IPython.core.display.Markdown object>"
      ]
     },
     "metadata": {},
     "output_type": "display_data"
    },
    {
     "data": {
      "text/markdown": [
       "[(107, 115), (227, 244), (275, 304), (320, 330), (374, 399), (402, 411), (421, 458), (556, 564), (576, 633), (656, 721), (744, 849), (859, 896), (967, 999), (1034, 1048), (1150, 1183), (1421, 1449), (1488, 1537), (1559, 1563), (1588, 1633), (1678, 1715), (1762, 1781), (1827, 1833), (1837, 1845), (1914, 1937), (1966, 1971), (2027, 2046), (2186, 2199), (2370, 2433), (2451, 2455), (2462, 2472), (2710, 2731), (2787, 2795), (2926, 2931), (3053, 3058), (3079, 3095), (3114, 3122), (3138, 3266), (3304, 3414), (3420, 3592), (3608, 4020), (4039, 4118), (4175, 4432), (4444, 4495), (4779, 4836), (4859, 5007), (5079, 5114), (6529, 6535), (6548, 6568), (6573, 6581), (6713, 6986), (6993, 7135), (7139, 7172), (7220, 7341), (7373, 7615), (7620, 7715), (7719, 7728), (7732, 7751), (7765, 8134), (8150, 8243), (8305, 8450), (8462, 8466), (8486, 8658), (8688, 8704), (8719, 8745), (8750, 8756), (8858, 8878), (8891, 8899), (8922, 9039), (9052, 9084), (9103, 9161), (9182, 9302), (9323, 9352), (9406, 9427), (9598, 9622), (9653, 9658), (9667, 9674), (9681, 9692), (9720, 9753), (9811, 9815), (9822, 9849), (9853, 9902), (9980, 9986), (10126, 10134), (10168, 10172), (10187, 10200), (10246, 10252), (10301, 10312), (10349, 10366), (10418, 10424), (10470, 10524), (10535, 10543), (10628, 10671), (10713, 10725), (10746, 10777)]"
      ],
      "text/plain": [
       "<IPython.core.display.Markdown object>"
      ]
     },
     "metadata": {},
     "output_type": "display_data"
    },
    {
     "data": {
      "text/markdown": [
       "[(107, 115), (227, 244), (275, 304), (320, 330), (374, 399), (402, 411), (421, 458), (556, 564), (576, 633), (656, 721), (744, 849), (859, 896), (967, 999), (1034, 1048), (1150, 1183), (1421, 1449), (1488, 1537), (1559, 1563), (1588, 1633), (1678, 1715), (1762, 1781), (1827, 1833), (1837, 1845), (1914, 1937), (1966, 1971), (2027, 2046), (2186, 2199), (2370, 2433), (2451, 2455), (2462, 2472), (2710, 2731), (2787, 2795), (2926, 2931), (3053, 3058), (3079, 3095), (3114, 3122), (3138, 3266), (3304, 3414), (3420, 3592), (3608, 4020), (4039, 4118), (4175, 4432), (4444, 4495), (4779, 4836), (4859, 5007), (5079, 5114), (6529, 6535), (6548, 6568), (6573, 6581), (6713, 6986), (6993, 7135), (7139, 7172), (7220, 7341), (7373, 7615), (7620, 7715), (7719, 7728), (7732, 7751), (7765, 8134), (8150, 8243), (8305, 8450), (8462, 8466), (8486, 8658), (8688, 8704), (8719, 8745), (8750, 8756), (8858, 8878), (8891, 8899), (8922, 9039), (9052, 9084), (9103, 9161), (9182, 9302), (9323, 9352), (9406, 9427), (9598, 9622), (9653, 9658), (9667, 9674), (9681, 9692), (9720, 9753), (9811, 9815), (9822, 9849), (9853, 9902), (9980, 9986), (10126, 10134), (10168, 10172), (10187, 10200), (10246, 10252), (10301, 10312), (10349, 10366), (10418, 10424), (10470, 10524), (10535, 10543), (10628, 10671), (10713, 10725), (10746, 10777)]"
      ],
      "text/plain": [
       "<IPython.core.display.Markdown object>"
      ]
     },
     "metadata": {},
     "output_type": "display_data"
    },
    {
     "data": {
      "text/markdown": [
       "[(107, 115), (227, 244), (275, 304), (320, 330), (374, 399), (402, 411), (421, 458), (556, 564), (576, 633), (656, 721), (744, 849), (859, 896), (967, 999), (1034, 1048), (1150, 1183), (1421, 1449), (1488, 1537), (1559, 1563), (1588, 1633), (1678, 1715), (1762, 1781), (1827, 1833), (1837, 1845), (1914, 1937), (1966, 1971), (2027, 2046), (2186, 2199), (2370, 2433), (2451, 2455), (2462, 2472), (2710, 2731), (2787, 2795), (2926, 2931), (3053, 3058), (3079, 3095), (3114, 3122), (3138, 3266), (3304, 3414), (3420, 3592), (3608, 4020), (4039, 4118), (4175, 4432), (4444, 4495), (4779, 4836), (4859, 5007), (5079, 5114), (6529, 6535), (6548, 6568), (6573, 6581), (6713, 6986), (6993, 7135), (7139, 7172), (7220, 7341), (7373, 7615), (7620, 7715), (7719, 7728), (7732, 7751), (7765, 8134), (8150, 8243), (8305, 8450), (8462, 8466), (8486, 8658), (8688, 8704), (8719, 8745), (8750, 8756), (8858, 8878), (8891, 8899), (8922, 9039), (9052, 9084), (9103, 9161), (9182, 9302), (9323, 9352), (9406, 9427), (9598, 9622), (9653, 9658), (9667, 9674), (9681, 9692), (9720, 9753), (9811, 9815), (9822, 9849), (9853, 9902), (9980, 9986), (10126, 10134), (10168, 10172), (10187, 10200), (10246, 10252), (10301, 10312), (10349, 10366), (10418, 10424), (10470, 10524), (10535, 10543), (10628, 10671), (10713, 10725), (10746, 10777)]"
      ],
      "text/plain": [
       "<IPython.core.display.Markdown object>"
      ]
     },
     "metadata": {},
     "output_type": "display_data"
    },
    {
     "data": {
      "text/markdown": [
       "[(107, 115), (227, 244), (275, 304), (320, 330), (374, 399), (402, 411), (421, 458), (556, 564), (576, 633), (656, 721), (744, 849), (859, 896), (967, 999), (1034, 1048), (1150, 1183), (1421, 1449), (1488, 1537), (1559, 1563), (1588, 1633), (1678, 1715), (1762, 1781), (1827, 1833), (1837, 1845), (1914, 1937), (1966, 1971), (2027, 2046), (2186, 2199), (2370, 2433), (2451, 2455), (2462, 2472), (2710, 2731), (2787, 2795), (2926, 2931), (3053, 3058), (3079, 3095), (3114, 3122), (3138, 3266), (3304, 3414), (3420, 3592), (3608, 4020), (4039, 4118), (4175, 4432), (4444, 4495), (4779, 4836), (4859, 5007), (5079, 5114), (6529, 6535), (6548, 6568), (6573, 6581), (6713, 6986), (6993, 7135), (7139, 7172), (7220, 7341), (7373, 7615), (7620, 7715), (7719, 7728), (7732, 7751), (7765, 8134), (8150, 8243), (8305, 8450), (8462, 8466), (8486, 8658), (8688, 8704), (8719, 8745), (8750, 8756), (8858, 8878), (8891, 8899), (8922, 9039), (9052, 9084), (9103, 9161), (9182, 9302), (9323, 9352), (9406, 9427), (9598, 9622), (9653, 9658), (9667, 9674), (9681, 9692), (9720, 9753), (9811, 9815), (9822, 9849), (9853, 9902), (9980, 9986), (10126, 10134), (10168, 10172), (10187, 10200), (10246, 10252), (10301, 10312), (10349, 10366), (10418, 10424), (10470, 10524), (10535, 10543), (10628, 10671), (10713, 10725), (10746, 10777)]"
      ],
      "text/plain": [
       "<IPython.core.display.Markdown object>"
      ]
     },
     "metadata": {},
     "output_type": "display_data"
    },
    {
     "data": {
      "text/markdown": [
       "[(107, 115), (227, 244), (275, 304), (320, 330), (374, 399), (402, 411), (421, 458), (556, 564), (576, 633), (656, 721), (744, 849), (859, 896), (967, 999), (1034, 1048), (1150, 1183), (1421, 1449), (1488, 1537), (1559, 1563), (1588, 1633), (1678, 1715), (1762, 1781), (1827, 1833), (1837, 1845), (1914, 1937), (1966, 1971), (2027, 2046), (2186, 2199), (2370, 2433), (2451, 2455), (2462, 2472), (2710, 2731), (2787, 2795), (2926, 2931), (3053, 3058), (3079, 3095), (3114, 3122), (3138, 3266), (3304, 3414), (3420, 3592), (3608, 4020), (4039, 4118), (4175, 4432), (4444, 4495), (4779, 4836), (4859, 5007), (5079, 5114), (6529, 6535), (6548, 6568), (6573, 6581), (6713, 6986), (6993, 7135), (7139, 7172), (7220, 7341), (7373, 7615), (7620, 7715), (7719, 7728), (7732, 7751), (7765, 8134), (8150, 8243), (8305, 8450), (8462, 8466), (8486, 8658), (8688, 8704), (8719, 8745), (8750, 8756), (8858, 8878), (8891, 8899), (8922, 9039), (9052, 9084), (9103, 9161), (9182, 9302), (9323, 9352), (9406, 9427), (9598, 9622), (9653, 9658), (9667, 9674), (9681, 9692), (9720, 9753), (9811, 9815), (9822, 9849), (9853, 9902), (9980, 9986), (10126, 10134), (10168, 10172), (10187, 10200), (10246, 10252), (10301, 10312), (10349, 10366), (10418, 10424), (10470, 10524), (10535, 10543), (10628, 10671), (10713, 10725), (10746, 10777)]"
      ],
      "text/plain": [
       "<IPython.core.display.Markdown object>"
      ]
     },
     "metadata": {},
     "output_type": "display_data"
    },
    {
     "data": {
      "text/markdown": [
       "[(107, 115), (227, 244), (275, 304), (320, 330), (374, 399), (402, 411), (421, 458), (556, 564), (576, 633), (656, 721), (744, 849), (859, 896), (967, 999), (1034, 1048), (1150, 1183), (1421, 1449), (1488, 1537), (1559, 1563), (1588, 1633), (1678, 1715), (1762, 1781), (1827, 1833), (1837, 1845), (1914, 1937), (1966, 1971), (2027, 2046), (2186, 2199), (2370, 2433), (2451, 2455), (2462, 2472), (2710, 2731), (2787, 2795), (2926, 2931), (3053, 3058), (3079, 3095), (3114, 3122), (3138, 3266), (3304, 3414), (3420, 3592), (3608, 4020), (4039, 4118), (4175, 4432), (4444, 4495), (4779, 4836), (4859, 5007), (5079, 5114), (6529, 6535), (6548, 6568), (6573, 6581), (6713, 6986), (6993, 7135), (7139, 7172), (7220, 7341), (7373, 7615), (7620, 7715), (7719, 7728), (7732, 7751), (7765, 8134), (8150, 8243), (8305, 8450), (8462, 8466), (8486, 8658), (8688, 8704), (8719, 8745), (8750, 8756), (8858, 8878), (8891, 8899), (8922, 9039), (9052, 9084), (9103, 9161), (9182, 9302), (9323, 9352), (9406, 9427), (9598, 9622), (9653, 9658), (9667, 9674), (9681, 9692), (9720, 9753), (9811, 9815), (9822, 9849), (9853, 9902), (9980, 9986), (10126, 10134), (10168, 10172), (10187, 10200), (10246, 10252), (10301, 10312), (10349, 10366), (10418, 10424), (10470, 10524), (10535, 10543), (10628, 10671), (10713, 10725), (10746, 10777)]"
      ],
      "text/plain": [
       "<IPython.core.display.Markdown object>"
      ]
     },
     "metadata": {},
     "output_type": "display_data"
    },
    {
     "data": {
      "text/markdown": [
       "[(107, 115), (227, 244), (275, 304), (320, 330), (374, 399), (402, 411), (421, 458), (556, 564), (576, 633), (656, 721), (744, 849), (859, 896), (967, 999), (1034, 1048), (1150, 1183), (1421, 1449), (1488, 1537), (1559, 1563), (1588, 1633), (1678, 1715), (1762, 1781), (1827, 1833), (1837, 1845), (1914, 1937), (1966, 1971), (2027, 2046), (2186, 2199), (2370, 2433), (2451, 2455), (2462, 2472), (2710, 2731), (2787, 2795), (2926, 2931), (3053, 3058), (3079, 3095), (3114, 3122), (3138, 3266), (3304, 3414), (3420, 3592), (3608, 4020), (4039, 4118), (4175, 4432), (4444, 4495), (4779, 4836), (4859, 5007), (5079, 5114), (6529, 6535), (6548, 6568), (6573, 6581), (6713, 6986), (6993, 7135), (7139, 7172), (7220, 7341), (7373, 7615), (7620, 7715), (7719, 7728), (7732, 7751), (7765, 8134), (8150, 8243), (8305, 8450), (8462, 8466), (8486, 8658), (8688, 8704), (8719, 8745), (8750, 8756), (8858, 8878), (8891, 8899), (8922, 9039), (9052, 9084), (9103, 9161), (9182, 9302), (9323, 9352), (9406, 9427), (9598, 9622), (9653, 9658), (9667, 9674), (9681, 9692), (9720, 9753), (9811, 9815), (9822, 9849), (9853, 9902), (9980, 9986), (10126, 10134), (10168, 10172), (10187, 10200), (10246, 10252), (10301, 10312), (10349, 10366), (10418, 10424), (10470, 10524), (10535, 10543), (10628, 10671), (10713, 10725), (10746, 10777)]"
      ],
      "text/plain": [
       "<IPython.core.display.Markdown object>"
      ]
     },
     "metadata": {},
     "output_type": "display_data"
    },
    {
     "data": {
      "text/markdown": [
       "[(107, 115), (227, 244), (275, 304), (320, 330), (374, 399), (402, 411), (421, 458), (556, 564), (576, 633), (656, 721), (744, 849), (859, 896), (967, 999), (1034, 1048), (1150, 1183), (1421, 1449), (1488, 1537), (1559, 1563), (1588, 1633), (1678, 1715), (1762, 1781), (1827, 1833), (1837, 1845), (1914, 1937), (1966, 1971), (2027, 2046), (2186, 2199), (2370, 2433), (2451, 2455), (2462, 2472), (2710, 2731), (2787, 2795), (2926, 2931), (3053, 3058), (3079, 3095), (3114, 3122), (3138, 3266), (3304, 3414), (3420, 3592), (3608, 4020), (4039, 4118), (4175, 4432), (4444, 4495), (4779, 4836), (4859, 5007), (5079, 5114), (6529, 6535), (6548, 6568), (6573, 6581), (6713, 6986), (6993, 7135), (7139, 7172), (7220, 7341), (7373, 7615), (7620, 7715), (7719, 7728), (7732, 7751), (7765, 8134), (8150, 8243), (8305, 8450), (8462, 8466), (8486, 8658), (8688, 8704), (8719, 8745), (8750, 8756), (8858, 8878), (8891, 8899), (8922, 9039), (9052, 9084), (9103, 9161), (9182, 9302), (9323, 9352), (9406, 9427), (9598, 9622), (9653, 9658), (9667, 9674), (9681, 9692), (9720, 9753), (9811, 9815), (9822, 9849), (9853, 9902), (9980, 9986), (10126, 10134), (10168, 10172), (10187, 10200), (10246, 10252), (10301, 10312), (10349, 10366), (10418, 10424), (10470, 10524), (10535, 10543), (10628, 10671), (10713, 10725), (10746, 10777)]"
      ],
      "text/plain": [
       "<IPython.core.display.Markdown object>"
      ]
     },
     "metadata": {},
     "output_type": "display_data"
    },
    {
     "data": {
      "text/markdown": [
       "[(107, 115), (227, 244), (275, 304), (320, 330), (374, 399), (402, 411), (421, 458), (556, 564), (576, 633), (656, 721), (744, 849), (859, 896), (967, 999), (1034, 1048), (1150, 1183), (1421, 1449), (1488, 1537), (1559, 1563), (1588, 1633), (1678, 1715), (1762, 1781), (1827, 1833), (1837, 1845), (1914, 1937), (1966, 1971), (2027, 2046), (2186, 2199), (2370, 2433), (2451, 2455), (2462, 2472), (2710, 2731), (2787, 2795), (2926, 2931), (3053, 3058), (3079, 3095), (3114, 3122), (3138, 3266), (3304, 3414), (3420, 3592), (3608, 4020), (4039, 4118), (4175, 4432), (4444, 4495), (4779, 4836), (4859, 5007), (5079, 5114), (6529, 6535), (6548, 6568), (6573, 6581), (6713, 6986), (6993, 7135), (7139, 7172), (7220, 7341), (7373, 7615), (7620, 7715), (7719, 7728), (7732, 7751), (7765, 8134), (8150, 8243), (8305, 8450), (8462, 8466), (8486, 8658), (8688, 8704), (8719, 8745), (8750, 8756), (8858, 8878), (8891, 8899), (8922, 9039), (9052, 9084), (9103, 9161), (9182, 9302), (9323, 9352), (9406, 9427), (9598, 9622), (9653, 9658), (9667, 9674), (9681, 9692), (9720, 9753), (9811, 9815), (9822, 9849), (9853, 9902), (9980, 9986), (10126, 10134), (10168, 10172), (10187, 10200), (10246, 10252), (10301, 10312), (10349, 10366), (10418, 10424), (10470, 10524), (10535, 10543), (10628, 10671), (10713, 10725), (10746, 10777)]"
      ],
      "text/plain": [
       "<IPython.core.display.Markdown object>"
      ]
     },
     "metadata": {},
     "output_type": "display_data"
    },
    {
     "data": {
      "text/markdown": [
       "[(107, 115), (227, 244), (275, 304), (320, 330), (374, 399), (402, 411), (421, 458), (556, 564), (576, 633), (656, 721), (744, 849), (859, 896), (967, 999), (1034, 1048), (1150, 1183), (1421, 1449), (1488, 1537), (1559, 1563), (1588, 1633), (1678, 1715), (1762, 1781), (1827, 1833), (1837, 1845), (1914, 1937), (1966, 1971), (2027, 2046), (2186, 2199), (2370, 2433), (2451, 2455), (2462, 2472), (2710, 2731), (2787, 2795), (2926, 2931), (3053, 3058), (3079, 3095), (3114, 3122), (3138, 3266), (3304, 3414), (3420, 3592), (3608, 4020), (4039, 4118), (4175, 4432), (4444, 4495), (4779, 4836), (4859, 5007), (5079, 5114), (6529, 6535), (6548, 6568), (6573, 6581), (6713, 6986), (6993, 7135), (7139, 7172), (7220, 7341), (7373, 7615), (7620, 7715), (7719, 7728), (7732, 7751), (7765, 8134), (8150, 8243), (8305, 8450), (8462, 8466), (8486, 8658), (8688, 8704), (8719, 8745), (8750, 8756), (8858, 8878), (8891, 8899), (8922, 9039), (9052, 9084), (9103, 9161), (9182, 9302), (9323, 9352), (9406, 9427), (9598, 9622), (9653, 9658), (9667, 9674), (9681, 9692), (9720, 9753), (9811, 9815), (9822, 9849), (9853, 9902), (9980, 9986), (10126, 10134), (10168, 10172), (10187, 10200), (10246, 10252), (10301, 10312), (10349, 10366), (10418, 10424), (10470, 10524), (10535, 10543), (10628, 10671), (10713, 10725), (10746, 10777)]"
      ],
      "text/plain": [
       "<IPython.core.display.Markdown object>"
      ]
     },
     "metadata": {},
     "output_type": "display_data"
    },
    {
     "data": {
      "text/markdown": [
       "[(107, 115), (227, 244), (275, 304), (320, 330), (374, 399), (402, 411), (421, 458), (556, 564), (576, 633), (656, 721), (744, 849), (859, 896), (967, 999), (1034, 1048), (1150, 1183), (1421, 1449), (1488, 1537), (1559, 1563), (1588, 1633), (1678, 1715), (1762, 1781), (1827, 1833), (1837, 1845), (1914, 1937), (1966, 1971), (2027, 2046), (2186, 2199), (2370, 2433), (2451, 2455), (2462, 2472), (2710, 2731), (2787, 2795), (2926, 2931), (3053, 3058), (3079, 3095), (3114, 3122), (3138, 3266), (3304, 3414), (3420, 3592), (3608, 4020), (4039, 4118), (4175, 4432), (4444, 4495), (4779, 4836), (4859, 5007), (5079, 5114), (6529, 6535), (6548, 6568), (6573, 6581), (6713, 6986), (6993, 7135), (7139, 7172), (7220, 7341), (7373, 7615), (7620, 7715), (7719, 7728), (7732, 7751), (7765, 8134), (8150, 8243), (8305, 8450), (8462, 8466), (8486, 8658), (8688, 8704), (8719, 8745), (8750, 8756), (8858, 8878), (8891, 8899), (8922, 9039), (9052, 9084), (9103, 9161), (9182, 9302), (9323, 9352), (9406, 9427), (9598, 9622), (9653, 9658), (9667, 9674), (9681, 9692), (9720, 9753), (9811, 9815), (9822, 9849), (9853, 9902), (9980, 9986), (10126, 10134), (10168, 10172), (10187, 10200), (10246, 10252), (10301, 10312), (10349, 10366), (10418, 10424), (10470, 10524), (10535, 10543), (10628, 10671), (10713, 10725), (10746, 10777)]"
      ],
      "text/plain": [
       "<IPython.core.display.Markdown object>"
      ]
     },
     "metadata": {},
     "output_type": "display_data"
    },
    {
     "data": {
      "text/markdown": [
       "[(107, 115), (227, 244), (275, 304), (320, 330), (374, 399), (402, 411), (421, 458), (556, 564), (576, 633), (656, 721), (744, 849), (859, 896), (967, 999), (1034, 1048), (1150, 1183), (1421, 1449), (1488, 1537), (1559, 1563), (1588, 1633), (1678, 1715), (1762, 1781), (1827, 1833), (1837, 1845), (1914, 1937), (1966, 1971), (2027, 2046), (2186, 2199), (2370, 2433), (2451, 2455), (2462, 2472), (2710, 2731), (2787, 2795), (2926, 2931), (3053, 3058), (3079, 3095), (3114, 3122), (3138, 3266), (3304, 3414), (3420, 3592), (3608, 4020), (4039, 4118), (4175, 4432), (4444, 4495), (4779, 4836), (4859, 5007), (5079, 5114), (6529, 6535), (6548, 6568), (6573, 6581), (6713, 6986), (6993, 7135), (7139, 7172), (7220, 7341), (7373, 7615), (7620, 7715), (7719, 7728), (7732, 7751), (7765, 8134), (8150, 8243), (8305, 8450), (8462, 8466), (8486, 8658), (8688, 8704), (8719, 8745), (8750, 8756), (8858, 8878), (8891, 8899), (8922, 9039), (9052, 9084), (9103, 9161), (9182, 9302), (9323, 9352), (9406, 9427), (9598, 9622), (9653, 9658), (9667, 9674), (9681, 9692), (9720, 9753), (9811, 9815), (9822, 9849), (9853, 9902), (9980, 9986), (10126, 10134), (10168, 10172), (10187, 10200), (10246, 10252), (10301, 10312), (10349, 10366), (10418, 10424), (10470, 10524), (10535, 10543), (10628, 10671), (10713, 10725), (10746, 10777)]"
      ],
      "text/plain": [
       "<IPython.core.display.Markdown object>"
      ]
     },
     "metadata": {},
     "output_type": "display_data"
    },
    {
     "data": {
      "text/markdown": [
       "[(107, 115), (227, 244), (275, 304), (320, 330), (374, 399), (402, 411), (421, 458), (556, 564), (576, 633), (656, 721), (744, 849), (859, 896), (967, 999), (1034, 1048), (1150, 1183), (1421, 1449), (1488, 1537), (1559, 1563), (1588, 1633), (1678, 1715), (1762, 1781), (1827, 1833), (1837, 1845), (1914, 1937), (1966, 1971), (2027, 2046), (2186, 2199), (2370, 2433), (2451, 2455), (2462, 2472), (2710, 2731), (2787, 2795), (2926, 2931), (3053, 3058), (3079, 3095), (3114, 3122), (3138, 3266), (3304, 3414), (3420, 3592), (3608, 4020), (4039, 4118), (4175, 4432), (4444, 4495), (4779, 4836), (4859, 5007), (5079, 5114), (6529, 6535), (6548, 6568), (6573, 6581), (6713, 6986), (6993, 7135), (7139, 7172), (7220, 7341), (7373, 7615), (7620, 7715), (7719, 7728), (7732, 7751), (7765, 8134), (8150, 8243), (8305, 8450), (8462, 8466), (8486, 8658), (8688, 8704), (8719, 8745), (8750, 8756), (8858, 8878), (8891, 8899), (8922, 9039), (9052, 9084), (9103, 9161), (9182, 9302), (9323, 9352), (9406, 9427), (9598, 9622), (9653, 9658), (9667, 9674), (9681, 9692), (9720, 9753), (9811, 9815), (9822, 9849), (9853, 9902), (9980, 9986), (10126, 10134), (10168, 10172), (10187, 10200), (10246, 10252), (10301, 10312), (10349, 10366), (10418, 10424), (10470, 10524), (10535, 10543), (10628, 10671), (10713, 10725), (10746, 10777)]"
      ],
      "text/plain": [
       "<IPython.core.display.Markdown object>"
      ]
     },
     "metadata": {},
     "output_type": "display_data"
    },
    {
     "data": {
      "text/markdown": [
       "[(107, 115), (227, 244), (275, 304), (320, 330), (374, 399), (402, 411), (421, 458), (556, 564), (576, 633), (656, 721), (744, 849), (859, 896), (967, 999), (1034, 1048), (1150, 1183), (1421, 1449), (1488, 1537), (1559, 1563), (1588, 1633), (1678, 1715), (1762, 1781), (1827, 1833), (1837, 1845), (1914, 1937), (1966, 1971), (2027, 2046), (2186, 2199), (2370, 2433), (2451, 2455), (2462, 2472), (2710, 2731), (2787, 2795), (2926, 2931), (3053, 3058), (3079, 3095), (3114, 3122), (3138, 3266), (3304, 3414), (3420, 3592), (3608, 4020), (4039, 4118), (4175, 4432), (4444, 4495), (4779, 4836), (4859, 5007), (5079, 5114), (6529, 6535), (6548, 6568), (6573, 6581), (6713, 6986), (6993, 7135), (7139, 7172), (7220, 7341), (7373, 7615), (7620, 7715), (7719, 7728), (7732, 7751), (7765, 8134), (8150, 8243), (8305, 8450), (8462, 8466), (8486, 8658), (8688, 8704), (8719, 8745), (8750, 8756), (8858, 8878), (8891, 8899), (8922, 9039), (9052, 9084), (9103, 9161), (9182, 9302), (9323, 9352), (9406, 9427), (9598, 9622), (9653, 9658), (9667, 9674), (9681, 9692), (9720, 9753), (9811, 9815), (9822, 9849), (9853, 9902), (9980, 9986), (10126, 10134), (10168, 10172), (10187, 10200), (10246, 10252), (10301, 10312), (10349, 10366), (10418, 10424), (10470, 10524), (10535, 10543), (10628, 10671), (10713, 10725), (10746, 10777)]"
      ],
      "text/plain": [
       "<IPython.core.display.Markdown object>"
      ]
     },
     "metadata": {},
     "output_type": "display_data"
    },
    {
     "data": {
      "text/markdown": [
       "[(107, 115), (227, 244), (275, 304), (320, 330), (374, 399), (402, 411), (421, 458), (556, 564), (576, 633), (656, 721), (744, 849), (859, 896), (967, 999), (1034, 1048), (1150, 1183), (1421, 1449), (1488, 1537), (1559, 1563), (1588, 1633), (1678, 1715), (1762, 1781), (1827, 1833), (1837, 1845), (1914, 1937), (1966, 1971), (2027, 2046), (2186, 2199), (2370, 2433), (2451, 2455), (2462, 2472), (2710, 2731), (2787, 2795), (2926, 2931), (3053, 3058), (3079, 3095), (3114, 3122), (3138, 3266), (3304, 3414), (3420, 3592), (3608, 4020), (4039, 4118), (4175, 4432), (4444, 4495), (4779, 4836), (4859, 5007), (5079, 5114), (6529, 6535), (6548, 6568), (6573, 6581), (6713, 6986), (6993, 7135), (7139, 7172), (7220, 7341), (7373, 7615), (7620, 7715), (7719, 7728), (7732, 7751), (7765, 8134), (8150, 8243), (8305, 8450), (8462, 8466), (8486, 8658), (8688, 8704), (8719, 8745), (8750, 8756), (8858, 8878), (8891, 8899), (8922, 9039), (9052, 9084), (9103, 9161), (9182, 9302), (9323, 9352), (9406, 9427), (9598, 9622), (9653, 9658), (9667, 9674), (9681, 9692), (9720, 9753), (9811, 9815), (9822, 9849), (9853, 9902), (9980, 9986), (10126, 10134), (10168, 10172), (10187, 10200), (10246, 10252), (10301, 10312), (10349, 10366), (10418, 10424), (10470, 10524), (10535, 10543), (10628, 10671), (10713, 10725), (10746, 10777)]"
      ],
      "text/plain": [
       "<IPython.core.display.Markdown object>"
      ]
     },
     "metadata": {},
     "output_type": "display_data"
    },
    {
     "data": {
      "text/markdown": [
       "[(107, 115), (227, 244), (275, 304), (320, 330), (374, 399), (402, 411), (421, 458), (556, 564), (576, 633), (656, 721), (744, 849), (859, 896), (967, 999), (1034, 1048), (1150, 1183), (1421, 1449), (1488, 1537), (1559, 1563), (1588, 1633), (1678, 1715), (1762, 1781), (1827, 1833), (1837, 1845), (1914, 1937), (1966, 1971), (2027, 2046), (2186, 2199), (2370, 2433), (2451, 2455), (2462, 2472), (2710, 2731), (2787, 2795), (2926, 2931), (3053, 3058), (3079, 3095), (3114, 3122), (3138, 3266), (3304, 3414), (3420, 3592), (3608, 4020), (4039, 4118), (4175, 4432), (4444, 4495), (4779, 4836), (4859, 5007), (5079, 5114), (6529, 6535), (6548, 6568), (6573, 6581), (6713, 6986), (6993, 7135), (7139, 7172), (7220, 7341), (7373, 7615), (7620, 7715), (7719, 7728), (7732, 7751), (7765, 8134), (8150, 8243), (8305, 8450), (8462, 8466), (8486, 8658), (8688, 8704), (8719, 8745), (8750, 8756), (8858, 8878), (8891, 8899), (8922, 9039), (9052, 9084), (9103, 9161), (9182, 9302), (9323, 9352), (9406, 9427), (9598, 9622), (9653, 9658), (9667, 9674), (9681, 9692), (9720, 9753), (9811, 9815), (9822, 9849), (9853, 9902), (9980, 9986), (10126, 10134), (10168, 10172), (10187, 10200), (10246, 10252), (10301, 10312), (10349, 10366), (10418, 10424), (10470, 10524), (10535, 10543), (10628, 10671), (10713, 10725), (10746, 10777)]"
      ],
      "text/plain": [
       "<IPython.core.display.Markdown object>"
      ]
     },
     "metadata": {},
     "output_type": "display_data"
    },
    {
     "data": {
      "text/markdown": [
       "[(107, 115), (227, 244), (275, 304), (320, 330), (374, 399), (402, 411), (421, 458), (556, 564), (576, 633), (656, 721), (744, 849), (859, 896), (967, 999), (1034, 1048), (1150, 1183), (1421, 1449), (1488, 1537), (1559, 1563), (1588, 1633), (1678, 1715), (1762, 1781), (1827, 1833), (1837, 1845), (1914, 1937), (1966, 1971), (2027, 2046), (2186, 2199), (2370, 2433), (2451, 2455), (2462, 2472), (2710, 2731), (2787, 2795), (2926, 2931), (3053, 3058), (3079, 3095), (3114, 3122), (3138, 3266), (3304, 3414), (3420, 3592), (3608, 4020), (4039, 4118), (4175, 4432), (4444, 4495), (4779, 4836), (4859, 5007), (5079, 5114), (6529, 6535), (6548, 6568), (6573, 6581), (6713, 6986), (6993, 7135), (7139, 7172), (7220, 7341), (7373, 7615), (7620, 7715), (7719, 7728), (7732, 7751), (7765, 8134), (8150, 8243), (8305, 8450), (8462, 8466), (8486, 8658), (8688, 8704), (8719, 8745), (8750, 8756), (8858, 8878), (8891, 8899), (8922, 9039), (9052, 9084), (9103, 9161), (9182, 9302), (9323, 9352), (9406, 9427), (9598, 9622), (9653, 9658), (9667, 9674), (9681, 9692), (9720, 9753), (9811, 9815), (9822, 9849), (9853, 9902), (9980, 9986), (10126, 10134), (10168, 10172), (10187, 10200), (10246, 10252), (10301, 10312), (10349, 10366), (10418, 10424), (10470, 10524), (10535, 10543), (10628, 10671), (10713, 10725), (10746, 10777)]"
      ],
      "text/plain": [
       "<IPython.core.display.Markdown object>"
      ]
     },
     "metadata": {},
     "output_type": "display_data"
    },
    {
     "data": {
      "text/markdown": [
       "[(107, 115), (227, 244), (275, 304), (320, 330), (374, 399), (402, 411), (421, 458), (556, 564), (576, 633), (656, 721), (744, 849), (859, 896), (967, 999), (1034, 1048), (1150, 1183), (1421, 1449), (1488, 1537), (1559, 1563), (1588, 1633), (1678, 1715), (1762, 1781), (1827, 1833), (1837, 1845), (1914, 1937), (1966, 1971), (2027, 2046), (2186, 2199), (2370, 2433), (2451, 2455), (2462, 2472), (2710, 2731), (2787, 2795), (2926, 2931), (3053, 3058), (3079, 3095), (3114, 3122), (3138, 3266), (3304, 3414), (3420, 3592), (3608, 4020), (4039, 4118), (4175, 4432), (4444, 4495), (4779, 4836), (4859, 5007), (5079, 5114), (6529, 6535), (6548, 6568), (6573, 6581), (6713, 6986), (6993, 7135), (7139, 7172), (7220, 7341), (7373, 7615), (7620, 7715), (7719, 7728), (7732, 7751), (7765, 8134), (8150, 8243), (8305, 8450), (8462, 8466), (8486, 8658), (8688, 8704), (8719, 8745), (8750, 8756), (8858, 8878), (8891, 8899), (8922, 9039), (9052, 9084), (9103, 9161), (9182, 9302), (9323, 9352), (9406, 9427), (9598, 9622), (9653, 9658), (9667, 9674), (9681, 9692), (9720, 9753), (9811, 9815), (9822, 9849), (9853, 9902), (9980, 9986), (10126, 10134), (10168, 10172), (10187, 10200), (10246, 10252), (10301, 10312), (10349, 10366), (10418, 10424), (10470, 10524), (10535, 10543), (10628, 10671), (10713, 10725), (10746, 10777)]"
      ],
      "text/plain": [
       "<IPython.core.display.Markdown object>"
      ]
     },
     "metadata": {},
     "output_type": "display_data"
    },
    {
     "data": {
      "text/markdown": [
       "[(107, 115), (227, 244), (275, 304), (320, 330), (374, 399), (402, 411), (421, 458), (556, 564), (576, 633), (656, 721), (744, 849), (859, 896), (967, 999), (1034, 1048), (1150, 1183), (1421, 1449), (1488, 1537), (1559, 1563), (1588, 1633), (1678, 1715), (1762, 1781), (1827, 1833), (1837, 1845), (1914, 1937), (1966, 1971), (2027, 2046), (2186, 2199), (2370, 2433), (2451, 2455), (2462, 2472), (2710, 2731), (2787, 2795), (2926, 2931), (3053, 3058), (3079, 3095), (3114, 3122), (3138, 3266), (3304, 3414), (3420, 3592), (3608, 4020), (4039, 4118), (4175, 4432), (4444, 4495), (4779, 4836), (4859, 5007), (5079, 5114), (6529, 6535), (6548, 6568), (6573, 6581), (6713, 6986), (6993, 7135), (7139, 7172), (7220, 7341), (7373, 7615), (7620, 7715), (7719, 7728), (7732, 7751), (7765, 8134), (8150, 8243), (8305, 8450), (8462, 8466), (8486, 8658), (8688, 8704), (8719, 8745), (8750, 8756), (8858, 8878), (8891, 8899), (8922, 9039), (9052, 9084), (9103, 9161), (9182, 9302), (9323, 9352), (9406, 9427), (9598, 9622), (9653, 9658), (9667, 9674), (9681, 9692), (9720, 9753), (9811, 9815), (9822, 9849), (9853, 9902), (9980, 9986), (10126, 10134), (10168, 10172), (10187, 10200), (10246, 10252), (10301, 10312), (10349, 10366), (10418, 10424), (10470, 10524), (10535, 10543), (10628, 10671), (10713, 10725), (10746, 10777)]"
      ],
      "text/plain": [
       "<IPython.core.display.Markdown object>"
      ]
     },
     "metadata": {},
     "output_type": "display_data"
    },
    {
     "data": {
      "text/markdown": [
       "[(107, 115), (227, 244), (275, 304), (320, 330), (374, 399), (402, 411), (421, 458), (556, 564), (576, 633), (656, 721), (744, 849), (859, 896), (967, 999), (1034, 1048), (1150, 1183), (1421, 1449), (1488, 1537), (1559, 1563), (1588, 1633), (1678, 1715), (1762, 1781), (1827, 1833), (1837, 1845), (1914, 1937), (1966, 1971), (2027, 2046), (2186, 2199), (2370, 2433), (2451, 2455), (2462, 2472), (2710, 2731), (2787, 2795), (2926, 2931), (3053, 3058), (3079, 3095), (3114, 3122), (3138, 3266), (3304, 3414), (3420, 3592), (3608, 4020), (4039, 4118), (4175, 4432), (4444, 4495), (4779, 4836), (4859, 5007), (5079, 5114), (6529, 6535), (6548, 6568), (6573, 6581), (6713, 6986), (6993, 7135), (7139, 7172), (7220, 7341), (7373, 7615), (7620, 7715), (7719, 7728), (7732, 7751), (7765, 8134), (8150, 8243), (8305, 8450), (8462, 8466), (8486, 8658), (8688, 8704), (8719, 8745), (8750, 8756), (8858, 8878), (8891, 8899), (8922, 9039), (9052, 9084), (9103, 9161), (9182, 9302), (9323, 9352), (9406, 9427), (9598, 9622), (9653, 9658), (9667, 9674), (9681, 9692), (9720, 9753), (9811, 9815), (9822, 9849), (9853, 9902), (9980, 9986), (10126, 10134), (10168, 10172), (10187, 10200), (10246, 10252), (10301, 10312), (10349, 10366), (10418, 10424), (10470, 10524), (10535, 10543), (10628, 10671), (10713, 10725), (10746, 10777)]"
      ],
      "text/plain": [
       "<IPython.core.display.Markdown object>"
      ]
     },
     "metadata": {},
     "output_type": "display_data"
    },
    {
     "data": {
      "text/markdown": [
       "[(107, 115), (227, 244), (275, 304), (320, 330), (374, 399), (402, 411), (421, 458), (556, 564), (576, 633), (656, 721), (744, 849), (859, 896), (967, 999), (1034, 1048), (1150, 1183), (1421, 1449), (1488, 1537), (1559, 1563), (1588, 1633), (1678, 1715), (1762, 1781), (1827, 1833), (1837, 1845), (1914, 1937), (1966, 1971), (2027, 2046), (2186, 2199), (2370, 2433), (2451, 2455), (2462, 2472), (2710, 2731), (2787, 2795), (2926, 2931), (3053, 3058), (3079, 3095), (3114, 3122), (3138, 3266), (3304, 3414), (3420, 3592), (3608, 4020), (4039, 4118), (4175, 4432), (4444, 4495), (4779, 4836), (4859, 5007), (5079, 5114), (6529, 6535), (6548, 6568), (6573, 6581), (6713, 6986), (6993, 7135), (7139, 7172), (7220, 7341), (7373, 7615), (7620, 7715), (7719, 7728), (7732, 7751), (7765, 8134), (8150, 8243), (8305, 8450), (8462, 8466), (8486, 8658), (8688, 8704), (8719, 8745), (8750, 8756), (8858, 8878), (8891, 8899), (8922, 9039), (9052, 9084), (9103, 9161), (9182, 9302), (9323, 9352), (9406, 9427), (9598, 9622), (9653, 9658), (9667, 9674), (9681, 9692), (9720, 9753), (9811, 9815), (9822, 9849), (9853, 9902), (9980, 9986), (10126, 10134), (10168, 10172), (10187, 10200), (10246, 10252), (10301, 10312), (10349, 10366), (10418, 10424), (10470, 10524), (10535, 10543), (10628, 10671), (10713, 10725), (10746, 10777)]"
      ],
      "text/plain": [
       "<IPython.core.display.Markdown object>"
      ]
     },
     "metadata": {},
     "output_type": "display_data"
    },
    {
     "data": {
      "text/markdown": [
       "[(107, 115), (227, 244), (275, 304), (320, 330), (374, 399), (402, 411), (421, 458), (556, 564), (576, 633), (656, 721), (744, 849), (859, 896), (967, 999), (1034, 1048), (1150, 1183), (1421, 1449), (1488, 1537), (1559, 1563), (1588, 1633), (1678, 1715), (1762, 1781), (1827, 1833), (1837, 1845), (1914, 1937), (1966, 1971), (2027, 2046), (2186, 2199), (2370, 2433), (2451, 2455), (2462, 2472), (2710, 2731), (2787, 2795), (2926, 2931), (3053, 3058), (3079, 3095), (3114, 3122), (3138, 3266), (3304, 3414), (3420, 3592), (3608, 4020), (4039, 4118), (4175, 4432), (4444, 4495), (4779, 4836), (4859, 5007), (5079, 5114), (6529, 6535), (6548, 6568), (6573, 6581), (6713, 6986), (6993, 7135), (7139, 7172), (7220, 7341), (7373, 7615), (7620, 7715), (7719, 7728), (7732, 7751), (7765, 8134), (8150, 8243), (8305, 8450), (8462, 8466), (8486, 8658), (8688, 8704), (8719, 8745), (8750, 8756), (8858, 8878), (8891, 8899), (8922, 9039), (9052, 9084), (9103, 9161), (9182, 9302), (9323, 9352), (9406, 9427), (9598, 9622), (9653, 9658), (9667, 9674), (9681, 9692), (9720, 9753), (9811, 9815), (9822, 9849), (9853, 9902), (9980, 9986), (10126, 10134), (10168, 10172), (10187, 10200), (10246, 10252), (10301, 10312), (10349, 10366), (10418, 10424), (10470, 10524), (10535, 10543), (10628, 10671), (10713, 10725), (10746, 10777)]"
      ],
      "text/plain": [
       "<IPython.core.display.Markdown object>"
      ]
     },
     "metadata": {},
     "output_type": "display_data"
    },
    {
     "data": {
      "text/markdown": [
       "[(107, 115), (227, 244), (275, 304), (320, 330), (374, 399), (402, 411), (421, 458), (556, 564), (576, 633), (656, 721), (744, 849), (859, 896), (967, 999), (1034, 1048), (1150, 1183), (1421, 1449), (1488, 1537), (1559, 1563), (1588, 1633), (1678, 1715), (1762, 1781), (1827, 1833), (1837, 1845), (1914, 1937), (1966, 1971), (2027, 2046), (2186, 2199), (2370, 2433), (2451, 2455), (2462, 2472), (2710, 2731), (2787, 2795), (2926, 2931), (3053, 3058), (3079, 3095), (3114, 3122), (3138, 3266), (3304, 3414), (3420, 3592), (3608, 4020), (4039, 4118), (4175, 4432), (4444, 4495), (4779, 4836), (4859, 5007), (5079, 5114), (6529, 6535), (6548, 6568), (6573, 6581), (6713, 6986), (6993, 7135), (7139, 7172), (7220, 7341), (7373, 7615), (7620, 7715), (7719, 7728), (7732, 7751), (7765, 8134), (8150, 8243), (8305, 8450), (8462, 8466), (8486, 8658), (8688, 8704), (8719, 8745), (8750, 8756), (8858, 8878), (8891, 8899), (8922, 9039), (9052, 9084), (9103, 9161), (9182, 9302), (9323, 9352), (9406, 9427), (9598, 9622), (9653, 9658), (9667, 9674), (9681, 9692), (9720, 9753), (9811, 9815), (9822, 9849), (9853, 9902), (9980, 9986), (10126, 10134), (10168, 10172), (10187, 10200), (10246, 10252), (10301, 10312), (10349, 10366), (10418, 10424), (10470, 10524), (10535, 10543), (10628, 10671), (10713, 10725), (10746, 10777)]"
      ],
      "text/plain": [
       "<IPython.core.display.Markdown object>"
      ]
     },
     "metadata": {},
     "output_type": "display_data"
    },
    {
     "data": {
      "text/markdown": [
       "[(107, 115), (227, 244), (275, 304), (320, 330), (374, 399), (402, 411), (421, 458), (556, 564), (576, 633), (656, 721), (744, 849), (859, 896), (967, 999), (1034, 1048), (1150, 1183), (1421, 1449), (1488, 1537), (1559, 1563), (1588, 1633), (1678, 1715), (1762, 1781), (1827, 1833), (1837, 1845), (1914, 1937), (1966, 1971), (2027, 2046), (2186, 2199), (2370, 2433), (2451, 2455), (2462, 2472), (2710, 2731), (2787, 2795), (2926, 2931), (3053, 3058), (3079, 3095), (3114, 3122), (3138, 3266), (3304, 3414), (3420, 3592), (3608, 4020), (4039, 4118), (4175, 4432), (4444, 4495), (4779, 4836), (4859, 5007), (5079, 5114), (6529, 6535), (6548, 6568), (6573, 6581), (6713, 6986), (6993, 7135), (7139, 7172), (7220, 7341), (7373, 7615), (7620, 7715), (7719, 7728), (7732, 7751), (7765, 8134), (8150, 8243), (8305, 8450), (8462, 8466), (8486, 8658), (8688, 8704), (8719, 8745), (8750, 8756), (8858, 8878), (8891, 8899), (8922, 9039), (9052, 9084), (9103, 9161), (9182, 9302), (9323, 9352), (9406, 9427), (9598, 9622), (9653, 9658), (9667, 9674), (9681, 9692), (9720, 9753), (9811, 9815), (9822, 9849), (9853, 9902), (9980, 9986), (10126, 10134), (10168, 10172), (10187, 10200), (10246, 10252), (10301, 10312), (10349, 10366), (10418, 10424), (10470, 10524), (10535, 10543), (10628, 10671), (10713, 10725), (10746, 10777)]"
      ],
      "text/plain": [
       "<IPython.core.display.Markdown object>"
      ]
     },
     "metadata": {},
     "output_type": "display_data"
    },
    {
     "data": {
      "text/markdown": [
       "[(107, 115), (227, 244), (275, 304), (320, 330), (374, 399), (402, 411), (421, 458), (556, 564), (576, 633), (656, 721), (744, 849), (859, 896), (967, 999), (1034, 1048), (1150, 1183), (1421, 1449), (1488, 1537), (1559, 1563), (1588, 1633), (1678, 1715), (1762, 1781), (1827, 1833), (1837, 1845), (1914, 1937), (1966, 1971), (2027, 2046), (2186, 2199), (2370, 2433), (2451, 2455), (2462, 2472), (2710, 2731), (2787, 2795), (2926, 2931), (3053, 3058), (3079, 3095), (3114, 3122), (3138, 3266), (3304, 3414), (3420, 3592), (3608, 4020), (4039, 4118), (4175, 4432), (4444, 4495), (4779, 4836), (4859, 5007), (5079, 5114), (6529, 6535), (6548, 6568), (6573, 6581), (6713, 6986), (6993, 7135), (7139, 7172), (7220, 7341), (7373, 7615), (7620, 7715), (7719, 7728), (7732, 7751), (7765, 8134), (8150, 8243), (8305, 8450), (8462, 8466), (8486, 8658), (8688, 8704), (8719, 8745), (8750, 8756), (8858, 8878), (8891, 8899), (8922, 9039), (9052, 9084), (9103, 9161), (9182, 9302), (9323, 9352), (9406, 9427), (9598, 9622), (9653, 9658), (9667, 9674), (9681, 9692), (9720, 9753), (9811, 9815), (9822, 9849), (9853, 9902), (9980, 9986), (10126, 10134), (10168, 10172), (10187, 10200), (10246, 10252), (10301, 10312), (10349, 10366), (10418, 10424), (10470, 10524), (10535, 10543), (10628, 10671), (10713, 10725), (10746, 10777)]"
      ],
      "text/plain": [
       "<IPython.core.display.Markdown object>"
      ]
     },
     "metadata": {},
     "output_type": "display_data"
    },
    {
     "data": {
      "text/markdown": [
       "[(107, 115), (227, 244), (275, 304), (320, 330), (374, 399), (402, 411), (421, 458), (556, 564), (576, 633), (656, 721), (744, 849), (859, 896), (967, 999), (1034, 1048), (1150, 1183), (1421, 1449), (1488, 1537), (1559, 1563), (1588, 1633), (1678, 1715), (1762, 1781), (1827, 1833), (1837, 1845), (1914, 1937), (1966, 1971), (2027, 2046), (2186, 2199), (2370, 2433), (2451, 2455), (2462, 2472), (2710, 2731), (2787, 2795), (2926, 2931), (3053, 3058), (3079, 3095), (3114, 3122), (3138, 3266), (3304, 3414), (3420, 3592), (3608, 4020), (4039, 4118), (4175, 4432), (4444, 4495), (4779, 4836), (4859, 5007), (5079, 5114), (6529, 6535), (6548, 6568), (6573, 6581), (6713, 6986), (6993, 7135), (7139, 7172), (7220, 7341), (7373, 7615), (7620, 7715), (7719, 7728), (7732, 7751), (7765, 8134), (8150, 8243), (8305, 8450), (8462, 8466), (8486, 8658), (8688, 8704), (8719, 8745), (8750, 8756), (8858, 8878), (8891, 8899), (8922, 9039), (9052, 9084), (9103, 9161), (9182, 9302), (9323, 9352), (9406, 9427), (9598, 9622), (9653, 9658), (9667, 9674), (9681, 9692), (9720, 9753), (9811, 9815), (9822, 9849), (9853, 9902), (9980, 9986), (10126, 10134), (10168, 10172), (10187, 10200), (10246, 10252), (10301, 10312), (10349, 10366), (10418, 10424), (10470, 10524), (10535, 10543), (10628, 10671), (10713, 10725), (10746, 10777)]"
      ],
      "text/plain": [
       "<IPython.core.display.Markdown object>"
      ]
     },
     "metadata": {},
     "output_type": "display_data"
    },
    {
     "data": {
      "text/markdown": [
       "[(107, 115), (227, 244), (275, 304), (320, 330), (374, 399), (402, 411), (421, 458), (556, 564), (576, 633), (656, 721), (744, 849), (859, 896), (967, 999), (1034, 1048), (1150, 1183), (1421, 1449), (1488, 1537), (1559, 1563), (1588, 1633), (1678, 1715), (1762, 1781), (1827, 1833), (1837, 1845), (1914, 1937), (1966, 1971), (2027, 2046), (2186, 2199), (2370, 2433), (2451, 2455), (2462, 2472), (2710, 2731), (2787, 2795), (2926, 2931), (3053, 3058), (3079, 3095), (3114, 3122), (3138, 3266), (3304, 3414), (3420, 3592), (3608, 4020), (4039, 4118), (4175, 4432), (4444, 4495), (4779, 4836), (4859, 5007), (5079, 5114), (6529, 6535), (6548, 6568), (6573, 6581), (6713, 6986), (6993, 7135), (7139, 7172), (7220, 7341), (7373, 7615), (7620, 7715), (7719, 7728), (7732, 7751), (7765, 8134), (8150, 8243), (8305, 8450), (8462, 8466), (8486, 8658), (8688, 8704), (8719, 8745), (8750, 8756), (8858, 8878), (8891, 8899), (8922, 9039), (9052, 9084), (9103, 9161), (9182, 9302), (9323, 9352), (9406, 9427), (9598, 9622), (9653, 9658), (9667, 9674), (9681, 9692), (9720, 9753), (9811, 9815), (9822, 9849), (9853, 9902), (9980, 9986), (10126, 10134), (10168, 10172), (10187, 10200), (10246, 10252), (10301, 10312), (10349, 10366), (10418, 10424), (10470, 10524), (10535, 10543), (10628, 10671), (10713, 10725), (10746, 10777)]"
      ],
      "text/plain": [
       "<IPython.core.display.Markdown object>"
      ]
     },
     "metadata": {},
     "output_type": "display_data"
    },
    {
     "data": {
      "text/markdown": [
       "[(107, 115), (227, 244), (275, 304), (320, 330), (374, 399), (402, 411), (421, 458), (556, 564), (576, 633), (656, 721), (744, 849), (859, 896), (967, 999), (1034, 1048), (1150, 1183), (1421, 1449), (1488, 1537), (1559, 1563), (1588, 1633), (1678, 1715), (1762, 1781), (1827, 1833), (1837, 1845), (1914, 1937), (1966, 1971), (2027, 2046), (2186, 2199), (2370, 2433), (2451, 2455), (2462, 2472), (2710, 2731), (2787, 2795), (2926, 2931), (3053, 3058), (3079, 3095), (3114, 3122), (3138, 3266), (3304, 3414), (3420, 3592), (3608, 4020), (4039, 4118), (4175, 4432), (4444, 4495), (4779, 4836), (4859, 5007), (5079, 5114), (6529, 6535), (6548, 6568), (6573, 6581), (6713, 6986), (6993, 7135), (7139, 7172), (7220, 7341), (7373, 7615), (7620, 7715), (7719, 7728), (7732, 7751), (7765, 8134), (8150, 8243), (8305, 8450), (8462, 8466), (8486, 8658), (8688, 8704), (8719, 8745), (8750, 8756), (8858, 8878), (8891, 8899), (8922, 9039), (9052, 9084), (9103, 9161), (9182, 9302), (9323, 9352), (9406, 9427), (9598, 9622), (9653, 9658), (9667, 9674), (9681, 9692), (9720, 9753), (9811, 9815), (9822, 9849), (9853, 9902), (9980, 9986), (10126, 10134), (10168, 10172), (10187, 10200), (10246, 10252), (10301, 10312), (10349, 10366), (10418, 10424), (10470, 10524), (10535, 10543), (10628, 10671), (10713, 10725), (10746, 10777)]"
      ],
      "text/plain": [
       "<IPython.core.display.Markdown object>"
      ]
     },
     "metadata": {},
     "output_type": "display_data"
    },
    {
     "data": {
      "text/markdown": [
       "[(107, 115), (227, 244), (275, 304), (320, 330), (374, 399), (402, 411), (421, 458), (556, 564), (576, 633), (656, 721), (744, 849), (859, 896), (967, 999), (1034, 1048), (1150, 1183), (1421, 1449), (1488, 1537), (1559, 1563), (1588, 1633), (1678, 1715), (1762, 1781), (1827, 1833), (1837, 1845), (1914, 1937), (1966, 1971), (2027, 2046), (2186, 2199), (2370, 2433), (2451, 2455), (2462, 2472), (2710, 2731), (2787, 2795), (2926, 2931), (3053, 3058), (3079, 3095), (3114, 3122), (3138, 3266), (3304, 3414), (3420, 3592), (3608, 4020), (4039, 4118), (4175, 4432), (4444, 4495), (4779, 4836), (4859, 5007), (5079, 5114), (6529, 6535), (6548, 6568), (6573, 6581), (6713, 6986), (6993, 7135), (7139, 7172), (7220, 7341), (7373, 7615), (7620, 7715), (7719, 7728), (7732, 7751), (7765, 8134), (8150, 8243), (8305, 8450), (8462, 8466), (8486, 8658), (8688, 8704), (8719, 8745), (8750, 8756), (8858, 8878), (8891, 8899), (8922, 9039), (9052, 9084), (9103, 9161), (9182, 9302), (9323, 9352), (9406, 9427), (9598, 9622), (9653, 9658), (9667, 9674), (9681, 9692), (9720, 9753), (9811, 9815), (9822, 9849), (9853, 9902), (9980, 9986), (10126, 10134), (10168, 10172), (10187, 10200), (10246, 10252), (10301, 10312), (10349, 10366), (10418, 10424), (10470, 10524), (10535, 10543), (10628, 10671), (10713, 10725), (10746, 10777)]"
      ],
      "text/plain": [
       "<IPython.core.display.Markdown object>"
      ]
     },
     "metadata": {},
     "output_type": "display_data"
    },
    {
     "data": {
      "text/markdown": [
       "[(107, 115), (227, 244), (275, 304), (320, 330), (374, 399), (402, 411), (421, 458), (556, 564), (576, 633), (656, 721), (744, 849), (859, 896), (967, 999), (1034, 1048), (1150, 1183), (1421, 1449), (1488, 1537), (1559, 1563), (1588, 1633), (1678, 1715), (1762, 1781), (1827, 1833), (1837, 1845), (1914, 1937), (1966, 1971), (2027, 2046), (2186, 2199), (2370, 2433), (2451, 2455), (2462, 2472), (2710, 2731), (2787, 2795), (2926, 2931), (3053, 3058), (3079, 3095), (3114, 3122), (3138, 3266), (3304, 3414), (3420, 3592), (3608, 4020), (4039, 4118), (4175, 4432), (4444, 4495), (4779, 4836), (4859, 5007), (5079, 5114), (6529, 6535), (6548, 6568), (6573, 6581), (6713, 6986), (6993, 7135), (7139, 7172), (7220, 7341), (7373, 7615), (7620, 7715), (7719, 7728), (7732, 7751), (7765, 8134), (8150, 8243), (8305, 8450), (8462, 8466), (8486, 8658), (8688, 8704), (8719, 8745), (8750, 8756), (8858, 8878), (8891, 8899), (8922, 9039), (9052, 9084), (9103, 9161), (9182, 9302), (9323, 9352), (9406, 9427), (9598, 9622), (9653, 9658), (9667, 9674), (9681, 9692), (9720, 9753), (9811, 9815), (9822, 9849), (9853, 9902), (9980, 9986), (10126, 10134), (10168, 10172), (10187, 10200), (10246, 10252), (10301, 10312), (10349, 10366), (10418, 10424), (10470, 10524), (10535, 10543), (10628, 10671), (10713, 10725), (10746, 10777)]"
      ],
      "text/plain": [
       "<IPython.core.display.Markdown object>"
      ]
     },
     "metadata": {},
     "output_type": "display_data"
    },
    {
     "data": {
      "text/markdown": [
       "[(107, 115), (227, 244), (275, 304), (320, 330), (374, 399), (402, 411), (421, 458), (556, 564), (576, 633), (656, 721), (744, 849), (859, 896), (967, 999), (1034, 1048), (1150, 1183), (1421, 1449), (1488, 1537), (1559, 1563), (1588, 1633), (1678, 1715), (1762, 1781), (1827, 1833), (1837, 1845), (1914, 1937), (1966, 1971), (2027, 2046), (2186, 2199), (2370, 2433), (2451, 2455), (2462, 2472), (2710, 2731), (2787, 2795), (2926, 2931), (3053, 3058), (3079, 3095), (3114, 3122), (3138, 3266), (3304, 3414), (3420, 3592), (3608, 4020), (4039, 4118), (4175, 4432), (4444, 4495), (4779, 4836), (4859, 5007), (5079, 5114), (6529, 6535), (6548, 6568), (6573, 6581), (6713, 6986), (6993, 7135), (7139, 7172), (7220, 7341), (7373, 7615), (7620, 7715), (7719, 7728), (7732, 7751), (7765, 8134), (8150, 8243), (8305, 8450), (8462, 8466), (8486, 8658), (8688, 8704), (8719, 8745), (8750, 8756), (8858, 8878), (8891, 8899), (8922, 9039), (9052, 9084), (9103, 9161), (9182, 9302), (9323, 9352), (9406, 9427), (9598, 9622), (9653, 9658), (9667, 9674), (9681, 9692), (9720, 9753), (9811, 9815), (9822, 9849), (9853, 9902), (9980, 9986), (10126, 10134), (10168, 10172), (10187, 10200), (10246, 10252), (10301, 10312), (10349, 10366), (10418, 10424), (10470, 10524), (10535, 10543), (10628, 10671), (10713, 10725), (10746, 10777)]"
      ],
      "text/plain": [
       "<IPython.core.display.Markdown object>"
      ]
     },
     "metadata": {},
     "output_type": "display_data"
    },
    {
     "data": {
      "text/markdown": [
       "[(107, 115), (227, 244), (275, 304), (320, 330), (374, 399), (402, 411), (421, 458), (556, 564), (576, 633), (656, 721), (744, 849), (859, 896), (967, 999), (1034, 1048), (1150, 1183), (1421, 1449), (1488, 1537), (1559, 1563), (1588, 1633), (1678, 1715), (1762, 1781), (1827, 1833), (1837, 1845), (1914, 1937), (1966, 1971), (2027, 2046), (2186, 2199), (2370, 2433), (2451, 2455), (2462, 2472), (2710, 2731), (2787, 2795), (2926, 2931), (3053, 3058), (3079, 3095), (3114, 3122), (3138, 3266), (3304, 3414), (3420, 3592), (3608, 4020), (4039, 4118), (4175, 4432), (4444, 4495), (4779, 4836), (4859, 5007), (5079, 5114), (6529, 6535), (6548, 6568), (6573, 6581), (6713, 6986), (6993, 7135), (7139, 7172), (7220, 7341), (7373, 7615), (7620, 7715), (7719, 7728), (7732, 7751), (7765, 8134), (8150, 8243), (8305, 8450), (8462, 8466), (8486, 8658), (8688, 8704), (8719, 8745), (8750, 8756), (8858, 8878), (8891, 8899), (8922, 9039), (9052, 9084), (9103, 9161), (9182, 9302), (9323, 9352), (9406, 9427), (9598, 9622), (9653, 9658), (9667, 9674), (9681, 9692), (9720, 9753), (9811, 9815), (9822, 9849), (9853, 9902), (9980, 9986), (10126, 10134), (10168, 10172), (10187, 10200), (10246, 10252), (10301, 10312), (10349, 10366), (10418, 10424), (10470, 10524), (10535, 10543), (10628, 10671), (10713, 10725), (10746, 10777)]"
      ],
      "text/plain": [
       "<IPython.core.display.Markdown object>"
      ]
     },
     "metadata": {},
     "output_type": "display_data"
    },
    {
     "data": {
      "text/markdown": [
       "[(107, 115), (227, 244), (275, 304), (320, 330), (374, 399), (402, 411), (421, 458), (556, 564), (576, 633), (656, 721), (744, 849), (859, 896), (967, 999), (1034, 1048), (1150, 1183), (1421, 1449), (1488, 1537), (1559, 1563), (1588, 1633), (1678, 1715), (1762, 1781), (1827, 1833), (1837, 1845), (1914, 1937), (1966, 1971), (2027, 2046), (2186, 2199), (2370, 2433), (2451, 2455), (2462, 2472), (2710, 2731), (2787, 2795), (2926, 2931), (3053, 3058), (3079, 3095), (3114, 3122), (3138, 3266), (3304, 3414), (3420, 3592), (3608, 4020), (4039, 4118), (4175, 4432), (4444, 4495), (4779, 4836), (4859, 5007), (5079, 5114), (6529, 6535), (6548, 6568), (6573, 6581), (6713, 6986), (6993, 7135), (7139, 7172), (7220, 7341), (7373, 7615), (7620, 7715), (7719, 7728), (7732, 7751), (7765, 8134), (8150, 8243), (8305, 8450), (8462, 8466), (8486, 8658), (8688, 8704), (8719, 8745), (8750, 8756), (8858, 8878), (8891, 8899), (8922, 9039), (9052, 9084), (9103, 9161), (9182, 9302), (9323, 9352), (9406, 9427), (9598, 9622), (9653, 9658), (9667, 9674), (9681, 9692), (9720, 9753), (9811, 9815), (9822, 9849), (9853, 9902), (9980, 9986), (10126, 10134), (10168, 10172), (10187, 10200), (10246, 10252), (10301, 10312), (10349, 10366), (10418, 10424), (10470, 10524), (10535, 10543), (10628, 10671), (10713, 10725), (10746, 10777)]"
      ],
      "text/plain": [
       "<IPython.core.display.Markdown object>"
      ]
     },
     "metadata": {},
     "output_type": "display_data"
    },
    {
     "data": {
      "text/markdown": [
       "[(107, 115), (227, 244), (275, 304), (320, 330), (374, 399), (402, 411), (421, 458), (556, 564), (576, 633), (656, 721), (744, 849), (859, 896), (967, 999), (1034, 1048), (1150, 1183), (1421, 1449), (1488, 1537), (1559, 1563), (1588, 1633), (1678, 1715), (1762, 1781), (1827, 1833), (1837, 1845), (1914, 1937), (1966, 1971), (2027, 2046), (2186, 2199), (2370, 2433), (2451, 2455), (2462, 2472), (2710, 2731), (2787, 2795), (2926, 2931), (3053, 3058), (3079, 3095), (3114, 3122), (3138, 3266), (3304, 3414), (3420, 3592), (3608, 4020), (4039, 4118), (4175, 4432), (4444, 4495), (4779, 4836), (4859, 5007), (5079, 5114), (6529, 6535), (6548, 6568), (6573, 6581), (6713, 6986), (6993, 7135), (7139, 7172), (7220, 7341), (7373, 7615), (7620, 7715), (7719, 7728), (7732, 7751), (7765, 8134), (8150, 8243), (8305, 8450), (8462, 8466), (8486, 8658), (8688, 8704), (8719, 8745), (8750, 8756), (8858, 8878), (8891, 8899), (8922, 9039), (9052, 9084), (9103, 9161), (9182, 9302), (9323, 9352), (9406, 9427), (9598, 9622), (9653, 9658), (9667, 9674), (9681, 9692), (9720, 9753), (9811, 9815), (9822, 9849), (9853, 9902), (9980, 9986), (10126, 10134), (10168, 10172), (10187, 10200), (10246, 10252), (10301, 10312), (10349, 10366), (10418, 10424), (10470, 10524), (10535, 10543), (10628, 10671), (10713, 10725), (10746, 10777)]"
      ],
      "text/plain": [
       "<IPython.core.display.Markdown object>"
      ]
     },
     "metadata": {},
     "output_type": "display_data"
    },
    {
     "data": {
      "text/markdown": [
       "[(107, 115), (227, 244), (275, 304), (320, 330), (374, 399), (402, 411), (421, 458), (556, 564), (576, 633), (656, 721), (744, 849), (859, 896), (967, 999), (1034, 1048), (1150, 1183), (1421, 1449), (1488, 1537), (1559, 1563), (1588, 1633), (1678, 1715), (1762, 1781), (1827, 1833), (1837, 1845), (1914, 1937), (1966, 1971), (2027, 2046), (2186, 2199), (2370, 2433), (2451, 2455), (2462, 2472), (2710, 2731), (2787, 2795), (2926, 2931), (3053, 3058), (3079, 3095), (3114, 3122), (3138, 3266), (3304, 3414), (3420, 3592), (3608, 4020), (4039, 4118), (4175, 4432), (4444, 4495), (4779, 4836), (4859, 5007), (5079, 5114), (6529, 6535), (6548, 6568), (6573, 6581), (6713, 6986), (6993, 7135), (7139, 7172), (7220, 7341), (7373, 7615), (7620, 7715), (7719, 7728), (7732, 7751), (7765, 8134), (8150, 8243), (8305, 8450), (8462, 8466), (8486, 8658), (8688, 8704), (8719, 8745), (8750, 8756), (8858, 8878), (8891, 8899), (8922, 9039), (9052, 9084), (9103, 9161), (9182, 9302), (9323, 9352), (9406, 9427), (9598, 9622), (9653, 9658), (9667, 9674), (9681, 9692), (9720, 9753), (9811, 9815), (9822, 9849), (9853, 9902), (9980, 9986), (10126, 10134), (10168, 10172), (10187, 10200), (10246, 10252), (10301, 10312), (10349, 10366), (10418, 10424), (10470, 10524), (10535, 10543), (10628, 10671), (10713, 10725), (10746, 10777)]"
      ],
      "text/plain": [
       "<IPython.core.display.Markdown object>"
      ]
     },
     "metadata": {},
     "output_type": "display_data"
    },
    {
     "data": {
      "text/markdown": [
       "[(107, 115), (227, 244), (275, 304), (320, 330), (374, 399), (402, 411), (421, 458), (556, 564), (576, 633), (656, 721), (744, 849), (859, 896), (967, 999), (1034, 1048), (1150, 1183), (1421, 1449), (1488, 1537), (1559, 1563), (1588, 1633), (1678, 1715), (1762, 1781), (1827, 1833), (1837, 1845), (1914, 1937), (1966, 1971), (2027, 2046), (2186, 2199), (2370, 2433), (2451, 2455), (2462, 2472), (2710, 2731), (2787, 2795), (2926, 2931), (3053, 3058), (3079, 3095), (3114, 3122), (3138, 3266), (3304, 3414), (3420, 3592), (3608, 4020), (4039, 4118), (4175, 4432), (4444, 4495), (4779, 4836), (4859, 5007), (5079, 5114), (6529, 6535), (6548, 6568), (6573, 6581), (6713, 6986), (6993, 7135), (7139, 7172), (7220, 7341), (7373, 7615), (7620, 7715), (7719, 7728), (7732, 7751), (7765, 8134), (8150, 8243), (8305, 8450), (8462, 8466), (8486, 8658), (8688, 8704), (8719, 8745), (8750, 8756), (8858, 8878), (8891, 8899), (8922, 9039), (9052, 9084), (9103, 9161), (9182, 9302), (9323, 9352), (9406, 9427), (9598, 9622), (9653, 9658), (9667, 9674), (9681, 9692), (9720, 9753), (9811, 9815), (9822, 9849), (9853, 9902), (9980, 9986), (10126, 10134), (10168, 10172), (10187, 10200), (10246, 10252), (10301, 10312), (10349, 10366), (10418, 10424), (10470, 10524), (10535, 10543), (10628, 10671), (10713, 10725), (10746, 10777)]"
      ],
      "text/plain": [
       "<IPython.core.display.Markdown object>"
      ]
     },
     "metadata": {},
     "output_type": "display_data"
    },
    {
     "data": {
      "text/markdown": [
       "[(107, 115), (227, 244), (275, 304), (320, 330), (374, 399), (402, 411), (421, 458), (556, 564), (576, 633), (656, 721), (744, 849), (859, 896), (967, 999), (1034, 1048), (1150, 1183), (1421, 1449), (1488, 1537), (1559, 1563), (1588, 1633), (1678, 1715), (1762, 1781), (1827, 1833), (1837, 1845), (1914, 1937), (1966, 1971), (2027, 2046), (2186, 2199), (2370, 2433), (2451, 2455), (2462, 2472), (2710, 2731), (2787, 2795), (2926, 2931), (3053, 3058), (3079, 3095), (3114, 3122), (3138, 3266), (3304, 3414), (3420, 3592), (3608, 4020), (4039, 4118), (4175, 4432), (4444, 4495), (4779, 4836), (4859, 5007), (5079, 5114), (6529, 6535), (6548, 6568), (6573, 6581), (6713, 6986), (6993, 7135), (7139, 7172), (7220, 7341), (7373, 7615), (7620, 7715), (7719, 7728), (7732, 7751), (7765, 8134), (8150, 8243), (8305, 8450), (8462, 8466), (8486, 8658), (8688, 8704), (8719, 8745), (8750, 8756), (8858, 8878), (8891, 8899), (8922, 9039), (9052, 9084), (9103, 9161), (9182, 9302), (9323, 9352), (9406, 9427), (9598, 9622), (9653, 9658), (9667, 9674), (9681, 9692), (9720, 9753), (9811, 9815), (9822, 9849), (9853, 9902), (9980, 9986), (10126, 10134), (10168, 10172), (10187, 10200), (10246, 10252), (10301, 10312), (10349, 10366), (10418, 10424), (10470, 10524), (10535, 10543), (10628, 10671), (10713, 10725), (10746, 10777)]"
      ],
      "text/plain": [
       "<IPython.core.display.Markdown object>"
      ]
     },
     "metadata": {},
     "output_type": "display_data"
    },
    {
     "data": {
      "text/markdown": [
       "[(107, 115), (227, 244), (275, 304), (320, 330), (374, 399), (402, 411), (421, 458), (556, 564), (576, 633), (656, 721), (744, 849), (859, 896), (967, 999), (1034, 1048), (1150, 1183), (1421, 1449), (1488, 1537), (1559, 1563), (1588, 1633), (1678, 1715), (1762, 1781), (1827, 1833), (1837, 1845), (1914, 1937), (1966, 1971), (2027, 2046), (2186, 2199), (2370, 2433), (2451, 2455), (2462, 2472), (2710, 2731), (2787, 2795), (2926, 2931), (3053, 3058), (3079, 3095), (3114, 3122), (3138, 3266), (3304, 3414), (3420, 3592), (3608, 4020), (4039, 4118), (4175, 4432), (4444, 4495), (4779, 4836), (4859, 5007), (5079, 5114), (6529, 6535), (6548, 6568), (6573, 6581), (6713, 6986), (6993, 7135), (7139, 7172), (7220, 7341), (7373, 7615), (7620, 7715), (7719, 7728), (7732, 7751), (7765, 8134), (8150, 8243), (8305, 8450), (8462, 8466), (8486, 8658), (8688, 8704), (8719, 8745), (8750, 8756), (8858, 8878), (8891, 8899), (8922, 9039), (9052, 9084), (9103, 9161), (9182, 9302), (9323, 9352), (9406, 9427), (9598, 9622), (9653, 9658), (9667, 9674), (9681, 9692), (9720, 9753), (9811, 9815), (9822, 9849), (9853, 9902), (9980, 9986), (10126, 10134), (10168, 10172), (10187, 10200), (10246, 10252), (10301, 10312), (10349, 10366), (10418, 10424), (10470, 10524), (10535, 10543), (10628, 10671), (10713, 10725), (10746, 10777)]"
      ],
      "text/plain": [
       "<IPython.core.display.Markdown object>"
      ]
     },
     "metadata": {},
     "output_type": "display_data"
    },
    {
     "data": {
      "text/markdown": [
       "[(107, 115), (227, 244), (275, 304), (320, 330), (374, 399), (402, 411), (421, 458), (556, 564), (576, 633), (656, 721), (744, 849), (859, 896), (967, 999), (1034, 1048), (1150, 1183), (1421, 1449), (1488, 1537), (1559, 1563), (1588, 1633), (1678, 1715), (1762, 1781), (1827, 1833), (1837, 1845), (1914, 1937), (1966, 1971), (2027, 2046), (2186, 2199), (2370, 2433), (2451, 2455), (2462, 2472), (2710, 2731), (2787, 2795), (2926, 2931), (3053, 3058), (3079, 3095), (3114, 3122), (3138, 3266), (3304, 3414), (3420, 3592), (3608, 4020), (4039, 4118), (4175, 4432), (4444, 4495), (4779, 4836), (4859, 5007), (5079, 5114), (6529, 6535), (6548, 6568), (6573, 6581), (6713, 6986), (6993, 7135), (7139, 7172), (7220, 7341), (7373, 7615), (7620, 7715), (7719, 7728), (7732, 7751), (7765, 8134), (8150, 8243), (8305, 8450), (8462, 8466), (8486, 8658), (8688, 8704), (8719, 8745), (8750, 8756), (8858, 8878), (8891, 8899), (8922, 9039), (9052, 9084), (9103, 9161), (9182, 9302), (9323, 9352), (9406, 9427), (9598, 9622), (9653, 9658), (9667, 9674), (9681, 9692), (9720, 9753), (9811, 9815), (9822, 9849), (9853, 9902), (9980, 9986), (10126, 10134), (10168, 10172), (10187, 10200), (10246, 10252), (10301, 10312), (10349, 10366), (10418, 10424), (10470, 10524), (10535, 10543), (10628, 10671), (10713, 10725), (10746, 10777)]"
      ],
      "text/plain": [
       "<IPython.core.display.Markdown object>"
      ]
     },
     "metadata": {},
     "output_type": "display_data"
    },
    {
     "data": {
      "text/markdown": [
       "[(107, 115), (227, 244), (275, 304), (320, 330), (374, 399), (402, 411), (421, 458), (556, 564), (576, 633), (656, 721), (744, 849), (859, 896), (967, 999), (1034, 1048), (1150, 1183), (1421, 1449), (1488, 1537), (1559, 1563), (1588, 1633), (1678, 1715), (1762, 1781), (1827, 1833), (1837, 1845), (1914, 1937), (1966, 1971), (2027, 2046), (2186, 2199), (2370, 2433), (2451, 2455), (2462, 2472), (2710, 2731), (2787, 2795), (2926, 2931), (3053, 3058), (3079, 3095), (3114, 3122), (3138, 3266), (3304, 3414), (3420, 3592), (3608, 4020), (4039, 4118), (4175, 4432), (4444, 4495), (4779, 4836), (4859, 5007), (5079, 5114), (6529, 6535), (6548, 6568), (6573, 6581), (6713, 6986), (6993, 7135), (7139, 7172), (7220, 7341), (7373, 7615), (7620, 7715), (7719, 7728), (7732, 7751), (7765, 8134), (8150, 8243), (8305, 8450), (8462, 8466), (8486, 8658), (8688, 8704), (8719, 8745), (8750, 8756), (8858, 8878), (8891, 8899), (8922, 9039), (9052, 9084), (9103, 9161), (9182, 9302), (9323, 9352), (9406, 9427), (9598, 9622), (9653, 9658), (9667, 9674), (9681, 9692), (9720, 9753), (9811, 9815), (9822, 9849), (9853, 9902), (9980, 9986), (10126, 10134), (10168, 10172), (10187, 10200), (10246, 10252), (10301, 10312), (10349, 10366), (10418, 10424), (10470, 10524), (10535, 10543), (10628, 10671), (10713, 10725), (10746, 10777)]"
      ],
      "text/plain": [
       "<IPython.core.display.Markdown object>"
      ]
     },
     "metadata": {},
     "output_type": "display_data"
    },
    {
     "data": {
      "text/markdown": [
       "[(107, 115), (227, 244), (275, 304), (320, 330), (374, 399), (402, 411), (421, 458), (556, 564), (576, 633), (656, 721), (744, 849), (859, 896), (967, 999), (1034, 1048), (1150, 1183), (1421, 1449), (1488, 1537), (1559, 1563), (1588, 1633), (1678, 1715), (1762, 1781), (1827, 1833), (1837, 1845), (1914, 1937), (1966, 1971), (2027, 2046), (2186, 2199), (2370, 2433), (2451, 2455), (2462, 2472), (2710, 2731), (2787, 2795), (2926, 2931), (3053, 3058), (3079, 3095), (3114, 3122), (3138, 3266), (3304, 3414), (3420, 3592), (3608, 4020), (4039, 4118), (4175, 4432), (4444, 4495), (4779, 4836), (4859, 5007), (5079, 5114), (6529, 6535), (6548, 6568), (6573, 6581), (6713, 6986), (6993, 7135), (7139, 7172), (7220, 7341), (7373, 7615), (7620, 7715), (7719, 7728), (7732, 7751), (7765, 8134), (8150, 8243), (8305, 8450), (8462, 8466), (8486, 8658), (8688, 8704), (8719, 8745), (8750, 8756), (8858, 8878), (8891, 8899), (8922, 9039), (9052, 9084), (9103, 9161), (9182, 9302), (9323, 9352), (9406, 9427), (9598, 9622), (9653, 9658), (9667, 9674), (9681, 9692), (9720, 9753), (9811, 9815), (9822, 9849), (9853, 9902), (9980, 9986), (10126, 10134), (10168, 10172), (10187, 10200), (10246, 10252), (10301, 10312), (10349, 10366), (10418, 10424), (10470, 10524), (10535, 10543), (10628, 10671), (10713, 10725), (10746, 10777)]"
      ],
      "text/plain": [
       "<IPython.core.display.Markdown object>"
      ]
     },
     "metadata": {},
     "output_type": "display_data"
    },
    {
     "data": {
      "text/markdown": [
       "[(107, 115), (227, 244), (275, 304), (320, 330), (374, 399), (402, 411), (421, 458), (556, 564), (576, 633), (656, 721), (744, 849), (859, 896), (967, 999), (1034, 1048), (1150, 1183), (1421, 1449), (1488, 1537), (1559, 1563), (1588, 1633), (1678, 1715), (1762, 1781), (1827, 1833), (1837, 1845), (1914, 1937), (1966, 1971), (2027, 2046), (2186, 2199), (2370, 2433), (2451, 2455), (2462, 2472), (2710, 2731), (2787, 2795), (2926, 2931), (3053, 3058), (3079, 3095), (3114, 3122), (3138, 3266), (3304, 3414), (3420, 3592), (3608, 4020), (4039, 4118), (4175, 4432), (4444, 4495), (4779, 4836), (4859, 5007), (5079, 5114), (6529, 6535), (6548, 6568), (6573, 6581), (6713, 6986), (6993, 7135), (7139, 7172), (7220, 7341), (7373, 7615), (7620, 7715), (7719, 7728), (7732, 7751), (7765, 8134), (8150, 8243), (8305, 8450), (8462, 8466), (8486, 8658), (8688, 8704), (8719, 8745), (8750, 8756), (8858, 8878), (8891, 8899), (8922, 9039), (9052, 9084), (9103, 9161), (9182, 9302), (9323, 9352), (9406, 9427), (9598, 9622), (9653, 9658), (9667, 9674), (9681, 9692), (9720, 9753), (9811, 9815), (9822, 9849), (9853, 9902), (9980, 9986), (10126, 10134), (10168, 10172), (10187, 10200), (10246, 10252), (10301, 10312), (10349, 10366), (10418, 10424), (10470, 10524), (10535, 10543), (10628, 10671), (10713, 10725), (10746, 10777)]"
      ],
      "text/plain": [
       "<IPython.core.display.Markdown object>"
      ]
     },
     "metadata": {},
     "output_type": "display_data"
    },
    {
     "data": {
      "text/markdown": [
       "[(107, 115), (227, 244), (275, 304), (320, 330), (374, 399), (402, 411), (421, 458), (556, 564), (576, 633), (656, 721), (744, 849), (859, 896), (967, 999), (1034, 1048), (1150, 1183), (1421, 1449), (1488, 1537), (1559, 1563), (1588, 1633), (1678, 1715), (1762, 1781), (1827, 1833), (1837, 1845), (1914, 1937), (1966, 1971), (2027, 2046), (2186, 2199), (2370, 2433), (2451, 2455), (2462, 2472), (2710, 2731), (2787, 2795), (2926, 2931), (3053, 3058), (3079, 3095), (3114, 3122), (3138, 3266), (3304, 3414), (3420, 3592), (3608, 4020), (4039, 4118), (4175, 4432), (4444, 4495), (4779, 4836), (4859, 5007), (5079, 5114), (6529, 6535), (6548, 6568), (6573, 6581), (6713, 6986), (6993, 7135), (7139, 7172), (7220, 7341), (7373, 7615), (7620, 7715), (7719, 7728), (7732, 7751), (7765, 8134), (8150, 8243), (8305, 8450), (8462, 8466), (8486, 8658), (8688, 8704), (8719, 8745), (8750, 8756), (8858, 8878), (8891, 8899), (8922, 9039), (9052, 9084), (9103, 9161), (9182, 9302), (9323, 9352), (9406, 9427), (9598, 9622), (9653, 9658), (9667, 9674), (9681, 9692), (9720, 9753), (9811, 9815), (9822, 9849), (9853, 9902), (9980, 9986), (10126, 10134), (10168, 10172), (10187, 10200), (10246, 10252), (10301, 10312), (10349, 10366), (10418, 10424), (10470, 10524), (10535, 10543), (10628, 10671), (10713, 10725), (10746, 10777)]"
      ],
      "text/plain": [
       "<IPython.core.display.Markdown object>"
      ]
     },
     "metadata": {},
     "output_type": "display_data"
    },
    {
     "data": {
      "text/markdown": [
       "[(107, 115), (227, 244), (275, 304), (320, 330), (374, 399), (402, 411), (421, 458), (556, 564), (576, 633), (656, 721), (744, 849), (859, 896), (967, 999), (1034, 1048), (1150, 1183), (1421, 1449), (1488, 1537), (1559, 1563), (1588, 1633), (1678, 1715), (1762, 1781), (1827, 1833), (1837, 1845), (1914, 1937), (1966, 1971), (2027, 2046), (2186, 2199), (2370, 2433), (2451, 2455), (2462, 2472), (2710, 2731), (2787, 2795), (2926, 2931), (3053, 3058), (3079, 3095), (3114, 3122), (3138, 3266), (3304, 3414), (3420, 3592), (3608, 4020), (4039, 4118), (4175, 4432), (4444, 4495), (4779, 4836), (4859, 5007), (5079, 5114), (6529, 6535), (6548, 6568), (6573, 6581), (6713, 6986), (6993, 7135), (7139, 7172), (7220, 7341), (7373, 7615), (7620, 7715), (7719, 7728), (7732, 7751), (7765, 8134), (8150, 8243), (8305, 8450), (8462, 8466), (8486, 8658), (8688, 8704), (8719, 8745), (8750, 8756), (8858, 8878), (8891, 8899), (8922, 9039), (9052, 9084), (9103, 9161), (9182, 9302), (9323, 9352), (9406, 9427), (9598, 9622), (9653, 9658), (9667, 9674), (9681, 9692), (9720, 9753), (9811, 9815), (9822, 9849), (9853, 9902), (9980, 9986), (10126, 10134), (10168, 10172), (10187, 10200), (10246, 10252), (10301, 10312), (10349, 10366), (10418, 10424), (10470, 10524), (10535, 10543), (10628, 10671), (10713, 10725), (10746, 10777)]"
      ],
      "text/plain": [
       "<IPython.core.display.Markdown object>"
      ]
     },
     "metadata": {},
     "output_type": "display_data"
    },
    {
     "data": {
      "text/markdown": [
       "[(107, 115), (227, 244), (275, 304), (320, 330), (374, 399), (402, 411), (421, 458), (556, 564), (576, 633), (656, 721), (744, 849), (859, 896), (967, 999), (1034, 1048), (1150, 1183), (1421, 1449), (1488, 1537), (1559, 1563), (1588, 1633), (1678, 1715), (1762, 1781), (1827, 1833), (1837, 1845), (1914, 1937), (1966, 1971), (2027, 2046), (2186, 2199), (2370, 2433), (2451, 2455), (2462, 2472), (2710, 2731), (2787, 2795), (2926, 2931), (3053, 3058), (3079, 3095), (3114, 3122), (3138, 3266), (3304, 3414), (3420, 3592), (3608, 4020), (4039, 4118), (4175, 4432), (4444, 4495), (4779, 4836), (4859, 5007), (5079, 5114), (6529, 6535), (6548, 6568), (6573, 6581), (6713, 6986), (6993, 7135), (7139, 7172), (7220, 7341), (7373, 7615), (7620, 7715), (7719, 7728), (7732, 7751), (7765, 8134), (8150, 8243), (8305, 8450), (8462, 8466), (8486, 8658), (8688, 8704), (8719, 8745), (8750, 8756), (8858, 8878), (8891, 8899), (8922, 9039), (9052, 9084), (9103, 9161), (9182, 9302), (9323, 9352), (9406, 9427), (9598, 9622), (9653, 9658), (9667, 9674), (9681, 9692), (9720, 9753), (9811, 9815), (9822, 9849), (9853, 9902), (9980, 9986), (10126, 10134), (10168, 10172), (10187, 10200), (10246, 10252), (10301, 10312), (10349, 10366), (10418, 10424), (10470, 10524), (10535, 10543), (10628, 10671), (10713, 10725), (10746, 10777)]"
      ],
      "text/plain": [
       "<IPython.core.display.Markdown object>"
      ]
     },
     "metadata": {},
     "output_type": "display_data"
    },
    {
     "data": {
      "text/markdown": [
       "[(107, 115), (227, 244), (275, 304), (320, 330), (374, 399), (402, 411), (421, 458), (556, 564), (576, 633), (656, 721), (744, 849), (859, 896), (967, 999), (1034, 1048), (1150, 1183), (1421, 1449), (1488, 1537), (1559, 1563), (1588, 1633), (1678, 1715), (1762, 1781), (1827, 1833), (1837, 1845), (1914, 1937), (1966, 1971), (2027, 2046), (2186, 2199), (2370, 2433), (2451, 2455), (2462, 2472), (2710, 2731), (2787, 2795), (2926, 2931), (3053, 3058), (3079, 3095), (3114, 3122), (3138, 3266), (3304, 3414), (3420, 3592), (3608, 4020), (4039, 4118), (4175, 4432), (4444, 4495), (4779, 4836), (4859, 5007), (5079, 5114), (6529, 6535), (6548, 6568), (6573, 6581), (6713, 6986), (6993, 7135), (7139, 7172), (7220, 7341), (7373, 7615), (7620, 7715), (7719, 7728), (7732, 7751), (7765, 8134), (8150, 8243), (8305, 8450), (8462, 8466), (8486, 8658), (8688, 8704), (8719, 8745), (8750, 8756), (8858, 8878), (8891, 8899), (8922, 9039), (9052, 9084), (9103, 9161), (9182, 9302), (9323, 9352), (9406, 9427), (9598, 9622), (9653, 9658), (9667, 9674), (9681, 9692), (9720, 9753), (9811, 9815), (9822, 9849), (9853, 9902), (9980, 9986), (10126, 10134), (10168, 10172), (10187, 10200), (10246, 10252), (10301, 10312), (10349, 10366), (10418, 10424), (10470, 10524), (10535, 10543), (10628, 10671), (10713, 10725), (10746, 10777)]"
      ],
      "text/plain": [
       "<IPython.core.display.Markdown object>"
      ]
     },
     "metadata": {},
     "output_type": "display_data"
    },
    {
     "data": {
      "text/markdown": [
       "[(107, 115), (227, 244), (275, 304), (320, 330), (374, 399), (402, 411), (421, 458), (556, 564), (576, 633), (656, 721), (744, 849), (859, 896), (967, 999), (1034, 1048), (1150, 1183), (1421, 1449), (1488, 1537), (1559, 1563), (1588, 1633), (1678, 1715), (1762, 1781), (1827, 1833), (1837, 1845), (1914, 1937), (1966, 1971), (2027, 2046), (2186, 2199), (2370, 2433), (2451, 2455), (2462, 2472), (2710, 2731), (2787, 2795), (2926, 2931), (3053, 3058), (3079, 3095), (3114, 3122), (3138, 3266), (3304, 3414), (3420, 3592), (3608, 4020), (4039, 4118), (4175, 4432), (4444, 4495), (4779, 4836), (4859, 5007), (5079, 5114), (6529, 6535), (6548, 6568), (6573, 6581), (6713, 6986), (6993, 7135), (7139, 7172), (7220, 7341), (7373, 7615), (7620, 7715), (7719, 7728), (7732, 7751), (7765, 8134), (8150, 8243), (8305, 8450), (8462, 8466), (8486, 8658), (8688, 8704), (8719, 8745), (8750, 8756), (8858, 8878), (8891, 8899), (8922, 9039), (9052, 9084), (9103, 9161), (9182, 9302), (9323, 9352), (9406, 9427), (9598, 9622), (9653, 9658), (9667, 9674), (9681, 9692), (9720, 9753), (9811, 9815), (9822, 9849), (9853, 9902), (9980, 9986), (10126, 10134), (10168, 10172), (10187, 10200), (10246, 10252), (10301, 10312), (10349, 10366), (10418, 10424), (10470, 10524), (10535, 10543), (10628, 10671), (10713, 10725), (10746, 10777)]"
      ],
      "text/plain": [
       "<IPython.core.display.Markdown object>"
      ]
     },
     "metadata": {},
     "output_type": "display_data"
    },
    {
     "data": {
      "text/markdown": [
       "[(107, 115), (227, 244), (275, 304), (320, 330), (374, 399), (402, 411), (421, 458), (556, 564), (576, 633), (656, 721), (744, 849), (859, 896), (967, 999), (1034, 1048), (1150, 1183), (1421, 1449), (1488, 1537), (1559, 1563), (1588, 1633), (1678, 1715), (1762, 1781), (1827, 1833), (1837, 1845), (1914, 1937), (1966, 1971), (2027, 2046), (2186, 2199), (2370, 2433), (2451, 2455), (2462, 2472), (2710, 2731), (2787, 2795), (2926, 2931), (3053, 3058), (3079, 3095), (3114, 3122), (3138, 3266), (3304, 3414), (3420, 3592), (3608, 4020), (4039, 4118), (4175, 4432), (4444, 4495), (4779, 4836), (4859, 5007), (5079, 5114), (6529, 6535), (6548, 6568), (6573, 6581), (6713, 6986), (6993, 7135), (7139, 7172), (7220, 7341), (7373, 7615), (7620, 7715), (7719, 7728), (7732, 7751), (7765, 8134), (8150, 8243), (8305, 8450), (8462, 8466), (8486, 8658), (8688, 8704), (8719, 8745), (8750, 8756), (8858, 8878), (8891, 8899), (8922, 9039), (9052, 9084), (9103, 9161), (9182, 9302), (9323, 9352), (9406, 9427), (9598, 9622), (9653, 9658), (9667, 9674), (9681, 9692), (9720, 9753), (9811, 9815), (9822, 9849), (9853, 9902), (9980, 9986), (10126, 10134), (10168, 10172), (10187, 10200), (10246, 10252), (10301, 10312), (10349, 10366), (10418, 10424), (10470, 10524), (10535, 10543), (10628, 10671), (10713, 10725), (10746, 10777)]"
      ],
      "text/plain": [
       "<IPython.core.display.Markdown object>"
      ]
     },
     "metadata": {},
     "output_type": "display_data"
    },
    {
     "data": {
      "text/markdown": [
       "[(107, 115), (227, 244), (275, 304), (320, 330), (374, 399), (402, 411), (421, 458), (556, 564), (576, 633), (656, 721), (744, 849), (859, 896), (967, 999), (1034, 1048), (1150, 1183), (1421, 1449), (1488, 1537), (1559, 1563), (1588, 1633), (1678, 1715), (1762, 1781), (1827, 1833), (1837, 1845), (1914, 1937), (1966, 1971), (2027, 2046), (2186, 2199), (2370, 2433), (2451, 2455), (2462, 2472), (2710, 2731), (2787, 2795), (2926, 2931), (3053, 3058), (3079, 3095), (3114, 3122), (3138, 3266), (3304, 3414), (3420, 3592), (3608, 4020), (4039, 4118), (4175, 4432), (4444, 4495), (4779, 4836), (4859, 5007), (5079, 5114), (6529, 6535), (6548, 6568), (6573, 6581), (6713, 6986), (6993, 7135), (7139, 7172), (7220, 7341), (7373, 7615), (7620, 7715), (7719, 7728), (7732, 7751), (7765, 8134), (8150, 8243), (8305, 8450), (8462, 8466), (8486, 8658), (8688, 8704), (8719, 8745), (8750, 8756), (8858, 8878), (8891, 8899), (8922, 9039), (9052, 9084), (9103, 9161), (9182, 9302), (9323, 9352), (9406, 9427), (9598, 9622), (9653, 9658), (9667, 9674), (9681, 9692), (9720, 9753), (9811, 9815), (9822, 9849), (9853, 9902), (9980, 9986), (10126, 10134), (10168, 10172), (10187, 10200), (10246, 10252), (10301, 10312), (10349, 10366), (10418, 10424), (10470, 10524), (10535, 10543), (10628, 10671), (10713, 10725), (10746, 10777)]"
      ],
      "text/plain": [
       "<IPython.core.display.Markdown object>"
      ]
     },
     "metadata": {},
     "output_type": "display_data"
    },
    {
     "data": {
      "text/markdown": [
       "[(107, 115), (227, 244), (275, 304), (320, 330), (374, 399), (402, 411), (421, 458), (556, 564), (576, 633), (656, 721), (744, 849), (859, 896), (967, 999), (1034, 1048), (1150, 1183), (1421, 1449), (1488, 1537), (1559, 1563), (1588, 1633), (1678, 1715), (1762, 1781), (1827, 1833), (1837, 1845), (1914, 1937), (1966, 1971), (2027, 2046), (2186, 2199), (2370, 2433), (2451, 2455), (2462, 2472), (2710, 2731), (2787, 2795), (2926, 2931), (3053, 3058), (3079, 3095), (3114, 3122), (3138, 3266), (3304, 3414), (3420, 3592), (3608, 4020), (4039, 4118), (4175, 4432), (4444, 4495), (4779, 4836), (4859, 5007), (5079, 5114), (6529, 6535), (6548, 6568), (6573, 6581), (6713, 6986), (6993, 7135), (7139, 7172), (7220, 7341), (7373, 7615), (7620, 7715), (7719, 7728), (7732, 7751), (7765, 8134), (8150, 8243), (8305, 8450), (8462, 8466), (8486, 8658), (8688, 8704), (8719, 8745), (8750, 8756), (8858, 8878), (8891, 8899), (8922, 9039), (9052, 9084), (9103, 9161), (9182, 9302), (9323, 9352), (9406, 9427), (9598, 9622), (9653, 9658), (9667, 9674), (9681, 9692), (9720, 9753), (9811, 9815), (9822, 9849), (9853, 9902), (9980, 9986), (10126, 10134), (10168, 10172), (10187, 10200), (10246, 10252), (10301, 10312), (10349, 10366), (10418, 10424), (10470, 10524), (10535, 10543), (10628, 10671), (10713, 10725), (10746, 10777)]"
      ],
      "text/plain": [
       "<IPython.core.display.Markdown object>"
      ]
     },
     "metadata": {},
     "output_type": "display_data"
    },
    {
     "data": {
      "text/markdown": [
       "[(107, 115), (227, 244), (275, 304), (320, 330), (374, 399), (402, 411), (421, 458), (556, 564), (576, 633), (656, 721), (744, 849), (859, 896), (967, 999), (1034, 1048), (1150, 1183), (1421, 1449), (1488, 1537), (1559, 1563), (1588, 1633), (1678, 1715), (1762, 1781), (1827, 1833), (1837, 1845), (1914, 1937), (1966, 1971), (2027, 2046), (2186, 2199), (2370, 2433), (2451, 2455), (2462, 2472), (2710, 2731), (2787, 2795), (2926, 2931), (3053, 3058), (3079, 3095), (3114, 3122), (3138, 3266), (3304, 3414), (3420, 3592), (3608, 4020), (4039, 4118), (4175, 4432), (4444, 4495), (4779, 4836), (4859, 5007), (5079, 5114), (6529, 6535), (6548, 6568), (6573, 6581), (6713, 6986), (6993, 7135), (7139, 7172), (7220, 7341), (7373, 7615), (7620, 7715), (7719, 7728), (7732, 7751), (7765, 8134), (8150, 8243), (8305, 8450), (8462, 8466), (8486, 8658), (8688, 8704), (8719, 8745), (8750, 8756), (8858, 8878), (8891, 8899), (8922, 9039), (9052, 9084), (9103, 9161), (9182, 9302), (9323, 9352), (9406, 9427), (9598, 9622), (9653, 9658), (9667, 9674), (9681, 9692), (9720, 9753), (9811, 9815), (9822, 9849), (9853, 9902), (9980, 9986), (10126, 10134), (10168, 10172), (10187, 10200), (10246, 10252), (10301, 10312), (10349, 10366), (10418, 10424), (10470, 10524), (10535, 10543), (10628, 10671), (10713, 10725), (10746, 10777)]"
      ],
      "text/plain": [
       "<IPython.core.display.Markdown object>"
      ]
     },
     "metadata": {},
     "output_type": "display_data"
    },
    {
     "data": {
      "text/markdown": [
       "[(107, 115), (227, 244), (275, 304), (320, 330), (374, 399), (402, 411), (421, 458), (556, 564), (576, 633), (656, 721), (744, 849), (859, 896), (967, 999), (1034, 1048), (1150, 1183), (1421, 1449), (1488, 1537), (1559, 1563), (1588, 1633), (1678, 1715), (1762, 1781), (1827, 1833), (1837, 1845), (1914, 1937), (1966, 1971), (2027, 2046), (2186, 2199), (2370, 2433), (2451, 2455), (2462, 2472), (2710, 2731), (2787, 2795), (2926, 2931), (3053, 3058), (3079, 3095), (3114, 3122), (3138, 3266), (3304, 3414), (3420, 3592), (3608, 4020), (4039, 4118), (4175, 4432), (4444, 4495), (4779, 4836), (4859, 5007), (5079, 5114), (6529, 6535), (6548, 6568), (6573, 6581), (6713, 6986), (6993, 7135), (7139, 7172), (7220, 7341), (7373, 7615), (7620, 7715), (7719, 7728), (7732, 7751), (7765, 8134), (8150, 8243), (8305, 8450), (8462, 8466), (8486, 8658), (8688, 8704), (8719, 8745), (8750, 8756), (8858, 8878), (8891, 8899), (8922, 9039), (9052, 9084), (9103, 9161), (9182, 9302), (9323, 9352), (9406, 9427), (9598, 9622), (9653, 9658), (9667, 9674), (9681, 9692), (9720, 9753), (9811, 9815), (9822, 9849), (9853, 9902), (9980, 9986), (10126, 10134), (10168, 10172), (10187, 10200), (10246, 10252), (10301, 10312), (10349, 10366), (10418, 10424), (10470, 10524), (10535, 10543), (10628, 10671), (10713, 10725), (10746, 10777)]"
      ],
      "text/plain": [
       "<IPython.core.display.Markdown object>"
      ]
     },
     "metadata": {},
     "output_type": "display_data"
    },
    {
     "data": {
      "text/markdown": [
       "[(107, 115), (227, 244), (275, 304), (320, 330), (374, 399), (402, 411), (421, 458), (556, 564), (576, 633), (656, 721), (744, 849), (859, 896), (967, 999), (1034, 1048), (1150, 1183), (1421, 1449), (1488, 1537), (1559, 1563), (1588, 1633), (1678, 1715), (1762, 1781), (1827, 1833), (1837, 1845), (1914, 1937), (1966, 1971), (2027, 2046), (2186, 2199), (2370, 2433), (2451, 2455), (2462, 2472), (2710, 2731), (2787, 2795), (2926, 2931), (3053, 3058), (3079, 3095), (3114, 3122), (3138, 3266), (3304, 3414), (3420, 3592), (3608, 4020), (4039, 4118), (4175, 4432), (4444, 4495), (4779, 4836), (4859, 5007), (5079, 5114), (6529, 6535), (6548, 6568), (6573, 6581), (6713, 6986), (6993, 7135), (7139, 7172), (7220, 7341), (7373, 7615), (7620, 7715), (7719, 7728), (7732, 7751), (7765, 8134), (8150, 8243), (8305, 8450), (8462, 8466), (8486, 8658), (8688, 8704), (8719, 8745), (8750, 8756), (8858, 8878), (8891, 8899), (8922, 9039), (9052, 9084), (9103, 9161), (9182, 9302), (9323, 9352), (9406, 9427), (9598, 9622), (9653, 9658), (9667, 9674), (9681, 9692), (9720, 9753), (9811, 9815), (9822, 9849), (9853, 9902), (9980, 9986), (10126, 10134), (10168, 10172), (10187, 10200), (10246, 10252), (10301, 10312), (10349, 10366), (10418, 10424), (10470, 10524), (10535, 10543), (10628, 10671), (10713, 10725), (10746, 10777)]"
      ],
      "text/plain": [
       "<IPython.core.display.Markdown object>"
      ]
     },
     "metadata": {},
     "output_type": "display_data"
    },
    {
     "data": {
      "text/markdown": [
       "[(107, 115), (227, 244), (275, 304), (320, 330), (374, 399), (402, 411), (421, 458), (556, 564), (576, 633), (656, 721), (744, 849), (859, 896), (967, 999), (1034, 1048), (1150, 1183), (1421, 1449), (1488, 1537), (1559, 1563), (1588, 1633), (1678, 1715), (1762, 1781), (1827, 1833), (1837, 1845), (1914, 1937), (1966, 1971), (2027, 2046), (2186, 2199), (2370, 2433), (2451, 2455), (2462, 2472), (2710, 2731), (2787, 2795), (2926, 2931), (3053, 3058), (3079, 3095), (3114, 3122), (3138, 3266), (3304, 3414), (3420, 3592), (3608, 4020), (4039, 4118), (4175, 4432), (4444, 4495), (4779, 4836), (4859, 5007), (5079, 5114), (6529, 6535), (6548, 6568), (6573, 6581), (6713, 6986), (6993, 7135), (7139, 7172), (7220, 7341), (7373, 7615), (7620, 7715), (7719, 7728), (7732, 7751), (7765, 8134), (8150, 8243), (8305, 8450), (8462, 8466), (8486, 8658), (8688, 8704), (8719, 8745), (8750, 8756), (8858, 8878), (8891, 8899), (8922, 9039), (9052, 9084), (9103, 9161), (9182, 9302), (9323, 9352), (9406, 9427), (9598, 9622), (9653, 9658), (9667, 9674), (9681, 9692), (9720, 9753), (9811, 9815), (9822, 9849), (9853, 9902), (9980, 9986), (10126, 10134), (10168, 10172), (10187, 10200), (10246, 10252), (10301, 10312), (10349, 10366), (10418, 10424), (10470, 10524), (10535, 10543), (10628, 10671), (10713, 10725), (10746, 10777)]"
      ],
      "text/plain": [
       "<IPython.core.display.Markdown object>"
      ]
     },
     "metadata": {},
     "output_type": "display_data"
    },
    {
     "data": {
      "text/markdown": [
       "[(107, 115), (227, 244), (275, 304), (320, 330), (374, 399), (402, 411), (421, 458), (556, 564), (576, 633), (656, 721), (744, 849), (859, 896), (967, 999), (1034, 1048), (1150, 1183), (1421, 1449), (1488, 1537), (1559, 1563), (1588, 1633), (1678, 1715), (1762, 1781), (1827, 1833), (1837, 1845), (1914, 1937), (1966, 1971), (2027, 2046), (2186, 2199), (2370, 2433), (2451, 2455), (2462, 2472), (2710, 2731), (2787, 2795), (2926, 2931), (3053, 3058), (3079, 3095), (3114, 3122), (3138, 3266), (3304, 3414), (3420, 3592), (3608, 4020), (4039, 4118), (4175, 4432), (4444, 4495), (4779, 4836), (4859, 5007), (5079, 5114), (6529, 6535), (6548, 6568), (6573, 6581), (6713, 6986), (6993, 7135), (7139, 7172), (7220, 7341), (7373, 7615), (7620, 7715), (7719, 7728), (7732, 7751), (7765, 8134), (8150, 8243), (8305, 8450), (8462, 8466), (8486, 8658), (8688, 8704), (8719, 8745), (8750, 8756), (8858, 8878), (8891, 8899), (8922, 9039), (9052, 9084), (9103, 9161), (9182, 9302), (9323, 9352), (9406, 9427), (9598, 9622), (9653, 9658), (9667, 9674), (9681, 9692), (9720, 9753), (9811, 9815), (9822, 9849), (9853, 9902), (9980, 9986), (10126, 10134), (10168, 10172), (10187, 10200), (10246, 10252), (10301, 10312), (10349, 10366), (10418, 10424), (10470, 10524), (10535, 10543), (10628, 10671), (10713, 10725), (10746, 10777)]"
      ],
      "text/plain": [
       "<IPython.core.display.Markdown object>"
      ]
     },
     "metadata": {},
     "output_type": "display_data"
    },
    {
     "data": {
      "text/markdown": [
       "[(107, 115), (227, 244), (275, 304), (320, 330), (374, 399), (402, 411), (421, 458), (556, 564), (576, 633), (656, 721), (744, 849), (859, 896), (967, 999), (1034, 1048), (1150, 1183), (1421, 1449), (1488, 1537), (1559, 1563), (1588, 1633), (1678, 1715), (1762, 1781), (1827, 1833), (1837, 1845), (1914, 1937), (1966, 1971), (2027, 2046), (2186, 2199), (2370, 2433), (2451, 2455), (2462, 2472), (2710, 2731), (2787, 2795), (2926, 2931), (3053, 3058), (3079, 3095), (3114, 3122), (3138, 3266), (3304, 3414), (3420, 3592), (3608, 4020), (4039, 4118), (4175, 4432), (4444, 4495), (4779, 4836), (4859, 5007), (5079, 5114), (6529, 6535), (6548, 6568), (6573, 6581), (6713, 6986), (6993, 7135), (7139, 7172), (7220, 7341), (7373, 7615), (7620, 7715), (7719, 7728), (7732, 7751), (7765, 8134), (8150, 8243), (8305, 8450), (8462, 8466), (8486, 8658), (8688, 8704), (8719, 8745), (8750, 8756), (8858, 8878), (8891, 8899), (8922, 9039), (9052, 9084), (9103, 9161), (9182, 9302), (9323, 9352), (9406, 9427), (9598, 9622), (9653, 9658), (9667, 9674), (9681, 9692), (9720, 9753), (9811, 9815), (9822, 9849), (9853, 9902), (9980, 9986), (10126, 10134), (10168, 10172), (10187, 10200), (10246, 10252), (10301, 10312), (10349, 10366), (10418, 10424), (10470, 10524), (10535, 10543), (10628, 10671), (10713, 10725), (10746, 10777)]"
      ],
      "text/plain": [
       "<IPython.core.display.Markdown object>"
      ]
     },
     "metadata": {},
     "output_type": "display_data"
    },
    {
     "data": {
      "text/markdown": [
       "[(107, 115), (227, 244), (275, 304), (320, 330), (374, 399), (402, 411), (421, 458), (556, 564), (576, 633), (656, 721), (744, 849), (859, 896), (967, 999), (1034, 1048), (1150, 1183), (1421, 1449), (1488, 1537), (1559, 1563), (1588, 1633), (1678, 1715), (1762, 1781), (1827, 1833), (1837, 1845), (1914, 1937), (1966, 1971), (2027, 2046), (2186, 2199), (2370, 2433), (2451, 2455), (2462, 2472), (2710, 2731), (2787, 2795), (2926, 2931), (3053, 3058), (3079, 3095), (3114, 3122), (3138, 3266), (3304, 3414), (3420, 3592), (3608, 4020), (4039, 4118), (4175, 4432), (4444, 4495), (4779, 4836), (4859, 5007), (5079, 5114), (6529, 6535), (6548, 6568), (6573, 6581), (6713, 6986), (6993, 7135), (7139, 7172), (7220, 7341), (7373, 7615), (7620, 7715), (7719, 7728), (7732, 7751), (7765, 8134), (8150, 8243), (8305, 8450), (8462, 8466), (8486, 8658), (8688, 8704), (8719, 8745), (8750, 8756), (8858, 8878), (8891, 8899), (8922, 9039), (9052, 9084), (9103, 9161), (9182, 9302), (9323, 9352), (9406, 9427), (9598, 9622), (9653, 9658), (9667, 9674), (9681, 9692), (9720, 9753), (9811, 9815), (9822, 9849), (9853, 9902), (9980, 9986), (10126, 10134), (10168, 10172), (10187, 10200), (10246, 10252), (10301, 10312), (10349, 10366), (10418, 10424), (10470, 10524), (10535, 10543), (10628, 10671), (10713, 10725), (10746, 10777)]"
      ],
      "text/plain": [
       "<IPython.core.display.Markdown object>"
      ]
     },
     "metadata": {},
     "output_type": "display_data"
    },
    {
     "data": {
      "text/markdown": [
       "[(107, 115), (227, 244), (275, 304), (320, 330), (374, 399), (402, 411), (421, 458), (556, 564), (576, 633), (656, 721), (744, 849), (859, 896), (967, 999), (1034, 1048), (1150, 1183), (1421, 1449), (1488, 1537), (1559, 1563), (1588, 1633), (1678, 1715), (1762, 1781), (1827, 1833), (1837, 1845), (1914, 1937), (1966, 1971), (2027, 2046), (2186, 2199), (2370, 2433), (2451, 2455), (2462, 2472), (2710, 2731), (2787, 2795), (2926, 2931), (3053, 3058), (3079, 3095), (3114, 3122), (3138, 3266), (3304, 3414), (3420, 3592), (3608, 4020), (4039, 4118), (4175, 4432), (4444, 4495), (4779, 4836), (4859, 5007), (5079, 5114), (6529, 6535), (6548, 6568), (6573, 6581), (6713, 6986), (6993, 7135), (7139, 7172), (7220, 7341), (7373, 7615), (7620, 7715), (7719, 7728), (7732, 7751), (7765, 8134), (8150, 8243), (8305, 8450), (8462, 8466), (8486, 8658), (8688, 8704), (8719, 8745), (8750, 8756), (8858, 8878), (8891, 8899), (8922, 9039), (9052, 9084), (9103, 9161), (9182, 9302), (9323, 9352), (9406, 9427), (9598, 9622), (9653, 9658), (9667, 9674), (9681, 9692), (9720, 9753), (9811, 9815), (9822, 9849), (9853, 9902), (9980, 9986), (10126, 10134), (10168, 10172), (10187, 10200), (10246, 10252), (10301, 10312), (10349, 10366), (10418, 10424), (10470, 10524), (10535, 10543), (10628, 10671), (10713, 10725), (10746, 10777)]"
      ],
      "text/plain": [
       "<IPython.core.display.Markdown object>"
      ]
     },
     "metadata": {},
     "output_type": "display_data"
    },
    {
     "data": {
      "text/markdown": [
       "[(107, 115), (227, 244), (275, 304), (320, 330), (374, 399), (402, 411), (421, 458), (556, 564), (576, 633), (656, 721), (744, 849), (859, 896), (967, 999), (1034, 1048), (1150, 1183), (1421, 1449), (1488, 1537), (1559, 1563), (1588, 1633), (1678, 1715), (1762, 1781), (1827, 1833), (1837, 1845), (1914, 1937), (1966, 1971), (2027, 2046), (2186, 2199), (2370, 2433), (2451, 2455), (2462, 2472), (2710, 2731), (2787, 2795), (2926, 2931), (3053, 3058), (3079, 3095), (3114, 3122), (3138, 3266), (3304, 3414), (3420, 3592), (3608, 4020), (4039, 4118), (4175, 4432), (4444, 4495), (4779, 4836), (4859, 5007), (5079, 5114), (6529, 6535), (6548, 6568), (6573, 6581), (6713, 6986), (6993, 7135), (7139, 7172), (7220, 7341), (7373, 7615), (7620, 7715), (7719, 7728), (7732, 7751), (7765, 8134), (8150, 8243), (8305, 8450), (8462, 8466), (8486, 8658), (8688, 8704), (8719, 8745), (8750, 8756), (8858, 8878), (8891, 8899), (8922, 9039), (9052, 9084), (9103, 9161), (9182, 9302), (9323, 9352), (9406, 9427), (9598, 9622), (9653, 9658), (9667, 9674), (9681, 9692), (9720, 9753), (9811, 9815), (9822, 9849), (9853, 9902), (9980, 9986), (10126, 10134), (10168, 10172), (10187, 10200), (10246, 10252), (10301, 10312), (10349, 10366), (10418, 10424), (10470, 10524), (10535, 10543), (10628, 10671), (10713, 10725), (10746, 10777)]"
      ],
      "text/plain": [
       "<IPython.core.display.Markdown object>"
      ]
     },
     "metadata": {},
     "output_type": "display_data"
    },
    {
     "data": {
      "text/markdown": [
       "[(107, 115), (227, 244), (275, 304), (320, 330), (374, 399), (402, 411), (421, 458), (556, 564), (576, 633), (656, 721), (744, 849), (859, 896), (967, 999), (1034, 1048), (1150, 1183), (1421, 1449), (1488, 1537), (1559, 1563), (1588, 1633), (1678, 1715), (1762, 1781), (1827, 1833), (1837, 1845), (1914, 1937), (1966, 1971), (2027, 2046), (2186, 2199), (2370, 2433), (2451, 2455), (2462, 2472), (2710, 2731), (2787, 2795), (2926, 2931), (3053, 3058), (3079, 3095), (3114, 3122), (3138, 3266), (3304, 3414), (3420, 3592), (3608, 4020), (4039, 4118), (4175, 4432), (4444, 4495), (4779, 4836), (4859, 5007), (5079, 5114), (6529, 6535), (6548, 6568), (6573, 6581), (6713, 6986), (6993, 7135), (7139, 7172), (7220, 7341), (7373, 7615), (7620, 7715), (7719, 7728), (7732, 7751), (7765, 8134), (8150, 8243), (8305, 8450), (8462, 8466), (8486, 8658), (8688, 8704), (8719, 8745), (8750, 8756), (8858, 8878), (8891, 8899), (8922, 9039), (9052, 9084), (9103, 9161), (9182, 9302), (9323, 9352), (9406, 9427), (9598, 9622), (9653, 9658), (9667, 9674), (9681, 9692), (9720, 9753), (9811, 9815), (9822, 9849), (9853, 9902), (9980, 9986), (10126, 10134), (10168, 10172), (10187, 10200), (10246, 10252), (10301, 10312), (10349, 10366), (10418, 10424), (10470, 10524), (10535, 10543), (10628, 10671), (10713, 10725), (10746, 10777)]"
      ],
      "text/plain": [
       "<IPython.core.display.Markdown object>"
      ]
     },
     "metadata": {},
     "output_type": "display_data"
    },
    {
     "data": {
      "text/markdown": [
       "[(107, 115), (227, 244), (275, 304), (320, 330), (374, 399), (402, 411), (421, 458), (556, 564), (576, 633), (656, 721), (744, 849), (859, 896), (967, 999), (1034, 1048), (1150, 1183), (1421, 1449), (1488, 1537), (1559, 1563), (1588, 1633), (1678, 1715), (1762, 1781), (1827, 1833), (1837, 1845), (1914, 1937), (1966, 1971), (2027, 2046), (2186, 2199), (2370, 2433), (2451, 2455), (2462, 2472), (2710, 2731), (2787, 2795), (2926, 2931), (3053, 3058), (3079, 3095), (3114, 3122), (3138, 3266), (3304, 3414), (3420, 3592), (3608, 4020), (4039, 4118), (4175, 4432), (4444, 4495), (4779, 4836), (4859, 5007), (5079, 5114), (6529, 6535), (6548, 6568), (6573, 6581), (6713, 6986), (6993, 7135), (7139, 7172), (7220, 7341), (7373, 7615), (7620, 7715), (7719, 7728), (7732, 7751), (7765, 8134), (8150, 8243), (8305, 8450), (8462, 8466), (8486, 8658), (8688, 8704), (8719, 8745), (8750, 8756), (8858, 8878), (8891, 8899), (8922, 9039), (9052, 9084), (9103, 9161), (9182, 9302), (9323, 9352), (9406, 9427), (9598, 9622), (9653, 9658), (9667, 9674), (9681, 9692), (9720, 9753), (9811, 9815), (9822, 9849), (9853, 9902), (9980, 9986), (10126, 10134), (10168, 10172), (10187, 10200), (10246, 10252), (10301, 10312), (10349, 10366), (10418, 10424), (10470, 10524), (10535, 10543), (10628, 10671), (10713, 10725), (10746, 10777)]"
      ],
      "text/plain": [
       "<IPython.core.display.Markdown object>"
      ]
     },
     "metadata": {},
     "output_type": "display_data"
    },
    {
     "data": {
      "text/markdown": [
       "[(107, 115), (227, 244), (275, 304), (320, 330), (374, 399), (402, 411), (421, 458), (556, 564), (576, 633), (656, 721), (744, 849), (859, 896), (967, 999), (1034, 1048), (1150, 1183), (1421, 1449), (1488, 1537), (1559, 1563), (1588, 1633), (1678, 1715), (1762, 1781), (1827, 1833), (1837, 1845), (1914, 1937), (1966, 1971), (2027, 2046), (2186, 2199), (2370, 2433), (2451, 2455), (2462, 2472), (2710, 2731), (2787, 2795), (2926, 2931), (3053, 3058), (3079, 3095), (3114, 3122), (3138, 3266), (3304, 3414), (3420, 3592), (3608, 4020), (4039, 4118), (4175, 4432), (4444, 4495), (4779, 4836), (4859, 5007), (5079, 5114), (6529, 6535), (6548, 6568), (6573, 6581), (6713, 6986), (6993, 7135), (7139, 7172), (7220, 7341), (7373, 7615), (7620, 7715), (7719, 7728), (7732, 7751), (7765, 8134), (8150, 8243), (8305, 8450), (8462, 8466), (8486, 8658), (8688, 8704), (8719, 8745), (8750, 8756), (8858, 8878), (8891, 8899), (8922, 9039), (9052, 9084), (9103, 9161), (9182, 9302), (9323, 9352), (9406, 9427), (9598, 9622), (9653, 9658), (9667, 9674), (9681, 9692), (9720, 9753), (9811, 9815), (9822, 9849), (9853, 9902), (9980, 9986), (10126, 10134), (10168, 10172), (10187, 10200), (10246, 10252), (10301, 10312), (10349, 10366), (10418, 10424), (10470, 10524), (10535, 10543), (10628, 10671), (10713, 10725), (10746, 10777)]"
      ],
      "text/plain": [
       "<IPython.core.display.Markdown object>"
      ]
     },
     "metadata": {},
     "output_type": "display_data"
    },
    {
     "data": {
      "text/markdown": [
       "[(107, 115), (227, 244), (275, 304), (320, 330), (374, 399), (402, 411), (421, 458), (556, 564), (576, 633), (656, 721), (744, 849), (859, 896), (967, 999), (1034, 1048), (1150, 1183), (1421, 1449), (1488, 1537), (1559, 1563), (1588, 1633), (1678, 1715), (1762, 1781), (1827, 1833), (1837, 1845), (1914, 1937), (1966, 1971), (2027, 2046), (2186, 2199), (2370, 2433), (2451, 2455), (2462, 2472), (2710, 2731), (2787, 2795), (2926, 2931), (3053, 3058), (3079, 3095), (3114, 3122), (3138, 3266), (3304, 3414), (3420, 3592), (3608, 4020), (4039, 4118), (4175, 4432), (4444, 4495), (4779, 4836), (4859, 5007), (5079, 5114), (6529, 6535), (6548, 6568), (6573, 6581), (6713, 6986), (6993, 7135), (7139, 7172), (7220, 7341), (7373, 7615), (7620, 7715), (7719, 7728), (7732, 7751), (7765, 8134), (8150, 8243), (8305, 8450), (8462, 8466), (8486, 8658), (8688, 8704), (8719, 8745), (8750, 8756), (8858, 8878), (8891, 8899), (8922, 9039), (9052, 9084), (9103, 9161), (9182, 9302), (9323, 9352), (9406, 9427), (9598, 9622), (9653, 9658), (9667, 9674), (9681, 9692), (9720, 9753), (9811, 9815), (9822, 9849), (9853, 9902), (9980, 9986), (10126, 10134), (10168, 10172), (10187, 10200), (10246, 10252), (10301, 10312), (10349, 10366), (10418, 10424), (10470, 10524), (10535, 10543), (10628, 10671), (10713, 10725), (10746, 10777)]"
      ],
      "text/plain": [
       "<IPython.core.display.Markdown object>"
      ]
     },
     "metadata": {},
     "output_type": "display_data"
    },
    {
     "data": {
      "text/markdown": [
       "[(107, 115), (227, 244), (275, 304), (320, 330), (374, 399), (402, 411), (421, 458), (556, 564), (576, 633), (656, 721), (744, 849), (859, 896), (967, 999), (1034, 1048), (1150, 1183), (1421, 1449), (1488, 1537), (1559, 1563), (1588, 1633), (1678, 1715), (1762, 1781), (1827, 1833), (1837, 1845), (1914, 1937), (1966, 1971), (2027, 2046), (2186, 2199), (2370, 2433), (2451, 2455), (2462, 2472), (2710, 2731), (2787, 2795), (2926, 2931), (3053, 3058), (3079, 3095), (3114, 3122), (3138, 3266), (3304, 3414), (3420, 3592), (3608, 4020), (4039, 4118), (4175, 4432), (4444, 4495), (4779, 4836), (4859, 5007), (5079, 5114), (6529, 6535), (6548, 6568), (6573, 6581), (6713, 6986), (6993, 7135), (7139, 7172), (7220, 7341), (7373, 7615), (7620, 7715), (7719, 7728), (7732, 7751), (7765, 8134), (8150, 8243), (8305, 8450), (8462, 8466), (8486, 8658), (8688, 8704), (8719, 8745), (8750, 8756), (8858, 8878), (8891, 8899), (8922, 9039), (9052, 9084), (9103, 9161), (9182, 9302), (9323, 9352), (9406, 9427), (9598, 9622), (9653, 9658), (9667, 9674), (9681, 9692), (9720, 9753), (9811, 9815), (9822, 9849), (9853, 9902), (9980, 9986), (10126, 10134), (10168, 10172), (10187, 10200), (10246, 10252), (10301, 10312), (10349, 10366), (10418, 10424), (10470, 10524), (10535, 10543), (10628, 10671), (10713, 10725), (10746, 10777)]"
      ],
      "text/plain": [
       "<IPython.core.display.Markdown object>"
      ]
     },
     "metadata": {},
     "output_type": "display_data"
    },
    {
     "data": {
      "text/markdown": [
       "[(107, 115), (227, 244), (275, 304), (320, 330), (374, 399), (402, 411), (421, 458), (556, 564), (576, 633), (656, 721), (744, 849), (859, 896), (967, 999), (1034, 1048), (1150, 1183), (1421, 1449), (1488, 1537), (1559, 1563), (1588, 1633), (1678, 1715), (1762, 1781), (1827, 1833), (1837, 1845), (1914, 1937), (1966, 1971), (2027, 2046), (2186, 2199), (2370, 2433), (2451, 2455), (2462, 2472), (2710, 2731), (2787, 2795), (2926, 2931), (3053, 3058), (3079, 3095), (3114, 3122), (3138, 3266), (3304, 3414), (3420, 3592), (3608, 4020), (4039, 4118), (4175, 4432), (4444, 4495), (4779, 4836), (4859, 5007), (5079, 5114), (6529, 6535), (6548, 6568), (6573, 6581), (6713, 6986), (6993, 7135), (7139, 7172), (7220, 7341), (7373, 7615), (7620, 7715), (7719, 7728), (7732, 7751), (7765, 8134), (8150, 8243), (8305, 8450), (8462, 8466), (8486, 8658), (8688, 8704), (8719, 8745), (8750, 8756), (8858, 8878), (8891, 8899), (8922, 9039), (9052, 9084), (9103, 9161), (9182, 9302), (9323, 9352), (9406, 9427), (9598, 9622), (9653, 9658), (9667, 9674), (9681, 9692), (9720, 9753), (9811, 9815), (9822, 9849), (9853, 9902), (9980, 9986), (10126, 10134), (10168, 10172), (10187, 10200), (10246, 10252), (10301, 10312), (10349, 10366), (10418, 10424), (10470, 10524), (10535, 10543), (10628, 10671), (10713, 10725), (10746, 10777)]"
      ],
      "text/plain": [
       "<IPython.core.display.Markdown object>"
      ]
     },
     "metadata": {},
     "output_type": "display_data"
    },
    {
     "data": {
      "text/markdown": [
       "[(107, 115), (227, 244), (275, 304), (320, 330), (374, 399), (402, 411), (421, 458), (556, 564), (576, 633), (656, 721), (744, 849), (859, 896), (967, 999), (1034, 1048), (1150, 1183), (1421, 1449), (1488, 1537), (1559, 1563), (1588, 1633), (1678, 1715), (1762, 1781), (1827, 1833), (1837, 1845), (1914, 1937), (1966, 1971), (2027, 2046), (2186, 2199), (2370, 2433), (2451, 2455), (2462, 2472), (2710, 2731), (2787, 2795), (2926, 2931), (3053, 3058), (3079, 3095), (3114, 3122), (3138, 3266), (3304, 3414), (3420, 3592), (3608, 4020), (4039, 4118), (4175, 4432), (4444, 4495), (4779, 4836), (4859, 5007), (5079, 5114), (6529, 6535), (6548, 6568), (6573, 6581), (6713, 6986), (6993, 7135), (7139, 7172), (7220, 7341), (7373, 7615), (7620, 7715), (7719, 7728), (7732, 7751), (7765, 8134), (8150, 8243), (8305, 8450), (8462, 8466), (8486, 8658), (8688, 8704), (8719, 8745), (8750, 8756), (8858, 8878), (8891, 8899), (8922, 9039), (9052, 9084), (9103, 9161), (9182, 9302), (9323, 9352), (9406, 9427), (9598, 9622), (9653, 9658), (9667, 9674), (9681, 9692), (9720, 9753), (9811, 9815), (9822, 9849), (9853, 9902), (9980, 9986), (10126, 10134), (10168, 10172), (10187, 10200), (10246, 10252), (10301, 10312), (10349, 10366), (10418, 10424), (10470, 10524), (10535, 10543), (10628, 10671), (10713, 10725), (10746, 10777)]"
      ],
      "text/plain": [
       "<IPython.core.display.Markdown object>"
      ]
     },
     "metadata": {},
     "output_type": "display_data"
    },
    {
     "data": {
      "text/markdown": [
       "[(107, 115), (227, 244), (275, 304), (320, 330), (374, 399), (402, 411), (421, 458), (556, 564), (576, 633), (656, 721), (744, 849), (859, 896), (967, 999), (1034, 1048), (1150, 1183), (1421, 1449), (1488, 1537), (1559, 1563), (1588, 1633), (1678, 1715), (1762, 1781), (1827, 1833), (1837, 1845), (1914, 1937), (1966, 1971), (2027, 2046), (2186, 2199), (2370, 2433), (2451, 2455), (2462, 2472), (2710, 2731), (2787, 2795), (2926, 2931), (3053, 3058), (3079, 3095), (3114, 3122), (3138, 3266), (3304, 3414), (3420, 3592), (3608, 4020), (4039, 4118), (4175, 4432), (4444, 4495), (4779, 4836), (4859, 5007), (5079, 5114), (6529, 6535), (6548, 6568), (6573, 6581), (6713, 6986), (6993, 7135), (7139, 7172), (7220, 7341), (7373, 7615), (7620, 7715), (7719, 7728), (7732, 7751), (7765, 8134), (8150, 8243), (8305, 8450), (8462, 8466), (8486, 8658), (8688, 8704), (8719, 8745), (8750, 8756), (8858, 8878), (8891, 8899), (8922, 9039), (9052, 9084), (9103, 9161), (9182, 9302), (9323, 9352), (9406, 9427), (9598, 9622), (9653, 9658), (9667, 9674), (9681, 9692), (9720, 9753), (9811, 9815), (9822, 9849), (9853, 9902), (9980, 9986), (10126, 10134), (10168, 10172), (10187, 10200), (10246, 10252), (10301, 10312), (10349, 10366), (10418, 10424), (10470, 10524), (10535, 10543), (10628, 10671), (10713, 10725), (10746, 10777)]"
      ],
      "text/plain": [
       "<IPython.core.display.Markdown object>"
      ]
     },
     "metadata": {},
     "output_type": "display_data"
    },
    {
     "data": {
      "text/markdown": [
       "[(107, 115), (227, 244), (275, 304), (320, 330), (374, 399), (402, 411), (421, 458), (556, 564), (576, 633), (656, 721), (744, 849), (859, 896), (967, 999), (1034, 1048), (1150, 1183), (1421, 1449), (1488, 1537), (1559, 1563), (1588, 1633), (1678, 1715), (1762, 1781), (1827, 1833), (1837, 1845), (1914, 1937), (1966, 1971), (2027, 2046), (2186, 2199), (2370, 2433), (2451, 2455), (2462, 2472), (2710, 2731), (2787, 2795), (2926, 2931), (3053, 3058), (3079, 3095), (3114, 3122), (3138, 3266), (3304, 3414), (3420, 3592), (3608, 4020), (4039, 4118), (4175, 4432), (4444, 4495), (4779, 4836), (4859, 5007), (5079, 5114), (6529, 6535), (6548, 6568), (6573, 6581), (6713, 6986), (6993, 7135), (7139, 7172), (7220, 7341), (7373, 7615), (7620, 7715), (7719, 7728), (7732, 7751), (7765, 8134), (8150, 8243), (8305, 8450), (8462, 8466), (8486, 8658), (8688, 8704), (8719, 8745), (8750, 8756), (8858, 8878), (8891, 8899), (8922, 9039), (9052, 9084), (9103, 9161), (9182, 9302), (9323, 9352), (9406, 9427), (9598, 9622), (9653, 9658), (9667, 9674), (9681, 9692), (9720, 9753), (9811, 9815), (9822, 9849), (9853, 9902), (9980, 9986), (10126, 10134), (10168, 10172), (10187, 10200), (10246, 10252), (10301, 10312), (10349, 10366), (10418, 10424), (10470, 10524), (10535, 10543), (10628, 10671), (10713, 10725), (10746, 10777)]"
      ],
      "text/plain": [
       "<IPython.core.display.Markdown object>"
      ]
     },
     "metadata": {},
     "output_type": "display_data"
    },
    {
     "data": {
      "text/markdown": [
       "[(107, 115), (227, 244), (275, 304), (320, 330), (374, 399), (402, 411), (421, 458), (556, 564), (576, 633), (656, 721), (744, 849), (859, 896), (967, 999), (1034, 1048), (1150, 1183), (1421, 1449), (1488, 1537), (1559, 1563), (1588, 1633), (1678, 1715), (1762, 1781), (1827, 1833), (1837, 1845), (1914, 1937), (1966, 1971), (2027, 2046), (2186, 2199), (2370, 2433), (2451, 2455), (2462, 2472), (2710, 2731), (2787, 2795), (2926, 2931), (3053, 3058), (3079, 3095), (3114, 3122), (3138, 3266), (3304, 3414), (3420, 3592), (3608, 4020), (4039, 4118), (4175, 4432), (4444, 4495), (4779, 4836), (4859, 5007), (5079, 5114), (6529, 6535), (6548, 6568), (6573, 6581), (6713, 6986), (6993, 7135), (7139, 7172), (7220, 7341), (7373, 7615), (7620, 7715), (7719, 7728), (7732, 7751), (7765, 8134), (8150, 8243), (8305, 8450), (8462, 8466), (8486, 8658), (8688, 8704), (8719, 8745), (8750, 8756), (8858, 8878), (8891, 8899), (8922, 9039), (9052, 9084), (9103, 9161), (9182, 9302), (9323, 9352), (9406, 9427), (9598, 9622), (9653, 9658), (9667, 9674), (9681, 9692), (9720, 9753), (9811, 9815), (9822, 9849), (9853, 9902), (9980, 9986), (10126, 10134), (10168, 10172), (10187, 10200), (10246, 10252), (10301, 10312), (10349, 10366), (10418, 10424), (10470, 10524), (10535, 10543), (10628, 10671), (10713, 10725), (10746, 10777)]"
      ],
      "text/plain": [
       "<IPython.core.display.Markdown object>"
      ]
     },
     "metadata": {},
     "output_type": "display_data"
    },
    {
     "data": {
      "text/markdown": [
       "[(107, 115), (227, 244), (275, 304), (320, 330), (374, 399), (402, 411), (421, 458), (556, 564), (576, 633), (656, 721), (744, 849), (859, 896), (967, 999), (1034, 1048), (1150, 1183), (1421, 1449), (1488, 1537), (1559, 1563), (1588, 1633), (1678, 1715), (1762, 1781), (1827, 1833), (1837, 1845), (1914, 1937), (1966, 1971), (2027, 2046), (2186, 2199), (2370, 2433), (2451, 2455), (2462, 2472), (2710, 2731), (2787, 2795), (2926, 2931), (3053, 3058), (3079, 3095), (3114, 3122), (3138, 3266), (3304, 3414), (3420, 3592), (3608, 4020), (4039, 4118), (4175, 4432), (4444, 4495), (4779, 4836), (4859, 5007), (5079, 5114), (6529, 6535), (6548, 6568), (6573, 6581), (6713, 6986), (6993, 7135), (7139, 7172), (7220, 7341), (7373, 7615), (7620, 7715), (7719, 7728), (7732, 7751), (7765, 8134), (8150, 8243), (8305, 8450), (8462, 8466), (8486, 8658), (8688, 8704), (8719, 8745), (8750, 8756), (8858, 8878), (8891, 8899), (8922, 9039), (9052, 9084), (9103, 9161), (9182, 9302), (9323, 9352), (9406, 9427), (9598, 9622), (9653, 9658), (9667, 9674), (9681, 9692), (9720, 9753), (9811, 9815), (9822, 9849), (9853, 9902), (9980, 9986), (10126, 10134), (10168, 10172), (10187, 10200), (10246, 10252), (10301, 10312), (10349, 10366), (10418, 10424), (10470, 10524), (10535, 10543), (10628, 10671), (10713, 10725), (10746, 10777)]"
      ],
      "text/plain": [
       "<IPython.core.display.Markdown object>"
      ]
     },
     "metadata": {},
     "output_type": "display_data"
    },
    {
     "data": {
      "text/markdown": [
       "[(107, 115), (227, 244), (275, 304), (320, 330), (374, 399), (402, 411), (421, 458), (556, 564), (576, 633), (656, 721), (744, 849), (859, 896), (967, 999), (1034, 1048), (1150, 1183), (1421, 1449), (1488, 1537), (1559, 1563), (1588, 1633), (1678, 1715), (1762, 1781), (1827, 1833), (1837, 1845), (1914, 1937), (1966, 1971), (2027, 2046), (2186, 2199), (2370, 2433), (2451, 2455), (2462, 2472), (2710, 2731), (2787, 2795), (2926, 2931), (3053, 3058), (3079, 3095), (3114, 3122), (3138, 3266), (3304, 3414), (3420, 3592), (3608, 4020), (4039, 4118), (4175, 4432), (4444, 4495), (4779, 4836), (4859, 5007), (5079, 5114), (6529, 6535), (6548, 6568), (6573, 6581), (6713, 6986), (6993, 7135), (7139, 7172), (7220, 7341), (7373, 7615), (7620, 7715), (7719, 7728), (7732, 7751), (7765, 8134), (8150, 8243), (8305, 8450), (8462, 8466), (8486, 8658), (8688, 8704), (8719, 8745), (8750, 8756), (8858, 8878), (8891, 8899), (8922, 9039), (9052, 9084), (9103, 9161), (9182, 9302), (9323, 9352), (9406, 9427), (9598, 9622), (9653, 9658), (9667, 9674), (9681, 9692), (9720, 9753), (9811, 9815), (9822, 9849), (9853, 9902), (9980, 9986), (10126, 10134), (10168, 10172), (10187, 10200), (10246, 10252), (10301, 10312), (10349, 10366), (10418, 10424), (10470, 10524), (10535, 10543), (10628, 10671), (10713, 10725), (10746, 10777)]"
      ],
      "text/plain": [
       "<IPython.core.display.Markdown object>"
      ]
     },
     "metadata": {},
     "output_type": "display_data"
    },
    {
     "data": {
      "text/markdown": [
       "[(107, 115), (227, 244), (275, 304), (320, 330), (374, 399), (402, 411), (421, 458), (556, 564), (576, 633), (656, 721), (744, 849), (859, 896), (967, 999), (1034, 1048), (1150, 1183), (1421, 1449), (1488, 1537), (1559, 1563), (1588, 1633), (1678, 1715), (1762, 1781), (1827, 1833), (1837, 1845), (1914, 1937), (1966, 1971), (2027, 2046), (2186, 2199), (2370, 2433), (2451, 2455), (2462, 2472), (2710, 2731), (2787, 2795), (2926, 2931), (3053, 3058), (3079, 3095), (3114, 3122), (3138, 3266), (3304, 3414), (3420, 3592), (3608, 4020), (4039, 4118), (4175, 4432), (4444, 4495), (4779, 4836), (4859, 5007), (5079, 5114), (6529, 6535), (6548, 6568), (6573, 6581), (6713, 6986), (6993, 7135), (7139, 7172), (7220, 7341), (7373, 7615), (7620, 7715), (7719, 7728), (7732, 7751), (7765, 8134), (8150, 8243), (8305, 8450), (8462, 8466), (8486, 8658), (8688, 8704), (8719, 8745), (8750, 8756), (8858, 8878), (8891, 8899), (8922, 9039), (9052, 9084), (9103, 9161), (9182, 9302), (9323, 9352), (9406, 9427), (9598, 9622), (9653, 9658), (9667, 9674), (9681, 9692), (9720, 9753), (9811, 9815), (9822, 9849), (9853, 9902), (9980, 9986), (10126, 10134), (10168, 10172), (10187, 10200), (10246, 10252), (10301, 10312), (10349, 10366), (10418, 10424), (10470, 10524), (10535, 10543), (10628, 10671), (10713, 10725), (10746, 10777)]"
      ],
      "text/plain": [
       "<IPython.core.display.Markdown object>"
      ]
     },
     "metadata": {},
     "output_type": "display_data"
    },
    {
     "data": {
      "text/markdown": [
       "[(107, 115), (227, 244), (275, 304), (320, 330), (374, 399), (402, 411), (421, 458), (556, 564), (576, 633), (656, 721), (744, 849), (859, 896), (967, 999), (1034, 1048), (1150, 1183), (1421, 1449), (1488, 1537), (1559, 1563), (1588, 1633), (1678, 1715), (1762, 1781), (1827, 1833), (1837, 1845), (1914, 1937), (1966, 1971), (2027, 2046), (2186, 2199), (2370, 2433), (2451, 2455), (2462, 2472), (2710, 2731), (2787, 2795), (2926, 2931), (3053, 3058), (3079, 3095), (3114, 3122), (3138, 3266), (3304, 3414), (3420, 3592), (3608, 4020), (4039, 4118), (4175, 4432), (4444, 4495), (4779, 4836), (4859, 5007), (5079, 5114), (6529, 6535), (6548, 6568), (6573, 6581), (6713, 6986), (6993, 7135), (7139, 7172), (7220, 7341), (7373, 7615), (7620, 7715), (7719, 7728), (7732, 7751), (7765, 8134), (8150, 8243), (8305, 8450), (8462, 8466), (8486, 8658), (8688, 8704), (8719, 8745), (8750, 8756), (8858, 8878), (8891, 8899), (8922, 9039), (9052, 9084), (9103, 9161), (9182, 9302), (9323, 9352), (9406, 9427), (9598, 9622), (9653, 9658), (9667, 9674), (9681, 9692), (9720, 9753), (9811, 9815), (9822, 9849), (9853, 9902), (9980, 9986), (10126, 10134), (10168, 10172), (10187, 10200), (10246, 10252), (10301, 10312), (10349, 10366), (10418, 10424), (10470, 10524), (10535, 10543), (10628, 10671), (10713, 10725), (10746, 10777)]"
      ],
      "text/plain": [
       "<IPython.core.display.Markdown object>"
      ]
     },
     "metadata": {},
     "output_type": "display_data"
    },
    {
     "name": "stdout",
     "output_type": "stream",
     "text": [
      "🔍  Querying 'body elongation'…\n"
     ]
    },
    {
     "name": "stderr",
     "output_type": "stream",
     "text": [
      "INFO:httpx:HTTP Request: POST https://api.openai.com/v1/embeddings \"HTTP/1.1 200 OK\"\n"
     ]
    },
    {
     "name": "stdout",
     "output_type": "stream",
     "text": [
      "doing active forgetting\n"
     ]
    },
    {
     "name": "stderr",
     "output_type": "stream",
     "text": [
      "INFO:httpx:HTTP Request: POST https://api.openai.com/v1/chat/completions \"HTTP/1.1 200 OK\"\n"
     ]
    },
    {
     "name": "stdout",
     "output_type": "stream",
     "text": [
      "current total cost 0.3507 $\n",
      "current input tokens 3991\n",
      "current accumulated tokens 51720\n"
     ]
    },
    {
     "data": {
      "text/markdown": [
       "```python\n",
       "def identify_elongation_bouts(identifier):\n",
       "    \"\"\"\n",
       "    Identify continuous bouts of elongation based on the given criteria.\n",
       "    \n",
       "    Parameters\n",
       "    ----------\n",
       "    identifier: Identifier\n",
       "        Contains information about the video, keypoint, and config.\n",
       "    \n",
       "    Returns\n",
       "    -------\n",
       "    List[Tuple[int, int]]\n",
       "        A list of tuples representing the start and end frames of each elongation bout.\n",
       "    \"\"\"\n",
       "    import numpy as np\n",
       "    from scipy.ndimage import median_filter\n",
       "\n",
       "    # Create an analysis instance\n",
       "    analysis = create_analysis(identifier)\n",
       "    \n",
       "    # Get keypoints and keypoint names\n",
       "    keypoints = analysis.get_keypoints()  # shape: (n_frames, n_individuals, n_kpts, n_dims)\n",
       "    keypoint_names = analysis.get_keypoint_names()\n",
       "    \n",
       "    # Get indices for required keypoints\n",
       "    snout_idx = keypoint_names.index('Snout')\n",
       "    tail_base_idx = keypoint_names.index('Tail base')\n",
       "    body_midpoint_idx = keypoint_names.index('Body midpoint')\n",
       "    \n",
       "    # Extract relevant keypoints for the single animal\n",
       "    snout = keypoints[:, 0, snout_idx, :2]  # shape: (n_frames, 2)\n",
       "    tail_base = keypoints[:, 0, tail_base_idx, :2]  # shape: (n_frames, 2)\n",
       "    body_midpoint_h = keypoints[:, 0, body_midpoint_idx, 2]  # shape: (n_frames,)\n",
       "    tail_base_h = keypoints[:, 0, tail_base_idx, 2]  # shape: (n_frames,)\n",
       "    \n",
       "    # Calculate Snout-to-Tail base distance\n",
       "    snout_to_tail_dist = np.linalg.norm(snout - tail_base, axis=1)  # shape: (n_frames,)\n",
       "    \n",
       "    # Calculate rolling median of Snout-to-Tail base distance over 61 frames\n",
       "    rolling_median_dist = median_filter(snout_to_tail_dist, size=61, mode='nearest')  # shape: (n_frames,)\n",
       "    \n",
       "    # Calculate length factor\n",
       "    length_factor = snout_to_tail_dist / rolling_median_dist  # shape: (n_frames,)\n",
       "    \n",
       "    # Initialize variables\n",
       "    in_bout = False\n",
       "    bouts = []\n",
       "    n = keypoints.shape[0]\n",
       "    \n",
       "    # Loop through frames\n",
       "    for i in range(n):\n",
       "        height_condition = abs(body_midpoint_h[i] - tail_base_h[i]) <= 0.1 * tail_base_h[i]\n",
       "        if length_factor[i] >= 1.3 and height_condition:\n",
       "            if not in_bout:\n",
       "                in_bout = True\n",
       "                start = i\n",
       "        elif in_bout and length_factor[i] < 1.2:\n",
       "            if i - start >= 1:\n",
       "                bouts.append((start, i - 1))\n",
       "            in_bout = False\n",
       "    \n",
       "    # Check if a bout was ongoing at the end\n",
       "    if in_bout and (n - start) >= 1:\n",
       "        bouts.append((start, n - 1))\n",
       "    \n",
       "    # Merge bouts separated by ≤ 2 frames\n",
       "    merged_bouts = []\n",
       "    if bouts:\n",
       "        start, end = bouts[0]\n",
       "        for i in range(1, len(bouts)):\n",
       "            next_start, next_end = bouts[i]\n",
       "            if next_start - end <= 2:\n",
       "                end = next_end\n",
       "            else:\n",
       "                merged_bouts.append((start, end))\n",
       "                start, end = next_start, next_end\n",
       "        merged_bouts.append((start, end))\n",
       "    \n",
       "    # Save results to file\n",
       "    with open('results/body elongation.txt', 'w') as f:\n",
       "        for bout in merged_bouts:\n",
       "            f.write(f\"{bout[0]},{bout[1]}\\n\")\n",
       "    \n",
       "    return merged_bouts\n",
       "```"
      ],
      "text/plain": [
       "<IPython.core.display.Markdown object>"
      ]
     },
     "metadata": {},
     "output_type": "display_data"
    },
    {
     "data": {
      "text/markdown": [
       "[(10534, 10534)]"
      ],
      "text/plain": [
       "<IPython.core.display.Markdown object>"
      ]
     },
     "metadata": {},
     "output_type": "display_data"
    },
    {
     "name": "stdout",
     "output_type": "stream",
     "text": [
      "🔍  Querying 'body contraction'…\n"
     ]
    },
    {
     "name": "stderr",
     "output_type": "stream",
     "text": [
      "INFO:httpx:HTTP Request: POST https://api.openai.com/v1/embeddings \"HTTP/1.1 200 OK\"\n"
     ]
    },
    {
     "name": "stdout",
     "output_type": "stream",
     "text": [
      "doing active forgetting\n"
     ]
    },
    {
     "name": "stderr",
     "output_type": "stream",
     "text": [
      "INFO:httpx:HTTP Request: POST https://api.openai.com/v1/chat/completions \"HTTP/1.1 200 OK\"\n"
     ]
    },
    {
     "name": "stdout",
     "output_type": "stream",
     "text": [
      "current total cost 0.3821 $\n",
      "current input tokens 3947\n",
      "current accumulated tokens 56443\n"
     ]
    },
    {
     "data": {
      "text/markdown": [
       "```python\n",
       "def identify_contraction_bouts(identifier):\n",
       "    \"\"\"\n",
       "    Identify continuous bouts of contraction based on the given criteria.\n",
       "    \n",
       "    Parameters\n",
       "    ----------\n",
       "    identifier: Identifier\n",
       "        Contains information about the video, keypoint, and config.\n",
       "    \n",
       "    Returns\n",
       "    -------\n",
       "    List[Tuple[int, int]]\n",
       "        A list of tuples representing the start and end frames of each contraction bout.\n",
       "    \"\"\"\n",
       "    import numpy as np\n",
       "    from scipy.ndimage import median_filter\n",
       "\n",
       "    # Create an analysis instance\n",
       "    analysis = create_analysis(identifier)\n",
       "    \n",
       "    # Get keypoints and keypoint names\n",
       "    keypoints = analysis.get_keypoints()  # shape: (n_frames, n_individuals, n_kpts, n_dims)\n",
       "    keypoint_names = analysis.get_keypoint_names()\n",
       "    \n",
       "    # Get indices for required keypoints\n",
       "    snout_idx = keypoint_names.index('Snout')\n",
       "    tail_base_idx = keypoint_names.index('Tail base')\n",
       "    \n",
       "    # Extract relevant keypoints for the single animal\n",
       "    snout = keypoints[:, 0, snout_idx, :2]  # shape: (n_frames, 2)\n",
       "    tail_base = keypoints[:, 0, tail_base_idx, :2]  # shape: (n_frames, 2)\n",
       "    snout_h = keypoints[:, 0, snout_idx, 2]  # shape: (n_frames,)\n",
       "    tail_base_h = keypoints[:, 0, tail_base_idx, 2]  # shape: (n_frames,)\n",
       "    \n",
       "    # Calculate Snout-to-Tail base distance\n",
       "    snout_to_tail_dist = np.linalg.norm(snout - tail_base, axis=1)  # shape: (n_frames,)\n",
       "    \n",
       "    # Calculate rolling median of Snout-to-Tail base distance over 61 frames\n",
       "    rolling_median_dist = median_filter(snout_to_tail_dist, size=61, mode='nearest')  # shape: (n_frames,)\n",
       "    \n",
       "    # Calculate length factor\n",
       "    length_factor = snout_to_tail_dist / rolling_median_dist  # shape: (n_frames,)\n",
       "    \n",
       "    # Initialize variables\n",
       "    in_bout = False\n",
       "    bouts = []\n",
       "    n = keypoints.shape[0]\n",
       "    \n",
       "    # Loop through frames\n",
       "    for i in range(n):\n",
       "        height_condition = abs(snout_h[i] - tail_base_h[i]) <= 0.15 * tail_base_h[i]\n",
       "        if length_factor[i] <= 0.7 and height_condition:\n",
       "            if not in_bout:\n",
       "                in_bout = True\n",
       "                start = i\n",
       "        elif in_bout and length_factor[i] > 0.8:\n",
       "            if i - start >= 1:\n",
       "                bouts.append((start, i - 1))\n",
       "            in_bout = False\n",
       "    \n",
       "    # Check if a bout was ongoing at the end\n",
       "    if in_bout and (n - start) >= 1:\n",
       "        bouts.append((start, n - 1))\n",
       "    \n",
       "    # Merge bouts separated by ≤ 2 frames\n",
       "    merged_bouts = []\n",
       "    if bouts:\n",
       "        start, end = bouts[0]\n",
       "        for i in range(1, len(bouts)):\n",
       "            next_start, next_end = bouts[i]\n",
       "            if next_start - end <= 2:\n",
       "                end = next_end\n",
       "            else:\n",
       "                merged_bouts.append((start, end))\n",
       "                start, end = next_start, next_end\n",
       "        merged_bouts.append((start, end))\n",
       "    \n",
       "    # Save results to file\n",
       "    with open('results/body contraction.txt', 'w') as f:\n",
       "        for bout in merged_bouts:\n",
       "            f.write(f\"{bout[0]},{bout[1]}\\n\")\n",
       "    \n",
       "    return merged_bouts\n",
       "```"
      ],
      "text/plain": [
       "<IPython.core.display.Markdown object>"
      ]
     },
     "metadata": {},
     "output_type": "display_data"
    },
    {
     "data": {
      "text/markdown": [
       "[(4634, 4634), (4673, 4673), (5493, 5498), (5555, 5557), (5626, 5626), (5855, 5866), (5949, 5953), (6046, 6047), (6054, 6056), (6085, 6096), (6099, 6099), (6228, 6237)]"
      ],
      "text/plain": [
       "<IPython.core.display.Markdown object>"
      ]
     },
     "metadata": {},
     "output_type": "display_data"
    },
    {
     "data": {
      "text/markdown": [
       "[(4634, 4634), (4673, 4673), (5493, 5498), (5555, 5557), (5626, 5626), (5855, 5866), (5949, 5953), (6046, 6047), (6054, 6056), (6085, 6096), (6099, 6099), (6228, 6237)]"
      ],
      "text/plain": [
       "<IPython.core.display.Markdown object>"
      ]
     },
     "metadata": {},
     "output_type": "display_data"
    },
    {
     "data": {
      "text/markdown": [
       "[(4634, 4634), (4673, 4673), (5493, 5498), (5555, 5557), (5626, 5626), (5855, 5866), (5949, 5953), (6046, 6047), (6054, 6056), (6085, 6096), (6099, 6099), (6228, 6237)]"
      ],
      "text/plain": [
       "<IPython.core.display.Markdown object>"
      ]
     },
     "metadata": {},
     "output_type": "display_data"
    },
    {
     "data": {
      "text/markdown": [
       "[(4634, 4634), (4673, 4673), (5493, 5498), (5555, 5557), (5626, 5626), (5855, 5866), (5949, 5953), (6046, 6047), (6054, 6056), (6085, 6096), (6099, 6099), (6228, 6237)]"
      ],
      "text/plain": [
       "<IPython.core.display.Markdown object>"
      ]
     },
     "metadata": {},
     "output_type": "display_data"
    },
    {
     "data": {
      "text/markdown": [
       "[(4634, 4634), (4673, 4673), (5493, 5498), (5555, 5557), (5626, 5626), (5855, 5866), (5949, 5953), (6046, 6047), (6054, 6056), (6085, 6096), (6099, 6099), (6228, 6237)]"
      ],
      "text/plain": [
       "<IPython.core.display.Markdown object>"
      ]
     },
     "metadata": {},
     "output_type": "display_data"
    },
    {
     "data": {
      "text/markdown": [
       "[(4634, 4634), (4673, 4673), (5493, 5498), (5555, 5557), (5626, 5626), (5855, 5866), (5949, 5953), (6046, 6047), (6054, 6056), (6085, 6096), (6099, 6099), (6228, 6237)]"
      ],
      "text/plain": [
       "<IPython.core.display.Markdown object>"
      ]
     },
     "metadata": {},
     "output_type": "display_data"
    },
    {
     "data": {
      "text/markdown": [
       "[(4634, 4634), (4673, 4673), (5493, 5498), (5555, 5557), (5626, 5626), (5855, 5866), (5949, 5953), (6046, 6047), (6054, 6056), (6085, 6096), (6099, 6099), (6228, 6237)]"
      ],
      "text/plain": [
       "<IPython.core.display.Markdown object>"
      ]
     },
     "metadata": {},
     "output_type": "display_data"
    },
    {
     "data": {
      "text/markdown": [
       "[(4634, 4634), (4673, 4673), (5493, 5498), (5555, 5557), (5626, 5626), (5855, 5866), (5949, 5953), (6046, 6047), (6054, 6056), (6085, 6096), (6099, 6099), (6228, 6237)]"
      ],
      "text/plain": [
       "<IPython.core.display.Markdown object>"
      ]
     },
     "metadata": {},
     "output_type": "display_data"
    },
    {
     "data": {
      "text/markdown": [
       "[(4634, 4634), (4673, 4673), (5493, 5498), (5555, 5557), (5626, 5626), (5855, 5866), (5949, 5953), (6046, 6047), (6054, 6056), (6085, 6096), (6099, 6099), (6228, 6237)]"
      ],
      "text/plain": [
       "<IPython.core.display.Markdown object>"
      ]
     },
     "metadata": {},
     "output_type": "display_data"
    },
    {
     "data": {
      "text/markdown": [
       "[(4634, 4634), (4673, 4673), (5493, 5498), (5555, 5557), (5626, 5626), (5855, 5866), (5949, 5953), (6046, 6047), (6054, 6056), (6085, 6096), (6099, 6099), (6228, 6237)]"
      ],
      "text/plain": [
       "<IPython.core.display.Markdown object>"
      ]
     },
     "metadata": {},
     "output_type": "display_data"
    },
    {
     "data": {
      "text/markdown": [
       "[(4634, 4634), (4673, 4673), (5493, 5498), (5555, 5557), (5626, 5626), (5855, 5866), (5949, 5953), (6046, 6047), (6054, 6056), (6085, 6096), (6099, 6099), (6228, 6237)]"
      ],
      "text/plain": [
       "<IPython.core.display.Markdown object>"
      ]
     },
     "metadata": {},
     "output_type": "display_data"
    },
    {
     "data": {
      "text/markdown": [
       "[(4634, 4634), (4673, 4673), (5493, 5498), (5555, 5557), (5626, 5626), (5855, 5866), (5949, 5953), (6046, 6047), (6054, 6056), (6085, 6096), (6099, 6099), (6228, 6237)]"
      ],
      "text/plain": [
       "<IPython.core.display.Markdown object>"
      ]
     },
     "metadata": {},
     "output_type": "display_data"
    },
    {
     "name": "stdout",
     "output_type": "stream",
     "text": [
      "🔍  Querying 'head rotations'…\n"
     ]
    },
    {
     "name": "stderr",
     "output_type": "stream",
     "text": [
      "INFO:httpx:HTTP Request: POST https://api.openai.com/v1/embeddings \"HTTP/1.1 200 OK\"\n"
     ]
    },
    {
     "name": "stdout",
     "output_type": "stream",
     "text": [
      "doing active forgetting\n"
     ]
    },
    {
     "name": "stderr",
     "output_type": "stream",
     "text": [
      "INFO:httpx:HTTP Request: POST https://api.openai.com/v1/chat/completions \"HTTP/1.1 200 OK\"\n"
     ]
    },
    {
     "name": "stdout",
     "output_type": "stream",
     "text": [
      "current total cost 0.4157 $\n",
      "current input tokens 3914\n",
      "current accumulated tokens 61290\n"
     ]
    },
    {
     "data": {
      "text/markdown": [
       "```python\n",
       "def identify_head_rotation_bouts(identifier):\n",
       "    \"\"\"\n",
       "    Identify continuous bouts of head rotation based on the given criteria.\n",
       "    \n",
       "    Parameters\n",
       "    ----------\n",
       "    identifier: Identifier\n",
       "        Contains information about the video, keypoint, and config.\n",
       "    \n",
       "    Returns\n",
       "    -------\n",
       "    List[Tuple[int, int]]\n",
       "        A list of tuples representing the start and end frames of each head rotation bout.\n",
       "    \"\"\"\n",
       "    import numpy as np\n",
       "\n",
       "    def signed_angle(v1, v2):\n",
       "        \"\"\"Calculate the signed angle between two vectors.\"\"\"\n",
       "        angle = np.arctan2(v2[1], v2[0]) - np.arctan2(v1[1], v1[0])\n",
       "        return np.degrees(angle)\n",
       "\n",
       "    # Create an analysis instance\n",
       "    analysis = create_analysis(identifier)\n",
       "    \n",
       "    # Get keypoints and keypoint names\n",
       "    keypoints = analysis.get_keypoints()  # shape: (n_frames, n_individuals, n_kpts, n_dims)\n",
       "    keypoint_names = analysis.get_keypoint_names()\n",
       "    \n",
       "    # Get indices for required keypoints\n",
       "    left_ear_idx = keypoint_names.index('Left ear')\n",
       "    right_ear_idx = keypoint_names.index('Right ear')\n",
       "    snout_idx = keypoint_names.index('Snout')\n",
       "    tail_base_idx = keypoint_names.index('Tail base')\n",
       "    \n",
       "    # Extract relevant keypoints for the single animal\n",
       "    left_ear = keypoints[:, 0, left_ear_idx, :2]  # shape: (n_frames, 2)\n",
       "    right_ear = keypoints[:, 0, right_ear_idx, :2]  # shape: (n_frames, 2)\n",
       "    snout = keypoints[:, 0, snout_idx, :2]  # shape: (n_frames, 2)\n",
       "    tail_base = keypoints[:, 0, tail_base_idx, :2]  # shape: (n_frames, 2)\n",
       "    \n",
       "    # Calculate head vector and body orientation vector\n",
       "    head_vector = right_ear - left_ear  # shape: (n_frames, 2)\n",
       "    body_orientation = snout - tail_base  # shape: (n_frames, 2)\n",
       "    \n",
       "    # Calculate angles\n",
       "    angles = np.array([signed_angle(head_vector[i], body_orientation[i]) for i in range(len(head_vector))])  # shape: (n_frames,)\n",
       "    \n",
       "    # Calculate angle differences over 6 frames\n",
       "    angle_diffs = np.abs(np.diff(angles, n=6, prepend=angles[0]))  # shape: (n_frames,)\n",
       "    body_orientation_diffs = np.abs(np.diff([signed_angle(body_orientation[i], body_orientation[i+1]) for i in range(len(body_orientation)-1)], prepend=0))  # shape: (n_frames-1,)\n",
       "    \n",
       "    # Initialize variables\n",
       "    in_bout = False\n",
       "    bouts = []\n",
       "    n = len(angles)\n",
       "    \n",
       "    # Loop through frames\n",
       "    for i in range(n):\n",
       "        if i < len(body_orientation_diffs) and angle_diffs[i] >= 40 and body_orientation_diffs[i] < 10:\n",
       "            if not in_bout:\n",
       "                in_bout = True\n",
       "                start = i\n",
       "        elif in_bout and (i >= len(body_orientation_diffs) or angle_diffs[i] < 40 or body_orientation_diffs[i] >= 10):\n",
       "            if i - start >= 1:\n",
       "                bouts.append((start, i - 1))\n",
       "            in_bout = False\n",
       "    \n",
       "    # Check if a bout was ongoing at the end\n",
       "    if in_bout and (n - start) >= 1:\n",
       "        bouts.append((start, n - 1))\n",
       "    \n",
       "    # Merge bouts separated by < 4 frames\n",
       "    merged_bouts = []\n",
       "    if bouts:\n",
       "        start, end = bouts[0]\n",
       "        for i in range(1, len(bouts)):\n",
       "            next_start, next_end = bouts[i]\n",
       "            if next_start - end < 4:\n",
       "                end = next_end\n",
       "            else:\n",
       "                merged_bouts.append((start, end))\n",
       "                start, end = next_start, next_end\n",
       "        merged_bouts.append((start, end))\n",
       "    \n",
       "    # Save results to file\n",
       "    with open('results/head rotations.txt', 'w') as f:\n",
       "        for bout in merged_bouts:\n",
       "            f.write(f\"{bout[0]},{bout[1]}\\n\")\n",
       "    \n",
       "    return merged_bouts\n",
       "```"
      ],
      "text/plain": [
       "<IPython.core.display.Markdown object>"
      ]
     },
     "metadata": {},
     "output_type": "display_data"
    },
    {
     "name": "stdout",
     "output_type": "stream",
     "text": [
      "error occurs in code execution\n",
      "Traceback (most recent call last):\n",
      "  File \"c:\\Users\\hugos\\Desktop\\AmadeusGPT\\.venv\\lib\\site-packages\\amadeusgpt\\programs\\sandbox.py\", line 350, in code_execution\n",
      "    exec(f\"result = {call_str}\", namespace)\n",
      "  File \"<string>\", line 1, in <module>\n",
      "  File \"<string>\", line 60, in identify_head_rotation_bouts\n",
      "IndexError: index 10794 is out of bounds for axis 0 with size 10794\n",
      "\n",
      "the code that gave errors was \n",
      "def identify_head_rotation_bouts(identifier):\n",
      "    \"\"\"\n",
      "    Identify continuous bouts of head rotation based on the given criteria.\n",
      "    \n",
      "    Parameters\n",
      "    ----------\n",
      "    identifier: Identifier\n",
      "        Contains information about the video, keypoint, and config.\n",
      "    \n",
      "    Returns\n",
      "    -------\n",
      "    List[Tuple[int, int]]\n",
      "        A list of tuples representing the start and end frames of each head rotation bout.\n",
      "    \"\"\"\n",
      "    import numpy as np\n",
      "\n",
      "    def signed_angle(v1, v2):\n",
      "        \"\"\"Calculate the signed angle between two vectors.\"\"\"\n",
      "        angle = np.arctan2(v2[1], v2[0]) - np.arctan2(v1[1], v1[0])\n",
      "        return np.degrees(angle)\n",
      "\n",
      "    # Create an analysis instance\n",
      "    analysis = create_analysis(identifier)\n",
      "    \n",
      "    # Get keypoints and keypoint names\n",
      "    keypoints = analysis.get_keypoints()  # shape: (n_frames, n_individuals, n_kpts, n_dims)\n",
      "    keypoint_names = analysis.get_keypoint_names()\n",
      "    \n",
      "    # Get indices for required keypoints\n",
      "    left_ear_idx = keypoint_names.index('Left ear')\n",
      "    right_ear_idx = keypoint_names.index('Right ear')\n",
      "    snout_idx = keypoint_names.index('Snout')\n",
      "    tail_base_idx = keypoint_names.index('Tail base')\n",
      "    \n",
      "    # Extract relevant keypoints for the single animal\n",
      "    left_ear = keypoints[:, 0, left_ear_idx, :2]  # shape: (n_frames, 2)\n",
      "    right_ear = keypoints[:, 0, right_ear_idx, :2]  # shape: (n_frames, 2)\n",
      "    snout = keypoints[:, 0, snout_idx, :2]  # shape: (n_frames, 2)\n",
      "    tail_base = keypoints[:, 0, tail_base_idx, :2]  # shape: (n_frames, 2)\n",
      "    \n",
      "    # Calculate head vector and body orientation vector\n",
      "    head_vector = right_ear - left_ear  # shape: (n_frames, 2)\n",
      "    body_orientation = snout - tail_base  # shape: (n_frames, 2)\n",
      "    \n",
      "    # Calculate angles\n",
      "    angles = np.array([signed_angle(head_vector[i], body_orientation[i]) for i in range(len(head_vector))])  # shape: (n_frames,)\n",
      "    \n",
      "    # Calculate angle differences over 6 frames\n",
      "    angle_diffs = np.abs(np.diff(angles, n=6, prepend=angles[0]))  # shape: (n_frames,)\n",
      "    body_orientation_diffs = np.abs(np.diff([signed_angle(body_orientation[i], body_orientation[i+1]) for i in range(len(body_orientation)-1)], prepend=0))  # shape: (n_frames-1,)\n",
      "    \n",
      "    # Initialize variables\n",
      "    in_bout = False\n",
      "    bouts = []\n",
      "    n = len(angles)\n",
      "    \n",
      "    # Loop through frames\n",
      "    for i in range(n):\n",
      "        if i < len(body_orientation_diffs) and angle_diffs[i] >= 40 and body_orientation_diffs[i] < 10:\n",
      "            if not in_bout:\n",
      "                in_bout = True\n",
      "                start = i\n",
      "        elif in_bout and (i >= len(body_orientation_diffs) or angle_diffs[i] < 40 or body_orientation_diffs[i] >= 10):\n",
      "            if i - start >= 1:\n",
      "                bouts.append((start, i - 1))\n",
      "            in_bout = False\n",
      "    \n",
      "    # Check if a bout was ongoing at the end\n",
      "    if in_bout and (n - start) >= 1:\n",
      "        bouts.append((start, n - 1))\n",
      "    \n",
      "    # Merge bouts separated by < 4 frames\n",
      "    merged_bouts = []\n",
      "    if bouts:\n",
      "        start, end = bouts[0]\n",
      "        for i in range(1, len(bouts)):\n",
      "            next_start, next_end = bouts[i]\n",
      "            if next_start - end < 4:\n",
      "                end = next_end\n",
      "            else:\n",
      "                merged_bouts.append((start, end))\n",
      "                start, end = next_start, next_end\n",
      "        merged_bouts.append((start, end))\n",
      "    \n",
      "    # Save results to file\n",
      "    with open('results/head rotations.txt', 'w') as f:\n",
      "        for bout in merged_bouts:\n",
      "            f.write(f\"{bout[0]},{bout[1]}\\n\")\n",
      "    \n",
      "    return merged_bouts\n",
      "\n"
     ]
    },
    {
     "name": "stderr",
     "output_type": "stream",
     "text": [
      "INFO:httpx:HTTP Request: POST https://api.openai.com/v1/chat/completions \"HTTP/1.1 200 OK\"\n"
     ]
    },
    {
     "name": "stdout",
     "output_type": "stream",
     "text": [
      "current total cost 0.4375 $\n",
      "current input tokens 1165\n",
      "current accumulated tokens 63524\n",
      "```python\n",
      "def identify_head_rotation_bouts(identifier):\n",
      "    \"\"\"\n",
      "    Identify continuous bouts of head rotation based on the given criteria.\n",
      "    \n",
      "    Parameters\n",
      "    ----------\n",
      "    identifier: Identifier\n",
      "        Contains information about the video, keypoint, and config.\n",
      "    \n",
      "    Returns\n",
      "    -------\n",
      "    List[Tuple[int, int]]\n",
      "        A list of tuples representing the start and end frames of each head rotation bout.\n",
      "    \"\"\"\n",
      "    import numpy as np\n",
      "\n",
      "    def signed_angle(v1, v2):\n",
      "        \"\"\"Calculate the signed angle between two vectors.\"\"\"\n",
      "        angle = np.arctan2(v2[1], v2[0]) - np.arctan2(v1[1], v1[0])\n",
      "        return np.degrees(angle)\n",
      "\n",
      "    # Create an analysis instance\n",
      "    analysis = create_analysis(identifier)\n",
      "    \n",
      "    # Get keypoints and keypoint names\n",
      "    keypoints = analysis.get_keypoints()  # shape: (n_frames, n_individuals, n_kpts, n_dims)\n",
      "    keypoint_names = analysis.get_keypoint_names()\n",
      "    \n",
      "    # Get indices for required keypoints\n",
      "    left_ear_idx = keypoint_names.index('Left ear')\n",
      "    right_ear_idx = keypoint_names.index('Right ear')\n",
      "    snout_idx = keypoint_names.index('Snout')\n",
      "    tail_base_idx = keypoint_names.index('Tail base')\n",
      "    \n",
      "    # Extract relevant keypoints for the single animal\n",
      "    left_ear = keypoints[:, 0, left_ear_idx, :2]  # shape: (n_frames, 2)\n",
      "    right_ear = keypoints[:, 0, right_ear_idx, :2]  # shape: (n_frames, 2)\n",
      "    snout = keypoints[:, 0, snout_idx, :2]  # shape: (n_frames, 2)\n",
      "    tail_base = keypoints[:, 0, tail_base_idx, :2]  # shape: (n_frames, 2)\n",
      "    \n",
      "    # Calculate head vector and body orientation vector\n",
      "    head_vector = right_ear - left_ear  # shape: (n_frames, 2)\n",
      "    body_orientation = snout - tail_base  # shape: (n_frames, 2)\n",
      "    \n",
      "    # Calculate angles\n",
      "    angles = np.array([signed_angle(head_vector[i], body_orientation[i]) for i in range(len(head_vector))])  # shape: (n_frames,)\n",
      "    \n",
      "    # Calculate angle differences over 6 frames\n",
      "    angle_diffs = np.abs(np.diff(angles, n=6, prepend=angles[0]))  # shape: (n_frames,)\n",
      "    body_orientation_diffs = np.abs(np.diff([signed_angle(body_orientation[i], body_orientation[i+1]) for i in range(len(body_orientation)-1)], prepend=0))  # shape: (n_frames-1,)\n",
      "    \n",
      "    # Initialize variables\n",
      "    in_bout = False\n",
      "    bouts = []\n",
      "    n = len(angles)\n",
      "    \n",
      "    # Loop through frames\n",
      "    for i in range(n):\n",
      "        if i < len(body_orientation_diffs) and angle_diffs[i] >= 40 and body_orientation_diffs[i] < 10:\n",
      "            if not in_bout:\n",
      "                in_bout = True\n",
      "                start = i\n",
      "        elif in_bout and (i >= len(body_orientation_diffs) or angle_diffs[i] < 40 or body_orientation_diffs[i] >= 10):\n",
      "            if i - start >= 1:\n",
      "                bouts.append((start, i - 1))\n",
      "            in_bout = False\n",
      "    \n",
      "    # Check if a bout was ongoing at the end\n",
      "    if in_bout and (n - start) >= 1:\n",
      "        bouts.append((start, n - 1))\n",
      "    \n",
      "    # Merge bouts separated by < 4 frames\n",
      "    merged_bouts = []\n",
      "    if bouts:\n",
      "        start, end = bouts[0]\n",
      "        for i in range(1, len(bouts)):\n",
      "            next_start, next_end = bouts[i]\n",
      "            if next_start - end < 4:\n",
      "                end = next_end\n",
      "            else:\n",
      "                merged_bouts.append((start, end))\n",
      "                start, end = next_start, next_end\n",
      "        merged_bouts.append((start, end))\n",
      "    \n",
      "    # Save results to file\n",
      "    with open('results/head rotations.txt', 'w') as f:\n",
      "        for bout in merged_bouts:\n",
      "            f.write(f\"{bout[0]},{bout[1]}\\n\")\n",
      "    \n",
      "    return merged_bouts\n",
      "```\n",
      "\n",
      "### Explanation of the Fix:\n",
      "The error message indicates an `IndexError` due to an out-of-bounds index. This typically happens when trying to access an index that is equal to or greater than the size of the array. In the original code, the calculation of `body_orientation_diffs` was incorrect because it attempted to access an index that was out of bounds. The `np.diff` function was used incorrectly, leading to an incorrect shape for `body_orientation_diffs`. The fix ensures that the `body_orientation_diffs` calculation is correctly handled by using `np.diff` on the `body_orientation` array and ensuring the correct length of the resulting array.\n",
      "after self debug\n",
      "\n",
      "def identify_head_rotation_bouts(identifier):\n",
      "    \"\"\"\n",
      "    Identify continuous bouts of head rotation based on the given criteria.\n",
      "    \n",
      "    Parameters\n",
      "    ----------\n",
      "    identifier: Identifier\n",
      "        Contains information about the video, keypoint, and config.\n",
      "    \n",
      "    Returns\n",
      "    -------\n",
      "    List[Tuple[int, int]]\n",
      "        A list of tuples representing the start and end frames of each head rotation bout.\n",
      "    \"\"\"\n",
      "    import numpy as np\n",
      "\n",
      "    def signed_angle(v1, v2):\n",
      "        \"\"\"Calculate the signed angle between two vectors.\"\"\"\n",
      "        angle = np.arctan2(v2[1], v2[0]) - np.arctan2(v1[1], v1[0])\n",
      "        return np.degrees(angle)\n",
      "\n",
      "    # Create an analysis instance\n",
      "    analysis = create_analysis(identifier)\n",
      "    \n",
      "    # Get keypoints and keypoint names\n",
      "    keypoints = analysis.get_keypoints()  # shape: (n_frames, n_individuals, n_kpts, n_dims)\n",
      "    keypoint_names = analysis.get_keypoint_names()\n",
      "    \n",
      "    # Get indices for required keypoints\n",
      "    left_ear_idx = keypoint_names.index('Left ear')\n",
      "    right_ear_idx = keypoint_names.index('Right ear')\n",
      "    snout_idx = keypoint_names.index('Snout')\n",
      "    tail_base_idx = keypoint_names.index('Tail base')\n",
      "    \n",
      "    # Extract relevant keypoints for the single animal\n",
      "    left_ear = keypoints[:, 0, left_ear_idx, :2]  # shape: (n_frames, 2)\n",
      "    right_ear = keypoints[:, 0, right_ear_idx, :2]  # shape: (n_frames, 2)\n",
      "    snout = keypoints[:, 0, snout_idx, :2]  # shape: (n_frames, 2)\n",
      "    tail_base = keypoints[:, 0, tail_base_idx, :2]  # shape: (n_frames, 2)\n",
      "    \n",
      "    # Calculate head vector and body orientation vector\n",
      "    head_vector = right_ear - left_ear  # shape: (n_frames, 2)\n",
      "    body_orientation = snout - tail_base  # shape: (n_frames, 2)\n",
      "    \n",
      "    # Calculate angles\n",
      "    angles = np.array([signed_angle(head_vector[i], body_orientation[i]) for i in range(len(head_vector))])  # shape: (n_frames,)\n",
      "    \n",
      "    # Calculate angle differences over 6 frames\n",
      "    angle_diffs = np.abs(np.diff(angles, n=6, prepend=angles[0]))  # shape: (n_frames,)\n",
      "    body_orientation_diffs = np.abs(np.diff([signed_angle(body_orientation[i], body_orientation[i+1]) for i in range(len(body_orientation)-1)], prepend=0))  # shape: (n_frames-1,)\n",
      "    \n",
      "    # Initialize variables\n",
      "    in_bout = False\n",
      "    bouts = []\n",
      "    n = len(angles)\n",
      "    \n",
      "    # Loop through frames\n",
      "    for i in range(n):\n",
      "        if i < len(body_orientation_diffs) and angle_diffs[i] >= 40 and body_orientation_diffs[i] < 10:\n",
      "            if not in_bout:\n",
      "                in_bout = True\n",
      "                start = i\n",
      "        elif in_bout and (i >= len(body_orientation_diffs) or angle_diffs[i] < 40 or body_orientation_diffs[i] >= 10):\n",
      "            if i - start >= 1:\n",
      "                bouts.append((start, i - 1))\n",
      "            in_bout = False\n",
      "    \n",
      "    # Check if a bout was ongoing at the end\n",
      "    if in_bout and (n - start) >= 1:\n",
      "        bouts.append((start, n - 1))\n",
      "    \n",
      "    # Merge bouts separated by < 4 frames\n",
      "    merged_bouts = []\n",
      "    if bouts:\n",
      "        start, end = bouts[0]\n",
      "        for i in range(1, len(bouts)):\n",
      "            next_start, next_end = bouts[i]\n",
      "            if next_start - end < 4:\n",
      "                end = next_end\n",
      "            else:\n",
      "                merged_bouts.append((start, end))\n",
      "                start, end = next_start, next_end\n",
      "        merged_bouts.append((start, end))\n",
      "    \n",
      "    # Save results to file\n",
      "    with open('results/head rotations.txt', 'w') as f:\n",
      "        for bout in merged_bouts:\n",
      "            f.write(f\"{bout[0]},{bout[1]}\\n\")\n",
      "    \n",
      "    return merged_bouts\n",
      "\n",
      "error occurs in code execution\n",
      "Traceback (most recent call last):\n",
      "  File \"c:\\Users\\hugos\\Desktop\\AmadeusGPT\\.venv\\lib\\site-packages\\amadeusgpt\\programs\\sandbox.py\", line 350, in code_execution\n",
      "    exec(f\"result = {call_str}\", namespace)\n",
      "  File \"<string>\", line 1, in <module>\n",
      "  File \"<string>\", line 60, in identify_head_rotation_bouts\n",
      "IndexError: index 10794 is out of bounds for axis 0 with size 10794\n",
      "\n",
      "During handling of the above exception, another exception occurred:\n",
      "\n",
      "Traceback (most recent call last):\n",
      "  File \"c:\\Users\\hugos\\Desktop\\AmadeusGPT\\.venv\\lib\\site-packages\\amadeusgpt\\programs\\sandbox.py\", line 350, in code_execution\n",
      "    exec(f\"result = {call_str}\", namespace)\n",
      "  File \"<string>\", line 1, in <module>\n",
      "  File \"<string>\", line 60, in identify_head_rotation_bouts\n",
      "IndexError: index 10794 is out of bounds for axis 0 with size 10794\n",
      "\n"
     ]
    }
   ],
   "source": [
    "from pathlib import Path\n",
    "import json, traceback\n",
    "\n",
    "queries_path = Path(\"queries.json\")\n",
    "with queries_path.open(encoding=\"utf‑8\") as f:\n",
    "    queries = json.load(f)\n",
    "\n",
    "TEMPLATE = (\n",
    "    \"Follow the definition below *verbatim*.  \"\n",
    "    \"Identify every **continuous bout** that satisfies the rules then return ONLY the list of (start_frame, end_frame) tuples \"\n",
    "    \"using 0‑based indexing. Do not add explanations or any other text.\\n\\n\"\n",
    ")\n",
    "\n",
    "for key, definition in queries.items():\n",
    "    try:\n",
    "        prompt = (\n",
    "            TEMPLATE\n",
    "            + definition\n",
    "            + f\"\\n\\nAfter processing, save the tuple list to 'results/{key}.txt'.\"\n",
    "        )\n",
    "\n",
    "        print(f\"🔍  Querying '{key}'…\")\n",
    "        msg = amadeus.step(prompt)\n",
    "        parse_result(amadeus, msg)\n",
    "\n",
    "    except Exception as e:\n",
    "        print(f\"❌  Error processing '{key}': {e}\")\n",
    "        traceback.print_exc()\n",
    "        continue\n",
    "\n",
    "\n",
    "# if INCLUDE_GRAPH:\n",
    "#     try:\n",
    "#         print(f\"🔍  Generating summary graph: {GRAPH_QUERY}\")\n",
    "#         msg_graph = amadeus.step(GRAPH_QUERY)\n",
    "#         parse_result(amadeus, msg_graph)\n",
    "#     except Exception as e:\n",
    "#         print(f\"❌  Error processing graph: {e}\")\n",
    "#         traceback.print_exc()\n"
   ]
  },
  {
   "cell_type": "markdown",
   "id": "aec8a00c",
   "metadata": {},
   "source": [
    "\n",
    "#### 1. Updating code  \n",
    "- After you’ve made changes to your package source, simply re-run the dependency‐install cell. [Re-install dependencies here.](#bootstrap-jupyter-interpreter)\n",
    "#### 2. Troubleshooting\n",
    "\n",
    "* **Kernel name not visible?**\n",
    "\n",
    "  * Reload VS Code/Notebook window (e.g. ⌘⇧P → “Developer: Reload Window”).\n",
    "  * Make sure you're selecting Jupyter Kernels not Python Environments to find `AmadeusGPT (venv)`\n",
    "  * Ensure the workspace interpreter is set to your `.venv` (click the Python version in the status bar).\n",
    "\n",
    "* **Version or Downloading Issues?**\n",
    "  \n",
    "  * Versioning errors occur if your Kernel is not Python version 3.10 (required for AmadeusGPT).\n",
    "    *  Ensure that you have this version of Python installed and have selected it as the version for your environment\n",
    "    *  You can check this in top right corner. If you see it's Python 3.10... that's not the issue.\n",
    "\n",
    "* **“Package X not found” after reinstalling**\n",
    "\n",
    "  * Confirm you’ve restarted the kernel (Kernel ▶ Restart).\n",
    "  * Run `pip list` in a cell to verify that your package is installed in the active environment.\n",
    "\n",
    "* **Still stuck?**\n",
    "\n",
    "  * In a terminal, run:\n",
    "\n",
    "    ```bash\n",
    "    jupyter kernelspec list\n",
    "    ```\n",
    "\n",
    "    to verify that `amadeus-gpt-env` appears under your user kernels.\n",
    "  * Stop & restart the Jupyter server\n",
    "    (in VS Code: ⌘⇧P → “Jupyter: Stop Jupyter Server”, then run any cell again)."
   ]
  },
  {
   "cell_type": "markdown",
   "id": "73bc035a",
   "metadata": {},
   "source": []
  }
 ],
 "metadata": {
  "kernelspec": {
   "display_name": "AmadeusGPT (venv)",
   "language": "python",
   "name": "amadeus-gpt-env"
  },
  "language_info": {
   "codemirror_mode": {
    "name": "ipython",
    "version": 3
   },
   "file_extension": ".py",
   "mimetype": "text/x-python",
   "name": "python",
   "nbconvert_exporter": "python",
   "pygments_lexer": "ipython3",
   "version": "3.10.10"
  }
 },
 "nbformat": 4,
 "nbformat_minor": 5
}
